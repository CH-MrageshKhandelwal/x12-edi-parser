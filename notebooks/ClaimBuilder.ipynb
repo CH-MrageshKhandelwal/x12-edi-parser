{
 "cells": [
  {
   "cell_type": "code",
   "execution_count": 0,
   "metadata": {
    "application/vnd.databricks.v1+cell": {
     "cellMetadata": {
      "byteLimit": 2048000,
      "rowLimit": 10000
     },
     "inputWidgets": {},
     "nuid": "bb3b295d-7680-486b-aa6b-62724ec33a44",
     "showTitle": false,
     "title": ""
    }
   },
   "outputs": [],
   "source": [
    "from databricksx12 import *\n",
    "from databricksx12.hls import *\n",
    "import json, os\n",
    "from pyspark.sql.functions import input_file_name\n"
   ]
  },
  {
   "cell_type": "code",
   "execution_count": 0,
   "metadata": {
    "application/vnd.databricks.v1+cell": {
     "cellMetadata": {
      "byteLimit": 2048000,
      "rowLimit": 10000
     },
     "inputWidgets": {},
     "nuid": "5a6f5155-d9d2-4681-8406-7948627dddbf",
     "showTitle": false,
     "title": ""
    }
   },
   "outputs": [],
   "source": [
    "# Initialize HealthcareManager\n",
    "hm = HealthcareManager()\n",
    "df = spark.read.text(\"/Volumes/raven_catalog/x12_edi_parser/sampledata/837/*.txt\", wholetext = True)\n",
    "\n",
    "# Process the DataFrame and convert to RDD\n",
    "rdd = (\n",
    " df.withColumn(\"filename\", input_file_name()).rdd\n",
    "  .map(lambda x: (x.asDict().get(\"filename\"),x.asDict().get(\"value\")))\n",
    "  .map(lambda x: (x[0], EDI(x[1])))\n",
    "  .map(lambda x: { **{'filename': x[0]}, **hm.to_json(x[1])} )\n",
    "  .map(lambda x: json.dumps(x))\n",
    ")\n",
    "\n",
    "edi_data = spark.read.json(rdd)"
   ]
  },
  {
   "cell_type": "code",
   "execution_count": 0,
   "metadata": {
    "application/vnd.databricks.v1+cell": {
     "cellMetadata": {
      "byteLimit": 2048000,
      "rowLimit": 10000
     },
     "inputWidgets": {},
     "nuid": "78dab3e9-abef-4c2e-9792-2bdce1c87781",
     "showTitle": false,
     "title": ""
    }
   },
   "outputs": [
    {
     "output_type": "display_data",
     "data": {
      "text/html": [
       "<style scoped>\n",
       "  .table-result-container {\n",
       "    max-height: 300px;\n",
       "    overflow: auto;\n",
       "  }\n",
       "  table, th, td {\n",
       "    border: 1px solid black;\n",
       "    border-collapse: collapse;\n",
       "  }\n",
       "  th, td {\n",
       "    padding: 5px;\n",
       "  }\n",
       "  th {\n",
       "    text-align: left;\n",
       "  }\n",
       "</style><div class='table-result-container'><table class='table-result'><thead style='background-color: white'><tr><th>EDI.sender_tax_id</th><th>FuncitonalGroup</th><th>filename</th></tr></thead><tbody><tr><td>ZZ</td><td>List(List(123456789, CLEARINGHOUSE, 20180508:0833, 222, List(List(List(List(List(, , 20, 1805080AV3648339, , , 57:B:1, , ), List(List(1, 1, 20, , , H0003, HC, null, 20180428, D8, 472, 1, UN)), List(, , , F1120, ), List(VANCOUVER, 19881225, D8, M, SUBSCRIBER JOHN J, , WA, 987 65TH PL, 18, 986640001), List(2, CHPWA, PI, COMMUNITY HEALTH PLAN OF WASHINGTON), List(null, List(VANCOUVER, 720000000, EI, Organization, BH CLINIC OF VANCOUVER, 1122334455, , WA, 12345 MAIN ST, , 98662), null, null, null, List(, , , Individual,   , , , , , , ), List(, , , Organization, BH CLINIC OF VANCOUVER, 1122334455, , , , , ), List(, , , Individual, PROVIDER JAMES , 1112223338, PE, , , 261QR0405X, )), List(123456789, Organization), List(CLEARINGHOUSE LLC, CLEARINGHOUSE CLIENT SERVICES, List(List(TE, 8005551212), List(FX, 8005551212)), Organization), List(VANCOUVER, 19881225, D8, M, SUBSCRIBER JOHN J, , WA, 987 65TH PL, 18, 986640001))), 222), List(List(List(List(, , 50.1, 1805080AV3648347, , , 57:B:1, , ), List(List(1, 1:2, 50.1, HF, , 96153, HC, null, 20180426, D8, 472, 6, UN)), List(, , , F1520, ), List(VANCOUVER, 19881031, D8, F, PATIENT SUSAN E, , WA, 765 43RD ST, 18, 986640002), List(2, CHPWA, PI, COMMUNITY HEALTH PLAN OF WASHINGTON), List(null, List(VANCOUVER, 720000000, EI, Organization, BH CLINIC OF VANCOUVER, 1122334455, , WA, 12345 MAIN ST, , 98662), null, null, null, List(, , , Individual,   , , , , , , ), List(, , , Organization, BH CLINIC OF VANCOUVER, 1122334455, , , , , ), List(, , , Individual, PROVIDER SUSAN , 1112223346, PE, , , 261QR0405X, )), List(123456789, Organization), List(CLEARINGHOUSE LLC, CLEARINGHOUSE CLIENT SERVICES, List(List(TE, 8005551212), List(FX, 8005551212)), Organization), List(VANCOUVER, 19881031, D8, F, PATIENT SUSAN E, , WA, 765 43RD ST, 18, 986640002))), 222), List(List(List(List(, , 11.64, 1805080AV3648340, , , 57:B:1, , ), List(List(1, 1:2, 11.64, HF, , T1017, HC, null, 20180427, D8, 472, 1, UN)), List(, , , F1020, ), List(VANCOUVER, 19881225, D8, M, SUBSCRIBER JOHN J, , WA, 987 65TH PL, 18, 986640001), List(2, CHPWA, PI, COMMUNITY HEALTH PLAN OF WASHINGTON), List(null, List(VANCOUVER, 720000000, EI, Organization, BH CLINIC OF VANCOUVER, 1122334455, , WA, 12345 MAIN ST, , 98662), null, null, null, List(, , , Individual,   , , , , , , ), List(, , , Organization, BH CLINIC OF VANCOUVER, 1122334455, , , , , ), List(, , , Individual, PROVIDER SUSAN , 1112223346, PE, , , 261QR0405X, )), List(123456789, Organization), List(CLEARINGHOUSE LLC, CLEARINGHOUSE CLIENT SERVICES, List(List(TE, 8005551212), List(FX, 8005551212)), Organization), List(VANCOUVER, 19881225, D8, M, SUBSCRIBER JOHN J, , WA, 987 65TH PL, 18, 986640001))), 222), List(List(List(List(, , 234, 1805080AV3648353, , , 53:B:1, , ), List(List(1, 1, 234, , , 90853, HC, null, 20180427, D8, 472, 120, UN)), List(, , , F251, ), List(VANCOUVER, 19881031, D8, F, PATIENT SUSAN E, , WA, 765 43RD ST, 18, 986640002), List(2, CHPWA, PI, COMMUNITY HEALTH PLAN OF WASHINGTON), List(null, List(VANCOUVER, 720000000, EI, Organization, BH CLINIC OF VANCOUVER, 1122334455, , WA, 12345 MAIN ST, , 98662), null, null, null, List(, , , Individual,   , , , , , , ), List(, , , Organization, BH CLINIC OF VANCOUVER, 1122334455, , , , , ), List(, , , Individual, PROVIDER SUSAN , 1112223346, PE, , , 251S00000X, )), List(123456789, Organization), List(CLEARINGHOUSE LLC, CLEARINGHOUSE CLIENT SERVICES, List(List(TE, 8005551212), List(FX, 8005551212)), Organization), List(VANCOUVER, 19881031, D8, F, PATIENT SUSAN E, , WA, 765 43RD ST, 18, 986640002))), 222), List(List(List(List(, , 20, 1805080AV3648355, , , 57:B:1, , ), List(List(1, 1:2, 20, , , H0003, HC, null, 20180427, D8, 472, 1, UN)), List(, , , F1020, ), List(VANCOUVER, 19881225, D8, M, SUBSCRIBER JOHN J, , WA, 987 65TH PL, 18, 986640001), List(2, CHPWA, PI, COMMUNITY HEALTH PLAN OF WASHINGTON), List(null, List(VANCOUVER, 720000000, EI, Organization, BH CLINIC OF VANCOUVER, 1122334455, , WA, 12345 MAIN ST, , 98662), null, null, null, List(, , , Individual,   , , , , , , ), List(, , , Organization, BH CLINIC OF VANCOUVER, 1122334455, , , , , ), List(, , , Individual, PROVIDER JAMES , 1112223338, PE, , , 261QR0405X, )), List(123456789, Organization), List(CLEARINGHOUSE LLC, CLEARINGHOUSE CLIENT SERVICES, List(List(TE, 8005551212), List(FX, 8005551212)), Organization), List(VANCOUVER, 19881225, D8, M, SUBSCRIBER JOHN J, , WA, 987 65TH PL, 18, 986640001))), 222))))</td><td>dbfs:/Volumes/raven_catalog/x12_edi_parser/sampledata/837/CHPW_Claimdata.txt</td></tr><tr><td>ZZ</td><td>List(List(OO000011111, 000000005D, 20180710:214339, 222, List(List(List(List(List(, , 1800, ABC11111, D8, , 22:B:1, 20180123, 454), List(List(1, 1, 1800, QZ, , 01710, HC, null, 20180123-20180123, RD8, 472, 88, MJ), List(1, 1, 984, AA,P3, , 00731, HC, null, 20180713-20180713, RD8, 472, 24, MJ), List(1, 1, 1353, AA, , 00840, HC, null, 20180713-20180713, RD8, 472, 62, MJ), List(1, 1, 1230, AA, , 00902, HC, null, 20180713-20180713, RD8, 472, 65, MJ), List(2, 2, 738, 59, , 62322, HC, null, 20180713-20180713, RD8, 472, 1, UN)), List(, , , G5621, ), List(FAKE CITY, 19650101, D8, M, ABCDEFGH IJKLMNOP B, , CA, 123 ADDRESS3, 18, 908021112), List(2, ABCMMPIO, PI, ABCHYI OL POI), List(null, List(FAKE CITY, 123456789, EI, Organization, YYYY HEALTHCARE ABC, 1222222220, , NY, 123 ADDRESS1, , 908021112), null, null, null, List(, , , Individual, ABCD STUVW , 1234567890, , , , , ), List(, , , Organization, ABCDEFG HIJKLMN HOSP, 1122334460, , , , , ), List(, , , Individual, TUVWX MNOPQR , 1234567891, PE, , , 367500000X, )), List(ABCHYI OL POI, Organization), List(ABCDEF, ABCDEF CUSTOMER SOLUTIONS, List(List(TE, 9999999999), List(, )), Organization), List(FAKE CITY, 19650101, D8, M, ABCDEFGH IJKLMNOP B, , CA, 123 ADDRESS3, 18, 908021112)), List(List(, , 984, ABC111112, D8, , 22:B:1, 20180713, 454), List(List(1, 1, 984, AA,P3, , 00731, HC, null, 20180713-20180713, RD8, 472, 24, MJ), List(1, 1, 1353, AA, , 00840, HC, null, 20180713-20180713, RD8, 472, 62, MJ), List(1, 1, 1230, AA, , 00902, HC, null, 20180713-20180713, RD8, 472, 65, MJ), List(2, 2, 738, 59, , 62322, HC, null, 20180713-20180713, RD8, 472, 1, UN)), List(, , , K219, ), List(FAKE CITY, 19760101, D8, F, ABCDEFGH IJKLMNOP B, , CA, 123 ADDRESS7, 18, 908021117), List(2, ABCMMPIO, PI, ABCHYI OL POI), List(null, List(FAKE CITY, 543211234, EI, Organization, ABCDE EFGHIJ GROUP PC, 1222222223, , CA, 123 ADDRESS5, , 908021115), null, null, null, List(, , , Individual, ABCDEFG OPQRST A, 1122334460, , , , , ), List(, , , Organization, ABCDEFG HIJKLMN HOSP, 1122334450, , , , , ), List(, , , Individual, STUVW KLMNOP H, 1122334461, PE, , , 207L00000X, )), List(ABCHYI OL POI, Organization), List(ABCDEF, ABCDEF CUSTOMER SOLUTIONS, List(List(TE, 9999999999), List(, )), Organization), List(FAKE CITY, 19760101, D8, F, ABCDEFGH IJKLMNOP B, , CA, 123 ADDRESS7, 18, 908021117)), List(List(, , 1353, ABC111113, D8, , 22:B:1, 20180713, 454), List(List(1, 1, 1353, AA, , 00840, HC, null, 20180713-20180713, RD8, 472, 62, MJ), List(1, 1, 1230, AA, , 00902, HC, null, 20180713-20180713, RD8, 472, 65, MJ), List(2, 2, 738, 59, , 62322, HC, null, 20180713-20180713, RD8, 472, 1, UN)), List(, , , K4090, ), List(FAKE CITY, 20180409, D8, M, ABCDEFGH IJKLMNOP B, , CA, 123 ADDRESS11, 18, 908021111), List(2, YTHF281123456, PI, ABCHYI OL POI), List(null, List(FAKE CITY, 931013923, EI, Organization, ABCDE EFGHIJ GROUP PC, 1477527786, , CA, 123 ADDRESS9, , 908021119), null, null, null, List(, , , Individual, ABCDEFGH OPQRSTU A, 1122334456, , , , , ), List(, , , Organization, ABCDEFG HIJKLMN HOSP, 1122334458, , , , , ), List(, , , Individual, STUVWX KLMNOPQ H, 1122334457, PE, , , 207L00000X, )), List(ABCHYI OL POI, Organization), List(ABCDEF, ABCDEF CUSTOMER SOLUTIONS, List(List(TE, 9999999999), List(, )), Organization), List(FAKE CITY, 20180409, D8, M, ABCDEFGH IJKLMNOP B, , CA, 123 ADDRESS11, 18, 908021111)), List(List(, , 1968, ABC111114, D8, , 22:B:1, 20180713, 454), List(List(1, 1, 1230, AA, , 00902, HC, null, 20180713-20180713, RD8, 472, 65, MJ), List(2, 2, 738, 59, , 62322, HC, null, 20180713-20180713, RD8, 472, 1, UN)), List(, , , Q423, ), List(FAKE CITY, 20180504, D8, F, ABCDEFGH IJKLMNOP B, , CA, 123 ADDRESS13, 18, 908021113), List(2, YTHF281123456, PI, ABCHYI OL POI), List(null, List(FAKE CITY, 931013923, EI, Organization, ABCDE EFGHIJ GROUP PC, 1477527786, , CA, 123 ADDRESS9, , 908021119), null, null, null, List(, , , Individual, ABCDEFGHI OPQRSTUV A, 1122334455, , , , , ), List(, , , Organization, ABCDEFG HIJKLMN HOSP, 1122334457, , , , , ), List(, , , Individual, STUVWXY KLMNOPQR H, 1122334456, PE, , , 207L00000X, )), List(ABCHYI OL POI, Organization), List(ABCDEF, ABCDEF CUSTOMER SOLUTIONS, List(List(TE, 9999999999), List(, )), Organization), List(FAKE CITY, 20180504, D8, F, ABCDEFGH IJKLMNOP B, , CA, 123 ADDRESS13, 18, 908021113))), 222))))</td><td>dbfs:/Volumes/raven_catalog/x12_edi_parser/sampledata/837/Molina_Mock_UP_837P_File.txt</td></tr><tr><td>ZZ</td><td>List(List(421406317, 133052274, 20180807:12022761, 223, List(List(List(List(List(1, 1, 17166.7, TD-R192ICE00087, TM, 01, 11:A:1, 0900, 096), List(List(1, null, 9148, , null, , , 0124, 20180628-20180702, RD8, 472, 4, UN), List(2, null, 48.1, , null, , , 0250, 20180628-20180702, RD8, 472, 28, UN), List(3, null, 133, , null, , , 0260, 20180628-20180702, RD8, 472, 1, UN), List(4, null, 32.9, , null, , , 0300, 20180628-20180702, RD8, 472, 1, UN), List(5, null, 798.5, , null, , , 0301, 20180628-20180702, RD8, 472, 4, UN), List(6, null, 200.6, , null, , , 0305, 20180628-20180702, RD8, 472, 2, UN), List(7, null, 175, , null, , , 0306, 20180628-20180702, RD8, 472, 1, UN), List(8, null, 113.6, , null, , , 0307, 20180628-20180702, RD8, 472, 2, UN), List(9, null, 6517, , null, , , 0351, 20180628-20180702, RD8, 472, 2, UN)), List(F39, , F1319, F39, ), List(Elgin, 19960215, D8, F, TEST MEMBER , , IL, 123 MAIN STREET, 18, 601200001), List(2, 421406317, PI, CENTENE), List(List(, TD-R192ICE00087, D9, Individual,   , , , , , , ), List(WOODSTOCK, 999999999, EI, Organization, Test Provider, 9999999999, , IL, 123 MAIN STREET, , 600980000), List(, , , Individual,   , , , , , , ), List(, , , Individual,   , , , , , , ), List(, , , Individual,   , , , , , , ), null, null, null), List(CENTENE CORP, Organization), List(TALEND, SAMBIT, List(List(TE, 3143202264), List(EX, 8099264)), Organization), List(Elgin, 19960215, D8, F, TEST MEMBER , , IL, 123 MAIN STREET, 18, 601200001))), 223))))</td><td>dbfs:/Volumes/raven_catalog/x12_edi_parser/sampledata/837/CC_837I_EDI.txt</td></tr><tr><td>ZZ</td><td>List(List(XXXXX, XXXXXXX, 20170617:1741, 222, List(List(List(List(List(, , 140, 1000A, , , 19:B:1, , ), List(List(1, 1, 140, , , 99213, HC, null, 20151124, D8, 472, 1, UN), List(1, 1, 140, , , 99213, HC, null, 20151124, D8, 472, 1, UN)), List(, , , I10, ), List(CHICAGO, 19570111, D8, M, BLOGGS JOE , , IL, 1 SOME BLVD, 18, 606129998), List(2, 12345, PI, PAYER), List(null, List(CHICAGO, 999999999, EI, Organization, BILLING PROVIDER, 1122334455, , IL, 1234 SOME ROAD, , 606739999), null, null, null, List(, , , Individual,   , , , , , , ), List(, , , Individual,   , , , , , , ), List(, , , Individual,   , , , , , , )), List(RECEIVER, Organization), List(SUBMITTER, BOB SMITH, List(List(TE, 4805551212), List(, )), Organization), List(CHICAGO, 19570111, D8, M, BLOGGS JOE , , IL, 1 SOME BLVD, 18, 606129998)), List(List(, , 140, 1001A, , , 19:B:1, , ), List(List(1, 1, 140, , , 99213, HC, null, 20151124, D8, 472, 1, UN)), List(, , , I10, ), List(CHICAGO, 19700601, D8, M, BLOGGS FRED , , IL, 1 ANOTHER STR, 18, 606129998), List(2, 12345, PI, PAYER), List(null, List(CHICAGO, 999999999, EI, Organization, BILLING PROVIDER, 1122334455, , IL, 1234 SOME ROAD, , 606739999), null, null, null, List(, , , Individual,   , , , , , , ), List(, , , Individual,   , , , , , , ), List(, , , Individual,   , , , , , , )), List(RECEIVER, Organization), List(SUBMITTER, BOB SMITH, List(List(TE, 4805551212), List(, )), Organization), List(CHICAGO, 19700601, D8, M, BLOGGS FRED , , IL, 1 ANOTHER STR, 18, 606129998))), 222))))</td><td>dbfs:/Volumes/raven_catalog/x12_edi_parser/sampledata/837/837p.txt</td></tr><tr><td>30</td><td>List(List(421406317, 030240928, 20180807:12022605, 222, List(List(List(List(List(, , 600, TD-R192ICE00094, D8, , 11:B:1, 20180625, 435), List(List(1, 1:2, 300, HO,HQ, 11, H0004, HC, null, 20180625-20180625, RD8, 472, 12, UN), List(2, 1:2, 300, HO,HQ, 11, H0004, HC, null, 20180629-20180629, RD8, 472, 12, UN)), List(, , , F341, ), List(Elgin, 19960215, D8, F, TEST MEMBER , , IL, 123 MAIN STREET, 18, 601200001), List(2, 421406317, PI, CENTENE), List(null, List(WOODSTOCK, 999999999, EI, Organization, Test Provider, 9999999999, , IL, 123 MAIN STREET, , 600980000), null, null, null, List(, , , Individual,   , , , , , , ), List(, , , Individual,   , , , , , , ), List(, , , Individual,   , , , , , , )), List(Centene Corporation, Organization), List(Centene Corporation, Sambit, List(List(TE, 3143202264), List(EX, 8099264)), Organization), List(Elgin, 19960215, D8, F, TEST MEMBER , , IL, 123 MAIN STREET, 18, 601200001))), 222))))</td><td>dbfs:/Volumes/raven_catalog/x12_edi_parser/sampledata/837/CC_837P_EDI.txt</td></tr></tbody></table></div>"
      ]
     },
     "metadata": {
      "application/vnd.databricks.v1+output": {
       "addedWidgets": {},
       "aggData": [],
       "aggError": "",
       "aggOverflow": false,
       "aggSchema": [],
       "aggSeriesLimitReached": false,
       "aggType": "",
       "arguments": {},
       "columnCustomDisplayInfos": {},
       "data": [
        [
         "ZZ",
         [
          [
           "123456789",
           "CLEARINGHOUSE",
           "20180508:0833",
           "222",
           [
            [
             [
              [
               [
                "",
                "",
                "20",
                "1805080AV3648339",
                "",
                "",
                "57:B:1",
                "",
                ""
               ],
               [
                [
                 "1",
                 "1",
                 "20",
                 "",
                 "",
                 "H0003",
                 "HC",
                 null,
                 "20180428",
                 "D8",
                 "472",
                 "1",
                 "UN"
                ]
               ],
               [
                "",
                "",
                "",
                "F1120",
                ""
               ],
               [
                "VANCOUVER",
                "19881225",
                "D8",
                "M",
                "SUBSCRIBER JOHN J",
                "",
                "WA",
                "987 65TH PL",
                "18",
                "986640001"
               ],
               [
                "2",
                "CHPWA",
                "PI",
                "COMMUNITY HEALTH PLAN OF WASHINGTON"
               ],
               [
                null,
                [
                 "VANCOUVER",
                 "720000000",
                 "EI",
                 "Organization",
                 "BH CLINIC OF VANCOUVER",
                 "1122334455",
                 "",
                 "WA",
                 "12345 MAIN ST",
                 "",
                 "98662"
                ],
                null,
                null,
                null,
                [
                 "",
                 "",
                 "",
                 "Individual",
                 "  ",
                 "",
                 "",
                 "",
                 "",
                 "",
                 ""
                ],
                [
                 "",
                 "",
                 "",
                 "Organization",
                 "BH CLINIC OF VANCOUVER",
                 "1122334455",
                 "",
                 "",
                 "",
                 "",
                 ""
                ],
                [
                 "",
                 "",
                 "",
                 "Individual",
                 "PROVIDER JAMES ",
                 "1112223338",
                 "PE",
                 "",
                 "",
                 "261QR0405X",
                 ""
                ]
               ],
               [
                "123456789",
                "Organization"
               ],
               [
                "CLEARINGHOUSE LLC",
                "CLEARINGHOUSE CLIENT SERVICES",
                [
                 [
                  "TE",
                  "8005551212"
                 ],
                 [
                  "FX",
                  "8005551212"
                 ]
                ],
                "Organization"
               ],
               [
                "VANCOUVER",
                "19881225",
                "D8",
                "M",
                "SUBSCRIBER JOHN J",
                "",
                "WA",
                "987 65TH PL",
                "18",
                "986640001"
               ]
              ]
             ],
             "222"
            ],
            [
             [
              [
               [
                "",
                "",
                "50.1",
                "1805080AV3648347",
                "",
                "",
                "57:B:1",
                "",
                ""
               ],
               [
                [
                 "1",
                 "1:2",
                 "50.1",
                 "HF",
                 "",
                 "96153",
                 "HC",
                 null,
                 "20180426",
                 "D8",
                 "472",
                 "6",
                 "UN"
                ]
               ],
               [
                "",
                "",
                "",
                "F1520",
                ""
               ],
               [
                "VANCOUVER",
                "19881031",
                "D8",
                "F",
                "PATIENT SUSAN E",
                "",
                "WA",
                "765 43RD ST",
                "18",
                "986640002"
               ],
               [
                "2",
                "CHPWA",
                "PI",
                "COMMUNITY HEALTH PLAN OF WASHINGTON"
               ],
               [
                null,
                [
                 "VANCOUVER",
                 "720000000",
                 "EI",
                 "Organization",
                 "BH CLINIC OF VANCOUVER",
                 "1122334455",
                 "",
                 "WA",
                 "12345 MAIN ST",
                 "",
                 "98662"
                ],
                null,
                null,
                null,
                [
                 "",
                 "",
                 "",
                 "Individual",
                 "  ",
                 "",
                 "",
                 "",
                 "",
                 "",
                 ""
                ],
                [
                 "",
                 "",
                 "",
                 "Organization",
                 "BH CLINIC OF VANCOUVER",
                 "1122334455",
                 "",
                 "",
                 "",
                 "",
                 ""
                ],
                [
                 "",
                 "",
                 "",
                 "Individual",
                 "PROVIDER SUSAN ",
                 "1112223346",
                 "PE",
                 "",
                 "",
                 "261QR0405X",
                 ""
                ]
               ],
               [
                "123456789",
                "Organization"
               ],
               [
                "CLEARINGHOUSE LLC",
                "CLEARINGHOUSE CLIENT SERVICES",
                [
                 [
                  "TE",
                  "8005551212"
                 ],
                 [
                  "FX",
                  "8005551212"
                 ]
                ],
                "Organization"
               ],
               [
                "VANCOUVER",
                "19881031",
                "D8",
                "F",
                "PATIENT SUSAN E",
                "",
                "WA",
                "765 43RD ST",
                "18",
                "986640002"
               ]
              ]
             ],
             "222"
            ],
            [
             [
              [
               [
                "",
                "",
                "11.64",
                "1805080AV3648340",
                "",
                "",
                "57:B:1",
                "",
                ""
               ],
               [
                [
                 "1",
                 "1:2",
                 "11.64",
                 "HF",
                 "",
                 "T1017",
                 "HC",
                 null,
                 "20180427",
                 "D8",
                 "472",
                 "1",
                 "UN"
                ]
               ],
               [
                "",
                "",
                "",
                "F1020",
                ""
               ],
               [
                "VANCOUVER",
                "19881225",
                "D8",
                "M",
                "SUBSCRIBER JOHN J",
                "",
                "WA",
                "987 65TH PL",
                "18",
                "986640001"
               ],
               [
                "2",
                "CHPWA",
                "PI",
                "COMMUNITY HEALTH PLAN OF WASHINGTON"
               ],
               [
                null,
                [
                 "VANCOUVER",
                 "720000000",
                 "EI",
                 "Organization",
                 "BH CLINIC OF VANCOUVER",
                 "1122334455",
                 "",
                 "WA",
                 "12345 MAIN ST",
                 "",
                 "98662"
                ],
                null,
                null,
                null,
                [
                 "",
                 "",
                 "",
                 "Individual",
                 "  ",
                 "",
                 "",
                 "",
                 "",
                 "",
                 ""
                ],
                [
                 "",
                 "",
                 "",
                 "Organization",
                 "BH CLINIC OF VANCOUVER",
                 "1122334455",
                 "",
                 "",
                 "",
                 "",
                 ""
                ],
                [
                 "",
                 "",
                 "",
                 "Individual",
                 "PROVIDER SUSAN ",
                 "1112223346",
                 "PE",
                 "",
                 "",
                 "261QR0405X",
                 ""
                ]
               ],
               [
                "123456789",
                "Organization"
               ],
               [
                "CLEARINGHOUSE LLC",
                "CLEARINGHOUSE CLIENT SERVICES",
                [
                 [
                  "TE",
                  "8005551212"
                 ],
                 [
                  "FX",
                  "8005551212"
                 ]
                ],
                "Organization"
               ],
               [
                "VANCOUVER",
                "19881225",
                "D8",
                "M",
                "SUBSCRIBER JOHN J",
                "",
                "WA",
                "987 65TH PL",
                "18",
                "986640001"
               ]
              ]
             ],
             "222"
            ],
            [
             [
              [
               [
                "",
                "",
                "234",
                "1805080AV3648353",
                "",
                "",
                "53:B:1",
                "",
                ""
               ],
               [
                [
                 "1",
                 "1",
                 "234",
                 "",
                 "",
                 "90853",
                 "HC",
                 null,
                 "20180427",
                 "D8",
                 "472",
                 "120",
                 "UN"
                ]
               ],
               [
                "",
                "",
                "",
                "F251",
                ""
               ],
               [
                "VANCOUVER",
                "19881031",
                "D8",
                "F",
                "PATIENT SUSAN E",
                "",
                "WA",
                "765 43RD ST",
                "18",
                "986640002"
               ],
               [
                "2",
                "CHPWA",
                "PI",
                "COMMUNITY HEALTH PLAN OF WASHINGTON"
               ],
               [
                null,
                [
                 "VANCOUVER",
                 "720000000",
                 "EI",
                 "Organization",
                 "BH CLINIC OF VANCOUVER",
                 "1122334455",
                 "",
                 "WA",
                 "12345 MAIN ST",
                 "",
                 "98662"
                ],
                null,
                null,
                null,
                [
                 "",
                 "",
                 "",
                 "Individual",
                 "  ",
                 "",
                 "",
                 "",
                 "",
                 "",
                 ""
                ],
                [
                 "",
                 "",
                 "",
                 "Organization",
                 "BH CLINIC OF VANCOUVER",
                 "1122334455",
                 "",
                 "",
                 "",
                 "",
                 ""
                ],
                [
                 "",
                 "",
                 "",
                 "Individual",
                 "PROVIDER SUSAN ",
                 "1112223346",
                 "PE",
                 "",
                 "",
                 "251S00000X",
                 ""
                ]
               ],
               [
                "123456789",
                "Organization"
               ],
               [
                "CLEARINGHOUSE LLC",
                "CLEARINGHOUSE CLIENT SERVICES",
                [
                 [
                  "TE",
                  "8005551212"
                 ],
                 [
                  "FX",
                  "8005551212"
                 ]
                ],
                "Organization"
               ],
               [
                "VANCOUVER",
                "19881031",
                "D8",
                "F",
                "PATIENT SUSAN E",
                "",
                "WA",
                "765 43RD ST",
                "18",
                "986640002"
               ]
              ]
             ],
             "222"
            ],
            [
             [
              [
               [
                "",
                "",
                "20",
                "1805080AV3648355",
                "",
                "",
                "57:B:1",
                "",
                ""
               ],
               [
                [
                 "1",
                 "1:2",
                 "20",
                 "",
                 "",
                 "H0003",
                 "HC",
                 null,
                 "20180427",
                 "D8",
                 "472",
                 "1",
                 "UN"
                ]
               ],
               [
                "",
                "",
                "",
                "F1020",
                ""
               ],
               [
                "VANCOUVER",
                "19881225",
                "D8",
                "M",
                "SUBSCRIBER JOHN J",
                "",
                "WA",
                "987 65TH PL",
                "18",
                "986640001"
               ],
               [
                "2",
                "CHPWA",
                "PI",
                "COMMUNITY HEALTH PLAN OF WASHINGTON"
               ],
               [
                null,
                [
                 "VANCOUVER",
                 "720000000",
                 "EI",
                 "Organization",
                 "BH CLINIC OF VANCOUVER",
                 "1122334455",
                 "",
                 "WA",
                 "12345 MAIN ST",
                 "",
                 "98662"
                ],
                null,
                null,
                null,
                [
                 "",
                 "",
                 "",
                 "Individual",
                 "  ",
                 "",
                 "",
                 "",
                 "",
                 "",
                 ""
                ],
                [
                 "",
                 "",
                 "",
                 "Organization",
                 "BH CLINIC OF VANCOUVER",
                 "1122334455",
                 "",
                 "",
                 "",
                 "",
                 ""
                ],
                [
                 "",
                 "",
                 "",
                 "Individual",
                 "PROVIDER JAMES ",
                 "1112223338",
                 "PE",
                 "",
                 "",
                 "261QR0405X",
                 ""
                ]
               ],
               [
                "123456789",
                "Organization"
               ],
               [
                "CLEARINGHOUSE LLC",
                "CLEARINGHOUSE CLIENT SERVICES",
                [
                 [
                  "TE",
                  "8005551212"
                 ],
                 [
                  "FX",
                  "8005551212"
                 ]
                ],
                "Organization"
               ],
               [
                "VANCOUVER",
                "19881225",
                "D8",
                "M",
                "SUBSCRIBER JOHN J",
                "",
                "WA",
                "987 65TH PL",
                "18",
                "986640001"
               ]
              ]
             ],
             "222"
            ]
           ]
          ]
         ],
         "dbfs:/Volumes/raven_catalog/x12_edi_parser/sampledata/837/CHPW_Claimdata.txt"
        ],
        [
         "ZZ",
         [
          [
           "OO000011111",
           "000000005D",
           "20180710:214339",
           "222",
           [
            [
             [
              [
               [
                "",
                "",
                "1800",
                "ABC11111",
                "D8",
                "",
                "22:B:1",
                "20180123",
                "454"
               ],
               [
                [
                 "1",
                 "1",
                 "1800",
                 "QZ",
                 "",
                 "01710",
                 "HC",
                 null,
                 "20180123-20180123",
                 "RD8",
                 "472",
                 "88",
                 "MJ"
                ],
                [
                 "1",
                 "1",
                 "984",
                 "AA,P3",
                 "",
                 "00731",
                 "HC",
                 null,
                 "20180713-20180713",
                 "RD8",
                 "472",
                 "24",
                 "MJ"
                ],
                [
                 "1",
                 "1",
                 "1353",
                 "AA",
                 "",
                 "00840",
                 "HC",
                 null,
                 "20180713-20180713",
                 "RD8",
                 "472",
                 "62",
                 "MJ"
                ],
                [
                 "1",
                 "1",
                 "1230",
                 "AA",
                 "",
                 "00902",
                 "HC",
                 null,
                 "20180713-20180713",
                 "RD8",
                 "472",
                 "65",
                 "MJ"
                ],
                [
                 "2",
                 "2",
                 "738",
                 "59",
                 "",
                 "62322",
                 "HC",
                 null,
                 "20180713-20180713",
                 "RD8",
                 "472",
                 "1",
                 "UN"
                ]
               ],
               [
                "",
                "",
                "",
                "G5621",
                ""
               ],
               [
                "FAKE CITY",
                "19650101",
                "D8",
                "M",
                "ABCDEFGH IJKLMNOP B",
                "",
                "CA",
                "123 ADDRESS3",
                "18",
                "908021112"
               ],
               [
                "2",
                "ABCMMPIO",
                "PI",
                "ABCHYI OL POI"
               ],
               [
                null,
                [
                 "FAKE CITY",
                 "123456789",
                 "EI",
                 "Organization",
                 "YYYY HEALTHCARE ABC",
                 "1222222220",
                 "",
                 "NY",
                 "123 ADDRESS1",
                 "",
                 "908021112"
                ],
                null,
                null,
                null,
                [
                 "",
                 "",
                 "",
                 "Individual",
                 "ABCD STUVW ",
                 "1234567890",
                 "",
                 "",
                 "",
                 "",
                 ""
                ],
                [
                 "",
                 "",
                 "",
                 "Organization",
                 "ABCDEFG HIJKLMN HOSP",
                 "1122334460",
                 "",
                 "",
                 "",
                 "",
                 ""
                ],
                [
                 "",
                 "",
                 "",
                 "Individual",
                 "TUVWX MNOPQR ",
                 "1234567891",
                 "PE",
                 "",
                 "",
                 "367500000X",
                 ""
                ]
               ],
               [
                "ABCHYI OL POI",
                "Organization"
               ],
               [
                "ABCDEF",
                "ABCDEF CUSTOMER SOLUTIONS",
                [
                 [
                  "TE",
                  "9999999999"
                 ],
                 [
                  "",
                  ""
                 ]
                ],
                "Organization"
               ],
               [
                "FAKE CITY",
                "19650101",
                "D8",
                "M",
                "ABCDEFGH IJKLMNOP B",
                "",
                "CA",
                "123 ADDRESS3",
                "18",
                "908021112"
               ]
              ],
              [
               [
                "",
                "",
                "984",
                "ABC111112",
                "D8",
                "",
                "22:B:1",
                "20180713",
                "454"
               ],
               [
                [
                 "1",
                 "1",
                 "984",
                 "AA,P3",
                 "",
                 "00731",
                 "HC",
                 null,
                 "20180713-20180713",
                 "RD8",
                 "472",
                 "24",
                 "MJ"
                ],
                [
                 "1",
                 "1",
                 "1353",
                 "AA",
                 "",
                 "00840",
                 "HC",
                 null,
                 "20180713-20180713",
                 "RD8",
                 "472",
                 "62",
                 "MJ"
                ],
                [
                 "1",
                 "1",
                 "1230",
                 "AA",
                 "",
                 "00902",
                 "HC",
                 null,
                 "20180713-20180713",
                 "RD8",
                 "472",
                 "65",
                 "MJ"
                ],
                [
                 "2",
                 "2",
                 "738",
                 "59",
                 "",
                 "62322",
                 "HC",
                 null,
                 "20180713-20180713",
                 "RD8",
                 "472",
                 "1",
                 "UN"
                ]
               ],
               [
                "",
                "",
                "",
                "K219",
                ""
               ],
               [
                "FAKE CITY",
                "19760101",
                "D8",
                "F",
                "ABCDEFGH IJKLMNOP B",
                "",
                "CA",
                "123 ADDRESS7",
                "18",
                "908021117"
               ],
               [
                "2",
                "ABCMMPIO",
                "PI",
                "ABCHYI OL POI"
               ],
               [
                null,
                [
                 "FAKE CITY",
                 "543211234",
                 "EI",
                 "Organization",
                 "ABCDE EFGHIJ GROUP PC",
                 "1222222223",
                 "",
                 "CA",
                 "123 ADDRESS5",
                 "",
                 "908021115"
                ],
                null,
                null,
                null,
                [
                 "",
                 "",
                 "",
                 "Individual",
                 "ABCDEFG OPQRST A",
                 "1122334460",
                 "",
                 "",
                 "",
                 "",
                 ""
                ],
                [
                 "",
                 "",
                 "",
                 "Organization",
                 "ABCDEFG HIJKLMN HOSP",
                 "1122334450",
                 "",
                 "",
                 "",
                 "",
                 ""
                ],
                [
                 "",
                 "",
                 "",
                 "Individual",
                 "STUVW KLMNOP H",
                 "1122334461",
                 "PE",
                 "",
                 "",
                 "207L00000X",
                 ""
                ]
               ],
               [
                "ABCHYI OL POI",
                "Organization"
               ],
               [
                "ABCDEF",
                "ABCDEF CUSTOMER SOLUTIONS",
                [
                 [
                  "TE",
                  "9999999999"
                 ],
                 [
                  "",
                  ""
                 ]
                ],
                "Organization"
               ],
               [
                "FAKE CITY",
                "19760101",
                "D8",
                "F",
                "ABCDEFGH IJKLMNOP B",
                "",
                "CA",
                "123 ADDRESS7",
                "18",
                "908021117"
               ]
              ],
              [
               [
                "",
                "",
                "1353",
                "ABC111113",
                "D8",
                "",
                "22:B:1",
                "20180713",
                "454"
               ],
               [
                [
                 "1",
                 "1",
                 "1353",
                 "AA",
                 "",
                 "00840",
                 "HC",
                 null,
                 "20180713-20180713",
                 "RD8",
                 "472",
                 "62",
                 "MJ"
                ],
                [
                 "1",
                 "1",
                 "1230",
                 "AA",
                 "",
                 "00902",
                 "HC",
                 null,
                 "20180713-20180713",
                 "RD8",
                 "472",
                 "65",
                 "MJ"
                ],
                [
                 "2",
                 "2",
                 "738",
                 "59",
                 "",
                 "62322",
                 "HC",
                 null,
                 "20180713-20180713",
                 "RD8",
                 "472",
                 "1",
                 "UN"
                ]
               ],
               [
                "",
                "",
                "",
                "K4090",
                ""
               ],
               [
                "FAKE CITY",
                "20180409",
                "D8",
                "M",
                "ABCDEFGH IJKLMNOP B",
                "",
                "CA",
                "123 ADDRESS11",
                "18",
                "908021111"
               ],
               [
                "2",
                "YTHF281123456",
                "PI",
                "ABCHYI OL POI"
               ],
               [
                null,
                [
                 "FAKE CITY",
                 "931013923",
                 "EI",
                 "Organization",
                 "ABCDE EFGHIJ GROUP PC",
                 "1477527786",
                 "",
                 "CA",
                 "123 ADDRESS9",
                 "",
                 "908021119"
                ],
                null,
                null,
                null,
                [
                 "",
                 "",
                 "",
                 "Individual",
                 "ABCDEFGH OPQRSTU A",
                 "1122334456",
                 "",
                 "",
                 "",
                 "",
                 ""
                ],
                [
                 "",
                 "",
                 "",
                 "Organization",
                 "ABCDEFG HIJKLMN HOSP",
                 "1122334458",
                 "",
                 "",
                 "",
                 "",
                 ""
                ],
                [
                 "",
                 "",
                 "",
                 "Individual",
                 "STUVWX KLMNOPQ H",
                 "1122334457",
                 "PE",
                 "",
                 "",
                 "207L00000X",
                 ""
                ]
               ],
               [
                "ABCHYI OL POI",
                "Organization"
               ],
               [
                "ABCDEF",
                "ABCDEF CUSTOMER SOLUTIONS",
                [
                 [
                  "TE",
                  "9999999999"
                 ],
                 [
                  "",
                  ""
                 ]
                ],
                "Organization"
               ],
               [
                "FAKE CITY",
                "20180409",
                "D8",
                "M",
                "ABCDEFGH IJKLMNOP B",
                "",
                "CA",
                "123 ADDRESS11",
                "18",
                "908021111"
               ]
              ],
              [
               [
                "",
                "",
                "1968",
                "ABC111114",
                "D8",
                "",
                "22:B:1",
                "20180713",
                "454"
               ],
               [
                [
                 "1",
                 "1",
                 "1230",
                 "AA",
                 "",
                 "00902",
                 "HC",
                 null,
                 "20180713-20180713",
                 "RD8",
                 "472",
                 "65",
                 "MJ"
                ],
                [
                 "2",
                 "2",
                 "738",
                 "59",
                 "",
                 "62322",
                 "HC",
                 null,
                 "20180713-20180713",
                 "RD8",
                 "472",
                 "1",
                 "UN"
                ]
               ],
               [
                "",
                "",
                "",
                "Q423",
                ""
               ],
               [
                "FAKE CITY",
                "20180504",
                "D8",
                "F",
                "ABCDEFGH IJKLMNOP B",
                "",
                "CA",
                "123 ADDRESS13",
                "18",
                "908021113"
               ],
               [
                "2",
                "YTHF281123456",
                "PI",
                "ABCHYI OL POI"
               ],
               [
                null,
                [
                 "FAKE CITY",
                 "931013923",
                 "EI",
                 "Organization",
                 "ABCDE EFGHIJ GROUP PC",
                 "1477527786",
                 "",
                 "CA",
                 "123 ADDRESS9",
                 "",
                 "908021119"
                ],
                null,
                null,
                null,
                [
                 "",
                 "",
                 "",
                 "Individual",
                 "ABCDEFGHI OPQRSTUV A",
                 "1122334455",
                 "",
                 "",
                 "",
                 "",
                 ""
                ],
                [
                 "",
                 "",
                 "",
                 "Organization",
                 "ABCDEFG HIJKLMN HOSP",
                 "1122334457",
                 "",
                 "",
                 "",
                 "",
                 ""
                ],
                [
                 "",
                 "",
                 "",
                 "Individual",
                 "STUVWXY KLMNOPQR H",
                 "1122334456",
                 "PE",
                 "",
                 "",
                 "207L00000X",
                 ""
                ]
               ],
               [
                "ABCHYI OL POI",
                "Organization"
               ],
               [
                "ABCDEF",
                "ABCDEF CUSTOMER SOLUTIONS",
                [
                 [
                  "TE",
                  "9999999999"
                 ],
                 [
                  "",
                  ""
                 ]
                ],
                "Organization"
               ],
               [
                "FAKE CITY",
                "20180504",
                "D8",
                "F",
                "ABCDEFGH IJKLMNOP B",
                "",
                "CA",
                "123 ADDRESS13",
                "18",
                "908021113"
               ]
              ]
             ],
             "222"
            ]
           ]
          ]
         ],
         "dbfs:/Volumes/raven_catalog/x12_edi_parser/sampledata/837/Molina_Mock_UP_837P_File.txt"
        ],
        [
         "ZZ",
         [
          [
           "421406317",
           "133052274",
           "20180807:12022761",
           "223",
           [
            [
             [
              [
               [
                "1",
                "1",
                "17166.7",
                "TD-R192ICE00087",
                "TM",
                "01",
                "11:A:1",
                "0900",
                "096"
               ],
               [
                [
                 "1",
                 null,
                 "9148",
                 "",
                 null,
                 "",
                 "",
                 "0124",
                 "20180628-20180702",
                 "RD8",
                 "472",
                 "4",
                 "UN"
                ],
                [
                 "2",
                 null,
                 "48.1",
                 "",
                 null,
                 "",
                 "",
                 "0250",
                 "20180628-20180702",
                 "RD8",
                 "472",
                 "28",
                 "UN"
                ],
                [
                 "3",
                 null,
                 "133",
                 "",
                 null,
                 "",
                 "",
                 "0260",
                 "20180628-20180702",
                 "RD8",
                 "472",
                 "1",
                 "UN"
                ],
                [
                 "4",
                 null,
                 "32.9",
                 "",
                 null,
                 "",
                 "",
                 "0300",
                 "20180628-20180702",
                 "RD8",
                 "472",
                 "1",
                 "UN"
                ],
                [
                 "5",
                 null,
                 "798.5",
                 "",
                 null,
                 "",
                 "",
                 "0301",
                 "20180628-20180702",
                 "RD8",
                 "472",
                 "4",
                 "UN"
                ],
                [
                 "6",
                 null,
                 "200.6",
                 "",
                 null,
                 "",
                 "",
                 "0305",
                 "20180628-20180702",
                 "RD8",
                 "472",
                 "2",
                 "UN"
                ],
                [
                 "7",
                 null,
                 "175",
                 "",
                 null,
                 "",
                 "",
                 "0306",
                 "20180628-20180702",
                 "RD8",
                 "472",
                 "1",
                 "UN"
                ],
                [
                 "8",
                 null,
                 "113.6",
                 "",
                 null,
                 "",
                 "",
                 "0307",
                 "20180628-20180702",
                 "RD8",
                 "472",
                 "2",
                 "UN"
                ],
                [
                 "9",
                 null,
                 "6517",
                 "",
                 null,
                 "",
                 "",
                 "0351",
                 "20180628-20180702",
                 "RD8",
                 "472",
                 "2",
                 "UN"
                ]
               ],
               [
                "F39",
                "",
                "F1319",
                "F39",
                ""
               ],
               [
                "Elgin",
                "19960215",
                "D8",
                "F",
                "TEST MEMBER ",
                "",
                "IL",
                "123 MAIN STREET",
                "18",
                "601200001"
               ],
               [
                "2",
                "421406317",
                "PI",
                "CENTENE"
               ],
               [
                [
                 "",
                 "TD-R192ICE00087",
                 "D9",
                 "Individual",
                 "  ",
                 "",
                 "",
                 "",
                 "",
                 "",
                 ""
                ],
                [
                 "WOODSTOCK",
                 "999999999",
                 "EI",
                 "Organization",
                 "Test Provider",
                 "9999999999",
                 "",
                 "IL",
                 "123 MAIN STREET",
                 "",
                 "600980000"
                ],
                [
                 "",
                 "",
                 "",
                 "Individual",
                 "  ",
                 "",
                 "",
                 "",
                 "",
                 "",
                 ""
                ],
                [
                 "",
                 "",
                 "",
                 "Individual",
                 "  ",
                 "",
                 "",
                 "",
                 "",
                 "",
                 ""
                ],
                [
                 "",
                 "",
                 "",
                 "Individual",
                 "  ",
                 "",
                 "",
                 "",
                 "",
                 "",
                 ""
                ],
                null,
                null,
                null
               ],
               [
                "CENTENE CORP",
                "Organization"
               ],
               [
                "TALEND",
                "SAMBIT",
                [
                 [
                  "TE",
                  "3143202264"
                 ],
                 [
                  "EX",
                  "8099264"
                 ]
                ],
                "Organization"
               ],
               [
                "Elgin",
                "19960215",
                "D8",
                "F",
                "TEST MEMBER ",
                "",
                "IL",
                "123 MAIN STREET",
                "18",
                "601200001"
               ]
              ]
             ],
             "223"
            ]
           ]
          ]
         ],
         "dbfs:/Volumes/raven_catalog/x12_edi_parser/sampledata/837/CC_837I_EDI.txt"
        ],
        [
         "ZZ",
         [
          [
           "XXXXX",
           "XXXXXXX",
           "20170617:1741",
           "222",
           [
            [
             [
              [
               [
                "",
                "",
                "140",
                "1000A",
                "",
                "",
                "19:B:1",
                "",
                ""
               ],
               [
                [
                 "1",
                 "1",
                 "140",
                 "",
                 "",
                 "99213",
                 "HC",
                 null,
                 "20151124",
                 "D8",
                 "472",
                 "1",
                 "UN"
                ],
                [
                 "1",
                 "1",
                 "140",
                 "",
                 "",
                 "99213",
                 "HC",
                 null,
                 "20151124",
                 "D8",
                 "472",
                 "1",
                 "UN"
                ]
               ],
               [
                "",
                "",
                "",
                "I10",
                ""
               ],
               [
                "CHICAGO",
                "19570111",
                "D8",
                "M",
                "BLOGGS JOE ",
                "",
                "IL",
                "1 SOME BLVD",
                "18",
                "606129998"
               ],
               [
                "2",
                "12345",
                "PI",
                "PAYER"
               ],
               [
                null,
                [
                 "CHICAGO",
                 "999999999",
                 "EI",
                 "Organization",
                 "BILLING PROVIDER",
                 "1122334455",
                 "",
                 "IL",
                 "1234 SOME ROAD",
                 "",
                 "606739999"
                ],
                null,
                null,
                null,
                [
                 "",
                 "",
                 "",
                 "Individual",
                 "  ",
                 "",
                 "",
                 "",
                 "",
                 "",
                 ""
                ],
                [
                 "",
                 "",
                 "",
                 "Individual",
                 "  ",
                 "",
                 "",
                 "",
                 "",
                 "",
                 ""
                ],
                [
                 "",
                 "",
                 "",
                 "Individual",
                 "  ",
                 "",
                 "",
                 "",
                 "",
                 "",
                 ""
                ]
               ],
               [
                "RECEIVER",
                "Organization"
               ],
               [
                "SUBMITTER",
                "BOB SMITH",
                [
                 [
                  "TE",
                  "4805551212"
                 ],
                 [
                  "",
                  ""
                 ]
                ],
                "Organization"
               ],
               [
                "CHICAGO",
                "19570111",
                "D8",
                "M",
                "BLOGGS JOE ",
                "",
                "IL",
                "1 SOME BLVD",
                "18",
                "606129998"
               ]
              ],
              [
               [
                "",
                "",
                "140",
                "1001A",
                "",
                "",
                "19:B:1",
                "",
                ""
               ],
               [
                [
                 "1",
                 "1",
                 "140",
                 "",
                 "",
                 "99213",
                 "HC",
                 null,
                 "20151124",
                 "D8",
                 "472",
                 "1",
                 "UN"
                ]
               ],
               [
                "",
                "",
                "",
                "I10",
                ""
               ],
               [
                "CHICAGO",
                "19700601",
                "D8",
                "M",
                "BLOGGS FRED ",
                "",
                "IL",
                "1 ANOTHER STR",
                "18",
                "606129998"
               ],
               [
                "2",
                "12345",
                "PI",
                "PAYER"
               ],
               [
                null,
                [
                 "CHICAGO",
                 "999999999",
                 "EI",
                 "Organization",
                 "BILLING PROVIDER",
                 "1122334455",
                 "",
                 "IL",
                 "1234 SOME ROAD",
                 "",
                 "606739999"
                ],
                null,
                null,
                null,
                [
                 "",
                 "",
                 "",
                 "Individual",
                 "  ",
                 "",
                 "",
                 "",
                 "",
                 "",
                 ""
                ],
                [
                 "",
                 "",
                 "",
                 "Individual",
                 "  ",
                 "",
                 "",
                 "",
                 "",
                 "",
                 ""
                ],
                [
                 "",
                 "",
                 "",
                 "Individual",
                 "  ",
                 "",
                 "",
                 "",
                 "",
                 "",
                 ""
                ]
               ],
               [
                "RECEIVER",
                "Organization"
               ],
               [
                "SUBMITTER",
                "BOB SMITH",
                [
                 [
                  "TE",
                  "4805551212"
                 ],
                 [
                  "",
                  ""
                 ]
                ],
                "Organization"
               ],
               [
                "CHICAGO",
                "19700601",
                "D8",
                "M",
                "BLOGGS FRED ",
                "",
                "IL",
                "1 ANOTHER STR",
                "18",
                "606129998"
               ]
              ]
             ],
             "222"
            ]
           ]
          ]
         ],
         "dbfs:/Volumes/raven_catalog/x12_edi_parser/sampledata/837/837p.txt"
        ],
        [
         "30",
         [
          [
           "421406317",
           "030240928",
           "20180807:12022605",
           "222",
           [
            [
             [
              [
               [
                "",
                "",
                "600",
                "TD-R192ICE00094",
                "D8",
                "",
                "11:B:1",
                "20180625",
                "435"
               ],
               [
                [
                 "1",
                 "1:2",
                 "300",
                 "HO,HQ",
                 "11",
                 "H0004",
                 "HC",
                 null,
                 "20180625-20180625",
                 "RD8",
                 "472",
                 "12",
                 "UN"
                ],
                [
                 "2",
                 "1:2",
                 "300",
                 "HO,HQ",
                 "11",
                 "H0004",
                 "HC",
                 null,
                 "20180629-20180629",
                 "RD8",
                 "472",
                 "12",
                 "UN"
                ]
               ],
               [
                "",
                "",
                "",
                "F341",
                ""
               ],
               [
                "Elgin",
                "19960215",
                "D8",
                "F",
                "TEST MEMBER ",
                "",
                "IL",
                "123 MAIN STREET",
                "18",
                "601200001"
               ],
               [
                "2",
                "421406317",
                "PI",
                "CENTENE"
               ],
               [
                null,
                [
                 "WOODSTOCK",
                 "999999999",
                 "EI",
                 "Organization",
                 "Test Provider",
                 "9999999999",
                 "",
                 "IL",
                 "123 MAIN STREET",
                 "",
                 "600980000"
                ],
                null,
                null,
                null,
                [
                 "",
                 "",
                 "",
                 "Individual",
                 "  ",
                 "",
                 "",
                 "",
                 "",
                 "",
                 ""
                ],
                [
                 "",
                 "",
                 "",
                 "Individual",
                 "  ",
                 "",
                 "",
                 "",
                 "",
                 "",
                 ""
                ],
                [
                 "",
                 "",
                 "",
                 "Individual",
                 "  ",
                 "",
                 "",
                 "",
                 "",
                 "",
                 ""
                ]
               ],
               [
                "Centene Corporation",
                "Organization"
               ],
               [
                "Centene Corporation",
                "Sambit",
                [
                 [
                  "TE",
                  "3143202264"
                 ],
                 [
                  "EX",
                  "8099264"
                 ]
                ],
                "Organization"
               ],
               [
                "Elgin",
                "19960215",
                "D8",
                "F",
                "TEST MEMBER ",
                "",
                "IL",
                "123 MAIN STREET",
                "18",
                "601200001"
               ]
              ]
             ],
             "222"
            ]
           ]
          ]
         ],
         "dbfs:/Volumes/raven_catalog/x12_edi_parser/sampledata/837/CC_837P_EDI.txt"
        ]
       ],
       "datasetInfos": [],
       "dbfsResultPath": null,
       "isJsonSchema": true,
       "metadata": {},
       "overflow": false,
       "plotOptions": {
        "customPlotOptions": {},
        "displayType": "table",
        "pivotAggregation": null,
        "pivotColumns": null,
        "xColumns": null,
        "yColumns": null
       },
       "removedWidgets": [],
       "schema": [
        {
         "metadata": "{}",
         "name": "EDI.sender_tax_id",
         "type": "\"string\""
        },
        {
         "metadata": "{}",
         "name": "FuncitonalGroup",
         "type": "{\"type\":\"array\",\"elementType\":{\"type\":\"struct\",\"fields\":[{\"name\":\"FunctionalGroup.receiver\",\"type\":\"string\",\"nullable\":true,\"metadata\":{}},{\"name\":\"FunctionalGroup.sender\",\"type\":\"string\",\"nullable\":true,\"metadata\":{}},{\"name\":\"FunctionalGroup.transaction_datetime\",\"type\":\"string\",\"nullable\":true,\"metadata\":{}},{\"name\":\"FunctionalGroup.transaction_type\",\"type\":\"string\",\"nullable\":true,\"metadata\":{}},{\"name\":\"Transactions\",\"type\":{\"type\":\"array\",\"elementType\":{\"type\":\"struct\",\"fields\":[{\"name\":\"Claims\",\"type\":{\"type\":\"array\",\"elementType\":{\"type\":\"struct\",\"fields\":[{\"name\":\"claim_header\",\"type\":{\"type\":\"struct\",\"fields\":[{\"name\":\"admission_src_cd\",\"type\":\"string\",\"nullable\":true,\"metadata\":{}},{\"name\":\"admission_type\",\"type\":\"string\",\"nullable\":true,\"metadata\":{}},{\"name\":\"claim_amount\",\"type\":\"string\",\"nullable\":true,\"metadata\":{}},{\"name\":\"claim_id\",\"type\":\"string\",\"nullable\":true,\"metadata\":{}},{\"name\":\"date_format\",\"type\":\"string\",\"nullable\":true,\"metadata\":{}},{\"name\":\"discharge_status_cd\",\"type\":\"string\",\"nullable\":true,\"metadata\":{}},{\"name\":\"facility_type_code\",\"type\":\"string\",\"nullable\":true,\"metadata\":{}},{\"name\":\"service_date\",\"type\":\"string\",\"nullable\":true,\"metadata\":{}},{\"name\":\"service_time\",\"type\":\"string\",\"nullable\":true,\"metadata\":{}}]},\"nullable\":true,\"metadata\":{}},{\"name\":\"claim_lines\",\"type\":{\"type\":\"array\",\"elementType\":{\"type\":\"struct\",\"fields\":[{\"name\":\"claim_line_number\",\"type\":\"string\",\"nullable\":true,\"metadata\":{}},{\"name\":\"dg_cd_pntr\",\"type\":\"string\",\"nullable\":true,\"metadata\":{}},{\"name\":\"line_chrg_amt\",\"type\":\"string\",\"nullable\":true,\"metadata\":{}},{\"name\":\"modifier_cds\",\"type\":\"string\",\"nullable\":true,\"metadata\":{}},{\"name\":\"place_of_service\",\"type\":\"string\",\"nullable\":true,\"metadata\":{}},{\"name\":\"prcdr_cd\",\"type\":\"string\",\"nullable\":true,\"metadata\":{}},{\"name\":\"prcdr_cd_type\",\"type\":\"string\",\"nullable\":true,\"metadata\":{}},{\"name\":\"revenue_cd\",\"type\":\"string\",\"nullable\":true,\"metadata\":{}},{\"name\":\"service_date\",\"type\":\"string\",\"nullable\":true,\"metadata\":{}},{\"name\":\"service_date_format\",\"type\":\"string\",\"nullable\":true,\"metadata\":{}},{\"name\":\"service_time\",\"type\":\"string\",\"nullable\":true,\"metadata\":{}},{\"name\":\"units\",\"type\":\"string\",\"nullable\":true,\"metadata\":{}},{\"name\":\"units_measurement\",\"type\":\"string\",\"nullable\":true,\"metadata\":{}}]},\"containsNull\":true},\"nullable\":true,\"metadata\":{}},{\"name\":\"diagnosis\",\"type\":{\"type\":\"struct\",\"fields\":[{\"name\":\"admitting_dx_cd\",\"type\":\"string\",\"nullable\":true,\"metadata\":{}},{\"name\":\"external_injury_dx_cd\",\"type\":\"string\",\"nullable\":true,\"metadata\":{}},{\"name\":\"other_dx_cds\",\"type\":\"string\",\"nullable\":true,\"metadata\":{}},{\"name\":\"principal_dx_cd\",\"type\":\"string\",\"nullable\":true,\"metadata\":{}},{\"name\":\"reason_visit_dx_cd\",\"type\":\"string\",\"nullable\":true,\"metadata\":{}}]},\"nullable\":true,\"metadata\":{}},{\"name\":\"patient\",\"type\":{\"type\":\"struct\",\"fields\":[{\"name\":\"city\",\"type\":\"string\",\"nullable\":true,\"metadata\":{}},{\"name\":\"dob\",\"type\":\"string\",\"nullable\":true,\"metadata\":{}},{\"name\":\"dob_format\",\"type\":\"string\",\"nullable\":true,\"metadata\":{}},{\"name\":\"gender_cd\",\"type\":\"string\",\"nullable\":true,\"metadata\":{}},{\"name\":\"name\",\"type\":\"string\",\"nullable\":true,\"metadata\":{}},{\"name\":\"patient_relationship_cd\",\"type\":\"string\",\"nullable\":true,\"metadata\":{}},{\"name\":\"state\",\"type\":\"string\",\"nullable\":true,\"metadata\":{}},{\"name\":\"street\",\"type\":\"string\",\"nullable\":true,\"metadata\":{}},{\"name\":\"subscriber_relationship_cd\",\"type\":\"string\",\"nullable\":true,\"metadata\":{}},{\"name\":\"zip\",\"type\":\"string\",\"nullable\":true,\"metadata\":{}}]},\"nullable\":true,\"metadata\":{}},{\"name\":\"payer\",\"type\":{\"type\":\"struct\",\"fields\":[{\"name\":\"business_entity_type\",\"type\":\"string\",\"nullable\":true,\"metadata\":{}},{\"name\":\"payer_identifier\",\"type\":\"string\",\"nullable\":true,\"metadata\":{}},{\"name\":\"payer_identifier_cd\",\"type\":\"string\",\"nullable\":true,\"metadata\":{}},{\"name\":\"payer_name\",\"type\":\"string\",\"nullable\":true,\"metadata\":{}}]},\"nullable\":true,\"metadata\":{}},{\"name\":\"providers\",\"type\":{\"type\":\"struct\",\"fields\":[{\"name\":\"attending\",\"type\":{\"type\":\"struct\",\"fields\":[{\"name\":\"city\",\"type\":\"string\",\"nullable\":true,\"metadata\":{}},{\"name\":\"ein\",\"type\":\"string\",\"nullable\":true,\"metadata\":{}},{\"name\":\"ein_type\",\"type\":\"string\",\"nullable\":true,\"metadata\":{}},{\"name\":\"entity_type\",\"type\":\"string\",\"nullable\":true,\"metadata\":{}},{\"name\":\"name\",\"type\":\"string\",\"nullable\":true,\"metadata\":{}},{\"name\":\"npi\",\"type\":\"string\",\"nullable\":true,\"metadata\":{}},{\"name\":\"provider_role\",\"type\":\"string\",\"nullable\":true,\"metadata\":{}},{\"name\":\"state\",\"type\":\"string\",\"nullable\":true,\"metadata\":{}},{\"name\":\"street\",\"type\":\"string\",\"nullable\":true,\"metadata\":{}},{\"name\":\"taxonomy\",\"type\":\"string\",\"nullable\":true,\"metadata\":{}},{\"name\":\"zip\",\"type\":\"string\",\"nullable\":true,\"metadata\":{}}]},\"nullable\":true,\"metadata\":{}},{\"name\":\"billing\",\"type\":{\"type\":\"struct\",\"fields\":[{\"name\":\"city\",\"type\":\"string\",\"nullable\":true,\"metadata\":{}},{\"name\":\"ein\",\"type\":\"string\",\"nullable\":true,\"metadata\":{}},{\"name\":\"ein_type\",\"type\":\"string\",\"nullable\":true,\"metadata\":{}},{\"name\":\"entity_type\",\"type\":\"string\",\"nullable\":true,\"metadata\":{}},{\"name\":\"name\",\"type\":\"string\",\"nullable\":true,\"metadata\":{}},{\"name\":\"npi\",\"type\":\"string\",\"nullable\":true,\"metadata\":{}},{\"name\":\"provider_role\",\"type\":\"string\",\"nullable\":true,\"metadata\":{}},{\"name\":\"state\",\"type\":\"string\",\"nullable\":true,\"metadata\":{}},{\"name\":\"street\",\"type\":\"string\",\"nullable\":true,\"metadata\":{}},{\"name\":\"taxonomy\",\"type\":\"string\",\"nullable\":true,\"metadata\":{}},{\"name\":\"zip\",\"type\":\"string\",\"nullable\":true,\"metadata\":{}}]},\"nullable\":true,\"metadata\":{}},{\"name\":\"facility\",\"type\":{\"type\":\"struct\",\"fields\":[{\"name\":\"city\",\"type\":\"string\",\"nullable\":true,\"metadata\":{}},{\"name\":\"ein\",\"type\":\"string\",\"nullable\":true,\"metadata\":{}},{\"name\":\"ein_type\",\"type\":\"string\",\"nullable\":true,\"metadata\":{}},{\"name\":\"entity_type\",\"type\":\"string\",\"nullable\":true,\"metadata\":{}},{\"name\":\"name\",\"type\":\"string\",\"nullable\":true,\"metadata\":{}},{\"name\":\"npi\",\"type\":\"string\",\"nullable\":true,\"metadata\":{}},{\"name\":\"provider_role\",\"type\":\"string\",\"nullable\":true,\"metadata\":{}},{\"name\":\"state\",\"type\":\"string\",\"nullable\":true,\"metadata\":{}},{\"name\":\"street\",\"type\":\"string\",\"nullable\":true,\"metadata\":{}},{\"name\":\"taxonomy\",\"type\":\"string\",\"nullable\":true,\"metadata\":{}},{\"name\":\"zip\",\"type\":\"string\",\"nullable\":true,\"metadata\":{}}]},\"nullable\":true,\"metadata\":{}},{\"name\":\"operating\",\"type\":{\"type\":\"struct\",\"fields\":[{\"name\":\"city\",\"type\":\"string\",\"nullable\":true,\"metadata\":{}},{\"name\":\"ein\",\"type\":\"string\",\"nullable\":true,\"metadata\":{}},{\"name\":\"ein_type\",\"type\":\"string\",\"nullable\":true,\"metadata\":{}},{\"name\":\"entity_type\",\"type\":\"string\",\"nullable\":true,\"metadata\":{}},{\"name\":\"name\",\"type\":\"string\",\"nullable\":true,\"metadata\":{}},{\"name\":\"npi\",\"type\":\"string\",\"nullable\":true,\"metadata\":{}},{\"name\":\"provider_role\",\"type\":\"string\",\"nullable\":true,\"metadata\":{}},{\"name\":\"state\",\"type\":\"string\",\"nullable\":true,\"metadata\":{}},{\"name\":\"street\",\"type\":\"string\",\"nullable\":true,\"metadata\":{}},{\"name\":\"taxonomy\",\"type\":\"string\",\"nullable\":true,\"metadata\":{}},{\"name\":\"zip\",\"type\":\"string\",\"nullable\":true,\"metadata\":{}}]},\"nullable\":true,\"metadata\":{}},{\"name\":\"other\",\"type\":{\"type\":\"struct\",\"fields\":[{\"name\":\"city\",\"type\":\"string\",\"nullable\":true,\"metadata\":{}},{\"name\":\"ein\",\"type\":\"string\",\"nullable\":true,\"metadata\":{}},{\"name\":\"ein_type\",\"type\":\"string\",\"nullable\":true,\"metadata\":{}},{\"name\":\"entity_type\",\"type\":\"string\",\"nullable\":true,\"metadata\":{}},{\"name\":\"name\",\"type\":\"string\",\"nullable\":true,\"metadata\":{}},{\"name\":\"npi\",\"type\":\"string\",\"nullable\":true,\"metadata\":{}},{\"name\":\"provider_role\",\"type\":\"string\",\"nullable\":true,\"metadata\":{}},{\"name\":\"state\",\"type\":\"string\",\"nullable\":true,\"metadata\":{}},{\"name\":\"street\",\"type\":\"string\",\"nullable\":true,\"metadata\":{}},{\"name\":\"taxonomy\",\"type\":\"string\",\"nullable\":true,\"metadata\":{}},{\"name\":\"zip\",\"type\":\"string\",\"nullable\":true,\"metadata\":{}}]},\"nullable\":true,\"metadata\":{}},{\"name\":\"referring\",\"type\":{\"type\":\"struct\",\"fields\":[{\"name\":\"city\",\"type\":\"string\",\"nullable\":true,\"metadata\":{}},{\"name\":\"ein\",\"type\":\"string\",\"nullable\":true,\"metadata\":{}},{\"name\":\"ein_type\",\"type\":\"string\",\"nullable\":true,\"metadata\":{}},{\"name\":\"entity_type\",\"type\":\"string\",\"nullable\":true,\"metadata\":{}},{\"name\":\"name\",\"type\":\"string\",\"nullable\":true,\"metadata\":{}},{\"name\":\"npi\",\"type\":\"string\",\"nullable\":true,\"metadata\":{}},{\"name\":\"provider_role\",\"type\":\"string\",\"nullable\":true,\"metadata\":{}},{\"name\":\"state\",\"type\":\"string\",\"nullable\":true,\"metadata\":{}},{\"name\":\"street\",\"type\":\"string\",\"nullable\":true,\"metadata\":{}},{\"name\":\"taxonomy\",\"type\":\"string\",\"nullable\":true,\"metadata\":{}},{\"name\":\"zip\",\"type\":\"string\",\"nullable\":true,\"metadata\":{}}]},\"nullable\":true,\"metadata\":{}},{\"name\":\"service_facility\",\"type\":{\"type\":\"struct\",\"fields\":[{\"name\":\"city\",\"type\":\"string\",\"nullable\":true,\"metadata\":{}},{\"name\":\"ein\",\"type\":\"string\",\"nullable\":true,\"metadata\":{}},{\"name\":\"ein_type\",\"type\":\"string\",\"nullable\":true,\"metadata\":{}},{\"name\":\"entity_type\",\"type\":\"string\",\"nullable\":true,\"metadata\":{}},{\"name\":\"name\",\"type\":\"string\",\"nullable\":true,\"metadata\":{}},{\"name\":\"npi\",\"type\":\"string\",\"nullable\":true,\"metadata\":{}},{\"name\":\"provider_role\",\"type\":\"string\",\"nullable\":true,\"metadata\":{}},{\"name\":\"state\",\"type\":\"string\",\"nullable\":true,\"metadata\":{}},{\"name\":\"street\",\"type\":\"string\",\"nullable\":true,\"metadata\":{}},{\"name\":\"taxonomy\",\"type\":\"string\",\"nullable\":true,\"metadata\":{}},{\"name\":\"zip\",\"type\":\"string\",\"nullable\":true,\"metadata\":{}}]},\"nullable\":true,\"metadata\":{}},{\"name\":\"servicing\",\"type\":{\"type\":\"struct\",\"fields\":[{\"name\":\"city\",\"type\":\"string\",\"nullable\":true,\"metadata\":{}},{\"name\":\"ein\",\"type\":\"string\",\"nullable\":true,\"metadata\":{}},{\"name\":\"ein_type\",\"type\":\"string\",\"nullable\":true,\"metadata\":{}},{\"name\":\"entity_type\",\"type\":\"string\",\"nullable\":true,\"metadata\":{}},{\"name\":\"name\",\"type\":\"string\",\"nullable\":true,\"metadata\":{}},{\"name\":\"npi\",\"type\":\"string\",\"nullable\":true,\"metadata\":{}},{\"name\":\"provider_role\",\"type\":\"string\",\"nullable\":true,\"metadata\":{}},{\"name\":\"state\",\"type\":\"string\",\"nullable\":true,\"metadata\":{}},{\"name\":\"street\",\"type\":\"string\",\"nullable\":true,\"metadata\":{}},{\"name\":\"taxonomy\",\"type\":\"string\",\"nullable\":true,\"metadata\":{}},{\"name\":\"zip\",\"type\":\"string\",\"nullable\":true,\"metadata\":{}}]},\"nullable\":true,\"metadata\":{}}]},\"nullable\":true,\"metadata\":{}},{\"name\":\"receiver\",\"type\":{\"type\":\"struct\",\"fields\":[{\"name\":\"name\",\"type\":\"string\",\"nullable\":true,\"metadata\":{}},{\"name\":\"type\",\"type\":\"string\",\"nullable\":true,\"metadata\":{}}]},\"nullable\":true,\"metadata\":{}},{\"name\":\"submitter\",\"type\":{\"type\":\"struct\",\"fields\":[{\"name\":\"name\",\"type\":\"string\",\"nullable\":true,\"metadata\":{}},{\"name\":\"sbmtter_contact_name\",\"type\":\"string\",\"nullable\":true,\"metadata\":{}},{\"name\":\"sbmtter_contacts\",\"type\":{\"type\":\"array\",\"elementType\":{\"type\":\"array\",\"elementType\":\"string\",\"containsNull\":true},\"containsNull\":true},\"nullable\":true,\"metadata\":{}},{\"name\":\"type\",\"type\":\"string\",\"nullable\":true,\"metadata\":{}}]},\"nullable\":true,\"metadata\":{}},{\"name\":\"subscriber\",\"type\":{\"type\":\"struct\",\"fields\":[{\"name\":\"city\",\"type\":\"string\",\"nullable\":true,\"metadata\":{}},{\"name\":\"dob\",\"type\":\"string\",\"nullable\":true,\"metadata\":{}},{\"name\":\"dob_format\",\"type\":\"string\",\"nullable\":true,\"metadata\":{}},{\"name\":\"gender_cd\",\"type\":\"string\",\"nullable\":true,\"metadata\":{}},{\"name\":\"name\",\"type\":\"string\",\"nullable\":true,\"metadata\":{}},{\"name\":\"patient_relationship_cd\",\"type\":\"string\",\"nullable\":true,\"metadata\":{}},{\"name\":\"state\",\"type\":\"string\",\"nullable\":true,\"metadata\":{}},{\"name\":\"street\",\"type\":\"string\",\"nullable\":true,\"metadata\":{}},{\"name\":\"subscriber_relationship_cd\",\"type\":\"string\",\"nullable\":true,\"metadata\":{}},{\"name\":\"zip\",\"type\":\"string\",\"nullable\":true,\"metadata\":{}}]},\"nullable\":true,\"metadata\":{}}]},\"containsNull\":true},\"nullable\":true,\"metadata\":{}},{\"name\":\"Transaction.transaction_type\",\"type\":\"string\",\"nullable\":true,\"metadata\":{}}]},\"containsNull\":true},\"nullable\":true,\"metadata\":{}}]},\"containsNull\":true}"
        },
        {
         "metadata": "{}",
         "name": "filename",
         "type": "\"string\""
        }
       ],
       "type": "table"
      }
     },
     "output_type": "display_data"
    }
   ],
   "source": [
    "display(edi_data)"
   ]
  },
  {
   "cell_type": "code",
   "execution_count": 0,
   "metadata": {
    "application/vnd.databricks.v1+cell": {
     "cellMetadata": {
      "byteLimit": 2048000,
      "rowLimit": 10000
     },
     "inputWidgets": {},
     "nuid": "d020959d-5e02-48ec-a19d-2cb2ec330f13",
     "showTitle": false,
     "title": ""
    }
   },
   "outputs": [
    {
     "output_type": "display_data",
     "data": {
      "text/html": [
       "<style scoped>\n",
       "  .table-result-container {\n",
       "    max-height: 300px;\n",
       "    overflow: auto;\n",
       "  }\n",
       "  table, th, td {\n",
       "    border: 1px solid black;\n",
       "    border-collapse: collapse;\n",
       "  }\n",
       "  th, td {\n",
       "    padding: 5px;\n",
       "  }\n",
       "  th {\n",
       "    text-align: left;\n",
       "  }\n",
       "</style><div class='table-result-container'><table class='table-result'><thead style='background-color: white'><tr><th>tax_id</th><th>FunctionalGroup</th></tr></thead><tbody><tr><td>ZZ</td><td>List(123456789, CLEARINGHOUSE, 20180508:0833, 222, List(List(List(List(List(, , 20, 1805080AV3648339, , , 57:B:1, , ), List(List(1, 1, 20, , , H0003, HC, null, 20180428, D8, 472, 1, UN)), List(, , , F1120, ), List(VANCOUVER, 19881225, D8, M, SUBSCRIBER JOHN J, , WA, 987 65TH PL, 18, 986640001), List(2, CHPWA, PI, COMMUNITY HEALTH PLAN OF WASHINGTON), List(null, List(VANCOUVER, 720000000, EI, Organization, BH CLINIC OF VANCOUVER, 1122334455, , WA, 12345 MAIN ST, , 98662), null, null, null, List(, , , Individual,   , , , , , , ), List(, , , Organization, BH CLINIC OF VANCOUVER, 1122334455, , , , , ), List(, , , Individual, PROVIDER JAMES , 1112223338, PE, , , 261QR0405X, )), List(123456789, Organization), List(CLEARINGHOUSE LLC, CLEARINGHOUSE CLIENT SERVICES, List(List(TE, 8005551212), List(FX, 8005551212)), Organization), List(VANCOUVER, 19881225, D8, M, SUBSCRIBER JOHN J, , WA, 987 65TH PL, 18, 986640001))), 222), List(List(List(List(, , 50.1, 1805080AV3648347, , , 57:B:1, , ), List(List(1, 1:2, 50.1, HF, , 96153, HC, null, 20180426, D8, 472, 6, UN)), List(, , , F1520, ), List(VANCOUVER, 19881031, D8, F, PATIENT SUSAN E, , WA, 765 43RD ST, 18, 986640002), List(2, CHPWA, PI, COMMUNITY HEALTH PLAN OF WASHINGTON), List(null, List(VANCOUVER, 720000000, EI, Organization, BH CLINIC OF VANCOUVER, 1122334455, , WA, 12345 MAIN ST, , 98662), null, null, null, List(, , , Individual,   , , , , , , ), List(, , , Organization, BH CLINIC OF VANCOUVER, 1122334455, , , , , ), List(, , , Individual, PROVIDER SUSAN , 1112223346, PE, , , 261QR0405X, )), List(123456789, Organization), List(CLEARINGHOUSE LLC, CLEARINGHOUSE CLIENT SERVICES, List(List(TE, 8005551212), List(FX, 8005551212)), Organization), List(VANCOUVER, 19881031, D8, F, PATIENT SUSAN E, , WA, 765 43RD ST, 18, 986640002))), 222), List(List(List(List(, , 11.64, 1805080AV3648340, , , 57:B:1, , ), List(List(1, 1:2, 11.64, HF, , T1017, HC, null, 20180427, D8, 472, 1, UN)), List(, , , F1020, ), List(VANCOUVER, 19881225, D8, M, SUBSCRIBER JOHN J, , WA, 987 65TH PL, 18, 986640001), List(2, CHPWA, PI, COMMUNITY HEALTH PLAN OF WASHINGTON), List(null, List(VANCOUVER, 720000000, EI, Organization, BH CLINIC OF VANCOUVER, 1122334455, , WA, 12345 MAIN ST, , 98662), null, null, null, List(, , , Individual,   , , , , , , ), List(, , , Organization, BH CLINIC OF VANCOUVER, 1122334455, , , , , ), List(, , , Individual, PROVIDER SUSAN , 1112223346, PE, , , 261QR0405X, )), List(123456789, Organization), List(CLEARINGHOUSE LLC, CLEARINGHOUSE CLIENT SERVICES, List(List(TE, 8005551212), List(FX, 8005551212)), Organization), List(VANCOUVER, 19881225, D8, M, SUBSCRIBER JOHN J, , WA, 987 65TH PL, 18, 986640001))), 222), List(List(List(List(, , 234, 1805080AV3648353, , , 53:B:1, , ), List(List(1, 1, 234, , , 90853, HC, null, 20180427, D8, 472, 120, UN)), List(, , , F251, ), List(VANCOUVER, 19881031, D8, F, PATIENT SUSAN E, , WA, 765 43RD ST, 18, 986640002), List(2, CHPWA, PI, COMMUNITY HEALTH PLAN OF WASHINGTON), List(null, List(VANCOUVER, 720000000, EI, Organization, BH CLINIC OF VANCOUVER, 1122334455, , WA, 12345 MAIN ST, , 98662), null, null, null, List(, , , Individual,   , , , , , , ), List(, , , Organization, BH CLINIC OF VANCOUVER, 1122334455, , , , , ), List(, , , Individual, PROVIDER SUSAN , 1112223346, PE, , , 251S00000X, )), List(123456789, Organization), List(CLEARINGHOUSE LLC, CLEARINGHOUSE CLIENT SERVICES, List(List(TE, 8005551212), List(FX, 8005551212)), Organization), List(VANCOUVER, 19881031, D8, F, PATIENT SUSAN E, , WA, 765 43RD ST, 18, 986640002))), 222), List(List(List(List(, , 20, 1805080AV3648355, , , 57:B:1, , ), List(List(1, 1:2, 20, , , H0003, HC, null, 20180427, D8, 472, 1, UN)), List(, , , F1020, ), List(VANCOUVER, 19881225, D8, M, SUBSCRIBER JOHN J, , WA, 987 65TH PL, 18, 986640001), List(2, CHPWA, PI, COMMUNITY HEALTH PLAN OF WASHINGTON), List(null, List(VANCOUVER, 720000000, EI, Organization, BH CLINIC OF VANCOUVER, 1122334455, , WA, 12345 MAIN ST, , 98662), null, null, null, List(, , , Individual,   , , , , , , ), List(, , , Organization, BH CLINIC OF VANCOUVER, 1122334455, , , , , ), List(, , , Individual, PROVIDER JAMES , 1112223338, PE, , , 261QR0405X, )), List(123456789, Organization), List(CLEARINGHOUSE LLC, CLEARINGHOUSE CLIENT SERVICES, List(List(TE, 8005551212), List(FX, 8005551212)), Organization), List(VANCOUVER, 19881225, D8, M, SUBSCRIBER JOHN J, , WA, 987 65TH PL, 18, 986640001))), 222)))</td></tr><tr><td>ZZ</td><td>List(OO000011111, 000000005D, 20180710:214339, 222, List(List(List(List(List(, , 1800, ABC11111, D8, , 22:B:1, 20180123, 454), List(List(1, 1, 1800, QZ, , 01710, HC, null, 20180123-20180123, RD8, 472, 88, MJ), List(1, 1, 984, AA,P3, , 00731, HC, null, 20180713-20180713, RD8, 472, 24, MJ), List(1, 1, 1353, AA, , 00840, HC, null, 20180713-20180713, RD8, 472, 62, MJ), List(1, 1, 1230, AA, , 00902, HC, null, 20180713-20180713, RD8, 472, 65, MJ), List(2, 2, 738, 59, , 62322, HC, null, 20180713-20180713, RD8, 472, 1, UN)), List(, , , G5621, ), List(FAKE CITY, 19650101, D8, M, ABCDEFGH IJKLMNOP B, , CA, 123 ADDRESS3, 18, 908021112), List(2, ABCMMPIO, PI, ABCHYI OL POI), List(null, List(FAKE CITY, 123456789, EI, Organization, YYYY HEALTHCARE ABC, 1222222220, , NY, 123 ADDRESS1, , 908021112), null, null, null, List(, , , Individual, ABCD STUVW , 1234567890, , , , , ), List(, , , Organization, ABCDEFG HIJKLMN HOSP, 1122334460, , , , , ), List(, , , Individual, TUVWX MNOPQR , 1234567891, PE, , , 367500000X, )), List(ABCHYI OL POI, Organization), List(ABCDEF, ABCDEF CUSTOMER SOLUTIONS, List(List(TE, 9999999999), List(, )), Organization), List(FAKE CITY, 19650101, D8, M, ABCDEFGH IJKLMNOP B, , CA, 123 ADDRESS3, 18, 908021112)), List(List(, , 984, ABC111112, D8, , 22:B:1, 20180713, 454), List(List(1, 1, 984, AA,P3, , 00731, HC, null, 20180713-20180713, RD8, 472, 24, MJ), List(1, 1, 1353, AA, , 00840, HC, null, 20180713-20180713, RD8, 472, 62, MJ), List(1, 1, 1230, AA, , 00902, HC, null, 20180713-20180713, RD8, 472, 65, MJ), List(2, 2, 738, 59, , 62322, HC, null, 20180713-20180713, RD8, 472, 1, UN)), List(, , , K219, ), List(FAKE CITY, 19760101, D8, F, ABCDEFGH IJKLMNOP B, , CA, 123 ADDRESS7, 18, 908021117), List(2, ABCMMPIO, PI, ABCHYI OL POI), List(null, List(FAKE CITY, 543211234, EI, Organization, ABCDE EFGHIJ GROUP PC, 1222222223, , CA, 123 ADDRESS5, , 908021115), null, null, null, List(, , , Individual, ABCDEFG OPQRST A, 1122334460, , , , , ), List(, , , Organization, ABCDEFG HIJKLMN HOSP, 1122334450, , , , , ), List(, , , Individual, STUVW KLMNOP H, 1122334461, PE, , , 207L00000X, )), List(ABCHYI OL POI, Organization), List(ABCDEF, ABCDEF CUSTOMER SOLUTIONS, List(List(TE, 9999999999), List(, )), Organization), List(FAKE CITY, 19760101, D8, F, ABCDEFGH IJKLMNOP B, , CA, 123 ADDRESS7, 18, 908021117)), List(List(, , 1353, ABC111113, D8, , 22:B:1, 20180713, 454), List(List(1, 1, 1353, AA, , 00840, HC, null, 20180713-20180713, RD8, 472, 62, MJ), List(1, 1, 1230, AA, , 00902, HC, null, 20180713-20180713, RD8, 472, 65, MJ), List(2, 2, 738, 59, , 62322, HC, null, 20180713-20180713, RD8, 472, 1, UN)), List(, , , K4090, ), List(FAKE CITY, 20180409, D8, M, ABCDEFGH IJKLMNOP B, , CA, 123 ADDRESS11, 18, 908021111), List(2, YTHF281123456, PI, ABCHYI OL POI), List(null, List(FAKE CITY, 931013923, EI, Organization, ABCDE EFGHIJ GROUP PC, 1477527786, , CA, 123 ADDRESS9, , 908021119), null, null, null, List(, , , Individual, ABCDEFGH OPQRSTU A, 1122334456, , , , , ), List(, , , Organization, ABCDEFG HIJKLMN HOSP, 1122334458, , , , , ), List(, , , Individual, STUVWX KLMNOPQ H, 1122334457, PE, , , 207L00000X, )), List(ABCHYI OL POI, Organization), List(ABCDEF, ABCDEF CUSTOMER SOLUTIONS, List(List(TE, 9999999999), List(, )), Organization), List(FAKE CITY, 20180409, D8, M, ABCDEFGH IJKLMNOP B, , CA, 123 ADDRESS11, 18, 908021111)), List(List(, , 1968, ABC111114, D8, , 22:B:1, 20180713, 454), List(List(1, 1, 1230, AA, , 00902, HC, null, 20180713-20180713, RD8, 472, 65, MJ), List(2, 2, 738, 59, , 62322, HC, null, 20180713-20180713, RD8, 472, 1, UN)), List(, , , Q423, ), List(FAKE CITY, 20180504, D8, F, ABCDEFGH IJKLMNOP B, , CA, 123 ADDRESS13, 18, 908021113), List(2, YTHF281123456, PI, ABCHYI OL POI), List(null, List(FAKE CITY, 931013923, EI, Organization, ABCDE EFGHIJ GROUP PC, 1477527786, , CA, 123 ADDRESS9, , 908021119), null, null, null, List(, , , Individual, ABCDEFGHI OPQRSTUV A, 1122334455, , , , , ), List(, , , Organization, ABCDEFG HIJKLMN HOSP, 1122334457, , , , , ), List(, , , Individual, STUVWXY KLMNOPQR H, 1122334456, PE, , , 207L00000X, )), List(ABCHYI OL POI, Organization), List(ABCDEF, ABCDEF CUSTOMER SOLUTIONS, List(List(TE, 9999999999), List(, )), Organization), List(FAKE CITY, 20180504, D8, F, ABCDEFGH IJKLMNOP B, , CA, 123 ADDRESS13, 18, 908021113))), 222)))</td></tr><tr><td>ZZ</td><td>List(421406317, 133052274, 20180807:12022761, 223, List(List(List(List(List(1, 1, 17166.7, TD-R192ICE00087, TM, 01, 11:A:1, 0900, 096), List(List(1, null, 9148, , null, , , 0124, 20180628-20180702, RD8, 472, 4, UN), List(2, null, 48.1, , null, , , 0250, 20180628-20180702, RD8, 472, 28, UN), List(3, null, 133, , null, , , 0260, 20180628-20180702, RD8, 472, 1, UN), List(4, null, 32.9, , null, , , 0300, 20180628-20180702, RD8, 472, 1, UN), List(5, null, 798.5, , null, , , 0301, 20180628-20180702, RD8, 472, 4, UN), List(6, null, 200.6, , null, , , 0305, 20180628-20180702, RD8, 472, 2, UN), List(7, null, 175, , null, , , 0306, 20180628-20180702, RD8, 472, 1, UN), List(8, null, 113.6, , null, , , 0307, 20180628-20180702, RD8, 472, 2, UN), List(9, null, 6517, , null, , , 0351, 20180628-20180702, RD8, 472, 2, UN)), List(F39, , F1319, F39, ), List(Elgin, 19960215, D8, F, TEST MEMBER , , IL, 123 MAIN STREET, 18, 601200001), List(2, 421406317, PI, CENTENE), List(List(, TD-R192ICE00087, D9, Individual,   , , , , , , ), List(WOODSTOCK, 999999999, EI, Organization, Test Provider, 9999999999, , IL, 123 MAIN STREET, , 600980000), List(, , , Individual,   , , , , , , ), List(, , , Individual,   , , , , , , ), List(, , , Individual,   , , , , , , ), null, null, null), List(CENTENE CORP, Organization), List(TALEND, SAMBIT, List(List(TE, 3143202264), List(EX, 8099264)), Organization), List(Elgin, 19960215, D8, F, TEST MEMBER , , IL, 123 MAIN STREET, 18, 601200001))), 223)))</td></tr><tr><td>ZZ</td><td>List(XXXXX, XXXXXXX, 20170617:1741, 222, List(List(List(List(List(, , 140, 1000A, , , 19:B:1, , ), List(List(1, 1, 140, , , 99213, HC, null, 20151124, D8, 472, 1, UN), List(1, 1, 140, , , 99213, HC, null, 20151124, D8, 472, 1, UN)), List(, , , I10, ), List(CHICAGO, 19570111, D8, M, BLOGGS JOE , , IL, 1 SOME BLVD, 18, 606129998), List(2, 12345, PI, PAYER), List(null, List(CHICAGO, 999999999, EI, Organization, BILLING PROVIDER, 1122334455, , IL, 1234 SOME ROAD, , 606739999), null, null, null, List(, , , Individual,   , , , , , , ), List(, , , Individual,   , , , , , , ), List(, , , Individual,   , , , , , , )), List(RECEIVER, Organization), List(SUBMITTER, BOB SMITH, List(List(TE, 4805551212), List(, )), Organization), List(CHICAGO, 19570111, D8, M, BLOGGS JOE , , IL, 1 SOME BLVD, 18, 606129998)), List(List(, , 140, 1001A, , , 19:B:1, , ), List(List(1, 1, 140, , , 99213, HC, null, 20151124, D8, 472, 1, UN)), List(, , , I10, ), List(CHICAGO, 19700601, D8, M, BLOGGS FRED , , IL, 1 ANOTHER STR, 18, 606129998), List(2, 12345, PI, PAYER), List(null, List(CHICAGO, 999999999, EI, Organization, BILLING PROVIDER, 1122334455, , IL, 1234 SOME ROAD, , 606739999), null, null, null, List(, , , Individual,   , , , , , , ), List(, , , Individual,   , , , , , , ), List(, , , Individual,   , , , , , , )), List(RECEIVER, Organization), List(SUBMITTER, BOB SMITH, List(List(TE, 4805551212), List(, )), Organization), List(CHICAGO, 19700601, D8, M, BLOGGS FRED , , IL, 1 ANOTHER STR, 18, 606129998))), 222)))</td></tr><tr><td>30</td><td>List(421406317, 030240928, 20180807:12022605, 222, List(List(List(List(List(, , 600, TD-R192ICE00094, D8, , 11:B:1, 20180625, 435), List(List(1, 1:2, 300, HO,HQ, 11, H0004, HC, null, 20180625-20180625, RD8, 472, 12, UN), List(2, 1:2, 300, HO,HQ, 11, H0004, HC, null, 20180629-20180629, RD8, 472, 12, UN)), List(, , , F341, ), List(Elgin, 19960215, D8, F, TEST MEMBER , , IL, 123 MAIN STREET, 18, 601200001), List(2, 421406317, PI, CENTENE), List(null, List(WOODSTOCK, 999999999, EI, Organization, Test Provider, 9999999999, , IL, 123 MAIN STREET, , 600980000), null, null, null, List(, , , Individual,   , , , , , , ), List(, , , Individual,   , , , , , , ), List(, , , Individual,   , , , , , , )), List(Centene Corporation, Organization), List(Centene Corporation, Sambit, List(List(TE, 3143202264), List(EX, 8099264)), Organization), List(Elgin, 19960215, D8, F, TEST MEMBER , , IL, 123 MAIN STREET, 18, 601200001))), 222)))</td></tr></tbody></table></div>"
      ]
     },
     "metadata": {
      "application/vnd.databricks.v1+output": {
       "addedWidgets": {},
       "aggData": [],
       "aggError": "",
       "aggOverflow": false,
       "aggSchema": [],
       "aggSeriesLimitReached": false,
       "aggType": "",
       "arguments": {},
       "columnCustomDisplayInfos": {},
       "data": [
        [
         "ZZ",
         [
          "123456789",
          "CLEARINGHOUSE",
          "20180508:0833",
          "222",
          [
           [
            [
             [
              [
               "",
               "",
               "20",
               "1805080AV3648339",
               "",
               "",
               "57:B:1",
               "",
               ""
              ],
              [
               [
                "1",
                "1",
                "20",
                "",
                "",
                "H0003",
                "HC",
                null,
                "20180428",
                "D8",
                "472",
                "1",
                "UN"
               ]
              ],
              [
               "",
               "",
               "",
               "F1120",
               ""
              ],
              [
               "VANCOUVER",
               "19881225",
               "D8",
               "M",
               "SUBSCRIBER JOHN J",
               "",
               "WA",
               "987 65TH PL",
               "18",
               "986640001"
              ],
              [
               "2",
               "CHPWA",
               "PI",
               "COMMUNITY HEALTH PLAN OF WASHINGTON"
              ],
              [
               null,
               [
                "VANCOUVER",
                "720000000",
                "EI",
                "Organization",
                "BH CLINIC OF VANCOUVER",
                "1122334455",
                "",
                "WA",
                "12345 MAIN ST",
                "",
                "98662"
               ],
               null,
               null,
               null,
               [
                "",
                "",
                "",
                "Individual",
                "  ",
                "",
                "",
                "",
                "",
                "",
                ""
               ],
               [
                "",
                "",
                "",
                "Organization",
                "BH CLINIC OF VANCOUVER",
                "1122334455",
                "",
                "",
                "",
                "",
                ""
               ],
               [
                "",
                "",
                "",
                "Individual",
                "PROVIDER JAMES ",
                "1112223338",
                "PE",
                "",
                "",
                "261QR0405X",
                ""
               ]
              ],
              [
               "123456789",
               "Organization"
              ],
              [
               "CLEARINGHOUSE LLC",
               "CLEARINGHOUSE CLIENT SERVICES",
               [
                [
                 "TE",
                 "8005551212"
                ],
                [
                 "FX",
                 "8005551212"
                ]
               ],
               "Organization"
              ],
              [
               "VANCOUVER",
               "19881225",
               "D8",
               "M",
               "SUBSCRIBER JOHN J",
               "",
               "WA",
               "987 65TH PL",
               "18",
               "986640001"
              ]
             ]
            ],
            "222"
           ],
           [
            [
             [
              [
               "",
               "",
               "50.1",
               "1805080AV3648347",
               "",
               "",
               "57:B:1",
               "",
               ""
              ],
              [
               [
                "1",
                "1:2",
                "50.1",
                "HF",
                "",
                "96153",
                "HC",
                null,
                "20180426",
                "D8",
                "472",
                "6",
                "UN"
               ]
              ],
              [
               "",
               "",
               "",
               "F1520",
               ""
              ],
              [
               "VANCOUVER",
               "19881031",
               "D8",
               "F",
               "PATIENT SUSAN E",
               "",
               "WA",
               "765 43RD ST",
               "18",
               "986640002"
              ],
              [
               "2",
               "CHPWA",
               "PI",
               "COMMUNITY HEALTH PLAN OF WASHINGTON"
              ],
              [
               null,
               [
                "VANCOUVER",
                "720000000",
                "EI",
                "Organization",
                "BH CLINIC OF VANCOUVER",
                "1122334455",
                "",
                "WA",
                "12345 MAIN ST",
                "",
                "98662"
               ],
               null,
               null,
               null,
               [
                "",
                "",
                "",
                "Individual",
                "  ",
                "",
                "",
                "",
                "",
                "",
                ""
               ],
               [
                "",
                "",
                "",
                "Organization",
                "BH CLINIC OF VANCOUVER",
                "1122334455",
                "",
                "",
                "",
                "",
                ""
               ],
               [
                "",
                "",
                "",
                "Individual",
                "PROVIDER SUSAN ",
                "1112223346",
                "PE",
                "",
                "",
                "261QR0405X",
                ""
               ]
              ],
              [
               "123456789",
               "Organization"
              ],
              [
               "CLEARINGHOUSE LLC",
               "CLEARINGHOUSE CLIENT SERVICES",
               [
                [
                 "TE",
                 "8005551212"
                ],
                [
                 "FX",
                 "8005551212"
                ]
               ],
               "Organization"
              ],
              [
               "VANCOUVER",
               "19881031",
               "D8",
               "F",
               "PATIENT SUSAN E",
               "",
               "WA",
               "765 43RD ST",
               "18",
               "986640002"
              ]
             ]
            ],
            "222"
           ],
           [
            [
             [
              [
               "",
               "",
               "11.64",
               "1805080AV3648340",
               "",
               "",
               "57:B:1",
               "",
               ""
              ],
              [
               [
                "1",
                "1:2",
                "11.64",
                "HF",
                "",
                "T1017",
                "HC",
                null,
                "20180427",
                "D8",
                "472",
                "1",
                "UN"
               ]
              ],
              [
               "",
               "",
               "",
               "F1020",
               ""
              ],
              [
               "VANCOUVER",
               "19881225",
               "D8",
               "M",
               "SUBSCRIBER JOHN J",
               "",
               "WA",
               "987 65TH PL",
               "18",
               "986640001"
              ],
              [
               "2",
               "CHPWA",
               "PI",
               "COMMUNITY HEALTH PLAN OF WASHINGTON"
              ],
              [
               null,
               [
                "VANCOUVER",
                "720000000",
                "EI",
                "Organization",
                "BH CLINIC OF VANCOUVER",
                "1122334455",
                "",
                "WA",
                "12345 MAIN ST",
                "",
                "98662"
               ],
               null,
               null,
               null,
               [
                "",
                "",
                "",
                "Individual",
                "  ",
                "",
                "",
                "",
                "",
                "",
                ""
               ],
               [
                "",
                "",
                "",
                "Organization",
                "BH CLINIC OF VANCOUVER",
                "1122334455",
                "",
                "",
                "",
                "",
                ""
               ],
               [
                "",
                "",
                "",
                "Individual",
                "PROVIDER SUSAN ",
                "1112223346",
                "PE",
                "",
                "",
                "261QR0405X",
                ""
               ]
              ],
              [
               "123456789",
               "Organization"
              ],
              [
               "CLEARINGHOUSE LLC",
               "CLEARINGHOUSE CLIENT SERVICES",
               [
                [
                 "TE",
                 "8005551212"
                ],
                [
                 "FX",
                 "8005551212"
                ]
               ],
               "Organization"
              ],
              [
               "VANCOUVER",
               "19881225",
               "D8",
               "M",
               "SUBSCRIBER JOHN J",
               "",
               "WA",
               "987 65TH PL",
               "18",
               "986640001"
              ]
             ]
            ],
            "222"
           ],
           [
            [
             [
              [
               "",
               "",
               "234",
               "1805080AV3648353",
               "",
               "",
               "53:B:1",
               "",
               ""
              ],
              [
               [
                "1",
                "1",
                "234",
                "",
                "",
                "90853",
                "HC",
                null,
                "20180427",
                "D8",
                "472",
                "120",
                "UN"
               ]
              ],
              [
               "",
               "",
               "",
               "F251",
               ""
              ],
              [
               "VANCOUVER",
               "19881031",
               "D8",
               "F",
               "PATIENT SUSAN E",
               "",
               "WA",
               "765 43RD ST",
               "18",
               "986640002"
              ],
              [
               "2",
               "CHPWA",
               "PI",
               "COMMUNITY HEALTH PLAN OF WASHINGTON"
              ],
              [
               null,
               [
                "VANCOUVER",
                "720000000",
                "EI",
                "Organization",
                "BH CLINIC OF VANCOUVER",
                "1122334455",
                "",
                "WA",
                "12345 MAIN ST",
                "",
                "98662"
               ],
               null,
               null,
               null,
               [
                "",
                "",
                "",
                "Individual",
                "  ",
                "",
                "",
                "",
                "",
                "",
                ""
               ],
               [
                "",
                "",
                "",
                "Organization",
                "BH CLINIC OF VANCOUVER",
                "1122334455",
                "",
                "",
                "",
                "",
                ""
               ],
               [
                "",
                "",
                "",
                "Individual",
                "PROVIDER SUSAN ",
                "1112223346",
                "PE",
                "",
                "",
                "251S00000X",
                ""
               ]
              ],
              [
               "123456789",
               "Organization"
              ],
              [
               "CLEARINGHOUSE LLC",
               "CLEARINGHOUSE CLIENT SERVICES",
               [
                [
                 "TE",
                 "8005551212"
                ],
                [
                 "FX",
                 "8005551212"
                ]
               ],
               "Organization"
              ],
              [
               "VANCOUVER",
               "19881031",
               "D8",
               "F",
               "PATIENT SUSAN E",
               "",
               "WA",
               "765 43RD ST",
               "18",
               "986640002"
              ]
             ]
            ],
            "222"
           ],
           [
            [
             [
              [
               "",
               "",
               "20",
               "1805080AV3648355",
               "",
               "",
               "57:B:1",
               "",
               ""
              ],
              [
               [
                "1",
                "1:2",
                "20",
                "",
                "",
                "H0003",
                "HC",
                null,
                "20180427",
                "D8",
                "472",
                "1",
                "UN"
               ]
              ],
              [
               "",
               "",
               "",
               "F1020",
               ""
              ],
              [
               "VANCOUVER",
               "19881225",
               "D8",
               "M",
               "SUBSCRIBER JOHN J",
               "",
               "WA",
               "987 65TH PL",
               "18",
               "986640001"
              ],
              [
               "2",
               "CHPWA",
               "PI",
               "COMMUNITY HEALTH PLAN OF WASHINGTON"
              ],
              [
               null,
               [
                "VANCOUVER",
                "720000000",
                "EI",
                "Organization",
                "BH CLINIC OF VANCOUVER",
                "1122334455",
                "",
                "WA",
                "12345 MAIN ST",
                "",
                "98662"
               ],
               null,
               null,
               null,
               [
                "",
                "",
                "",
                "Individual",
                "  ",
                "",
                "",
                "",
                "",
                "",
                ""
               ],
               [
                "",
                "",
                "",
                "Organization",
                "BH CLINIC OF VANCOUVER",
                "1122334455",
                "",
                "",
                "",
                "",
                ""
               ],
               [
                "",
                "",
                "",
                "Individual",
                "PROVIDER JAMES ",
                "1112223338",
                "PE",
                "",
                "",
                "261QR0405X",
                ""
               ]
              ],
              [
               "123456789",
               "Organization"
              ],
              [
               "CLEARINGHOUSE LLC",
               "CLEARINGHOUSE CLIENT SERVICES",
               [
                [
                 "TE",
                 "8005551212"
                ],
                [
                 "FX",
                 "8005551212"
                ]
               ],
               "Organization"
              ],
              [
               "VANCOUVER",
               "19881225",
               "D8",
               "M",
               "SUBSCRIBER JOHN J",
               "",
               "WA",
               "987 65TH PL",
               "18",
               "986640001"
              ]
             ]
            ],
            "222"
           ]
          ]
         ]
        ],
        [
         "ZZ",
         [
          "OO000011111",
          "000000005D",
          "20180710:214339",
          "222",
          [
           [
            [
             [
              [
               "",
               "",
               "1800",
               "ABC11111",
               "D8",
               "",
               "22:B:1",
               "20180123",
               "454"
              ],
              [
               [
                "1",
                "1",
                "1800",
                "QZ",
                "",
                "01710",
                "HC",
                null,
                "20180123-20180123",
                "RD8",
                "472",
                "88",
                "MJ"
               ],
               [
                "1",
                "1",
                "984",
                "AA,P3",
                "",
                "00731",
                "HC",
                null,
                "20180713-20180713",
                "RD8",
                "472",
                "24",
                "MJ"
               ],
               [
                "1",
                "1",
                "1353",
                "AA",
                "",
                "00840",
                "HC",
                null,
                "20180713-20180713",
                "RD8",
                "472",
                "62",
                "MJ"
               ],
               [
                "1",
                "1",
                "1230",
                "AA",
                "",
                "00902",
                "HC",
                null,
                "20180713-20180713",
                "RD8",
                "472",
                "65",
                "MJ"
               ],
               [
                "2",
                "2",
                "738",
                "59",
                "",
                "62322",
                "HC",
                null,
                "20180713-20180713",
                "RD8",
                "472",
                "1",
                "UN"
               ]
              ],
              [
               "",
               "",
               "",
               "G5621",
               ""
              ],
              [
               "FAKE CITY",
               "19650101",
               "D8",
               "M",
               "ABCDEFGH IJKLMNOP B",
               "",
               "CA",
               "123 ADDRESS3",
               "18",
               "908021112"
              ],
              [
               "2",
               "ABCMMPIO",
               "PI",
               "ABCHYI OL POI"
              ],
              [
               null,
               [
                "FAKE CITY",
                "123456789",
                "EI",
                "Organization",
                "YYYY HEALTHCARE ABC",
                "1222222220",
                "",
                "NY",
                "123 ADDRESS1",
                "",
                "908021112"
               ],
               null,
               null,
               null,
               [
                "",
                "",
                "",
                "Individual",
                "ABCD STUVW ",
                "1234567890",
                "",
                "",
                "",
                "",
                ""
               ],
               [
                "",
                "",
                "",
                "Organization",
                "ABCDEFG HIJKLMN HOSP",
                "1122334460",
                "",
                "",
                "",
                "",
                ""
               ],
               [
                "",
                "",
                "",
                "Individual",
                "TUVWX MNOPQR ",
                "1234567891",
                "PE",
                "",
                "",
                "367500000X",
                ""
               ]
              ],
              [
               "ABCHYI OL POI",
               "Organization"
              ],
              [
               "ABCDEF",
               "ABCDEF CUSTOMER SOLUTIONS",
               [
                [
                 "TE",
                 "9999999999"
                ],
                [
                 "",
                 ""
                ]
               ],
               "Organization"
              ],
              [
               "FAKE CITY",
               "19650101",
               "D8",
               "M",
               "ABCDEFGH IJKLMNOP B",
               "",
               "CA",
               "123 ADDRESS3",
               "18",
               "908021112"
              ]
             ],
             [
              [
               "",
               "",
               "984",
               "ABC111112",
               "D8",
               "",
               "22:B:1",
               "20180713",
               "454"
              ],
              [
               [
                "1",
                "1",
                "984",
                "AA,P3",
                "",
                "00731",
                "HC",
                null,
                "20180713-20180713",
                "RD8",
                "472",
                "24",
                "MJ"
               ],
               [
                "1",
                "1",
                "1353",
                "AA",
                "",
                "00840",
                "HC",
                null,
                "20180713-20180713",
                "RD8",
                "472",
                "62",
                "MJ"
               ],
               [
                "1",
                "1",
                "1230",
                "AA",
                "",
                "00902",
                "HC",
                null,
                "20180713-20180713",
                "RD8",
                "472",
                "65",
                "MJ"
               ],
               [
                "2",
                "2",
                "738",
                "59",
                "",
                "62322",
                "HC",
                null,
                "20180713-20180713",
                "RD8",
                "472",
                "1",
                "UN"
               ]
              ],
              [
               "",
               "",
               "",
               "K219",
               ""
              ],
              [
               "FAKE CITY",
               "19760101",
               "D8",
               "F",
               "ABCDEFGH IJKLMNOP B",
               "",
               "CA",
               "123 ADDRESS7",
               "18",
               "908021117"
              ],
              [
               "2",
               "ABCMMPIO",
               "PI",
               "ABCHYI OL POI"
              ],
              [
               null,
               [
                "FAKE CITY",
                "543211234",
                "EI",
                "Organization",
                "ABCDE EFGHIJ GROUP PC",
                "1222222223",
                "",
                "CA",
                "123 ADDRESS5",
                "",
                "908021115"
               ],
               null,
               null,
               null,
               [
                "",
                "",
                "",
                "Individual",
                "ABCDEFG OPQRST A",
                "1122334460",
                "",
                "",
                "",
                "",
                ""
               ],
               [
                "",
                "",
                "",
                "Organization",
                "ABCDEFG HIJKLMN HOSP",
                "1122334450",
                "",
                "",
                "",
                "",
                ""
               ],
               [
                "",
                "",
                "",
                "Individual",
                "STUVW KLMNOP H",
                "1122334461",
                "PE",
                "",
                "",
                "207L00000X",
                ""
               ]
              ],
              [
               "ABCHYI OL POI",
               "Organization"
              ],
              [
               "ABCDEF",
               "ABCDEF CUSTOMER SOLUTIONS",
               [
                [
                 "TE",
                 "9999999999"
                ],
                [
                 "",
                 ""
                ]
               ],
               "Organization"
              ],
              [
               "FAKE CITY",
               "19760101",
               "D8",
               "F",
               "ABCDEFGH IJKLMNOP B",
               "",
               "CA",
               "123 ADDRESS7",
               "18",
               "908021117"
              ]
             ],
             [
              [
               "",
               "",
               "1353",
               "ABC111113",
               "D8",
               "",
               "22:B:1",
               "20180713",
               "454"
              ],
              [
               [
                "1",
                "1",
                "1353",
                "AA",
                "",
                "00840",
                "HC",
                null,
                "20180713-20180713",
                "RD8",
                "472",
                "62",
                "MJ"
               ],
               [
                "1",
                "1",
                "1230",
                "AA",
                "",
                "00902",
                "HC",
                null,
                "20180713-20180713",
                "RD8",
                "472",
                "65",
                "MJ"
               ],
               [
                "2",
                "2",
                "738",
                "59",
                "",
                "62322",
                "HC",
                null,
                "20180713-20180713",
                "RD8",
                "472",
                "1",
                "UN"
               ]
              ],
              [
               "",
               "",
               "",
               "K4090",
               ""
              ],
              [
               "FAKE CITY",
               "20180409",
               "D8",
               "M",
               "ABCDEFGH IJKLMNOP B",
               "",
               "CA",
               "123 ADDRESS11",
               "18",
               "908021111"
              ],
              [
               "2",
               "YTHF281123456",
               "PI",
               "ABCHYI OL POI"
              ],
              [
               null,
               [
                "FAKE CITY",
                "931013923",
                "EI",
                "Organization",
                "ABCDE EFGHIJ GROUP PC",
                "1477527786",
                "",
                "CA",
                "123 ADDRESS9",
                "",
                "908021119"
               ],
               null,
               null,
               null,
               [
                "",
                "",
                "",
                "Individual",
                "ABCDEFGH OPQRSTU A",
                "1122334456",
                "",
                "",
                "",
                "",
                ""
               ],
               [
                "",
                "",
                "",
                "Organization",
                "ABCDEFG HIJKLMN HOSP",
                "1122334458",
                "",
                "",
                "",
                "",
                ""
               ],
               [
                "",
                "",
                "",
                "Individual",
                "STUVWX KLMNOPQ H",
                "1122334457",
                "PE",
                "",
                "",
                "207L00000X",
                ""
               ]
              ],
              [
               "ABCHYI OL POI",
               "Organization"
              ],
              [
               "ABCDEF",
               "ABCDEF CUSTOMER SOLUTIONS",
               [
                [
                 "TE",
                 "9999999999"
                ],
                [
                 "",
                 ""
                ]
               ],
               "Organization"
              ],
              [
               "FAKE CITY",
               "20180409",
               "D8",
               "M",
               "ABCDEFGH IJKLMNOP B",
               "",
               "CA",
               "123 ADDRESS11",
               "18",
               "908021111"
              ]
             ],
             [
              [
               "",
               "",
               "1968",
               "ABC111114",
               "D8",
               "",
               "22:B:1",
               "20180713",
               "454"
              ],
              [
               [
                "1",
                "1",
                "1230",
                "AA",
                "",
                "00902",
                "HC",
                null,
                "20180713-20180713",
                "RD8",
                "472",
                "65",
                "MJ"
               ],
               [
                "2",
                "2",
                "738",
                "59",
                "",
                "62322",
                "HC",
                null,
                "20180713-20180713",
                "RD8",
                "472",
                "1",
                "UN"
               ]
              ],
              [
               "",
               "",
               "",
               "Q423",
               ""
              ],
              [
               "FAKE CITY",
               "20180504",
               "D8",
               "F",
               "ABCDEFGH IJKLMNOP B",
               "",
               "CA",
               "123 ADDRESS13",
               "18",
               "908021113"
              ],
              [
               "2",
               "YTHF281123456",
               "PI",
               "ABCHYI OL POI"
              ],
              [
               null,
               [
                "FAKE CITY",
                "931013923",
                "EI",
                "Organization",
                "ABCDE EFGHIJ GROUP PC",
                "1477527786",
                "",
                "CA",
                "123 ADDRESS9",
                "",
                "908021119"
               ],
               null,
               null,
               null,
               [
                "",
                "",
                "",
                "Individual",
                "ABCDEFGHI OPQRSTUV A",
                "1122334455",
                "",
                "",
                "",
                "",
                ""
               ],
               [
                "",
                "",
                "",
                "Organization",
                "ABCDEFG HIJKLMN HOSP",
                "1122334457",
                "",
                "",
                "",
                "",
                ""
               ],
               [
                "",
                "",
                "",
                "Individual",
                "STUVWXY KLMNOPQR H",
                "1122334456",
                "PE",
                "",
                "",
                "207L00000X",
                ""
               ]
              ],
              [
               "ABCHYI OL POI",
               "Organization"
              ],
              [
               "ABCDEF",
               "ABCDEF CUSTOMER SOLUTIONS",
               [
                [
                 "TE",
                 "9999999999"
                ],
                [
                 "",
                 ""
                ]
               ],
               "Organization"
              ],
              [
               "FAKE CITY",
               "20180504",
               "D8",
               "F",
               "ABCDEFGH IJKLMNOP B",
               "",
               "CA",
               "123 ADDRESS13",
               "18",
               "908021113"
              ]
             ]
            ],
            "222"
           ]
          ]
         ]
        ],
        [
         "ZZ",
         [
          "421406317",
          "133052274",
          "20180807:12022761",
          "223",
          [
           [
            [
             [
              [
               "1",
               "1",
               "17166.7",
               "TD-R192ICE00087",
               "TM",
               "01",
               "11:A:1",
               "0900",
               "096"
              ],
              [
               [
                "1",
                null,
                "9148",
                "",
                null,
                "",
                "",
                "0124",
                "20180628-20180702",
                "RD8",
                "472",
                "4",
                "UN"
               ],
               [
                "2",
                null,
                "48.1",
                "",
                null,
                "",
                "",
                "0250",
                "20180628-20180702",
                "RD8",
                "472",
                "28",
                "UN"
               ],
               [
                "3",
                null,
                "133",
                "",
                null,
                "",
                "",
                "0260",
                "20180628-20180702",
                "RD8",
                "472",
                "1",
                "UN"
               ],
               [
                "4",
                null,
                "32.9",
                "",
                null,
                "",
                "",
                "0300",
                "20180628-20180702",
                "RD8",
                "472",
                "1",
                "UN"
               ],
               [
                "5",
                null,
                "798.5",
                "",
                null,
                "",
                "",
                "0301",
                "20180628-20180702",
                "RD8",
                "472",
                "4",
                "UN"
               ],
               [
                "6",
                null,
                "200.6",
                "",
                null,
                "",
                "",
                "0305",
                "20180628-20180702",
                "RD8",
                "472",
                "2",
                "UN"
               ],
               [
                "7",
                null,
                "175",
                "",
                null,
                "",
                "",
                "0306",
                "20180628-20180702",
                "RD8",
                "472",
                "1",
                "UN"
               ],
               [
                "8",
                null,
                "113.6",
                "",
                null,
                "",
                "",
                "0307",
                "20180628-20180702",
                "RD8",
                "472",
                "2",
                "UN"
               ],
               [
                "9",
                null,
                "6517",
                "",
                null,
                "",
                "",
                "0351",
                "20180628-20180702",
                "RD8",
                "472",
                "2",
                "UN"
               ]
              ],
              [
               "F39",
               "",
               "F1319",
               "F39",
               ""
              ],
              [
               "Elgin",
               "19960215",
               "D8",
               "F",
               "TEST MEMBER ",
               "",
               "IL",
               "123 MAIN STREET",
               "18",
               "601200001"
              ],
              [
               "2",
               "421406317",
               "PI",
               "CENTENE"
              ],
              [
               [
                "",
                "TD-R192ICE00087",
                "D9",
                "Individual",
                "  ",
                "",
                "",
                "",
                "",
                "",
                ""
               ],
               [
                "WOODSTOCK",
                "999999999",
                "EI",
                "Organization",
                "Test Provider",
                "9999999999",
                "",
                "IL",
                "123 MAIN STREET",
                "",
                "600980000"
               ],
               [
                "",
                "",
                "",
                "Individual",
                "  ",
                "",
                "",
                "",
                "",
                "",
                ""
               ],
               [
                "",
                "",
                "",
                "Individual",
                "  ",
                "",
                "",
                "",
                "",
                "",
                ""
               ],
               [
                "",
                "",
                "",
                "Individual",
                "  ",
                "",
                "",
                "",
                "",
                "",
                ""
               ],
               null,
               null,
               null
              ],
              [
               "CENTENE CORP",
               "Organization"
              ],
              [
               "TALEND",
               "SAMBIT",
               [
                [
                 "TE",
                 "3143202264"
                ],
                [
                 "EX",
                 "8099264"
                ]
               ],
               "Organization"
              ],
              [
               "Elgin",
               "19960215",
               "D8",
               "F",
               "TEST MEMBER ",
               "",
               "IL",
               "123 MAIN STREET",
               "18",
               "601200001"
              ]
             ]
            ],
            "223"
           ]
          ]
         ]
        ],
        [
         "ZZ",
         [
          "XXXXX",
          "XXXXXXX",
          "20170617:1741",
          "222",
          [
           [
            [
             [
              [
               "",
               "",
               "140",
               "1000A",
               "",
               "",
               "19:B:1",
               "",
               ""
              ],
              [
               [
                "1",
                "1",
                "140",
                "",
                "",
                "99213",
                "HC",
                null,
                "20151124",
                "D8",
                "472",
                "1",
                "UN"
               ],
               [
                "1",
                "1",
                "140",
                "",
                "",
                "99213",
                "HC",
                null,
                "20151124",
                "D8",
                "472",
                "1",
                "UN"
               ]
              ],
              [
               "",
               "",
               "",
               "I10",
               ""
              ],
              [
               "CHICAGO",
               "19570111",
               "D8",
               "M",
               "BLOGGS JOE ",
               "",
               "IL",
               "1 SOME BLVD",
               "18",
               "606129998"
              ],
              [
               "2",
               "12345",
               "PI",
               "PAYER"
              ],
              [
               null,
               [
                "CHICAGO",
                "999999999",
                "EI",
                "Organization",
                "BILLING PROVIDER",
                "1122334455",
                "",
                "IL",
                "1234 SOME ROAD",
                "",
                "606739999"
               ],
               null,
               null,
               null,
               [
                "",
                "",
                "",
                "Individual",
                "  ",
                "",
                "",
                "",
                "",
                "",
                ""
               ],
               [
                "",
                "",
                "",
                "Individual",
                "  ",
                "",
                "",
                "",
                "",
                "",
                ""
               ],
               [
                "",
                "",
                "",
                "Individual",
                "  ",
                "",
                "",
                "",
                "",
                "",
                ""
               ]
              ],
              [
               "RECEIVER",
               "Organization"
              ],
              [
               "SUBMITTER",
               "BOB SMITH",
               [
                [
                 "TE",
                 "4805551212"
                ],
                [
                 "",
                 ""
                ]
               ],
               "Organization"
              ],
              [
               "CHICAGO",
               "19570111",
               "D8",
               "M",
               "BLOGGS JOE ",
               "",
               "IL",
               "1 SOME BLVD",
               "18",
               "606129998"
              ]
             ],
             [
              [
               "",
               "",
               "140",
               "1001A",
               "",
               "",
               "19:B:1",
               "",
               ""
              ],
              [
               [
                "1",
                "1",
                "140",
                "",
                "",
                "99213",
                "HC",
                null,
                "20151124",
                "D8",
                "472",
                "1",
                "UN"
               ]
              ],
              [
               "",
               "",
               "",
               "I10",
               ""
              ],
              [
               "CHICAGO",
               "19700601",
               "D8",
               "M",
               "BLOGGS FRED ",
               "",
               "IL",
               "1 ANOTHER STR",
               "18",
               "606129998"
              ],
              [
               "2",
               "12345",
               "PI",
               "PAYER"
              ],
              [
               null,
               [
                "CHICAGO",
                "999999999",
                "EI",
                "Organization",
                "BILLING PROVIDER",
                "1122334455",
                "",
                "IL",
                "1234 SOME ROAD",
                "",
                "606739999"
               ],
               null,
               null,
               null,
               [
                "",
                "",
                "",
                "Individual",
                "  ",
                "",
                "",
                "",
                "",
                "",
                ""
               ],
               [
                "",
                "",
                "",
                "Individual",
                "  ",
                "",
                "",
                "",
                "",
                "",
                ""
               ],
               [
                "",
                "",
                "",
                "Individual",
                "  ",
                "",
                "",
                "",
                "",
                "",
                ""
               ]
              ],
              [
               "RECEIVER",
               "Organization"
              ],
              [
               "SUBMITTER",
               "BOB SMITH",
               [
                [
                 "TE",
                 "4805551212"
                ],
                [
                 "",
                 ""
                ]
               ],
               "Organization"
              ],
              [
               "CHICAGO",
               "19700601",
               "D8",
               "M",
               "BLOGGS FRED ",
               "",
               "IL",
               "1 ANOTHER STR",
               "18",
               "606129998"
              ]
             ]
            ],
            "222"
           ]
          ]
         ]
        ],
        [
         "30",
         [
          "421406317",
          "030240928",
          "20180807:12022605",
          "222",
          [
           [
            [
             [
              [
               "",
               "",
               "600",
               "TD-R192ICE00094",
               "D8",
               "",
               "11:B:1",
               "20180625",
               "435"
              ],
              [
               [
                "1",
                "1:2",
                "300",
                "HO,HQ",
                "11",
                "H0004",
                "HC",
                null,
                "20180625-20180625",
                "RD8",
                "472",
                "12",
                "UN"
               ],
               [
                "2",
                "1:2",
                "300",
                "HO,HQ",
                "11",
                "H0004",
                "HC",
                null,
                "20180629-20180629",
                "RD8",
                "472",
                "12",
                "UN"
               ]
              ],
              [
               "",
               "",
               "",
               "F341",
               ""
              ],
              [
               "Elgin",
               "19960215",
               "D8",
               "F",
               "TEST MEMBER ",
               "",
               "IL",
               "123 MAIN STREET",
               "18",
               "601200001"
              ],
              [
               "2",
               "421406317",
               "PI",
               "CENTENE"
              ],
              [
               null,
               [
                "WOODSTOCK",
                "999999999",
                "EI",
                "Organization",
                "Test Provider",
                "9999999999",
                "",
                "IL",
                "123 MAIN STREET",
                "",
                "600980000"
               ],
               null,
               null,
               null,
               [
                "",
                "",
                "",
                "Individual",
                "  ",
                "",
                "",
                "",
                "",
                "",
                ""
               ],
               [
                "",
                "",
                "",
                "Individual",
                "  ",
                "",
                "",
                "",
                "",
                "",
                ""
               ],
               [
                "",
                "",
                "",
                "Individual",
                "  ",
                "",
                "",
                "",
                "",
                "",
                ""
               ]
              ],
              [
               "Centene Corporation",
               "Organization"
              ],
              [
               "Centene Corporation",
               "Sambit",
               [
                [
                 "TE",
                 "3143202264"
                ],
                [
                 "EX",
                 "8099264"
                ]
               ],
               "Organization"
              ],
              [
               "Elgin",
               "19960215",
               "D8",
               "F",
               "TEST MEMBER ",
               "",
               "IL",
               "123 MAIN STREET",
               "18",
               "601200001"
              ]
             ]
            ],
            "222"
           ]
          ]
         ]
        ]
       ],
       "datasetInfos": [],
       "dbfsResultPath": null,
       "isJsonSchema": true,
       "metadata": {},
       "overflow": false,
       "plotOptions": {
        "customPlotOptions": {},
        "displayType": "table",
        "pivotAggregation": null,
        "pivotColumns": null,
        "xColumns": null,
        "yColumns": null
       },
       "removedWidgets": [],
       "schema": [
        {
         "metadata": "{}",
         "name": "tax_id",
         "type": "\"string\""
        },
        {
         "metadata": "{}",
         "name": "FunctionalGroup",
         "type": "{\"type\":\"struct\",\"fields\":[{\"name\":\"FunctionalGroup.receiver\",\"type\":\"string\",\"nullable\":true,\"metadata\":{}},{\"name\":\"FunctionalGroup.sender\",\"type\":\"string\",\"nullable\":true,\"metadata\":{}},{\"name\":\"FunctionalGroup.transaction_datetime\",\"type\":\"string\",\"nullable\":true,\"metadata\":{}},{\"name\":\"FunctionalGroup.transaction_type\",\"type\":\"string\",\"nullable\":true,\"metadata\":{}},{\"name\":\"Transactions\",\"type\":{\"type\":\"array\",\"elementType\":{\"type\":\"struct\",\"fields\":[{\"name\":\"Claims\",\"type\":{\"type\":\"array\",\"elementType\":{\"type\":\"struct\",\"fields\":[{\"name\":\"claim_header\",\"type\":{\"type\":\"struct\",\"fields\":[{\"name\":\"admission_src_cd\",\"type\":\"string\",\"nullable\":true,\"metadata\":{}},{\"name\":\"admission_type\",\"type\":\"string\",\"nullable\":true,\"metadata\":{}},{\"name\":\"claim_amount\",\"type\":\"string\",\"nullable\":true,\"metadata\":{}},{\"name\":\"claim_id\",\"type\":\"string\",\"nullable\":true,\"metadata\":{}},{\"name\":\"date_format\",\"type\":\"string\",\"nullable\":true,\"metadata\":{}},{\"name\":\"discharge_status_cd\",\"type\":\"string\",\"nullable\":true,\"metadata\":{}},{\"name\":\"facility_type_code\",\"type\":\"string\",\"nullable\":true,\"metadata\":{}},{\"name\":\"service_date\",\"type\":\"string\",\"nullable\":true,\"metadata\":{}},{\"name\":\"service_time\",\"type\":\"string\",\"nullable\":true,\"metadata\":{}}]},\"nullable\":true,\"metadata\":{}},{\"name\":\"claim_lines\",\"type\":{\"type\":\"array\",\"elementType\":{\"type\":\"struct\",\"fields\":[{\"name\":\"claim_line_number\",\"type\":\"string\",\"nullable\":true,\"metadata\":{}},{\"name\":\"dg_cd_pntr\",\"type\":\"string\",\"nullable\":true,\"metadata\":{}},{\"name\":\"line_chrg_amt\",\"type\":\"string\",\"nullable\":true,\"metadata\":{}},{\"name\":\"modifier_cds\",\"type\":\"string\",\"nullable\":true,\"metadata\":{}},{\"name\":\"place_of_service\",\"type\":\"string\",\"nullable\":true,\"metadata\":{}},{\"name\":\"prcdr_cd\",\"type\":\"string\",\"nullable\":true,\"metadata\":{}},{\"name\":\"prcdr_cd_type\",\"type\":\"string\",\"nullable\":true,\"metadata\":{}},{\"name\":\"revenue_cd\",\"type\":\"string\",\"nullable\":true,\"metadata\":{}},{\"name\":\"service_date\",\"type\":\"string\",\"nullable\":true,\"metadata\":{}},{\"name\":\"service_date_format\",\"type\":\"string\",\"nullable\":true,\"metadata\":{}},{\"name\":\"service_time\",\"type\":\"string\",\"nullable\":true,\"metadata\":{}},{\"name\":\"units\",\"type\":\"string\",\"nullable\":true,\"metadata\":{}},{\"name\":\"units_measurement\",\"type\":\"string\",\"nullable\":true,\"metadata\":{}}]},\"containsNull\":true},\"nullable\":true,\"metadata\":{}},{\"name\":\"diagnosis\",\"type\":{\"type\":\"struct\",\"fields\":[{\"name\":\"admitting_dx_cd\",\"type\":\"string\",\"nullable\":true,\"metadata\":{}},{\"name\":\"external_injury_dx_cd\",\"type\":\"string\",\"nullable\":true,\"metadata\":{}},{\"name\":\"other_dx_cds\",\"type\":\"string\",\"nullable\":true,\"metadata\":{}},{\"name\":\"principal_dx_cd\",\"type\":\"string\",\"nullable\":true,\"metadata\":{}},{\"name\":\"reason_visit_dx_cd\",\"type\":\"string\",\"nullable\":true,\"metadata\":{}}]},\"nullable\":true,\"metadata\":{}},{\"name\":\"patient\",\"type\":{\"type\":\"struct\",\"fields\":[{\"name\":\"city\",\"type\":\"string\",\"nullable\":true,\"metadata\":{}},{\"name\":\"dob\",\"type\":\"string\",\"nullable\":true,\"metadata\":{}},{\"name\":\"dob_format\",\"type\":\"string\",\"nullable\":true,\"metadata\":{}},{\"name\":\"gender_cd\",\"type\":\"string\",\"nullable\":true,\"metadata\":{}},{\"name\":\"name\",\"type\":\"string\",\"nullable\":true,\"metadata\":{}},{\"name\":\"patient_relationship_cd\",\"type\":\"string\",\"nullable\":true,\"metadata\":{}},{\"name\":\"state\",\"type\":\"string\",\"nullable\":true,\"metadata\":{}},{\"name\":\"street\",\"type\":\"string\",\"nullable\":true,\"metadata\":{}},{\"name\":\"subscriber_relationship_cd\",\"type\":\"string\",\"nullable\":true,\"metadata\":{}},{\"name\":\"zip\",\"type\":\"string\",\"nullable\":true,\"metadata\":{}}]},\"nullable\":true,\"metadata\":{}},{\"name\":\"payer\",\"type\":{\"type\":\"struct\",\"fields\":[{\"name\":\"business_entity_type\",\"type\":\"string\",\"nullable\":true,\"metadata\":{}},{\"name\":\"payer_identifier\",\"type\":\"string\",\"nullable\":true,\"metadata\":{}},{\"name\":\"payer_identifier_cd\",\"type\":\"string\",\"nullable\":true,\"metadata\":{}},{\"name\":\"payer_name\",\"type\":\"string\",\"nullable\":true,\"metadata\":{}}]},\"nullable\":true,\"metadata\":{}},{\"name\":\"providers\",\"type\":{\"type\":\"struct\",\"fields\":[{\"name\":\"attending\",\"type\":{\"type\":\"struct\",\"fields\":[{\"name\":\"city\",\"type\":\"string\",\"nullable\":true,\"metadata\":{}},{\"name\":\"ein\",\"type\":\"string\",\"nullable\":true,\"metadata\":{}},{\"name\":\"ein_type\",\"type\":\"string\",\"nullable\":true,\"metadata\":{}},{\"name\":\"entity_type\",\"type\":\"string\",\"nullable\":true,\"metadata\":{}},{\"name\":\"name\",\"type\":\"string\",\"nullable\":true,\"metadata\":{}},{\"name\":\"npi\",\"type\":\"string\",\"nullable\":true,\"metadata\":{}},{\"name\":\"provider_role\",\"type\":\"string\",\"nullable\":true,\"metadata\":{}},{\"name\":\"state\",\"type\":\"string\",\"nullable\":true,\"metadata\":{}},{\"name\":\"street\",\"type\":\"string\",\"nullable\":true,\"metadata\":{}},{\"name\":\"taxonomy\",\"type\":\"string\",\"nullable\":true,\"metadata\":{}},{\"name\":\"zip\",\"type\":\"string\",\"nullable\":true,\"metadata\":{}}]},\"nullable\":true,\"metadata\":{}},{\"name\":\"billing\",\"type\":{\"type\":\"struct\",\"fields\":[{\"name\":\"city\",\"type\":\"string\",\"nullable\":true,\"metadata\":{}},{\"name\":\"ein\",\"type\":\"string\",\"nullable\":true,\"metadata\":{}},{\"name\":\"ein_type\",\"type\":\"string\",\"nullable\":true,\"metadata\":{}},{\"name\":\"entity_type\",\"type\":\"string\",\"nullable\":true,\"metadata\":{}},{\"name\":\"name\",\"type\":\"string\",\"nullable\":true,\"metadata\":{}},{\"name\":\"npi\",\"type\":\"string\",\"nullable\":true,\"metadata\":{}},{\"name\":\"provider_role\",\"type\":\"string\",\"nullable\":true,\"metadata\":{}},{\"name\":\"state\",\"type\":\"string\",\"nullable\":true,\"metadata\":{}},{\"name\":\"street\",\"type\":\"string\",\"nullable\":true,\"metadata\":{}},{\"name\":\"taxonomy\",\"type\":\"string\",\"nullable\":true,\"metadata\":{}},{\"name\":\"zip\",\"type\":\"string\",\"nullable\":true,\"metadata\":{}}]},\"nullable\":true,\"metadata\":{}},{\"name\":\"facility\",\"type\":{\"type\":\"struct\",\"fields\":[{\"name\":\"city\",\"type\":\"string\",\"nullable\":true,\"metadata\":{}},{\"name\":\"ein\",\"type\":\"string\",\"nullable\":true,\"metadata\":{}},{\"name\":\"ein_type\",\"type\":\"string\",\"nullable\":true,\"metadata\":{}},{\"name\":\"entity_type\",\"type\":\"string\",\"nullable\":true,\"metadata\":{}},{\"name\":\"name\",\"type\":\"string\",\"nullable\":true,\"metadata\":{}},{\"name\":\"npi\",\"type\":\"string\",\"nullable\":true,\"metadata\":{}},{\"name\":\"provider_role\",\"type\":\"string\",\"nullable\":true,\"metadata\":{}},{\"name\":\"state\",\"type\":\"string\",\"nullable\":true,\"metadata\":{}},{\"name\":\"street\",\"type\":\"string\",\"nullable\":true,\"metadata\":{}},{\"name\":\"taxonomy\",\"type\":\"string\",\"nullable\":true,\"metadata\":{}},{\"name\":\"zip\",\"type\":\"string\",\"nullable\":true,\"metadata\":{}}]},\"nullable\":true,\"metadata\":{}},{\"name\":\"operating\",\"type\":{\"type\":\"struct\",\"fields\":[{\"name\":\"city\",\"type\":\"string\",\"nullable\":true,\"metadata\":{}},{\"name\":\"ein\",\"type\":\"string\",\"nullable\":true,\"metadata\":{}},{\"name\":\"ein_type\",\"type\":\"string\",\"nullable\":true,\"metadata\":{}},{\"name\":\"entity_type\",\"type\":\"string\",\"nullable\":true,\"metadata\":{}},{\"name\":\"name\",\"type\":\"string\",\"nullable\":true,\"metadata\":{}},{\"name\":\"npi\",\"type\":\"string\",\"nullable\":true,\"metadata\":{}},{\"name\":\"provider_role\",\"type\":\"string\",\"nullable\":true,\"metadata\":{}},{\"name\":\"state\",\"type\":\"string\",\"nullable\":true,\"metadata\":{}},{\"name\":\"street\",\"type\":\"string\",\"nullable\":true,\"metadata\":{}},{\"name\":\"taxonomy\",\"type\":\"string\",\"nullable\":true,\"metadata\":{}},{\"name\":\"zip\",\"type\":\"string\",\"nullable\":true,\"metadata\":{}}]},\"nullable\":true,\"metadata\":{}},{\"name\":\"other\",\"type\":{\"type\":\"struct\",\"fields\":[{\"name\":\"city\",\"type\":\"string\",\"nullable\":true,\"metadata\":{}},{\"name\":\"ein\",\"type\":\"string\",\"nullable\":true,\"metadata\":{}},{\"name\":\"ein_type\",\"type\":\"string\",\"nullable\":true,\"metadata\":{}},{\"name\":\"entity_type\",\"type\":\"string\",\"nullable\":true,\"metadata\":{}},{\"name\":\"name\",\"type\":\"string\",\"nullable\":true,\"metadata\":{}},{\"name\":\"npi\",\"type\":\"string\",\"nullable\":true,\"metadata\":{}},{\"name\":\"provider_role\",\"type\":\"string\",\"nullable\":true,\"metadata\":{}},{\"name\":\"state\",\"type\":\"string\",\"nullable\":true,\"metadata\":{}},{\"name\":\"street\",\"type\":\"string\",\"nullable\":true,\"metadata\":{}},{\"name\":\"taxonomy\",\"type\":\"string\",\"nullable\":true,\"metadata\":{}},{\"name\":\"zip\",\"type\":\"string\",\"nullable\":true,\"metadata\":{}}]},\"nullable\":true,\"metadata\":{}},{\"name\":\"referring\",\"type\":{\"type\":\"struct\",\"fields\":[{\"name\":\"city\",\"type\":\"string\",\"nullable\":true,\"metadata\":{}},{\"name\":\"ein\",\"type\":\"string\",\"nullable\":true,\"metadata\":{}},{\"name\":\"ein_type\",\"type\":\"string\",\"nullable\":true,\"metadata\":{}},{\"name\":\"entity_type\",\"type\":\"string\",\"nullable\":true,\"metadata\":{}},{\"name\":\"name\",\"type\":\"string\",\"nullable\":true,\"metadata\":{}},{\"name\":\"npi\",\"type\":\"string\",\"nullable\":true,\"metadata\":{}},{\"name\":\"provider_role\",\"type\":\"string\",\"nullable\":true,\"metadata\":{}},{\"name\":\"state\",\"type\":\"string\",\"nullable\":true,\"metadata\":{}},{\"name\":\"street\",\"type\":\"string\",\"nullable\":true,\"metadata\":{}},{\"name\":\"taxonomy\",\"type\":\"string\",\"nullable\":true,\"metadata\":{}},{\"name\":\"zip\",\"type\":\"string\",\"nullable\":true,\"metadata\":{}}]},\"nullable\":true,\"metadata\":{}},{\"name\":\"service_facility\",\"type\":{\"type\":\"struct\",\"fields\":[{\"name\":\"city\",\"type\":\"string\",\"nullable\":true,\"metadata\":{}},{\"name\":\"ein\",\"type\":\"string\",\"nullable\":true,\"metadata\":{}},{\"name\":\"ein_type\",\"type\":\"string\",\"nullable\":true,\"metadata\":{}},{\"name\":\"entity_type\",\"type\":\"string\",\"nullable\":true,\"metadata\":{}},{\"name\":\"name\",\"type\":\"string\",\"nullable\":true,\"metadata\":{}},{\"name\":\"npi\",\"type\":\"string\",\"nullable\":true,\"metadata\":{}},{\"name\":\"provider_role\",\"type\":\"string\",\"nullable\":true,\"metadata\":{}},{\"name\":\"state\",\"type\":\"string\",\"nullable\":true,\"metadata\":{}},{\"name\":\"street\",\"type\":\"string\",\"nullable\":true,\"metadata\":{}},{\"name\":\"taxonomy\",\"type\":\"string\",\"nullable\":true,\"metadata\":{}},{\"name\":\"zip\",\"type\":\"string\",\"nullable\":true,\"metadata\":{}}]},\"nullable\":true,\"metadata\":{}},{\"name\":\"servicing\",\"type\":{\"type\":\"struct\",\"fields\":[{\"name\":\"city\",\"type\":\"string\",\"nullable\":true,\"metadata\":{}},{\"name\":\"ein\",\"type\":\"string\",\"nullable\":true,\"metadata\":{}},{\"name\":\"ein_type\",\"type\":\"string\",\"nullable\":true,\"metadata\":{}},{\"name\":\"entity_type\",\"type\":\"string\",\"nullable\":true,\"metadata\":{}},{\"name\":\"name\",\"type\":\"string\",\"nullable\":true,\"metadata\":{}},{\"name\":\"npi\",\"type\":\"string\",\"nullable\":true,\"metadata\":{}},{\"name\":\"provider_role\",\"type\":\"string\",\"nullable\":true,\"metadata\":{}},{\"name\":\"state\",\"type\":\"string\",\"nullable\":true,\"metadata\":{}},{\"name\":\"street\",\"type\":\"string\",\"nullable\":true,\"metadata\":{}},{\"name\":\"taxonomy\",\"type\":\"string\",\"nullable\":true,\"metadata\":{}},{\"name\":\"zip\",\"type\":\"string\",\"nullable\":true,\"metadata\":{}}]},\"nullable\":true,\"metadata\":{}}]},\"nullable\":true,\"metadata\":{}},{\"name\":\"receiver\",\"type\":{\"type\":\"struct\",\"fields\":[{\"name\":\"name\",\"type\":\"string\",\"nullable\":true,\"metadata\":{}},{\"name\":\"type\",\"type\":\"string\",\"nullable\":true,\"metadata\":{}}]},\"nullable\":true,\"metadata\":{}},{\"name\":\"submitter\",\"type\":{\"type\":\"struct\",\"fields\":[{\"name\":\"name\",\"type\":\"string\",\"nullable\":true,\"metadata\":{}},{\"name\":\"sbmtter_contact_name\",\"type\":\"string\",\"nullable\":true,\"metadata\":{}},{\"name\":\"sbmtter_contacts\",\"type\":{\"type\":\"array\",\"elementType\":{\"type\":\"array\",\"elementType\":\"string\",\"containsNull\":true},\"containsNull\":true},\"nullable\":true,\"metadata\":{}},{\"name\":\"type\",\"type\":\"string\",\"nullable\":true,\"metadata\":{}}]},\"nullable\":true,\"metadata\":{}},{\"name\":\"subscriber\",\"type\":{\"type\":\"struct\",\"fields\":[{\"name\":\"city\",\"type\":\"string\",\"nullable\":true,\"metadata\":{}},{\"name\":\"dob\",\"type\":\"string\",\"nullable\":true,\"metadata\":{}},{\"name\":\"dob_format\",\"type\":\"string\",\"nullable\":true,\"metadata\":{}},{\"name\":\"gender_cd\",\"type\":\"string\",\"nullable\":true,\"metadata\":{}},{\"name\":\"name\",\"type\":\"string\",\"nullable\":true,\"metadata\":{}},{\"name\":\"patient_relationship_cd\",\"type\":\"string\",\"nullable\":true,\"metadata\":{}},{\"name\":\"state\",\"type\":\"string\",\"nullable\":true,\"metadata\":{}},{\"name\":\"street\",\"type\":\"string\",\"nullable\":true,\"metadata\":{}},{\"name\":\"subscriber_relationship_cd\",\"type\":\"string\",\"nullable\":true,\"metadata\":{}},{\"name\":\"zip\",\"type\":\"string\",\"nullable\":true,\"metadata\":{}}]},\"nullable\":true,\"metadata\":{}}]},\"containsNull\":true},\"nullable\":true,\"metadata\":{}},{\"name\":\"Transaction.transaction_type\",\"type\":\"string\",\"nullable\":true,\"metadata\":{}}]},\"containsNull\":true},\"nullable\":true,\"metadata\":{}}]}"
        }
       ],
       "type": "table"
      }
     },
     "output_type": "display_data"
    }
   ],
   "source": [
    "from pyspark.sql.functions import explode, col\n",
    "from pyspark.sql.types import StructType, ArrayType\n",
    "\n",
    "# Extract FunctionalGroups and Transactions\n",
    "functional_groups_df = edi_data.select(\n",
    "  col(\"`EDI.sender_tax_id`\").alias(\"tax_id\"),\n",
    "  explode(col(\"FuncitonalGroup\")).alias(\"FunctionalGroup\"))\n",
    "\n",
    "display(functional_groups_df)"
   ]
  },
  {
   "cell_type": "code",
   "execution_count": 0,
   "metadata": {
    "application/vnd.databricks.v1+cell": {
     "cellMetadata": {
      "byteLimit": 2048000,
      "rowLimit": 10000
     },
     "inputWidgets": {},
     "nuid": "73764ca9-3d9b-4ce9-9557-02bee86be8f0",
     "showTitle": false,
     "title": ""
    }
   },
   "outputs": [
    {
     "output_type": "display_data",
     "data": {
      "text/html": [
       "<style scoped>\n",
       "  .table-result-container {\n",
       "    max-height: 300px;\n",
       "    overflow: auto;\n",
       "  }\n",
       "  table, th, td {\n",
       "    border: 1px solid black;\n",
       "    border-collapse: collapse;\n",
       "  }\n",
       "  th, td {\n",
       "    padding: 5px;\n",
       "  }\n",
       "  th {\n",
       "    text-align: left;\n",
       "  }\n",
       "</style><div class='table-result-container'><table class='table-result'><thead style='background-color: white'><tr><th>tax_id</th><th>receiver</th><th>sender</th><th>transaction_datetime</th><th>transaction_type</th><th>Transaction</th></tr></thead><tbody><tr><td>ZZ</td><td>123456789</td><td>CLEARINGHOUSE</td><td>20180508:0833</td><td>222</td><td>List(List(List(List(, , 20, 1805080AV3648339, , , 57:B:1, , ), List(List(1, 1, 20, , , H0003, HC, null, 20180428, D8, 472, 1, UN)), List(, , , F1120, ), List(VANCOUVER, 19881225, D8, M, SUBSCRIBER JOHN J, , WA, 987 65TH PL, 18, 986640001), List(2, CHPWA, PI, COMMUNITY HEALTH PLAN OF WASHINGTON), List(null, List(VANCOUVER, 720000000, EI, Organization, BH CLINIC OF VANCOUVER, 1122334455, , WA, 12345 MAIN ST, , 98662), null, null, null, List(, , , Individual,   , , , , , , ), List(, , , Organization, BH CLINIC OF VANCOUVER, 1122334455, , , , , ), List(, , , Individual, PROVIDER JAMES , 1112223338, PE, , , 261QR0405X, )), List(123456789, Organization), List(CLEARINGHOUSE LLC, CLEARINGHOUSE CLIENT SERVICES, List(List(TE, 8005551212), List(FX, 8005551212)), Organization), List(VANCOUVER, 19881225, D8, M, SUBSCRIBER JOHN J, , WA, 987 65TH PL, 18, 986640001))), 222)</td></tr><tr><td>ZZ</td><td>123456789</td><td>CLEARINGHOUSE</td><td>20180508:0833</td><td>222</td><td>List(List(List(List(, , 50.1, 1805080AV3648347, , , 57:B:1, , ), List(List(1, 1:2, 50.1, HF, , 96153, HC, null, 20180426, D8, 472, 6, UN)), List(, , , F1520, ), List(VANCOUVER, 19881031, D8, F, PATIENT SUSAN E, , WA, 765 43RD ST, 18, 986640002), List(2, CHPWA, PI, COMMUNITY HEALTH PLAN OF WASHINGTON), List(null, List(VANCOUVER, 720000000, EI, Organization, BH CLINIC OF VANCOUVER, 1122334455, , WA, 12345 MAIN ST, , 98662), null, null, null, List(, , , Individual,   , , , , , , ), List(, , , Organization, BH CLINIC OF VANCOUVER, 1122334455, , , , , ), List(, , , Individual, PROVIDER SUSAN , 1112223346, PE, , , 261QR0405X, )), List(123456789, Organization), List(CLEARINGHOUSE LLC, CLEARINGHOUSE CLIENT SERVICES, List(List(TE, 8005551212), List(FX, 8005551212)), Organization), List(VANCOUVER, 19881031, D8, F, PATIENT SUSAN E, , WA, 765 43RD ST, 18, 986640002))), 222)</td></tr><tr><td>ZZ</td><td>123456789</td><td>CLEARINGHOUSE</td><td>20180508:0833</td><td>222</td><td>List(List(List(List(, , 11.64, 1805080AV3648340, , , 57:B:1, , ), List(List(1, 1:2, 11.64, HF, , T1017, HC, null, 20180427, D8, 472, 1, UN)), List(, , , F1020, ), List(VANCOUVER, 19881225, D8, M, SUBSCRIBER JOHN J, , WA, 987 65TH PL, 18, 986640001), List(2, CHPWA, PI, COMMUNITY HEALTH PLAN OF WASHINGTON), List(null, List(VANCOUVER, 720000000, EI, Organization, BH CLINIC OF VANCOUVER, 1122334455, , WA, 12345 MAIN ST, , 98662), null, null, null, List(, , , Individual,   , , , , , , ), List(, , , Organization, BH CLINIC OF VANCOUVER, 1122334455, , , , , ), List(, , , Individual, PROVIDER SUSAN , 1112223346, PE, , , 261QR0405X, )), List(123456789, Organization), List(CLEARINGHOUSE LLC, CLEARINGHOUSE CLIENT SERVICES, List(List(TE, 8005551212), List(FX, 8005551212)), Organization), List(VANCOUVER, 19881225, D8, M, SUBSCRIBER JOHN J, , WA, 987 65TH PL, 18, 986640001))), 222)</td></tr><tr><td>ZZ</td><td>123456789</td><td>CLEARINGHOUSE</td><td>20180508:0833</td><td>222</td><td>List(List(List(List(, , 234, 1805080AV3648353, , , 53:B:1, , ), List(List(1, 1, 234, , , 90853, HC, null, 20180427, D8, 472, 120, UN)), List(, , , F251, ), List(VANCOUVER, 19881031, D8, F, PATIENT SUSAN E, , WA, 765 43RD ST, 18, 986640002), List(2, CHPWA, PI, COMMUNITY HEALTH PLAN OF WASHINGTON), List(null, List(VANCOUVER, 720000000, EI, Organization, BH CLINIC OF VANCOUVER, 1122334455, , WA, 12345 MAIN ST, , 98662), null, null, null, List(, , , Individual,   , , , , , , ), List(, , , Organization, BH CLINIC OF VANCOUVER, 1122334455, , , , , ), List(, , , Individual, PROVIDER SUSAN , 1112223346, PE, , , 251S00000X, )), List(123456789, Organization), List(CLEARINGHOUSE LLC, CLEARINGHOUSE CLIENT SERVICES, List(List(TE, 8005551212), List(FX, 8005551212)), Organization), List(VANCOUVER, 19881031, D8, F, PATIENT SUSAN E, , WA, 765 43RD ST, 18, 986640002))), 222)</td></tr><tr><td>ZZ</td><td>123456789</td><td>CLEARINGHOUSE</td><td>20180508:0833</td><td>222</td><td>List(List(List(List(, , 20, 1805080AV3648355, , , 57:B:1, , ), List(List(1, 1:2, 20, , , H0003, HC, null, 20180427, D8, 472, 1, UN)), List(, , , F1020, ), List(VANCOUVER, 19881225, D8, M, SUBSCRIBER JOHN J, , WA, 987 65TH PL, 18, 986640001), List(2, CHPWA, PI, COMMUNITY HEALTH PLAN OF WASHINGTON), List(null, List(VANCOUVER, 720000000, EI, Organization, BH CLINIC OF VANCOUVER, 1122334455, , WA, 12345 MAIN ST, , 98662), null, null, null, List(, , , Individual,   , , , , , , ), List(, , , Organization, BH CLINIC OF VANCOUVER, 1122334455, , , , , ), List(, , , Individual, PROVIDER JAMES , 1112223338, PE, , , 261QR0405X, )), List(123456789, Organization), List(CLEARINGHOUSE LLC, CLEARINGHOUSE CLIENT SERVICES, List(List(TE, 8005551212), List(FX, 8005551212)), Organization), List(VANCOUVER, 19881225, D8, M, SUBSCRIBER JOHN J, , WA, 987 65TH PL, 18, 986640001))), 222)</td></tr><tr><td>ZZ</td><td>OO000011111</td><td>000000005D</td><td>20180710:214339</td><td>222</td><td>List(List(List(List(, , 1800, ABC11111, D8, , 22:B:1, 20180123, 454), List(List(1, 1, 1800, QZ, , 01710, HC, null, 20180123-20180123, RD8, 472, 88, MJ), List(1, 1, 984, AA,P3, , 00731, HC, null, 20180713-20180713, RD8, 472, 24, MJ), List(1, 1, 1353, AA, , 00840, HC, null, 20180713-20180713, RD8, 472, 62, MJ), List(1, 1, 1230, AA, , 00902, HC, null, 20180713-20180713, RD8, 472, 65, MJ), List(2, 2, 738, 59, , 62322, HC, null, 20180713-20180713, RD8, 472, 1, UN)), List(, , , G5621, ), List(FAKE CITY, 19650101, D8, M, ABCDEFGH IJKLMNOP B, , CA, 123 ADDRESS3, 18, 908021112), List(2, ABCMMPIO, PI, ABCHYI OL POI), List(null, List(FAKE CITY, 123456789, EI, Organization, YYYY HEALTHCARE ABC, 1222222220, , NY, 123 ADDRESS1, , 908021112), null, null, null, List(, , , Individual, ABCD STUVW , 1234567890, , , , , ), List(, , , Organization, ABCDEFG HIJKLMN HOSP, 1122334460, , , , , ), List(, , , Individual, TUVWX MNOPQR , 1234567891, PE, , , 367500000X, )), List(ABCHYI OL POI, Organization), List(ABCDEF, ABCDEF CUSTOMER SOLUTIONS, List(List(TE, 9999999999), List(, )), Organization), List(FAKE CITY, 19650101, D8, M, ABCDEFGH IJKLMNOP B, , CA, 123 ADDRESS3, 18, 908021112)), List(List(, , 984, ABC111112, D8, , 22:B:1, 20180713, 454), List(List(1, 1, 984, AA,P3, , 00731, HC, null, 20180713-20180713, RD8, 472, 24, MJ), List(1, 1, 1353, AA, , 00840, HC, null, 20180713-20180713, RD8, 472, 62, MJ), List(1, 1, 1230, AA, , 00902, HC, null, 20180713-20180713, RD8, 472, 65, MJ), List(2, 2, 738, 59, , 62322, HC, null, 20180713-20180713, RD8, 472, 1, UN)), List(, , , K219, ), List(FAKE CITY, 19760101, D8, F, ABCDEFGH IJKLMNOP B, , CA, 123 ADDRESS7, 18, 908021117), List(2, ABCMMPIO, PI, ABCHYI OL POI), List(null, List(FAKE CITY, 543211234, EI, Organization, ABCDE EFGHIJ GROUP PC, 1222222223, , CA, 123 ADDRESS5, , 908021115), null, null, null, List(, , , Individual, ABCDEFG OPQRST A, 1122334460, , , , , ), List(, , , Organization, ABCDEFG HIJKLMN HOSP, 1122334450, , , , , ), List(, , , Individual, STUVW KLMNOP H, 1122334461, PE, , , 207L00000X, )), List(ABCHYI OL POI, Organization), List(ABCDEF, ABCDEF CUSTOMER SOLUTIONS, List(List(TE, 9999999999), List(, )), Organization), List(FAKE CITY, 19760101, D8, F, ABCDEFGH IJKLMNOP B, , CA, 123 ADDRESS7, 18, 908021117)), List(List(, , 1353, ABC111113, D8, , 22:B:1, 20180713, 454), List(List(1, 1, 1353, AA, , 00840, HC, null, 20180713-20180713, RD8, 472, 62, MJ), List(1, 1, 1230, AA, , 00902, HC, null, 20180713-20180713, RD8, 472, 65, MJ), List(2, 2, 738, 59, , 62322, HC, null, 20180713-20180713, RD8, 472, 1, UN)), List(, , , K4090, ), List(FAKE CITY, 20180409, D8, M, ABCDEFGH IJKLMNOP B, , CA, 123 ADDRESS11, 18, 908021111), List(2, YTHF281123456, PI, ABCHYI OL POI), List(null, List(FAKE CITY, 931013923, EI, Organization, ABCDE EFGHIJ GROUP PC, 1477527786, , CA, 123 ADDRESS9, , 908021119), null, null, null, List(, , , Individual, ABCDEFGH OPQRSTU A, 1122334456, , , , , ), List(, , , Organization, ABCDEFG HIJKLMN HOSP, 1122334458, , , , , ), List(, , , Individual, STUVWX KLMNOPQ H, 1122334457, PE, , , 207L00000X, )), List(ABCHYI OL POI, Organization), List(ABCDEF, ABCDEF CUSTOMER SOLUTIONS, List(List(TE, 9999999999), List(, )), Organization), List(FAKE CITY, 20180409, D8, M, ABCDEFGH IJKLMNOP B, , CA, 123 ADDRESS11, 18, 908021111)), List(List(, , 1968, ABC111114, D8, , 22:B:1, 20180713, 454), List(List(1, 1, 1230, AA, , 00902, HC, null, 20180713-20180713, RD8, 472, 65, MJ), List(2, 2, 738, 59, , 62322, HC, null, 20180713-20180713, RD8, 472, 1, UN)), List(, , , Q423, ), List(FAKE CITY, 20180504, D8, F, ABCDEFGH IJKLMNOP B, , CA, 123 ADDRESS13, 18, 908021113), List(2, YTHF281123456, PI, ABCHYI OL POI), List(null, List(FAKE CITY, 931013923, EI, Organization, ABCDE EFGHIJ GROUP PC, 1477527786, , CA, 123 ADDRESS9, , 908021119), null, null, null, List(, , , Individual, ABCDEFGHI OPQRSTUV A, 1122334455, , , , , ), List(, , , Organization, ABCDEFG HIJKLMN HOSP, 1122334457, , , , , ), List(, , , Individual, STUVWXY KLMNOPQR H, 1122334456, PE, , , 207L00000X, )), List(ABCHYI OL POI, Organization), List(ABCDEF, ABCDEF CUSTOMER SOLUTIONS, List(List(TE, 9999999999), List(, )), Organization), List(FAKE CITY, 20180504, D8, F, ABCDEFGH IJKLMNOP B, , CA, 123 ADDRESS13, 18, 908021113))), 222)</td></tr><tr><td>ZZ</td><td>421406317</td><td>133052274</td><td>20180807:12022761</td><td>223</td><td>List(List(List(List(1, 1, 17166.7, TD-R192ICE00087, TM, 01, 11:A:1, 0900, 096), List(List(1, null, 9148, , null, , , 0124, 20180628-20180702, RD8, 472, 4, UN), List(2, null, 48.1, , null, , , 0250, 20180628-20180702, RD8, 472, 28, UN), List(3, null, 133, , null, , , 0260, 20180628-20180702, RD8, 472, 1, UN), List(4, null, 32.9, , null, , , 0300, 20180628-20180702, RD8, 472, 1, UN), List(5, null, 798.5, , null, , , 0301, 20180628-20180702, RD8, 472, 4, UN), List(6, null, 200.6, , null, , , 0305, 20180628-20180702, RD8, 472, 2, UN), List(7, null, 175, , null, , , 0306, 20180628-20180702, RD8, 472, 1, UN), List(8, null, 113.6, , null, , , 0307, 20180628-20180702, RD8, 472, 2, UN), List(9, null, 6517, , null, , , 0351, 20180628-20180702, RD8, 472, 2, UN)), List(F39, , F1319, F39, ), List(Elgin, 19960215, D8, F, TEST MEMBER , , IL, 123 MAIN STREET, 18, 601200001), List(2, 421406317, PI, CENTENE), List(List(, TD-R192ICE00087, D9, Individual,   , , , , , , ), List(WOODSTOCK, 999999999, EI, Organization, Test Provider, 9999999999, , IL, 123 MAIN STREET, , 600980000), List(, , , Individual,   , , , , , , ), List(, , , Individual,   , , , , , , ), List(, , , Individual,   , , , , , , ), null, null, null), List(CENTENE CORP, Organization), List(TALEND, SAMBIT, List(List(TE, 3143202264), List(EX, 8099264)), Organization), List(Elgin, 19960215, D8, F, TEST MEMBER , , IL, 123 MAIN STREET, 18, 601200001))), 223)</td></tr><tr><td>ZZ</td><td>XXXXX</td><td>XXXXXXX</td><td>20170617:1741</td><td>222</td><td>List(List(List(List(, , 140, 1000A, , , 19:B:1, , ), List(List(1, 1, 140, , , 99213, HC, null, 20151124, D8, 472, 1, UN), List(1, 1, 140, , , 99213, HC, null, 20151124, D8, 472, 1, UN)), List(, , , I10, ), List(CHICAGO, 19570111, D8, M, BLOGGS JOE , , IL, 1 SOME BLVD, 18, 606129998), List(2, 12345, PI, PAYER), List(null, List(CHICAGO, 999999999, EI, Organization, BILLING PROVIDER, 1122334455, , IL, 1234 SOME ROAD, , 606739999), null, null, null, List(, , , Individual,   , , , , , , ), List(, , , Individual,   , , , , , , ), List(, , , Individual,   , , , , , , )), List(RECEIVER, Organization), List(SUBMITTER, BOB SMITH, List(List(TE, 4805551212), List(, )), Organization), List(CHICAGO, 19570111, D8, M, BLOGGS JOE , , IL, 1 SOME BLVD, 18, 606129998)), List(List(, , 140, 1001A, , , 19:B:1, , ), List(List(1, 1, 140, , , 99213, HC, null, 20151124, D8, 472, 1, UN)), List(, , , I10, ), List(CHICAGO, 19700601, D8, M, BLOGGS FRED , , IL, 1 ANOTHER STR, 18, 606129998), List(2, 12345, PI, PAYER), List(null, List(CHICAGO, 999999999, EI, Organization, BILLING PROVIDER, 1122334455, , IL, 1234 SOME ROAD, , 606739999), null, null, null, List(, , , Individual,   , , , , , , ), List(, , , Individual,   , , , , , , ), List(, , , Individual,   , , , , , , )), List(RECEIVER, Organization), List(SUBMITTER, BOB SMITH, List(List(TE, 4805551212), List(, )), Organization), List(CHICAGO, 19700601, D8, M, BLOGGS FRED , , IL, 1 ANOTHER STR, 18, 606129998))), 222)</td></tr><tr><td>30</td><td>421406317</td><td>030240928</td><td>20180807:12022605</td><td>222</td><td>List(List(List(List(, , 600, TD-R192ICE00094, D8, , 11:B:1, 20180625, 435), List(List(1, 1:2, 300, HO,HQ, 11, H0004, HC, null, 20180625-20180625, RD8, 472, 12, UN), List(2, 1:2, 300, HO,HQ, 11, H0004, HC, null, 20180629-20180629, RD8, 472, 12, UN)), List(, , , F341, ), List(Elgin, 19960215, D8, F, TEST MEMBER , , IL, 123 MAIN STREET, 18, 601200001), List(2, 421406317, PI, CENTENE), List(null, List(WOODSTOCK, 999999999, EI, Organization, Test Provider, 9999999999, , IL, 123 MAIN STREET, , 600980000), null, null, null, List(, , , Individual,   , , , , , , ), List(, , , Individual,   , , , , , , ), List(, , , Individual,   , , , , , , )), List(Centene Corporation, Organization), List(Centene Corporation, Sambit, List(List(TE, 3143202264), List(EX, 8099264)), Organization), List(Elgin, 19960215, D8, F, TEST MEMBER , , IL, 123 MAIN STREET, 18, 601200001))), 222)</td></tr></tbody></table></div>"
      ]
     },
     "metadata": {
      "application/vnd.databricks.v1+output": {
       "addedWidgets": {},
       "aggData": [],
       "aggError": "",
       "aggOverflow": false,
       "aggSchema": [],
       "aggSeriesLimitReached": false,
       "aggType": "",
       "arguments": {},
       "columnCustomDisplayInfos": {},
       "data": [
        [
         "ZZ",
         "123456789",
         "CLEARINGHOUSE",
         "20180508:0833",
         "222",
         [
          [
           [
            [
             "",
             "",
             "20",
             "1805080AV3648339",
             "",
             "",
             "57:B:1",
             "",
             ""
            ],
            [
             [
              "1",
              "1",
              "20",
              "",
              "",
              "H0003",
              "HC",
              null,
              "20180428",
              "D8",
              "472",
              "1",
              "UN"
             ]
            ],
            [
             "",
             "",
             "",
             "F1120",
             ""
            ],
            [
             "VANCOUVER",
             "19881225",
             "D8",
             "M",
             "SUBSCRIBER JOHN J",
             "",
             "WA",
             "987 65TH PL",
             "18",
             "986640001"
            ],
            [
             "2",
             "CHPWA",
             "PI",
             "COMMUNITY HEALTH PLAN OF WASHINGTON"
            ],
            [
             null,
             [
              "VANCOUVER",
              "720000000",
              "EI",
              "Organization",
              "BH CLINIC OF VANCOUVER",
              "1122334455",
              "",
              "WA",
              "12345 MAIN ST",
              "",
              "98662"
             ],
             null,
             null,
             null,
             [
              "",
              "",
              "",
              "Individual",
              "  ",
              "",
              "",
              "",
              "",
              "",
              ""
             ],
             [
              "",
              "",
              "",
              "Organization",
              "BH CLINIC OF VANCOUVER",
              "1122334455",
              "",
              "",
              "",
              "",
              ""
             ],
             [
              "",
              "",
              "",
              "Individual",
              "PROVIDER JAMES ",
              "1112223338",
              "PE",
              "",
              "",
              "261QR0405X",
              ""
             ]
            ],
            [
             "123456789",
             "Organization"
            ],
            [
             "CLEARINGHOUSE LLC",
             "CLEARINGHOUSE CLIENT SERVICES",
             [
              [
               "TE",
               "8005551212"
              ],
              [
               "FX",
               "8005551212"
              ]
             ],
             "Organization"
            ],
            [
             "VANCOUVER",
             "19881225",
             "D8",
             "M",
             "SUBSCRIBER JOHN J",
             "",
             "WA",
             "987 65TH PL",
             "18",
             "986640001"
            ]
           ]
          ],
          "222"
         ]
        ],
        [
         "ZZ",
         "123456789",
         "CLEARINGHOUSE",
         "20180508:0833",
         "222",
         [
          [
           [
            [
             "",
             "",
             "50.1",
             "1805080AV3648347",
             "",
             "",
             "57:B:1",
             "",
             ""
            ],
            [
             [
              "1",
              "1:2",
              "50.1",
              "HF",
              "",
              "96153",
              "HC",
              null,
              "20180426",
              "D8",
              "472",
              "6",
              "UN"
             ]
            ],
            [
             "",
             "",
             "",
             "F1520",
             ""
            ],
            [
             "VANCOUVER",
             "19881031",
             "D8",
             "F",
             "PATIENT SUSAN E",
             "",
             "WA",
             "765 43RD ST",
             "18",
             "986640002"
            ],
            [
             "2",
             "CHPWA",
             "PI",
             "COMMUNITY HEALTH PLAN OF WASHINGTON"
            ],
            [
             null,
             [
              "VANCOUVER",
              "720000000",
              "EI",
              "Organization",
              "BH CLINIC OF VANCOUVER",
              "1122334455",
              "",
              "WA",
              "12345 MAIN ST",
              "",
              "98662"
             ],
             null,
             null,
             null,
             [
              "",
              "",
              "",
              "Individual",
              "  ",
              "",
              "",
              "",
              "",
              "",
              ""
             ],
             [
              "",
              "",
              "",
              "Organization",
              "BH CLINIC OF VANCOUVER",
              "1122334455",
              "",
              "",
              "",
              "",
              ""
             ],
             [
              "",
              "",
              "",
              "Individual",
              "PROVIDER SUSAN ",
              "1112223346",
              "PE",
              "",
              "",
              "261QR0405X",
              ""
             ]
            ],
            [
             "123456789",
             "Organization"
            ],
            [
             "CLEARINGHOUSE LLC",
             "CLEARINGHOUSE CLIENT SERVICES",
             [
              [
               "TE",
               "8005551212"
              ],
              [
               "FX",
               "8005551212"
              ]
             ],
             "Organization"
            ],
            [
             "VANCOUVER",
             "19881031",
             "D8",
             "F",
             "PATIENT SUSAN E",
             "",
             "WA",
             "765 43RD ST",
             "18",
             "986640002"
            ]
           ]
          ],
          "222"
         ]
        ],
        [
         "ZZ",
         "123456789",
         "CLEARINGHOUSE",
         "20180508:0833",
         "222",
         [
          [
           [
            [
             "",
             "",
             "11.64",
             "1805080AV3648340",
             "",
             "",
             "57:B:1",
             "",
             ""
            ],
            [
             [
              "1",
              "1:2",
              "11.64",
              "HF",
              "",
              "T1017",
              "HC",
              null,
              "20180427",
              "D8",
              "472",
              "1",
              "UN"
             ]
            ],
            [
             "",
             "",
             "",
             "F1020",
             ""
            ],
            [
             "VANCOUVER",
             "19881225",
             "D8",
             "M",
             "SUBSCRIBER JOHN J",
             "",
             "WA",
             "987 65TH PL",
             "18",
             "986640001"
            ],
            [
             "2",
             "CHPWA",
             "PI",
             "COMMUNITY HEALTH PLAN OF WASHINGTON"
            ],
            [
             null,
             [
              "VANCOUVER",
              "720000000",
              "EI",
              "Organization",
              "BH CLINIC OF VANCOUVER",
              "1122334455",
              "",
              "WA",
              "12345 MAIN ST",
              "",
              "98662"
             ],
             null,
             null,
             null,
             [
              "",
              "",
              "",
              "Individual",
              "  ",
              "",
              "",
              "",
              "",
              "",
              ""
             ],
             [
              "",
              "",
              "",
              "Organization",
              "BH CLINIC OF VANCOUVER",
              "1122334455",
              "",
              "",
              "",
              "",
              ""
             ],
             [
              "",
              "",
              "",
              "Individual",
              "PROVIDER SUSAN ",
              "1112223346",
              "PE",
              "",
              "",
              "261QR0405X",
              ""
             ]
            ],
            [
             "123456789",
             "Organization"
            ],
            [
             "CLEARINGHOUSE LLC",
             "CLEARINGHOUSE CLIENT SERVICES",
             [
              [
               "TE",
               "8005551212"
              ],
              [
               "FX",
               "8005551212"
              ]
             ],
             "Organization"
            ],
            [
             "VANCOUVER",
             "19881225",
             "D8",
             "M",
             "SUBSCRIBER JOHN J",
             "",
             "WA",
             "987 65TH PL",
             "18",
             "986640001"
            ]
           ]
          ],
          "222"
         ]
        ],
        [
         "ZZ",
         "123456789",
         "CLEARINGHOUSE",
         "20180508:0833",
         "222",
         [
          [
           [
            [
             "",
             "",
             "234",
             "1805080AV3648353",
             "",
             "",
             "53:B:1",
             "",
             ""
            ],
            [
             [
              "1",
              "1",
              "234",
              "",
              "",
              "90853",
              "HC",
              null,
              "20180427",
              "D8",
              "472",
              "120",
              "UN"
             ]
            ],
            [
             "",
             "",
             "",
             "F251",
             ""
            ],
            [
             "VANCOUVER",
             "19881031",
             "D8",
             "F",
             "PATIENT SUSAN E",
             "",
             "WA",
             "765 43RD ST",
             "18",
             "986640002"
            ],
            [
             "2",
             "CHPWA",
             "PI",
             "COMMUNITY HEALTH PLAN OF WASHINGTON"
            ],
            [
             null,
             [
              "VANCOUVER",
              "720000000",
              "EI",
              "Organization",
              "BH CLINIC OF VANCOUVER",
              "1122334455",
              "",
              "WA",
              "12345 MAIN ST",
              "",
              "98662"
             ],
             null,
             null,
             null,
             [
              "",
              "",
              "",
              "Individual",
              "  ",
              "",
              "",
              "",
              "",
              "",
              ""
             ],
             [
              "",
              "",
              "",
              "Organization",
              "BH CLINIC OF VANCOUVER",
              "1122334455",
              "",
              "",
              "",
              "",
              ""
             ],
             [
              "",
              "",
              "",
              "Individual",
              "PROVIDER SUSAN ",
              "1112223346",
              "PE",
              "",
              "",
              "251S00000X",
              ""
             ]
            ],
            [
             "123456789",
             "Organization"
            ],
            [
             "CLEARINGHOUSE LLC",
             "CLEARINGHOUSE CLIENT SERVICES",
             [
              [
               "TE",
               "8005551212"
              ],
              [
               "FX",
               "8005551212"
              ]
             ],
             "Organization"
            ],
            [
             "VANCOUVER",
             "19881031",
             "D8",
             "F",
             "PATIENT SUSAN E",
             "",
             "WA",
             "765 43RD ST",
             "18",
             "986640002"
            ]
           ]
          ],
          "222"
         ]
        ],
        [
         "ZZ",
         "123456789",
         "CLEARINGHOUSE",
         "20180508:0833",
         "222",
         [
          [
           [
            [
             "",
             "",
             "20",
             "1805080AV3648355",
             "",
             "",
             "57:B:1",
             "",
             ""
            ],
            [
             [
              "1",
              "1:2",
              "20",
              "",
              "",
              "H0003",
              "HC",
              null,
              "20180427",
              "D8",
              "472",
              "1",
              "UN"
             ]
            ],
            [
             "",
             "",
             "",
             "F1020",
             ""
            ],
            [
             "VANCOUVER",
             "19881225",
             "D8",
             "M",
             "SUBSCRIBER JOHN J",
             "",
             "WA",
             "987 65TH PL",
             "18",
             "986640001"
            ],
            [
             "2",
             "CHPWA",
             "PI",
             "COMMUNITY HEALTH PLAN OF WASHINGTON"
            ],
            [
             null,
             [
              "VANCOUVER",
              "720000000",
              "EI",
              "Organization",
              "BH CLINIC OF VANCOUVER",
              "1122334455",
              "",
              "WA",
              "12345 MAIN ST",
              "",
              "98662"
             ],
             null,
             null,
             null,
             [
              "",
              "",
              "",
              "Individual",
              "  ",
              "",
              "",
              "",
              "",
              "",
              ""
             ],
             [
              "",
              "",
              "",
              "Organization",
              "BH CLINIC OF VANCOUVER",
              "1122334455",
              "",
              "",
              "",
              "",
              ""
             ],
             [
              "",
              "",
              "",
              "Individual",
              "PROVIDER JAMES ",
              "1112223338",
              "PE",
              "",
              "",
              "261QR0405X",
              ""
             ]
            ],
            [
             "123456789",
             "Organization"
            ],
            [
             "CLEARINGHOUSE LLC",
             "CLEARINGHOUSE CLIENT SERVICES",
             [
              [
               "TE",
               "8005551212"
              ],
              [
               "FX",
               "8005551212"
              ]
             ],
             "Organization"
            ],
            [
             "VANCOUVER",
             "19881225",
             "D8",
             "M",
             "SUBSCRIBER JOHN J",
             "",
             "WA",
             "987 65TH PL",
             "18",
             "986640001"
            ]
           ]
          ],
          "222"
         ]
        ],
        [
         "ZZ",
         "OO000011111",
         "000000005D",
         "20180710:214339",
         "222",
         [
          [
           [
            [
             "",
             "",
             "1800",
             "ABC11111",
             "D8",
             "",
             "22:B:1",
             "20180123",
             "454"
            ],
            [
             [
              "1",
              "1",
              "1800",
              "QZ",
              "",
              "01710",
              "HC",
              null,
              "20180123-20180123",
              "RD8",
              "472",
              "88",
              "MJ"
             ],
             [
              "1",
              "1",
              "984",
              "AA,P3",
              "",
              "00731",
              "HC",
              null,
              "20180713-20180713",
              "RD8",
              "472",
              "24",
              "MJ"
             ],
             [
              "1",
              "1",
              "1353",
              "AA",
              "",
              "00840",
              "HC",
              null,
              "20180713-20180713",
              "RD8",
              "472",
              "62",
              "MJ"
             ],
             [
              "1",
              "1",
              "1230",
              "AA",
              "",
              "00902",
              "HC",
              null,
              "20180713-20180713",
              "RD8",
              "472",
              "65",
              "MJ"
             ],
             [
              "2",
              "2",
              "738",
              "59",
              "",
              "62322",
              "HC",
              null,
              "20180713-20180713",
              "RD8",
              "472",
              "1",
              "UN"
             ]
            ],
            [
             "",
             "",
             "",
             "G5621",
             ""
            ],
            [
             "FAKE CITY",
             "19650101",
             "D8",
             "M",
             "ABCDEFGH IJKLMNOP B",
             "",
             "CA",
             "123 ADDRESS3",
             "18",
             "908021112"
            ],
            [
             "2",
             "ABCMMPIO",
             "PI",
             "ABCHYI OL POI"
            ],
            [
             null,
             [
              "FAKE CITY",
              "123456789",
              "EI",
              "Organization",
              "YYYY HEALTHCARE ABC",
              "1222222220",
              "",
              "NY",
              "123 ADDRESS1",
              "",
              "908021112"
             ],
             null,
             null,
             null,
             [
              "",
              "",
              "",
              "Individual",
              "ABCD STUVW ",
              "1234567890",
              "",
              "",
              "",
              "",
              ""
             ],
             [
              "",
              "",
              "",
              "Organization",
              "ABCDEFG HIJKLMN HOSP",
              "1122334460",
              "",
              "",
              "",
              "",
              ""
             ],
             [
              "",
              "",
              "",
              "Individual",
              "TUVWX MNOPQR ",
              "1234567891",
              "PE",
              "",
              "",
              "367500000X",
              ""
             ]
            ],
            [
             "ABCHYI OL POI",
             "Organization"
            ],
            [
             "ABCDEF",
             "ABCDEF CUSTOMER SOLUTIONS",
             [
              [
               "TE",
               "9999999999"
              ],
              [
               "",
               ""
              ]
             ],
             "Organization"
            ],
            [
             "FAKE CITY",
             "19650101",
             "D8",
             "M",
             "ABCDEFGH IJKLMNOP B",
             "",
             "CA",
             "123 ADDRESS3",
             "18",
             "908021112"
            ]
           ],
           [
            [
             "",
             "",
             "984",
             "ABC111112",
             "D8",
             "",
             "22:B:1",
             "20180713",
             "454"
            ],
            [
             [
              "1",
              "1",
              "984",
              "AA,P3",
              "",
              "00731",
              "HC",
              null,
              "20180713-20180713",
              "RD8",
              "472",
              "24",
              "MJ"
             ],
             [
              "1",
              "1",
              "1353",
              "AA",
              "",
              "00840",
              "HC",
              null,
              "20180713-20180713",
              "RD8",
              "472",
              "62",
              "MJ"
             ],
             [
              "1",
              "1",
              "1230",
              "AA",
              "",
              "00902",
              "HC",
              null,
              "20180713-20180713",
              "RD8",
              "472",
              "65",
              "MJ"
             ],
             [
              "2",
              "2",
              "738",
              "59",
              "",
              "62322",
              "HC",
              null,
              "20180713-20180713",
              "RD8",
              "472",
              "1",
              "UN"
             ]
            ],
            [
             "",
             "",
             "",
             "K219",
             ""
            ],
            [
             "FAKE CITY",
             "19760101",
             "D8",
             "F",
             "ABCDEFGH IJKLMNOP B",
             "",
             "CA",
             "123 ADDRESS7",
             "18",
             "908021117"
            ],
            [
             "2",
             "ABCMMPIO",
             "PI",
             "ABCHYI OL POI"
            ],
            [
             null,
             [
              "FAKE CITY",
              "543211234",
              "EI",
              "Organization",
              "ABCDE EFGHIJ GROUP PC",
              "1222222223",
              "",
              "CA",
              "123 ADDRESS5",
              "",
              "908021115"
             ],
             null,
             null,
             null,
             [
              "",
              "",
              "",
              "Individual",
              "ABCDEFG OPQRST A",
              "1122334460",
              "",
              "",
              "",
              "",
              ""
             ],
             [
              "",
              "",
              "",
              "Organization",
              "ABCDEFG HIJKLMN HOSP",
              "1122334450",
              "",
              "",
              "",
              "",
              ""
             ],
             [
              "",
              "",
              "",
              "Individual",
              "STUVW KLMNOP H",
              "1122334461",
              "PE",
              "",
              "",
              "207L00000X",
              ""
             ]
            ],
            [
             "ABCHYI OL POI",
             "Organization"
            ],
            [
             "ABCDEF",
             "ABCDEF CUSTOMER SOLUTIONS",
             [
              [
               "TE",
               "9999999999"
              ],
              [
               "",
               ""
              ]
             ],
             "Organization"
            ],
            [
             "FAKE CITY",
             "19760101",
             "D8",
             "F",
             "ABCDEFGH IJKLMNOP B",
             "",
             "CA",
             "123 ADDRESS7",
             "18",
             "908021117"
            ]
           ],
           [
            [
             "",
             "",
             "1353",
             "ABC111113",
             "D8",
             "",
             "22:B:1",
             "20180713",
             "454"
            ],
            [
             [
              "1",
              "1",
              "1353",
              "AA",
              "",
              "00840",
              "HC",
              null,
              "20180713-20180713",
              "RD8",
              "472",
              "62",
              "MJ"
             ],
             [
              "1",
              "1",
              "1230",
              "AA",
              "",
              "00902",
              "HC",
              null,
              "20180713-20180713",
              "RD8",
              "472",
              "65",
              "MJ"
             ],
             [
              "2",
              "2",
              "738",
              "59",
              "",
              "62322",
              "HC",
              null,
              "20180713-20180713",
              "RD8",
              "472",
              "1",
              "UN"
             ]
            ],
            [
             "",
             "",
             "",
             "K4090",
             ""
            ],
            [
             "FAKE CITY",
             "20180409",
             "D8",
             "M",
             "ABCDEFGH IJKLMNOP B",
             "",
             "CA",
             "123 ADDRESS11",
             "18",
             "908021111"
            ],
            [
             "2",
             "YTHF281123456",
             "PI",
             "ABCHYI OL POI"
            ],
            [
             null,
             [
              "FAKE CITY",
              "931013923",
              "EI",
              "Organization",
              "ABCDE EFGHIJ GROUP PC",
              "1477527786",
              "",
              "CA",
              "123 ADDRESS9",
              "",
              "908021119"
             ],
             null,
             null,
             null,
             [
              "",
              "",
              "",
              "Individual",
              "ABCDEFGH OPQRSTU A",
              "1122334456",
              "",
              "",
              "",
              "",
              ""
             ],
             [
              "",
              "",
              "",
              "Organization",
              "ABCDEFG HIJKLMN HOSP",
              "1122334458",
              "",
              "",
              "",
              "",
              ""
             ],
             [
              "",
              "",
              "",
              "Individual",
              "STUVWX KLMNOPQ H",
              "1122334457",
              "PE",
              "",
              "",
              "207L00000X",
              ""
             ]
            ],
            [
             "ABCHYI OL POI",
             "Organization"
            ],
            [
             "ABCDEF",
             "ABCDEF CUSTOMER SOLUTIONS",
             [
              [
               "TE",
               "9999999999"
              ],
              [
               "",
               ""
              ]
             ],
             "Organization"
            ],
            [
             "FAKE CITY",
             "20180409",
             "D8",
             "M",
             "ABCDEFGH IJKLMNOP B",
             "",
             "CA",
             "123 ADDRESS11",
             "18",
             "908021111"
            ]
           ],
           [
            [
             "",
             "",
             "1968",
             "ABC111114",
             "D8",
             "",
             "22:B:1",
             "20180713",
             "454"
            ],
            [
             [
              "1",
              "1",
              "1230",
              "AA",
              "",
              "00902",
              "HC",
              null,
              "20180713-20180713",
              "RD8",
              "472",
              "65",
              "MJ"
             ],
             [
              "2",
              "2",
              "738",
              "59",
              "",
              "62322",
              "HC",
              null,
              "20180713-20180713",
              "RD8",
              "472",
              "1",
              "UN"
             ]
            ],
            [
             "",
             "",
             "",
             "Q423",
             ""
            ],
            [
             "FAKE CITY",
             "20180504",
             "D8",
             "F",
             "ABCDEFGH IJKLMNOP B",
             "",
             "CA",
             "123 ADDRESS13",
             "18",
             "908021113"
            ],
            [
             "2",
             "YTHF281123456",
             "PI",
             "ABCHYI OL POI"
            ],
            [
             null,
             [
              "FAKE CITY",
              "931013923",
              "EI",
              "Organization",
              "ABCDE EFGHIJ GROUP PC",
              "1477527786",
              "",
              "CA",
              "123 ADDRESS9",
              "",
              "908021119"
             ],
             null,
             null,
             null,
             [
              "",
              "",
              "",
              "Individual",
              "ABCDEFGHI OPQRSTUV A",
              "1122334455",
              "",
              "",
              "",
              "",
              ""
             ],
             [
              "",
              "",
              "",
              "Organization",
              "ABCDEFG HIJKLMN HOSP",
              "1122334457",
              "",
              "",
              "",
              "",
              ""
             ],
             [
              "",
              "",
              "",
              "Individual",
              "STUVWXY KLMNOPQR H",
              "1122334456",
              "PE",
              "",
              "",
              "207L00000X",
              ""
             ]
            ],
            [
             "ABCHYI OL POI",
             "Organization"
            ],
            [
             "ABCDEF",
             "ABCDEF CUSTOMER SOLUTIONS",
             [
              [
               "TE",
               "9999999999"
              ],
              [
               "",
               ""
              ]
             ],
             "Organization"
            ],
            [
             "FAKE CITY",
             "20180504",
             "D8",
             "F",
             "ABCDEFGH IJKLMNOP B",
             "",
             "CA",
             "123 ADDRESS13",
             "18",
             "908021113"
            ]
           ]
          ],
          "222"
         ]
        ],
        [
         "ZZ",
         "421406317",
         "133052274",
         "20180807:12022761",
         "223",
         [
          [
           [
            [
             "1",
             "1",
             "17166.7",
             "TD-R192ICE00087",
             "TM",
             "01",
             "11:A:1",
             "0900",
             "096"
            ],
            [
             [
              "1",
              null,
              "9148",
              "",
              null,
              "",
              "",
              "0124",
              "20180628-20180702",
              "RD8",
              "472",
              "4",
              "UN"
             ],
             [
              "2",
              null,
              "48.1",
              "",
              null,
              "",
              "",
              "0250",
              "20180628-20180702",
              "RD8",
              "472",
              "28",
              "UN"
             ],
             [
              "3",
              null,
              "133",
              "",
              null,
              "",
              "",
              "0260",
              "20180628-20180702",
              "RD8",
              "472",
              "1",
              "UN"
             ],
             [
              "4",
              null,
              "32.9",
              "",
              null,
              "",
              "",
              "0300",
              "20180628-20180702",
              "RD8",
              "472",
              "1",
              "UN"
             ],
             [
              "5",
              null,
              "798.5",
              "",
              null,
              "",
              "",
              "0301",
              "20180628-20180702",
              "RD8",
              "472",
              "4",
              "UN"
             ],
             [
              "6",
              null,
              "200.6",
              "",
              null,
              "",
              "",
              "0305",
              "20180628-20180702",
              "RD8",
              "472",
              "2",
              "UN"
             ],
             [
              "7",
              null,
              "175",
              "",
              null,
              "",
              "",
              "0306",
              "20180628-20180702",
              "RD8",
              "472",
              "1",
              "UN"
             ],
             [
              "8",
              null,
              "113.6",
              "",
              null,
              "",
              "",
              "0307",
              "20180628-20180702",
              "RD8",
              "472",
              "2",
              "UN"
             ],
             [
              "9",
              null,
              "6517",
              "",
              null,
              "",
              "",
              "0351",
              "20180628-20180702",
              "RD8",
              "472",
              "2",
              "UN"
             ]
            ],
            [
             "F39",
             "",
             "F1319",
             "F39",
             ""
            ],
            [
             "Elgin",
             "19960215",
             "D8",
             "F",
             "TEST MEMBER ",
             "",
             "IL",
             "123 MAIN STREET",
             "18",
             "601200001"
            ],
            [
             "2",
             "421406317",
             "PI",
             "CENTENE"
            ],
            [
             [
              "",
              "TD-R192ICE00087",
              "D9",
              "Individual",
              "  ",
              "",
              "",
              "",
              "",
              "",
              ""
             ],
             [
              "WOODSTOCK",
              "999999999",
              "EI",
              "Organization",
              "Test Provider",
              "9999999999",
              "",
              "IL",
              "123 MAIN STREET",
              "",
              "600980000"
             ],
             [
              "",
              "",
              "",
              "Individual",
              "  ",
              "",
              "",
              "",
              "",
              "",
              ""
             ],
             [
              "",
              "",
              "",
              "Individual",
              "  ",
              "",
              "",
              "",
              "",
              "",
              ""
             ],
             [
              "",
              "",
              "",
              "Individual",
              "  ",
              "",
              "",
              "",
              "",
              "",
              ""
             ],
             null,
             null,
             null
            ],
            [
             "CENTENE CORP",
             "Organization"
            ],
            [
             "TALEND",
             "SAMBIT",
             [
              [
               "TE",
               "3143202264"
              ],
              [
               "EX",
               "8099264"
              ]
             ],
             "Organization"
            ],
            [
             "Elgin",
             "19960215",
             "D8",
             "F",
             "TEST MEMBER ",
             "",
             "IL",
             "123 MAIN STREET",
             "18",
             "601200001"
            ]
           ]
          ],
          "223"
         ]
        ],
        [
         "ZZ",
         "XXXXX",
         "XXXXXXX",
         "20170617:1741",
         "222",
         [
          [
           [
            [
             "",
             "",
             "140",
             "1000A",
             "",
             "",
             "19:B:1",
             "",
             ""
            ],
            [
             [
              "1",
              "1",
              "140",
              "",
              "",
              "99213",
              "HC",
              null,
              "20151124",
              "D8",
              "472",
              "1",
              "UN"
             ],
             [
              "1",
              "1",
              "140",
              "",
              "",
              "99213",
              "HC",
              null,
              "20151124",
              "D8",
              "472",
              "1",
              "UN"
             ]
            ],
            [
             "",
             "",
             "",
             "I10",
             ""
            ],
            [
             "CHICAGO",
             "19570111",
             "D8",
             "M",
             "BLOGGS JOE ",
             "",
             "IL",
             "1 SOME BLVD",
             "18",
             "606129998"
            ],
            [
             "2",
             "12345",
             "PI",
             "PAYER"
            ],
            [
             null,
             [
              "CHICAGO",
              "999999999",
              "EI",
              "Organization",
              "BILLING PROVIDER",
              "1122334455",
              "",
              "IL",
              "1234 SOME ROAD",
              "",
              "606739999"
             ],
             null,
             null,
             null,
             [
              "",
              "",
              "",
              "Individual",
              "  ",
              "",
              "",
              "",
              "",
              "",
              ""
             ],
             [
              "",
              "",
              "",
              "Individual",
              "  ",
              "",
              "",
              "",
              "",
              "",
              ""
             ],
             [
              "",
              "",
              "",
              "Individual",
              "  ",
              "",
              "",
              "",
              "",
              "",
              ""
             ]
            ],
            [
             "RECEIVER",
             "Organization"
            ],
            [
             "SUBMITTER",
             "BOB SMITH",
             [
              [
               "TE",
               "4805551212"
              ],
              [
               "",
               ""
              ]
             ],
             "Organization"
            ],
            [
             "CHICAGO",
             "19570111",
             "D8",
             "M",
             "BLOGGS JOE ",
             "",
             "IL",
             "1 SOME BLVD",
             "18",
             "606129998"
            ]
           ],
           [
            [
             "",
             "",
             "140",
             "1001A",
             "",
             "",
             "19:B:1",
             "",
             ""
            ],
            [
             [
              "1",
              "1",
              "140",
              "",
              "",
              "99213",
              "HC",
              null,
              "20151124",
              "D8",
              "472",
              "1",
              "UN"
             ]
            ],
            [
             "",
             "",
             "",
             "I10",
             ""
            ],
            [
             "CHICAGO",
             "19700601",
             "D8",
             "M",
             "BLOGGS FRED ",
             "",
             "IL",
             "1 ANOTHER STR",
             "18",
             "606129998"
            ],
            [
             "2",
             "12345",
             "PI",
             "PAYER"
            ],
            [
             null,
             [
              "CHICAGO",
              "999999999",
              "EI",
              "Organization",
              "BILLING PROVIDER",
              "1122334455",
              "",
              "IL",
              "1234 SOME ROAD",
              "",
              "606739999"
             ],
             null,
             null,
             null,
             [
              "",
              "",
              "",
              "Individual",
              "  ",
              "",
              "",
              "",
              "",
              "",
              ""
             ],
             [
              "",
              "",
              "",
              "Individual",
              "  ",
              "",
              "",
              "",
              "",
              "",
              ""
             ],
             [
              "",
              "",
              "",
              "Individual",
              "  ",
              "",
              "",
              "",
              "",
              "",
              ""
             ]
            ],
            [
             "RECEIVER",
             "Organization"
            ],
            [
             "SUBMITTER",
             "BOB SMITH",
             [
              [
               "TE",
               "4805551212"
              ],
              [
               "",
               ""
              ]
             ],
             "Organization"
            ],
            [
             "CHICAGO",
             "19700601",
             "D8",
             "M",
             "BLOGGS FRED ",
             "",
             "IL",
             "1 ANOTHER STR",
             "18",
             "606129998"
            ]
           ]
          ],
          "222"
         ]
        ],
        [
         "30",
         "421406317",
         "030240928",
         "20180807:12022605",
         "222",
         [
          [
           [
            [
             "",
             "",
             "600",
             "TD-R192ICE00094",
             "D8",
             "",
             "11:B:1",
             "20180625",
             "435"
            ],
            [
             [
              "1",
              "1:2",
              "300",
              "HO,HQ",
              "11",
              "H0004",
              "HC",
              null,
              "20180625-20180625",
              "RD8",
              "472",
              "12",
              "UN"
             ],
             [
              "2",
              "1:2",
              "300",
              "HO,HQ",
              "11",
              "H0004",
              "HC",
              null,
              "20180629-20180629",
              "RD8",
              "472",
              "12",
              "UN"
             ]
            ],
            [
             "",
             "",
             "",
             "F341",
             ""
            ],
            [
             "Elgin",
             "19960215",
             "D8",
             "F",
             "TEST MEMBER ",
             "",
             "IL",
             "123 MAIN STREET",
             "18",
             "601200001"
            ],
            [
             "2",
             "421406317",
             "PI",
             "CENTENE"
            ],
            [
             null,
             [
              "WOODSTOCK",
              "999999999",
              "EI",
              "Organization",
              "Test Provider",
              "9999999999",
              "",
              "IL",
              "123 MAIN STREET",
              "",
              "600980000"
             ],
             null,
             null,
             null,
             [
              "",
              "",
              "",
              "Individual",
              "  ",
              "",
              "",
              "",
              "",
              "",
              ""
             ],
             [
              "",
              "",
              "",
              "Individual",
              "  ",
              "",
              "",
              "",
              "",
              "",
              ""
             ],
             [
              "",
              "",
              "",
              "Individual",
              "  ",
              "",
              "",
              "",
              "",
              "",
              ""
             ]
            ],
            [
             "Centene Corporation",
             "Organization"
            ],
            [
             "Centene Corporation",
             "Sambit",
             [
              [
               "TE",
               "3143202264"
              ],
              [
               "EX",
               "8099264"
              ]
             ],
             "Organization"
            ],
            [
             "Elgin",
             "19960215",
             "D8",
             "F",
             "TEST MEMBER ",
             "",
             "IL",
             "123 MAIN STREET",
             "18",
             "601200001"
            ]
           ]
          ],
          "222"
         ]
        ]
       ],
       "datasetInfos": [],
       "dbfsResultPath": null,
       "isJsonSchema": true,
       "metadata": {},
       "overflow": false,
       "plotOptions": {
        "customPlotOptions": {},
        "displayType": "table",
        "pivotAggregation": null,
        "pivotColumns": null,
        "xColumns": null,
        "yColumns": null
       },
       "removedWidgets": [],
       "schema": [
        {
         "metadata": "{}",
         "name": "tax_id",
         "type": "\"string\""
        },
        {
         "metadata": "{}",
         "name": "receiver",
         "type": "\"string\""
        },
        {
         "metadata": "{}",
         "name": "sender",
         "type": "\"string\""
        },
        {
         "metadata": "{}",
         "name": "transaction_datetime",
         "type": "\"string\""
        },
        {
         "metadata": "{}",
         "name": "transaction_type",
         "type": "\"string\""
        },
        {
         "metadata": "{}",
         "name": "Transaction",
         "type": "{\"type\":\"struct\",\"fields\":[{\"name\":\"Claims\",\"type\":{\"type\":\"array\",\"elementType\":{\"type\":\"struct\",\"fields\":[{\"name\":\"claim_header\",\"type\":{\"type\":\"struct\",\"fields\":[{\"name\":\"admission_src_cd\",\"type\":\"string\",\"nullable\":true,\"metadata\":{}},{\"name\":\"admission_type\",\"type\":\"string\",\"nullable\":true,\"metadata\":{}},{\"name\":\"claim_amount\",\"type\":\"string\",\"nullable\":true,\"metadata\":{}},{\"name\":\"claim_id\",\"type\":\"string\",\"nullable\":true,\"metadata\":{}},{\"name\":\"date_format\",\"type\":\"string\",\"nullable\":true,\"metadata\":{}},{\"name\":\"discharge_status_cd\",\"type\":\"string\",\"nullable\":true,\"metadata\":{}},{\"name\":\"facility_type_code\",\"type\":\"string\",\"nullable\":true,\"metadata\":{}},{\"name\":\"service_date\",\"type\":\"string\",\"nullable\":true,\"metadata\":{}},{\"name\":\"service_time\",\"type\":\"string\",\"nullable\":true,\"metadata\":{}}]},\"nullable\":true,\"metadata\":{}},{\"name\":\"claim_lines\",\"type\":{\"type\":\"array\",\"elementType\":{\"type\":\"struct\",\"fields\":[{\"name\":\"claim_line_number\",\"type\":\"string\",\"nullable\":true,\"metadata\":{}},{\"name\":\"dg_cd_pntr\",\"type\":\"string\",\"nullable\":true,\"metadata\":{}},{\"name\":\"line_chrg_amt\",\"type\":\"string\",\"nullable\":true,\"metadata\":{}},{\"name\":\"modifier_cds\",\"type\":\"string\",\"nullable\":true,\"metadata\":{}},{\"name\":\"place_of_service\",\"type\":\"string\",\"nullable\":true,\"metadata\":{}},{\"name\":\"prcdr_cd\",\"type\":\"string\",\"nullable\":true,\"metadata\":{}},{\"name\":\"prcdr_cd_type\",\"type\":\"string\",\"nullable\":true,\"metadata\":{}},{\"name\":\"revenue_cd\",\"type\":\"string\",\"nullable\":true,\"metadata\":{}},{\"name\":\"service_date\",\"type\":\"string\",\"nullable\":true,\"metadata\":{}},{\"name\":\"service_date_format\",\"type\":\"string\",\"nullable\":true,\"metadata\":{}},{\"name\":\"service_time\",\"type\":\"string\",\"nullable\":true,\"metadata\":{}},{\"name\":\"units\",\"type\":\"string\",\"nullable\":true,\"metadata\":{}},{\"name\":\"units_measurement\",\"type\":\"string\",\"nullable\":true,\"metadata\":{}}]},\"containsNull\":true},\"nullable\":true,\"metadata\":{}},{\"name\":\"diagnosis\",\"type\":{\"type\":\"struct\",\"fields\":[{\"name\":\"admitting_dx_cd\",\"type\":\"string\",\"nullable\":true,\"metadata\":{}},{\"name\":\"external_injury_dx_cd\",\"type\":\"string\",\"nullable\":true,\"metadata\":{}},{\"name\":\"other_dx_cds\",\"type\":\"string\",\"nullable\":true,\"metadata\":{}},{\"name\":\"principal_dx_cd\",\"type\":\"string\",\"nullable\":true,\"metadata\":{}},{\"name\":\"reason_visit_dx_cd\",\"type\":\"string\",\"nullable\":true,\"metadata\":{}}]},\"nullable\":true,\"metadata\":{}},{\"name\":\"patient\",\"type\":{\"type\":\"struct\",\"fields\":[{\"name\":\"city\",\"type\":\"string\",\"nullable\":true,\"metadata\":{}},{\"name\":\"dob\",\"type\":\"string\",\"nullable\":true,\"metadata\":{}},{\"name\":\"dob_format\",\"type\":\"string\",\"nullable\":true,\"metadata\":{}},{\"name\":\"gender_cd\",\"type\":\"string\",\"nullable\":true,\"metadata\":{}},{\"name\":\"name\",\"type\":\"string\",\"nullable\":true,\"metadata\":{}},{\"name\":\"patient_relationship_cd\",\"type\":\"string\",\"nullable\":true,\"metadata\":{}},{\"name\":\"state\",\"type\":\"string\",\"nullable\":true,\"metadata\":{}},{\"name\":\"street\",\"type\":\"string\",\"nullable\":true,\"metadata\":{}},{\"name\":\"subscriber_relationship_cd\",\"type\":\"string\",\"nullable\":true,\"metadata\":{}},{\"name\":\"zip\",\"type\":\"string\",\"nullable\":true,\"metadata\":{}}]},\"nullable\":true,\"metadata\":{}},{\"name\":\"payer\",\"type\":{\"type\":\"struct\",\"fields\":[{\"name\":\"business_entity_type\",\"type\":\"string\",\"nullable\":true,\"metadata\":{}},{\"name\":\"payer_identifier\",\"type\":\"string\",\"nullable\":true,\"metadata\":{}},{\"name\":\"payer_identifier_cd\",\"type\":\"string\",\"nullable\":true,\"metadata\":{}},{\"name\":\"payer_name\",\"type\":\"string\",\"nullable\":true,\"metadata\":{}}]},\"nullable\":true,\"metadata\":{}},{\"name\":\"providers\",\"type\":{\"type\":\"struct\",\"fields\":[{\"name\":\"attending\",\"type\":{\"type\":\"struct\",\"fields\":[{\"name\":\"city\",\"type\":\"string\",\"nullable\":true,\"metadata\":{}},{\"name\":\"ein\",\"type\":\"string\",\"nullable\":true,\"metadata\":{}},{\"name\":\"ein_type\",\"type\":\"string\",\"nullable\":true,\"metadata\":{}},{\"name\":\"entity_type\",\"type\":\"string\",\"nullable\":true,\"metadata\":{}},{\"name\":\"name\",\"type\":\"string\",\"nullable\":true,\"metadata\":{}},{\"name\":\"npi\",\"type\":\"string\",\"nullable\":true,\"metadata\":{}},{\"name\":\"provider_role\",\"type\":\"string\",\"nullable\":true,\"metadata\":{}},{\"name\":\"state\",\"type\":\"string\",\"nullable\":true,\"metadata\":{}},{\"name\":\"street\",\"type\":\"string\",\"nullable\":true,\"metadata\":{}},{\"name\":\"taxonomy\",\"type\":\"string\",\"nullable\":true,\"metadata\":{}},{\"name\":\"zip\",\"type\":\"string\",\"nullable\":true,\"metadata\":{}}]},\"nullable\":true,\"metadata\":{}},{\"name\":\"billing\",\"type\":{\"type\":\"struct\",\"fields\":[{\"name\":\"city\",\"type\":\"string\",\"nullable\":true,\"metadata\":{}},{\"name\":\"ein\",\"type\":\"string\",\"nullable\":true,\"metadata\":{}},{\"name\":\"ein_type\",\"type\":\"string\",\"nullable\":true,\"metadata\":{}},{\"name\":\"entity_type\",\"type\":\"string\",\"nullable\":true,\"metadata\":{}},{\"name\":\"name\",\"type\":\"string\",\"nullable\":true,\"metadata\":{}},{\"name\":\"npi\",\"type\":\"string\",\"nullable\":true,\"metadata\":{}},{\"name\":\"provider_role\",\"type\":\"string\",\"nullable\":true,\"metadata\":{}},{\"name\":\"state\",\"type\":\"string\",\"nullable\":true,\"metadata\":{}},{\"name\":\"street\",\"type\":\"string\",\"nullable\":true,\"metadata\":{}},{\"name\":\"taxonomy\",\"type\":\"string\",\"nullable\":true,\"metadata\":{}},{\"name\":\"zip\",\"type\":\"string\",\"nullable\":true,\"metadata\":{}}]},\"nullable\":true,\"metadata\":{}},{\"name\":\"facility\",\"type\":{\"type\":\"struct\",\"fields\":[{\"name\":\"city\",\"type\":\"string\",\"nullable\":true,\"metadata\":{}},{\"name\":\"ein\",\"type\":\"string\",\"nullable\":true,\"metadata\":{}},{\"name\":\"ein_type\",\"type\":\"string\",\"nullable\":true,\"metadata\":{}},{\"name\":\"entity_type\",\"type\":\"string\",\"nullable\":true,\"metadata\":{}},{\"name\":\"name\",\"type\":\"string\",\"nullable\":true,\"metadata\":{}},{\"name\":\"npi\",\"type\":\"string\",\"nullable\":true,\"metadata\":{}},{\"name\":\"provider_role\",\"type\":\"string\",\"nullable\":true,\"metadata\":{}},{\"name\":\"state\",\"type\":\"string\",\"nullable\":true,\"metadata\":{}},{\"name\":\"street\",\"type\":\"string\",\"nullable\":true,\"metadata\":{}},{\"name\":\"taxonomy\",\"type\":\"string\",\"nullable\":true,\"metadata\":{}},{\"name\":\"zip\",\"type\":\"string\",\"nullable\":true,\"metadata\":{}}]},\"nullable\":true,\"metadata\":{}},{\"name\":\"operating\",\"type\":{\"type\":\"struct\",\"fields\":[{\"name\":\"city\",\"type\":\"string\",\"nullable\":true,\"metadata\":{}},{\"name\":\"ein\",\"type\":\"string\",\"nullable\":true,\"metadata\":{}},{\"name\":\"ein_type\",\"type\":\"string\",\"nullable\":true,\"metadata\":{}},{\"name\":\"entity_type\",\"type\":\"string\",\"nullable\":true,\"metadata\":{}},{\"name\":\"name\",\"type\":\"string\",\"nullable\":true,\"metadata\":{}},{\"name\":\"npi\",\"type\":\"string\",\"nullable\":true,\"metadata\":{}},{\"name\":\"provider_role\",\"type\":\"string\",\"nullable\":true,\"metadata\":{}},{\"name\":\"state\",\"type\":\"string\",\"nullable\":true,\"metadata\":{}},{\"name\":\"street\",\"type\":\"string\",\"nullable\":true,\"metadata\":{}},{\"name\":\"taxonomy\",\"type\":\"string\",\"nullable\":true,\"metadata\":{}},{\"name\":\"zip\",\"type\":\"string\",\"nullable\":true,\"metadata\":{}}]},\"nullable\":true,\"metadata\":{}},{\"name\":\"other\",\"type\":{\"type\":\"struct\",\"fields\":[{\"name\":\"city\",\"type\":\"string\",\"nullable\":true,\"metadata\":{}},{\"name\":\"ein\",\"type\":\"string\",\"nullable\":true,\"metadata\":{}},{\"name\":\"ein_type\",\"type\":\"string\",\"nullable\":true,\"metadata\":{}},{\"name\":\"entity_type\",\"type\":\"string\",\"nullable\":true,\"metadata\":{}},{\"name\":\"name\",\"type\":\"string\",\"nullable\":true,\"metadata\":{}},{\"name\":\"npi\",\"type\":\"string\",\"nullable\":true,\"metadata\":{}},{\"name\":\"provider_role\",\"type\":\"string\",\"nullable\":true,\"metadata\":{}},{\"name\":\"state\",\"type\":\"string\",\"nullable\":true,\"metadata\":{}},{\"name\":\"street\",\"type\":\"string\",\"nullable\":true,\"metadata\":{}},{\"name\":\"taxonomy\",\"type\":\"string\",\"nullable\":true,\"metadata\":{}},{\"name\":\"zip\",\"type\":\"string\",\"nullable\":true,\"metadata\":{}}]},\"nullable\":true,\"metadata\":{}},{\"name\":\"referring\",\"type\":{\"type\":\"struct\",\"fields\":[{\"name\":\"city\",\"type\":\"string\",\"nullable\":true,\"metadata\":{}},{\"name\":\"ein\",\"type\":\"string\",\"nullable\":true,\"metadata\":{}},{\"name\":\"ein_type\",\"type\":\"string\",\"nullable\":true,\"metadata\":{}},{\"name\":\"entity_type\",\"type\":\"string\",\"nullable\":true,\"metadata\":{}},{\"name\":\"name\",\"type\":\"string\",\"nullable\":true,\"metadata\":{}},{\"name\":\"npi\",\"type\":\"string\",\"nullable\":true,\"metadata\":{}},{\"name\":\"provider_role\",\"type\":\"string\",\"nullable\":true,\"metadata\":{}},{\"name\":\"state\",\"type\":\"string\",\"nullable\":true,\"metadata\":{}},{\"name\":\"street\",\"type\":\"string\",\"nullable\":true,\"metadata\":{}},{\"name\":\"taxonomy\",\"type\":\"string\",\"nullable\":true,\"metadata\":{}},{\"name\":\"zip\",\"type\":\"string\",\"nullable\":true,\"metadata\":{}}]},\"nullable\":true,\"metadata\":{}},{\"name\":\"service_facility\",\"type\":{\"type\":\"struct\",\"fields\":[{\"name\":\"city\",\"type\":\"string\",\"nullable\":true,\"metadata\":{}},{\"name\":\"ein\",\"type\":\"string\",\"nullable\":true,\"metadata\":{}},{\"name\":\"ein_type\",\"type\":\"string\",\"nullable\":true,\"metadata\":{}},{\"name\":\"entity_type\",\"type\":\"string\",\"nullable\":true,\"metadata\":{}},{\"name\":\"name\",\"type\":\"string\",\"nullable\":true,\"metadata\":{}},{\"name\":\"npi\",\"type\":\"string\",\"nullable\":true,\"metadata\":{}},{\"name\":\"provider_role\",\"type\":\"string\",\"nullable\":true,\"metadata\":{}},{\"name\":\"state\",\"type\":\"string\",\"nullable\":true,\"metadata\":{}},{\"name\":\"street\",\"type\":\"string\",\"nullable\":true,\"metadata\":{}},{\"name\":\"taxonomy\",\"type\":\"string\",\"nullable\":true,\"metadata\":{}},{\"name\":\"zip\",\"type\":\"string\",\"nullable\":true,\"metadata\":{}}]},\"nullable\":true,\"metadata\":{}},{\"name\":\"servicing\",\"type\":{\"type\":\"struct\",\"fields\":[{\"name\":\"city\",\"type\":\"string\",\"nullable\":true,\"metadata\":{}},{\"name\":\"ein\",\"type\":\"string\",\"nullable\":true,\"metadata\":{}},{\"name\":\"ein_type\",\"type\":\"string\",\"nullable\":true,\"metadata\":{}},{\"name\":\"entity_type\",\"type\":\"string\",\"nullable\":true,\"metadata\":{}},{\"name\":\"name\",\"type\":\"string\",\"nullable\":true,\"metadata\":{}},{\"name\":\"npi\",\"type\":\"string\",\"nullable\":true,\"metadata\":{}},{\"name\":\"provider_role\",\"type\":\"string\",\"nullable\":true,\"metadata\":{}},{\"name\":\"state\",\"type\":\"string\",\"nullable\":true,\"metadata\":{}},{\"name\":\"street\",\"type\":\"string\",\"nullable\":true,\"metadata\":{}},{\"name\":\"taxonomy\",\"type\":\"string\",\"nullable\":true,\"metadata\":{}},{\"name\":\"zip\",\"type\":\"string\",\"nullable\":true,\"metadata\":{}}]},\"nullable\":true,\"metadata\":{}}]},\"nullable\":true,\"metadata\":{}},{\"name\":\"receiver\",\"type\":{\"type\":\"struct\",\"fields\":[{\"name\":\"name\",\"type\":\"string\",\"nullable\":true,\"metadata\":{}},{\"name\":\"type\",\"type\":\"string\",\"nullable\":true,\"metadata\":{}}]},\"nullable\":true,\"metadata\":{}},{\"name\":\"submitter\",\"type\":{\"type\":\"struct\",\"fields\":[{\"name\":\"name\",\"type\":\"string\",\"nullable\":true,\"metadata\":{}},{\"name\":\"sbmtter_contact_name\",\"type\":\"string\",\"nullable\":true,\"metadata\":{}},{\"name\":\"sbmtter_contacts\",\"type\":{\"type\":\"array\",\"elementType\":{\"type\":\"array\",\"elementType\":\"string\",\"containsNull\":true},\"containsNull\":true},\"nullable\":true,\"metadata\":{}},{\"name\":\"type\",\"type\":\"string\",\"nullable\":true,\"metadata\":{}}]},\"nullable\":true,\"metadata\":{}},{\"name\":\"subscriber\",\"type\":{\"type\":\"struct\",\"fields\":[{\"name\":\"city\",\"type\":\"string\",\"nullable\":true,\"metadata\":{}},{\"name\":\"dob\",\"type\":\"string\",\"nullable\":true,\"metadata\":{}},{\"name\":\"dob_format\",\"type\":\"string\",\"nullable\":true,\"metadata\":{}},{\"name\":\"gender_cd\",\"type\":\"string\",\"nullable\":true,\"metadata\":{}},{\"name\":\"name\",\"type\":\"string\",\"nullable\":true,\"metadata\":{}},{\"name\":\"patient_relationship_cd\",\"type\":\"string\",\"nullable\":true,\"metadata\":{}},{\"name\":\"state\",\"type\":\"string\",\"nullable\":true,\"metadata\":{}},{\"name\":\"street\",\"type\":\"string\",\"nullable\":true,\"metadata\":{}},{\"name\":\"subscriber_relationship_cd\",\"type\":\"string\",\"nullable\":true,\"metadata\":{}},{\"name\":\"zip\",\"type\":\"string\",\"nullable\":true,\"metadata\":{}}]},\"nullable\":true,\"metadata\":{}}]},\"containsNull\":true},\"nullable\":true,\"metadata\":{}},{\"name\":\"Transaction.transaction_type\",\"type\":\"string\",\"nullable\":true,\"metadata\":{}}]}"
        }
       ],
       "type": "table"
      }
     },
     "output_type": "display_data"
    }
   ],
   "source": [
    "functional_groups_flat = functional_groups_df.select(\n",
    "    col(\"tax_id\"),\n",
    "    col(\"FunctionalGroup.`FunctionalGroup.receiver`\").alias(\"receiver\"),\n",
    "    col(\"FunctionalGroup.`FunctionalGroup.sender`\").alias(\"sender\"),\n",
    "    col(\"FunctionalGroup.`FunctionalGroup.transaction_datetime`\").alias(\"transaction_datetime\"),\n",
    "    col(\"FunctionalGroup.`FunctionalGroup.transaction_type`\").alias(\"transaction_type\"),\n",
    "    explode(col(\"FunctionalGroup.Transactions\")).alias(\"Transaction\")\n",
    ")\n",
    "\n",
    "display(functional_groups_flat)"
   ]
  },
  {
   "cell_type": "code",
   "execution_count": 0,
   "metadata": {
    "application/vnd.databricks.v1+cell": {
     "cellMetadata": {
      "byteLimit": 2048000,
      "rowLimit": 10000
     },
     "inputWidgets": {},
     "nuid": "a69bd0f0-25be-48d6-9d7c-243c5b3bc425",
     "showTitle": false,
     "title": ""
    }
   },
   "outputs": [
    {
     "output_type": "display_data",
     "data": {
      "text/html": [
       "<style scoped>\n",
       "  .table-result-container {\n",
       "    max-height: 300px;\n",
       "    overflow: auto;\n",
       "  }\n",
       "  table, th, td {\n",
       "    border: 1px solid black;\n",
       "    border-collapse: collapse;\n",
       "  }\n",
       "  th, td {\n",
       "    padding: 5px;\n",
       "  }\n",
       "  th {\n",
       "    text-align: left;\n",
       "  }\n",
       "</style><div class='table-result-container'><table class='table-result'><thead style='background-color: white'><tr><th>tax_id</th><th>receiver</th><th>sender</th><th>transaction_datetime</th><th>transaction_type</th><th>Claim</th></tr></thead><tbody><tr><td>ZZ</td><td>123456789</td><td>CLEARINGHOUSE</td><td>20180508:0833</td><td>222</td><td>List(List(, , 20, 1805080AV3648339, , , 57:B:1, , ), List(List(1, 1, 20, , , H0003, HC, null, 20180428, D8, 472, 1, UN)), List(, , , F1120, ), List(VANCOUVER, 19881225, D8, M, SUBSCRIBER JOHN J, , WA, 987 65TH PL, 18, 986640001), List(2, CHPWA, PI, COMMUNITY HEALTH PLAN OF WASHINGTON), List(null, List(VANCOUVER, 720000000, EI, Organization, BH CLINIC OF VANCOUVER, 1122334455, , WA, 12345 MAIN ST, , 98662), null, null, null, List(, , , Individual,   , , , , , , ), List(, , , Organization, BH CLINIC OF VANCOUVER, 1122334455, , , , , ), List(, , , Individual, PROVIDER JAMES , 1112223338, PE, , , 261QR0405X, )), List(123456789, Organization), List(CLEARINGHOUSE LLC, CLEARINGHOUSE CLIENT SERVICES, List(List(TE, 8005551212), List(FX, 8005551212)), Organization), List(VANCOUVER, 19881225, D8, M, SUBSCRIBER JOHN J, , WA, 987 65TH PL, 18, 986640001))</td></tr><tr><td>ZZ</td><td>123456789</td><td>CLEARINGHOUSE</td><td>20180508:0833</td><td>222</td><td>List(List(, , 50.1, 1805080AV3648347, , , 57:B:1, , ), List(List(1, 1:2, 50.1, HF, , 96153, HC, null, 20180426, D8, 472, 6, UN)), List(, , , F1520, ), List(VANCOUVER, 19881031, D8, F, PATIENT SUSAN E, , WA, 765 43RD ST, 18, 986640002), List(2, CHPWA, PI, COMMUNITY HEALTH PLAN OF WASHINGTON), List(null, List(VANCOUVER, 720000000, EI, Organization, BH CLINIC OF VANCOUVER, 1122334455, , WA, 12345 MAIN ST, , 98662), null, null, null, List(, , , Individual,   , , , , , , ), List(, , , Organization, BH CLINIC OF VANCOUVER, 1122334455, , , , , ), List(, , , Individual, PROVIDER SUSAN , 1112223346, PE, , , 261QR0405X, )), List(123456789, Organization), List(CLEARINGHOUSE LLC, CLEARINGHOUSE CLIENT SERVICES, List(List(TE, 8005551212), List(FX, 8005551212)), Organization), List(VANCOUVER, 19881031, D8, F, PATIENT SUSAN E, , WA, 765 43RD ST, 18, 986640002))</td></tr><tr><td>ZZ</td><td>123456789</td><td>CLEARINGHOUSE</td><td>20180508:0833</td><td>222</td><td>List(List(, , 11.64, 1805080AV3648340, , , 57:B:1, , ), List(List(1, 1:2, 11.64, HF, , T1017, HC, null, 20180427, D8, 472, 1, UN)), List(, , , F1020, ), List(VANCOUVER, 19881225, D8, M, SUBSCRIBER JOHN J, , WA, 987 65TH PL, 18, 986640001), List(2, CHPWA, PI, COMMUNITY HEALTH PLAN OF WASHINGTON), List(null, List(VANCOUVER, 720000000, EI, Organization, BH CLINIC OF VANCOUVER, 1122334455, , WA, 12345 MAIN ST, , 98662), null, null, null, List(, , , Individual,   , , , , , , ), List(, , , Organization, BH CLINIC OF VANCOUVER, 1122334455, , , , , ), List(, , , Individual, PROVIDER SUSAN , 1112223346, PE, , , 261QR0405X, )), List(123456789, Organization), List(CLEARINGHOUSE LLC, CLEARINGHOUSE CLIENT SERVICES, List(List(TE, 8005551212), List(FX, 8005551212)), Organization), List(VANCOUVER, 19881225, D8, M, SUBSCRIBER JOHN J, , WA, 987 65TH PL, 18, 986640001))</td></tr><tr><td>ZZ</td><td>123456789</td><td>CLEARINGHOUSE</td><td>20180508:0833</td><td>222</td><td>List(List(, , 234, 1805080AV3648353, , , 53:B:1, , ), List(List(1, 1, 234, , , 90853, HC, null, 20180427, D8, 472, 120, UN)), List(, , , F251, ), List(VANCOUVER, 19881031, D8, F, PATIENT SUSAN E, , WA, 765 43RD ST, 18, 986640002), List(2, CHPWA, PI, COMMUNITY HEALTH PLAN OF WASHINGTON), List(null, List(VANCOUVER, 720000000, EI, Organization, BH CLINIC OF VANCOUVER, 1122334455, , WA, 12345 MAIN ST, , 98662), null, null, null, List(, , , Individual,   , , , , , , ), List(, , , Organization, BH CLINIC OF VANCOUVER, 1122334455, , , , , ), List(, , , Individual, PROVIDER SUSAN , 1112223346, PE, , , 251S00000X, )), List(123456789, Organization), List(CLEARINGHOUSE LLC, CLEARINGHOUSE CLIENT SERVICES, List(List(TE, 8005551212), List(FX, 8005551212)), Organization), List(VANCOUVER, 19881031, D8, F, PATIENT SUSAN E, , WA, 765 43RD ST, 18, 986640002))</td></tr><tr><td>ZZ</td><td>123456789</td><td>CLEARINGHOUSE</td><td>20180508:0833</td><td>222</td><td>List(List(, , 20, 1805080AV3648355, , , 57:B:1, , ), List(List(1, 1:2, 20, , , H0003, HC, null, 20180427, D8, 472, 1, UN)), List(, , , F1020, ), List(VANCOUVER, 19881225, D8, M, SUBSCRIBER JOHN J, , WA, 987 65TH PL, 18, 986640001), List(2, CHPWA, PI, COMMUNITY HEALTH PLAN OF WASHINGTON), List(null, List(VANCOUVER, 720000000, EI, Organization, BH CLINIC OF VANCOUVER, 1122334455, , WA, 12345 MAIN ST, , 98662), null, null, null, List(, , , Individual,   , , , , , , ), List(, , , Organization, BH CLINIC OF VANCOUVER, 1122334455, , , , , ), List(, , , Individual, PROVIDER JAMES , 1112223338, PE, , , 261QR0405X, )), List(123456789, Organization), List(CLEARINGHOUSE LLC, CLEARINGHOUSE CLIENT SERVICES, List(List(TE, 8005551212), List(FX, 8005551212)), Organization), List(VANCOUVER, 19881225, D8, M, SUBSCRIBER JOHN J, , WA, 987 65TH PL, 18, 986640001))</td></tr><tr><td>ZZ</td><td>OO000011111</td><td>000000005D</td><td>20180710:214339</td><td>222</td><td>List(List(, , 1800, ABC11111, D8, , 22:B:1, 20180123, 454), List(List(1, 1, 1800, QZ, , 01710, HC, null, 20180123-20180123, RD8, 472, 88, MJ), List(1, 1, 984, AA,P3, , 00731, HC, null, 20180713-20180713, RD8, 472, 24, MJ), List(1, 1, 1353, AA, , 00840, HC, null, 20180713-20180713, RD8, 472, 62, MJ), List(1, 1, 1230, AA, , 00902, HC, null, 20180713-20180713, RD8, 472, 65, MJ), List(2, 2, 738, 59, , 62322, HC, null, 20180713-20180713, RD8, 472, 1, UN)), List(, , , G5621, ), List(FAKE CITY, 19650101, D8, M, ABCDEFGH IJKLMNOP B, , CA, 123 ADDRESS3, 18, 908021112), List(2, ABCMMPIO, PI, ABCHYI OL POI), List(null, List(FAKE CITY, 123456789, EI, Organization, YYYY HEALTHCARE ABC, 1222222220, , NY, 123 ADDRESS1, , 908021112), null, null, null, List(, , , Individual, ABCD STUVW , 1234567890, , , , , ), List(, , , Organization, ABCDEFG HIJKLMN HOSP, 1122334460, , , , , ), List(, , , Individual, TUVWX MNOPQR , 1234567891, PE, , , 367500000X, )), List(ABCHYI OL POI, Organization), List(ABCDEF, ABCDEF CUSTOMER SOLUTIONS, List(List(TE, 9999999999), List(, )), Organization), List(FAKE CITY, 19650101, D8, M, ABCDEFGH IJKLMNOP B, , CA, 123 ADDRESS3, 18, 908021112))</td></tr><tr><td>ZZ</td><td>OO000011111</td><td>000000005D</td><td>20180710:214339</td><td>222</td><td>List(List(, , 984, ABC111112, D8, , 22:B:1, 20180713, 454), List(List(1, 1, 984, AA,P3, , 00731, HC, null, 20180713-20180713, RD8, 472, 24, MJ), List(1, 1, 1353, AA, , 00840, HC, null, 20180713-20180713, RD8, 472, 62, MJ), List(1, 1, 1230, AA, , 00902, HC, null, 20180713-20180713, RD8, 472, 65, MJ), List(2, 2, 738, 59, , 62322, HC, null, 20180713-20180713, RD8, 472, 1, UN)), List(, , , K219, ), List(FAKE CITY, 19760101, D8, F, ABCDEFGH IJKLMNOP B, , CA, 123 ADDRESS7, 18, 908021117), List(2, ABCMMPIO, PI, ABCHYI OL POI), List(null, List(FAKE CITY, 543211234, EI, Organization, ABCDE EFGHIJ GROUP PC, 1222222223, , CA, 123 ADDRESS5, , 908021115), null, null, null, List(, , , Individual, ABCDEFG OPQRST A, 1122334460, , , , , ), List(, , , Organization, ABCDEFG HIJKLMN HOSP, 1122334450, , , , , ), List(, , , Individual, STUVW KLMNOP H, 1122334461, PE, , , 207L00000X, )), List(ABCHYI OL POI, Organization), List(ABCDEF, ABCDEF CUSTOMER SOLUTIONS, List(List(TE, 9999999999), List(, )), Organization), List(FAKE CITY, 19760101, D8, F, ABCDEFGH IJKLMNOP B, , CA, 123 ADDRESS7, 18, 908021117))</td></tr><tr><td>ZZ</td><td>OO000011111</td><td>000000005D</td><td>20180710:214339</td><td>222</td><td>List(List(, , 1353, ABC111113, D8, , 22:B:1, 20180713, 454), List(List(1, 1, 1353, AA, , 00840, HC, null, 20180713-20180713, RD8, 472, 62, MJ), List(1, 1, 1230, AA, , 00902, HC, null, 20180713-20180713, RD8, 472, 65, MJ), List(2, 2, 738, 59, , 62322, HC, null, 20180713-20180713, RD8, 472, 1, UN)), List(, , , K4090, ), List(FAKE CITY, 20180409, D8, M, ABCDEFGH IJKLMNOP B, , CA, 123 ADDRESS11, 18, 908021111), List(2, YTHF281123456, PI, ABCHYI OL POI), List(null, List(FAKE CITY, 931013923, EI, Organization, ABCDE EFGHIJ GROUP PC, 1477527786, , CA, 123 ADDRESS9, , 908021119), null, null, null, List(, , , Individual, ABCDEFGH OPQRSTU A, 1122334456, , , , , ), List(, , , Organization, ABCDEFG HIJKLMN HOSP, 1122334458, , , , , ), List(, , , Individual, STUVWX KLMNOPQ H, 1122334457, PE, , , 207L00000X, )), List(ABCHYI OL POI, Organization), List(ABCDEF, ABCDEF CUSTOMER SOLUTIONS, List(List(TE, 9999999999), List(, )), Organization), List(FAKE CITY, 20180409, D8, M, ABCDEFGH IJKLMNOP B, , CA, 123 ADDRESS11, 18, 908021111))</td></tr><tr><td>ZZ</td><td>OO000011111</td><td>000000005D</td><td>20180710:214339</td><td>222</td><td>List(List(, , 1968, ABC111114, D8, , 22:B:1, 20180713, 454), List(List(1, 1, 1230, AA, , 00902, HC, null, 20180713-20180713, RD8, 472, 65, MJ), List(2, 2, 738, 59, , 62322, HC, null, 20180713-20180713, RD8, 472, 1, UN)), List(, , , Q423, ), List(FAKE CITY, 20180504, D8, F, ABCDEFGH IJKLMNOP B, , CA, 123 ADDRESS13, 18, 908021113), List(2, YTHF281123456, PI, ABCHYI OL POI), List(null, List(FAKE CITY, 931013923, EI, Organization, ABCDE EFGHIJ GROUP PC, 1477527786, , CA, 123 ADDRESS9, , 908021119), null, null, null, List(, , , Individual, ABCDEFGHI OPQRSTUV A, 1122334455, , , , , ), List(, , , Organization, ABCDEFG HIJKLMN HOSP, 1122334457, , , , , ), List(, , , Individual, STUVWXY KLMNOPQR H, 1122334456, PE, , , 207L00000X, )), List(ABCHYI OL POI, Organization), List(ABCDEF, ABCDEF CUSTOMER SOLUTIONS, List(List(TE, 9999999999), List(, )), Organization), List(FAKE CITY, 20180504, D8, F, ABCDEFGH IJKLMNOP B, , CA, 123 ADDRESS13, 18, 908021113))</td></tr><tr><td>ZZ</td><td>421406317</td><td>133052274</td><td>20180807:12022761</td><td>223</td><td>List(List(1, 1, 17166.7, TD-R192ICE00087, TM, 01, 11:A:1, 0900, 096), List(List(1, null, 9148, , null, , , 0124, 20180628-20180702, RD8, 472, 4, UN), List(2, null, 48.1, , null, , , 0250, 20180628-20180702, RD8, 472, 28, UN), List(3, null, 133, , null, , , 0260, 20180628-20180702, RD8, 472, 1, UN), List(4, null, 32.9, , null, , , 0300, 20180628-20180702, RD8, 472, 1, UN), List(5, null, 798.5, , null, , , 0301, 20180628-20180702, RD8, 472, 4, UN), List(6, null, 200.6, , null, , , 0305, 20180628-20180702, RD8, 472, 2, UN), List(7, null, 175, , null, , , 0306, 20180628-20180702, RD8, 472, 1, UN), List(8, null, 113.6, , null, , , 0307, 20180628-20180702, RD8, 472, 2, UN), List(9, null, 6517, , null, , , 0351, 20180628-20180702, RD8, 472, 2, UN)), List(F39, , F1319, F39, ), List(Elgin, 19960215, D8, F, TEST MEMBER , , IL, 123 MAIN STREET, 18, 601200001), List(2, 421406317, PI, CENTENE), List(List(, TD-R192ICE00087, D9, Individual,   , , , , , , ), List(WOODSTOCK, 999999999, EI, Organization, Test Provider, 9999999999, , IL, 123 MAIN STREET, , 600980000), List(, , , Individual,   , , , , , , ), List(, , , Individual,   , , , , , , ), List(, , , Individual,   , , , , , , ), null, null, null), List(CENTENE CORP, Organization), List(TALEND, SAMBIT, List(List(TE, 3143202264), List(EX, 8099264)), Organization), List(Elgin, 19960215, D8, F, TEST MEMBER , , IL, 123 MAIN STREET, 18, 601200001))</td></tr><tr><td>ZZ</td><td>XXXXX</td><td>XXXXXXX</td><td>20170617:1741</td><td>222</td><td>List(List(, , 140, 1000A, , , 19:B:1, , ), List(List(1, 1, 140, , , 99213, HC, null, 20151124, D8, 472, 1, UN), List(1, 1, 140, , , 99213, HC, null, 20151124, D8, 472, 1, UN)), List(, , , I10, ), List(CHICAGO, 19570111, D8, M, BLOGGS JOE , , IL, 1 SOME BLVD, 18, 606129998), List(2, 12345, PI, PAYER), List(null, List(CHICAGO, 999999999, EI, Organization, BILLING PROVIDER, 1122334455, , IL, 1234 SOME ROAD, , 606739999), null, null, null, List(, , , Individual,   , , , , , , ), List(, , , Individual,   , , , , , , ), List(, , , Individual,   , , , , , , )), List(RECEIVER, Organization), List(SUBMITTER, BOB SMITH, List(List(TE, 4805551212), List(, )), Organization), List(CHICAGO, 19570111, D8, M, BLOGGS JOE , , IL, 1 SOME BLVD, 18, 606129998))</td></tr><tr><td>ZZ</td><td>XXXXX</td><td>XXXXXXX</td><td>20170617:1741</td><td>222</td><td>List(List(, , 140, 1001A, , , 19:B:1, , ), List(List(1, 1, 140, , , 99213, HC, null, 20151124, D8, 472, 1, UN)), List(, , , I10, ), List(CHICAGO, 19700601, D8, M, BLOGGS FRED , , IL, 1 ANOTHER STR, 18, 606129998), List(2, 12345, PI, PAYER), List(null, List(CHICAGO, 999999999, EI, Organization, BILLING PROVIDER, 1122334455, , IL, 1234 SOME ROAD, , 606739999), null, null, null, List(, , , Individual,   , , , , , , ), List(, , , Individual,   , , , , , , ), List(, , , Individual,   , , , , , , )), List(RECEIVER, Organization), List(SUBMITTER, BOB SMITH, List(List(TE, 4805551212), List(, )), Organization), List(CHICAGO, 19700601, D8, M, BLOGGS FRED , , IL, 1 ANOTHER STR, 18, 606129998))</td></tr><tr><td>30</td><td>421406317</td><td>030240928</td><td>20180807:12022605</td><td>222</td><td>List(List(, , 600, TD-R192ICE00094, D8, , 11:B:1, 20180625, 435), List(List(1, 1:2, 300, HO,HQ, 11, H0004, HC, null, 20180625-20180625, RD8, 472, 12, UN), List(2, 1:2, 300, HO,HQ, 11, H0004, HC, null, 20180629-20180629, RD8, 472, 12, UN)), List(, , , F341, ), List(Elgin, 19960215, D8, F, TEST MEMBER , , IL, 123 MAIN STREET, 18, 601200001), List(2, 421406317, PI, CENTENE), List(null, List(WOODSTOCK, 999999999, EI, Organization, Test Provider, 9999999999, , IL, 123 MAIN STREET, , 600980000), null, null, null, List(, , , Individual,   , , , , , , ), List(, , , Individual,   , , , , , , ), List(, , , Individual,   , , , , , , )), List(Centene Corporation, Organization), List(Centene Corporation, Sambit, List(List(TE, 3143202264), List(EX, 8099264)), Organization), List(Elgin, 19960215, D8, F, TEST MEMBER , , IL, 123 MAIN STREET, 18, 601200001))</td></tr></tbody></table></div>"
      ]
     },
     "metadata": {
      "application/vnd.databricks.v1+output": {
       "addedWidgets": {},
       "aggData": [],
       "aggError": "",
       "aggOverflow": false,
       "aggSchema": [],
       "aggSeriesLimitReached": false,
       "aggType": "",
       "arguments": {},
       "columnCustomDisplayInfos": {},
       "data": [
        [
         "ZZ",
         "123456789",
         "CLEARINGHOUSE",
         "20180508:0833",
         "222",
         [
          [
           "",
           "",
           "20",
           "1805080AV3648339",
           "",
           "",
           "57:B:1",
           "",
           ""
          ],
          [
           [
            "1",
            "1",
            "20",
            "",
            "",
            "H0003",
            "HC",
            null,
            "20180428",
            "D8",
            "472",
            "1",
            "UN"
           ]
          ],
          [
           "",
           "",
           "",
           "F1120",
           ""
          ],
          [
           "VANCOUVER",
           "19881225",
           "D8",
           "M",
           "SUBSCRIBER JOHN J",
           "",
           "WA",
           "987 65TH PL",
           "18",
           "986640001"
          ],
          [
           "2",
           "CHPWA",
           "PI",
           "COMMUNITY HEALTH PLAN OF WASHINGTON"
          ],
          [
           null,
           [
            "VANCOUVER",
            "720000000",
            "EI",
            "Organization",
            "BH CLINIC OF VANCOUVER",
            "1122334455",
            "",
            "WA",
            "12345 MAIN ST",
            "",
            "98662"
           ],
           null,
           null,
           null,
           [
            "",
            "",
            "",
            "Individual",
            "  ",
            "",
            "",
            "",
            "",
            "",
            ""
           ],
           [
            "",
            "",
            "",
            "Organization",
            "BH CLINIC OF VANCOUVER",
            "1122334455",
            "",
            "",
            "",
            "",
            ""
           ],
           [
            "",
            "",
            "",
            "Individual",
            "PROVIDER JAMES ",
            "1112223338",
            "PE",
            "",
            "",
            "261QR0405X",
            ""
           ]
          ],
          [
           "123456789",
           "Organization"
          ],
          [
           "CLEARINGHOUSE LLC",
           "CLEARINGHOUSE CLIENT SERVICES",
           [
            [
             "TE",
             "8005551212"
            ],
            [
             "FX",
             "8005551212"
            ]
           ],
           "Organization"
          ],
          [
           "VANCOUVER",
           "19881225",
           "D8",
           "M",
           "SUBSCRIBER JOHN J",
           "",
           "WA",
           "987 65TH PL",
           "18",
           "986640001"
          ]
         ]
        ],
        [
         "ZZ",
         "123456789",
         "CLEARINGHOUSE",
         "20180508:0833",
         "222",
         [
          [
           "",
           "",
           "50.1",
           "1805080AV3648347",
           "",
           "",
           "57:B:1",
           "",
           ""
          ],
          [
           [
            "1",
            "1:2",
            "50.1",
            "HF",
            "",
            "96153",
            "HC",
            null,
            "20180426",
            "D8",
            "472",
            "6",
            "UN"
           ]
          ],
          [
           "",
           "",
           "",
           "F1520",
           ""
          ],
          [
           "VANCOUVER",
           "19881031",
           "D8",
           "F",
           "PATIENT SUSAN E",
           "",
           "WA",
           "765 43RD ST",
           "18",
           "986640002"
          ],
          [
           "2",
           "CHPWA",
           "PI",
           "COMMUNITY HEALTH PLAN OF WASHINGTON"
          ],
          [
           null,
           [
            "VANCOUVER",
            "720000000",
            "EI",
            "Organization",
            "BH CLINIC OF VANCOUVER",
            "1122334455",
            "",
            "WA",
            "12345 MAIN ST",
            "",
            "98662"
           ],
           null,
           null,
           null,
           [
            "",
            "",
            "",
            "Individual",
            "  ",
            "",
            "",
            "",
            "",
            "",
            ""
           ],
           [
            "",
            "",
            "",
            "Organization",
            "BH CLINIC OF VANCOUVER",
            "1122334455",
            "",
            "",
            "",
            "",
            ""
           ],
           [
            "",
            "",
            "",
            "Individual",
            "PROVIDER SUSAN ",
            "1112223346",
            "PE",
            "",
            "",
            "261QR0405X",
            ""
           ]
          ],
          [
           "123456789",
           "Organization"
          ],
          [
           "CLEARINGHOUSE LLC",
           "CLEARINGHOUSE CLIENT SERVICES",
           [
            [
             "TE",
             "8005551212"
            ],
            [
             "FX",
             "8005551212"
            ]
           ],
           "Organization"
          ],
          [
           "VANCOUVER",
           "19881031",
           "D8",
           "F",
           "PATIENT SUSAN E",
           "",
           "WA",
           "765 43RD ST",
           "18",
           "986640002"
          ]
         ]
        ],
        [
         "ZZ",
         "123456789",
         "CLEARINGHOUSE",
         "20180508:0833",
         "222",
         [
          [
           "",
           "",
           "11.64",
           "1805080AV3648340",
           "",
           "",
           "57:B:1",
           "",
           ""
          ],
          [
           [
            "1",
            "1:2",
            "11.64",
            "HF",
            "",
            "T1017",
            "HC",
            null,
            "20180427",
            "D8",
            "472",
            "1",
            "UN"
           ]
          ],
          [
           "",
           "",
           "",
           "F1020",
           ""
          ],
          [
           "VANCOUVER",
           "19881225",
           "D8",
           "M",
           "SUBSCRIBER JOHN J",
           "",
           "WA",
           "987 65TH PL",
           "18",
           "986640001"
          ],
          [
           "2",
           "CHPWA",
           "PI",
           "COMMUNITY HEALTH PLAN OF WASHINGTON"
          ],
          [
           null,
           [
            "VANCOUVER",
            "720000000",
            "EI",
            "Organization",
            "BH CLINIC OF VANCOUVER",
            "1122334455",
            "",
            "WA",
            "12345 MAIN ST",
            "",
            "98662"
           ],
           null,
           null,
           null,
           [
            "",
            "",
            "",
            "Individual",
            "  ",
            "",
            "",
            "",
            "",
            "",
            ""
           ],
           [
            "",
            "",
            "",
            "Organization",
            "BH CLINIC OF VANCOUVER",
            "1122334455",
            "",
            "",
            "",
            "",
            ""
           ],
           [
            "",
            "",
            "",
            "Individual",
            "PROVIDER SUSAN ",
            "1112223346",
            "PE",
            "",
            "",
            "261QR0405X",
            ""
           ]
          ],
          [
           "123456789",
           "Organization"
          ],
          [
           "CLEARINGHOUSE LLC",
           "CLEARINGHOUSE CLIENT SERVICES",
           [
            [
             "TE",
             "8005551212"
            ],
            [
             "FX",
             "8005551212"
            ]
           ],
           "Organization"
          ],
          [
           "VANCOUVER",
           "19881225",
           "D8",
           "M",
           "SUBSCRIBER JOHN J",
           "",
           "WA",
           "987 65TH PL",
           "18",
           "986640001"
          ]
         ]
        ],
        [
         "ZZ",
         "123456789",
         "CLEARINGHOUSE",
         "20180508:0833",
         "222",
         [
          [
           "",
           "",
           "234",
           "1805080AV3648353",
           "",
           "",
           "53:B:1",
           "",
           ""
          ],
          [
           [
            "1",
            "1",
            "234",
            "",
            "",
            "90853",
            "HC",
            null,
            "20180427",
            "D8",
            "472",
            "120",
            "UN"
           ]
          ],
          [
           "",
           "",
           "",
           "F251",
           ""
          ],
          [
           "VANCOUVER",
           "19881031",
           "D8",
           "F",
           "PATIENT SUSAN E",
           "",
           "WA",
           "765 43RD ST",
           "18",
           "986640002"
          ],
          [
           "2",
           "CHPWA",
           "PI",
           "COMMUNITY HEALTH PLAN OF WASHINGTON"
          ],
          [
           null,
           [
            "VANCOUVER",
            "720000000",
            "EI",
            "Organization",
            "BH CLINIC OF VANCOUVER",
            "1122334455",
            "",
            "WA",
            "12345 MAIN ST",
            "",
            "98662"
           ],
           null,
           null,
           null,
           [
            "",
            "",
            "",
            "Individual",
            "  ",
            "",
            "",
            "",
            "",
            "",
            ""
           ],
           [
            "",
            "",
            "",
            "Organization",
            "BH CLINIC OF VANCOUVER",
            "1122334455",
            "",
            "",
            "",
            "",
            ""
           ],
           [
            "",
            "",
            "",
            "Individual",
            "PROVIDER SUSAN ",
            "1112223346",
            "PE",
            "",
            "",
            "251S00000X",
            ""
           ]
          ],
          [
           "123456789",
           "Organization"
          ],
          [
           "CLEARINGHOUSE LLC",
           "CLEARINGHOUSE CLIENT SERVICES",
           [
            [
             "TE",
             "8005551212"
            ],
            [
             "FX",
             "8005551212"
            ]
           ],
           "Organization"
          ],
          [
           "VANCOUVER",
           "19881031",
           "D8",
           "F",
           "PATIENT SUSAN E",
           "",
           "WA",
           "765 43RD ST",
           "18",
           "986640002"
          ]
         ]
        ],
        [
         "ZZ",
         "123456789",
         "CLEARINGHOUSE",
         "20180508:0833",
         "222",
         [
          [
           "",
           "",
           "20",
           "1805080AV3648355",
           "",
           "",
           "57:B:1",
           "",
           ""
          ],
          [
           [
            "1",
            "1:2",
            "20",
            "",
            "",
            "H0003",
            "HC",
            null,
            "20180427",
            "D8",
            "472",
            "1",
            "UN"
           ]
          ],
          [
           "",
           "",
           "",
           "F1020",
           ""
          ],
          [
           "VANCOUVER",
           "19881225",
           "D8",
           "M",
           "SUBSCRIBER JOHN J",
           "",
           "WA",
           "987 65TH PL",
           "18",
           "986640001"
          ],
          [
           "2",
           "CHPWA",
           "PI",
           "COMMUNITY HEALTH PLAN OF WASHINGTON"
          ],
          [
           null,
           [
            "VANCOUVER",
            "720000000",
            "EI",
            "Organization",
            "BH CLINIC OF VANCOUVER",
            "1122334455",
            "",
            "WA",
            "12345 MAIN ST",
            "",
            "98662"
           ],
           null,
           null,
           null,
           [
            "",
            "",
            "",
            "Individual",
            "  ",
            "",
            "",
            "",
            "",
            "",
            ""
           ],
           [
            "",
            "",
            "",
            "Organization",
            "BH CLINIC OF VANCOUVER",
            "1122334455",
            "",
            "",
            "",
            "",
            ""
           ],
           [
            "",
            "",
            "",
            "Individual",
            "PROVIDER JAMES ",
            "1112223338",
            "PE",
            "",
            "",
            "261QR0405X",
            ""
           ]
          ],
          [
           "123456789",
           "Organization"
          ],
          [
           "CLEARINGHOUSE LLC",
           "CLEARINGHOUSE CLIENT SERVICES",
           [
            [
             "TE",
             "8005551212"
            ],
            [
             "FX",
             "8005551212"
            ]
           ],
           "Organization"
          ],
          [
           "VANCOUVER",
           "19881225",
           "D8",
           "M",
           "SUBSCRIBER JOHN J",
           "",
           "WA",
           "987 65TH PL",
           "18",
           "986640001"
          ]
         ]
        ],
        [
         "ZZ",
         "OO000011111",
         "000000005D",
         "20180710:214339",
         "222",
         [
          [
           "",
           "",
           "1800",
           "ABC11111",
           "D8",
           "",
           "22:B:1",
           "20180123",
           "454"
          ],
          [
           [
            "1",
            "1",
            "1800",
            "QZ",
            "",
            "01710",
            "HC",
            null,
            "20180123-20180123",
            "RD8",
            "472",
            "88",
            "MJ"
           ],
           [
            "1",
            "1",
            "984",
            "AA,P3",
            "",
            "00731",
            "HC",
            null,
            "20180713-20180713",
            "RD8",
            "472",
            "24",
            "MJ"
           ],
           [
            "1",
            "1",
            "1353",
            "AA",
            "",
            "00840",
            "HC",
            null,
            "20180713-20180713",
            "RD8",
            "472",
            "62",
            "MJ"
           ],
           [
            "1",
            "1",
            "1230",
            "AA",
            "",
            "00902",
            "HC",
            null,
            "20180713-20180713",
            "RD8",
            "472",
            "65",
            "MJ"
           ],
           [
            "2",
            "2",
            "738",
            "59",
            "",
            "62322",
            "HC",
            null,
            "20180713-20180713",
            "RD8",
            "472",
            "1",
            "UN"
           ]
          ],
          [
           "",
           "",
           "",
           "G5621",
           ""
          ],
          [
           "FAKE CITY",
           "19650101",
           "D8",
           "M",
           "ABCDEFGH IJKLMNOP B",
           "",
           "CA",
           "123 ADDRESS3",
           "18",
           "908021112"
          ],
          [
           "2",
           "ABCMMPIO",
           "PI",
           "ABCHYI OL POI"
          ],
          [
           null,
           [
            "FAKE CITY",
            "123456789",
            "EI",
            "Organization",
            "YYYY HEALTHCARE ABC",
            "1222222220",
            "",
            "NY",
            "123 ADDRESS1",
            "",
            "908021112"
           ],
           null,
           null,
           null,
           [
            "",
            "",
            "",
            "Individual",
            "ABCD STUVW ",
            "1234567890",
            "",
            "",
            "",
            "",
            ""
           ],
           [
            "",
            "",
            "",
            "Organization",
            "ABCDEFG HIJKLMN HOSP",
            "1122334460",
            "",
            "",
            "",
            "",
            ""
           ],
           [
            "",
            "",
            "",
            "Individual",
            "TUVWX MNOPQR ",
            "1234567891",
            "PE",
            "",
            "",
            "367500000X",
            ""
           ]
          ],
          [
           "ABCHYI OL POI",
           "Organization"
          ],
          [
           "ABCDEF",
           "ABCDEF CUSTOMER SOLUTIONS",
           [
            [
             "TE",
             "9999999999"
            ],
            [
             "",
             ""
            ]
           ],
           "Organization"
          ],
          [
           "FAKE CITY",
           "19650101",
           "D8",
           "M",
           "ABCDEFGH IJKLMNOP B",
           "",
           "CA",
           "123 ADDRESS3",
           "18",
           "908021112"
          ]
         ]
        ],
        [
         "ZZ",
         "OO000011111",
         "000000005D",
         "20180710:214339",
         "222",
         [
          [
           "",
           "",
           "984",
           "ABC111112",
           "D8",
           "",
           "22:B:1",
           "20180713",
           "454"
          ],
          [
           [
            "1",
            "1",
            "984",
            "AA,P3",
            "",
            "00731",
            "HC",
            null,
            "20180713-20180713",
            "RD8",
            "472",
            "24",
            "MJ"
           ],
           [
            "1",
            "1",
            "1353",
            "AA",
            "",
            "00840",
            "HC",
            null,
            "20180713-20180713",
            "RD8",
            "472",
            "62",
            "MJ"
           ],
           [
            "1",
            "1",
            "1230",
            "AA",
            "",
            "00902",
            "HC",
            null,
            "20180713-20180713",
            "RD8",
            "472",
            "65",
            "MJ"
           ],
           [
            "2",
            "2",
            "738",
            "59",
            "",
            "62322",
            "HC",
            null,
            "20180713-20180713",
            "RD8",
            "472",
            "1",
            "UN"
           ]
          ],
          [
           "",
           "",
           "",
           "K219",
           ""
          ],
          [
           "FAKE CITY",
           "19760101",
           "D8",
           "F",
           "ABCDEFGH IJKLMNOP B",
           "",
           "CA",
           "123 ADDRESS7",
           "18",
           "908021117"
          ],
          [
           "2",
           "ABCMMPIO",
           "PI",
           "ABCHYI OL POI"
          ],
          [
           null,
           [
            "FAKE CITY",
            "543211234",
            "EI",
            "Organization",
            "ABCDE EFGHIJ GROUP PC",
            "1222222223",
            "",
            "CA",
            "123 ADDRESS5",
            "",
            "908021115"
           ],
           null,
           null,
           null,
           [
            "",
            "",
            "",
            "Individual",
            "ABCDEFG OPQRST A",
            "1122334460",
            "",
            "",
            "",
            "",
            ""
           ],
           [
            "",
            "",
            "",
            "Organization",
            "ABCDEFG HIJKLMN HOSP",
            "1122334450",
            "",
            "",
            "",
            "",
            ""
           ],
           [
            "",
            "",
            "",
            "Individual",
            "STUVW KLMNOP H",
            "1122334461",
            "PE",
            "",
            "",
            "207L00000X",
            ""
           ]
          ],
          [
           "ABCHYI OL POI",
           "Organization"
          ],
          [
           "ABCDEF",
           "ABCDEF CUSTOMER SOLUTIONS",
           [
            [
             "TE",
             "9999999999"
            ],
            [
             "",
             ""
            ]
           ],
           "Organization"
          ],
          [
           "FAKE CITY",
           "19760101",
           "D8",
           "F",
           "ABCDEFGH IJKLMNOP B",
           "",
           "CA",
           "123 ADDRESS7",
           "18",
           "908021117"
          ]
         ]
        ],
        [
         "ZZ",
         "OO000011111",
         "000000005D",
         "20180710:214339",
         "222",
         [
          [
           "",
           "",
           "1353",
           "ABC111113",
           "D8",
           "",
           "22:B:1",
           "20180713",
           "454"
          ],
          [
           [
            "1",
            "1",
            "1353",
            "AA",
            "",
            "00840",
            "HC",
            null,
            "20180713-20180713",
            "RD8",
            "472",
            "62",
            "MJ"
           ],
           [
            "1",
            "1",
            "1230",
            "AA",
            "",
            "00902",
            "HC",
            null,
            "20180713-20180713",
            "RD8",
            "472",
            "65",
            "MJ"
           ],
           [
            "2",
            "2",
            "738",
            "59",
            "",
            "62322",
            "HC",
            null,
            "20180713-20180713",
            "RD8",
            "472",
            "1",
            "UN"
           ]
          ],
          [
           "",
           "",
           "",
           "K4090",
           ""
          ],
          [
           "FAKE CITY",
           "20180409",
           "D8",
           "M",
           "ABCDEFGH IJKLMNOP B",
           "",
           "CA",
           "123 ADDRESS11",
           "18",
           "908021111"
          ],
          [
           "2",
           "YTHF281123456",
           "PI",
           "ABCHYI OL POI"
          ],
          [
           null,
           [
            "FAKE CITY",
            "931013923",
            "EI",
            "Organization",
            "ABCDE EFGHIJ GROUP PC",
            "1477527786",
            "",
            "CA",
            "123 ADDRESS9",
            "",
            "908021119"
           ],
           null,
           null,
           null,
           [
            "",
            "",
            "",
            "Individual",
            "ABCDEFGH OPQRSTU A",
            "1122334456",
            "",
            "",
            "",
            "",
            ""
           ],
           [
            "",
            "",
            "",
            "Organization",
            "ABCDEFG HIJKLMN HOSP",
            "1122334458",
            "",
            "",
            "",
            "",
            ""
           ],
           [
            "",
            "",
            "",
            "Individual",
            "STUVWX KLMNOPQ H",
            "1122334457",
            "PE",
            "",
            "",
            "207L00000X",
            ""
           ]
          ],
          [
           "ABCHYI OL POI",
           "Organization"
          ],
          [
           "ABCDEF",
           "ABCDEF CUSTOMER SOLUTIONS",
           [
            [
             "TE",
             "9999999999"
            ],
            [
             "",
             ""
            ]
           ],
           "Organization"
          ],
          [
           "FAKE CITY",
           "20180409",
           "D8",
           "M",
           "ABCDEFGH IJKLMNOP B",
           "",
           "CA",
           "123 ADDRESS11",
           "18",
           "908021111"
          ]
         ]
        ],
        [
         "ZZ",
         "OO000011111",
         "000000005D",
         "20180710:214339",
         "222",
         [
          [
           "",
           "",
           "1968",
           "ABC111114",
           "D8",
           "",
           "22:B:1",
           "20180713",
           "454"
          ],
          [
           [
            "1",
            "1",
            "1230",
            "AA",
            "",
            "00902",
            "HC",
            null,
            "20180713-20180713",
            "RD8",
            "472",
            "65",
            "MJ"
           ],
           [
            "2",
            "2",
            "738",
            "59",
            "",
            "62322",
            "HC",
            null,
            "20180713-20180713",
            "RD8",
            "472",
            "1",
            "UN"
           ]
          ],
          [
           "",
           "",
           "",
           "Q423",
           ""
          ],
          [
           "FAKE CITY",
           "20180504",
           "D8",
           "F",
           "ABCDEFGH IJKLMNOP B",
           "",
           "CA",
           "123 ADDRESS13",
           "18",
           "908021113"
          ],
          [
           "2",
           "YTHF281123456",
           "PI",
           "ABCHYI OL POI"
          ],
          [
           null,
           [
            "FAKE CITY",
            "931013923",
            "EI",
            "Organization",
            "ABCDE EFGHIJ GROUP PC",
            "1477527786",
            "",
            "CA",
            "123 ADDRESS9",
            "",
            "908021119"
           ],
           null,
           null,
           null,
           [
            "",
            "",
            "",
            "Individual",
            "ABCDEFGHI OPQRSTUV A",
            "1122334455",
            "",
            "",
            "",
            "",
            ""
           ],
           [
            "",
            "",
            "",
            "Organization",
            "ABCDEFG HIJKLMN HOSP",
            "1122334457",
            "",
            "",
            "",
            "",
            ""
           ],
           [
            "",
            "",
            "",
            "Individual",
            "STUVWXY KLMNOPQR H",
            "1122334456",
            "PE",
            "",
            "",
            "207L00000X",
            ""
           ]
          ],
          [
           "ABCHYI OL POI",
           "Organization"
          ],
          [
           "ABCDEF",
           "ABCDEF CUSTOMER SOLUTIONS",
           [
            [
             "TE",
             "9999999999"
            ],
            [
             "",
             ""
            ]
           ],
           "Organization"
          ],
          [
           "FAKE CITY",
           "20180504",
           "D8",
           "F",
           "ABCDEFGH IJKLMNOP B",
           "",
           "CA",
           "123 ADDRESS13",
           "18",
           "908021113"
          ]
         ]
        ],
        [
         "ZZ",
         "421406317",
         "133052274",
         "20180807:12022761",
         "223",
         [
          [
           "1",
           "1",
           "17166.7",
           "TD-R192ICE00087",
           "TM",
           "01",
           "11:A:1",
           "0900",
           "096"
          ],
          [
           [
            "1",
            null,
            "9148",
            "",
            null,
            "",
            "",
            "0124",
            "20180628-20180702",
            "RD8",
            "472",
            "4",
            "UN"
           ],
           [
            "2",
            null,
            "48.1",
            "",
            null,
            "",
            "",
            "0250",
            "20180628-20180702",
            "RD8",
            "472",
            "28",
            "UN"
           ],
           [
            "3",
            null,
            "133",
            "",
            null,
            "",
            "",
            "0260",
            "20180628-20180702",
            "RD8",
            "472",
            "1",
            "UN"
           ],
           [
            "4",
            null,
            "32.9",
            "",
            null,
            "",
            "",
            "0300",
            "20180628-20180702",
            "RD8",
            "472",
            "1",
            "UN"
           ],
           [
            "5",
            null,
            "798.5",
            "",
            null,
            "",
            "",
            "0301",
            "20180628-20180702",
            "RD8",
            "472",
            "4",
            "UN"
           ],
           [
            "6",
            null,
            "200.6",
            "",
            null,
            "",
            "",
            "0305",
            "20180628-20180702",
            "RD8",
            "472",
            "2",
            "UN"
           ],
           [
            "7",
            null,
            "175",
            "",
            null,
            "",
            "",
            "0306",
            "20180628-20180702",
            "RD8",
            "472",
            "1",
            "UN"
           ],
           [
            "8",
            null,
            "113.6",
            "",
            null,
            "",
            "",
            "0307",
            "20180628-20180702",
            "RD8",
            "472",
            "2",
            "UN"
           ],
           [
            "9",
            null,
            "6517",
            "",
            null,
            "",
            "",
            "0351",
            "20180628-20180702",
            "RD8",
            "472",
            "2",
            "UN"
           ]
          ],
          [
           "F39",
           "",
           "F1319",
           "F39",
           ""
          ],
          [
           "Elgin",
           "19960215",
           "D8",
           "F",
           "TEST MEMBER ",
           "",
           "IL",
           "123 MAIN STREET",
           "18",
           "601200001"
          ],
          [
           "2",
           "421406317",
           "PI",
           "CENTENE"
          ],
          [
           [
            "",
            "TD-R192ICE00087",
            "D9",
            "Individual",
            "  ",
            "",
            "",
            "",
            "",
            "",
            ""
           ],
           [
            "WOODSTOCK",
            "999999999",
            "EI",
            "Organization",
            "Test Provider",
            "9999999999",
            "",
            "IL",
            "123 MAIN STREET",
            "",
            "600980000"
           ],
           [
            "",
            "",
            "",
            "Individual",
            "  ",
            "",
            "",
            "",
            "",
            "",
            ""
           ],
           [
            "",
            "",
            "",
            "Individual",
            "  ",
            "",
            "",
            "",
            "",
            "",
            ""
           ],
           [
            "",
            "",
            "",
            "Individual",
            "  ",
            "",
            "",
            "",
            "",
            "",
            ""
           ],
           null,
           null,
           null
          ],
          [
           "CENTENE CORP",
           "Organization"
          ],
          [
           "TALEND",
           "SAMBIT",
           [
            [
             "TE",
             "3143202264"
            ],
            [
             "EX",
             "8099264"
            ]
           ],
           "Organization"
          ],
          [
           "Elgin",
           "19960215",
           "D8",
           "F",
           "TEST MEMBER ",
           "",
           "IL",
           "123 MAIN STREET",
           "18",
           "601200001"
          ]
         ]
        ],
        [
         "ZZ",
         "XXXXX",
         "XXXXXXX",
         "20170617:1741",
         "222",
         [
          [
           "",
           "",
           "140",
           "1000A",
           "",
           "",
           "19:B:1",
           "",
           ""
          ],
          [
           [
            "1",
            "1",
            "140",
            "",
            "",
            "99213",
            "HC",
            null,
            "20151124",
            "D8",
            "472",
            "1",
            "UN"
           ],
           [
            "1",
            "1",
            "140",
            "",
            "",
            "99213",
            "HC",
            null,
            "20151124",
            "D8",
            "472",
            "1",
            "UN"
           ]
          ],
          [
           "",
           "",
           "",
           "I10",
           ""
          ],
          [
           "CHICAGO",
           "19570111",
           "D8",
           "M",
           "BLOGGS JOE ",
           "",
           "IL",
           "1 SOME BLVD",
           "18",
           "606129998"
          ],
          [
           "2",
           "12345",
           "PI",
           "PAYER"
          ],
          [
           null,
           [
            "CHICAGO",
            "999999999",
            "EI",
            "Organization",
            "BILLING PROVIDER",
            "1122334455",
            "",
            "IL",
            "1234 SOME ROAD",
            "",
            "606739999"
           ],
           null,
           null,
           null,
           [
            "",
            "",
            "",
            "Individual",
            "  ",
            "",
            "",
            "",
            "",
            "",
            ""
           ],
           [
            "",
            "",
            "",
            "Individual",
            "  ",
            "",
            "",
            "",
            "",
            "",
            ""
           ],
           [
            "",
            "",
            "",
            "Individual",
            "  ",
            "",
            "",
            "",
            "",
            "",
            ""
           ]
          ],
          [
           "RECEIVER",
           "Organization"
          ],
          [
           "SUBMITTER",
           "BOB SMITH",
           [
            [
             "TE",
             "4805551212"
            ],
            [
             "",
             ""
            ]
           ],
           "Organization"
          ],
          [
           "CHICAGO",
           "19570111",
           "D8",
           "M",
           "BLOGGS JOE ",
           "",
           "IL",
           "1 SOME BLVD",
           "18",
           "606129998"
          ]
         ]
        ],
        [
         "ZZ",
         "XXXXX",
         "XXXXXXX",
         "20170617:1741",
         "222",
         [
          [
           "",
           "",
           "140",
           "1001A",
           "",
           "",
           "19:B:1",
           "",
           ""
          ],
          [
           [
            "1",
            "1",
            "140",
            "",
            "",
            "99213",
            "HC",
            null,
            "20151124",
            "D8",
            "472",
            "1",
            "UN"
           ]
          ],
          [
           "",
           "",
           "",
           "I10",
           ""
          ],
          [
           "CHICAGO",
           "19700601",
           "D8",
           "M",
           "BLOGGS FRED ",
           "",
           "IL",
           "1 ANOTHER STR",
           "18",
           "606129998"
          ],
          [
           "2",
           "12345",
           "PI",
           "PAYER"
          ],
          [
           null,
           [
            "CHICAGO",
            "999999999",
            "EI",
            "Organization",
            "BILLING PROVIDER",
            "1122334455",
            "",
            "IL",
            "1234 SOME ROAD",
            "",
            "606739999"
           ],
           null,
           null,
           null,
           [
            "",
            "",
            "",
            "Individual",
            "  ",
            "",
            "",
            "",
            "",
            "",
            ""
           ],
           [
            "",
            "",
            "",
            "Individual",
            "  ",
            "",
            "",
            "",
            "",
            "",
            ""
           ],
           [
            "",
            "",
            "",
            "Individual",
            "  ",
            "",
            "",
            "",
            "",
            "",
            ""
           ]
          ],
          [
           "RECEIVER",
           "Organization"
          ],
          [
           "SUBMITTER",
           "BOB SMITH",
           [
            [
             "TE",
             "4805551212"
            ],
            [
             "",
             ""
            ]
           ],
           "Organization"
          ],
          [
           "CHICAGO",
           "19700601",
           "D8",
           "M",
           "BLOGGS FRED ",
           "",
           "IL",
           "1 ANOTHER STR",
           "18",
           "606129998"
          ]
         ]
        ],
        [
         "30",
         "421406317",
         "030240928",
         "20180807:12022605",
         "222",
         [
          [
           "",
           "",
           "600",
           "TD-R192ICE00094",
           "D8",
           "",
           "11:B:1",
           "20180625",
           "435"
          ],
          [
           [
            "1",
            "1:2",
            "300",
            "HO,HQ",
            "11",
            "H0004",
            "HC",
            null,
            "20180625-20180625",
            "RD8",
            "472",
            "12",
            "UN"
           ],
           [
            "2",
            "1:2",
            "300",
            "HO,HQ",
            "11",
            "H0004",
            "HC",
            null,
            "20180629-20180629",
            "RD8",
            "472",
            "12",
            "UN"
           ]
          ],
          [
           "",
           "",
           "",
           "F341",
           ""
          ],
          [
           "Elgin",
           "19960215",
           "D8",
           "F",
           "TEST MEMBER ",
           "",
           "IL",
           "123 MAIN STREET",
           "18",
           "601200001"
          ],
          [
           "2",
           "421406317",
           "PI",
           "CENTENE"
          ],
          [
           null,
           [
            "WOODSTOCK",
            "999999999",
            "EI",
            "Organization",
            "Test Provider",
            "9999999999",
            "",
            "IL",
            "123 MAIN STREET",
            "",
            "600980000"
           ],
           null,
           null,
           null,
           [
            "",
            "",
            "",
            "Individual",
            "  ",
            "",
            "",
            "",
            "",
            "",
            ""
           ],
           [
            "",
            "",
            "",
            "Individual",
            "  ",
            "",
            "",
            "",
            "",
            "",
            ""
           ],
           [
            "",
            "",
            "",
            "Individual",
            "  ",
            "",
            "",
            "",
            "",
            "",
            ""
           ]
          ],
          [
           "Centene Corporation",
           "Organization"
          ],
          [
           "Centene Corporation",
           "Sambit",
           [
            [
             "TE",
             "3143202264"
            ],
            [
             "EX",
             "8099264"
            ]
           ],
           "Organization"
          ],
          [
           "Elgin",
           "19960215",
           "D8",
           "F",
           "TEST MEMBER ",
           "",
           "IL",
           "123 MAIN STREET",
           "18",
           "601200001"
          ]
         ]
        ]
       ],
       "datasetInfos": [],
       "dbfsResultPath": null,
       "isJsonSchema": true,
       "metadata": {},
       "overflow": false,
       "plotOptions": {
        "customPlotOptions": {},
        "displayType": "table",
        "pivotAggregation": null,
        "pivotColumns": null,
        "xColumns": null,
        "yColumns": null
       },
       "removedWidgets": [],
       "schema": [
        {
         "metadata": "{}",
         "name": "tax_id",
         "type": "\"string\""
        },
        {
         "metadata": "{}",
         "name": "receiver",
         "type": "\"string\""
        },
        {
         "metadata": "{}",
         "name": "sender",
         "type": "\"string\""
        },
        {
         "metadata": "{}",
         "name": "transaction_datetime",
         "type": "\"string\""
        },
        {
         "metadata": "{}",
         "name": "transaction_type",
         "type": "\"string\""
        },
        {
         "metadata": "{}",
         "name": "Claim",
         "type": "{\"type\":\"struct\",\"fields\":[{\"name\":\"claim_header\",\"type\":{\"type\":\"struct\",\"fields\":[{\"name\":\"admission_src_cd\",\"type\":\"string\",\"nullable\":true,\"metadata\":{}},{\"name\":\"admission_type\",\"type\":\"string\",\"nullable\":true,\"metadata\":{}},{\"name\":\"claim_amount\",\"type\":\"string\",\"nullable\":true,\"metadata\":{}},{\"name\":\"claim_id\",\"type\":\"string\",\"nullable\":true,\"metadata\":{}},{\"name\":\"date_format\",\"type\":\"string\",\"nullable\":true,\"metadata\":{}},{\"name\":\"discharge_status_cd\",\"type\":\"string\",\"nullable\":true,\"metadata\":{}},{\"name\":\"facility_type_code\",\"type\":\"string\",\"nullable\":true,\"metadata\":{}},{\"name\":\"service_date\",\"type\":\"string\",\"nullable\":true,\"metadata\":{}},{\"name\":\"service_time\",\"type\":\"string\",\"nullable\":true,\"metadata\":{}}]},\"nullable\":true,\"metadata\":{}},{\"name\":\"claim_lines\",\"type\":{\"type\":\"array\",\"elementType\":{\"type\":\"struct\",\"fields\":[{\"name\":\"claim_line_number\",\"type\":\"string\",\"nullable\":true,\"metadata\":{}},{\"name\":\"dg_cd_pntr\",\"type\":\"string\",\"nullable\":true,\"metadata\":{}},{\"name\":\"line_chrg_amt\",\"type\":\"string\",\"nullable\":true,\"metadata\":{}},{\"name\":\"modifier_cds\",\"type\":\"string\",\"nullable\":true,\"metadata\":{}},{\"name\":\"place_of_service\",\"type\":\"string\",\"nullable\":true,\"metadata\":{}},{\"name\":\"prcdr_cd\",\"type\":\"string\",\"nullable\":true,\"metadata\":{}},{\"name\":\"prcdr_cd_type\",\"type\":\"string\",\"nullable\":true,\"metadata\":{}},{\"name\":\"revenue_cd\",\"type\":\"string\",\"nullable\":true,\"metadata\":{}},{\"name\":\"service_date\",\"type\":\"string\",\"nullable\":true,\"metadata\":{}},{\"name\":\"service_date_format\",\"type\":\"string\",\"nullable\":true,\"metadata\":{}},{\"name\":\"service_time\",\"type\":\"string\",\"nullable\":true,\"metadata\":{}},{\"name\":\"units\",\"type\":\"string\",\"nullable\":true,\"metadata\":{}},{\"name\":\"units_measurement\",\"type\":\"string\",\"nullable\":true,\"metadata\":{}}]},\"containsNull\":true},\"nullable\":true,\"metadata\":{}},{\"name\":\"diagnosis\",\"type\":{\"type\":\"struct\",\"fields\":[{\"name\":\"admitting_dx_cd\",\"type\":\"string\",\"nullable\":true,\"metadata\":{}},{\"name\":\"external_injury_dx_cd\",\"type\":\"string\",\"nullable\":true,\"metadata\":{}},{\"name\":\"other_dx_cds\",\"type\":\"string\",\"nullable\":true,\"metadata\":{}},{\"name\":\"principal_dx_cd\",\"type\":\"string\",\"nullable\":true,\"metadata\":{}},{\"name\":\"reason_visit_dx_cd\",\"type\":\"string\",\"nullable\":true,\"metadata\":{}}]},\"nullable\":true,\"metadata\":{}},{\"name\":\"patient\",\"type\":{\"type\":\"struct\",\"fields\":[{\"name\":\"city\",\"type\":\"string\",\"nullable\":true,\"metadata\":{}},{\"name\":\"dob\",\"type\":\"string\",\"nullable\":true,\"metadata\":{}},{\"name\":\"dob_format\",\"type\":\"string\",\"nullable\":true,\"metadata\":{}},{\"name\":\"gender_cd\",\"type\":\"string\",\"nullable\":true,\"metadata\":{}},{\"name\":\"name\",\"type\":\"string\",\"nullable\":true,\"metadata\":{}},{\"name\":\"patient_relationship_cd\",\"type\":\"string\",\"nullable\":true,\"metadata\":{}},{\"name\":\"state\",\"type\":\"string\",\"nullable\":true,\"metadata\":{}},{\"name\":\"street\",\"type\":\"string\",\"nullable\":true,\"metadata\":{}},{\"name\":\"subscriber_relationship_cd\",\"type\":\"string\",\"nullable\":true,\"metadata\":{}},{\"name\":\"zip\",\"type\":\"string\",\"nullable\":true,\"metadata\":{}}]},\"nullable\":true,\"metadata\":{}},{\"name\":\"payer\",\"type\":{\"type\":\"struct\",\"fields\":[{\"name\":\"business_entity_type\",\"type\":\"string\",\"nullable\":true,\"metadata\":{}},{\"name\":\"payer_identifier\",\"type\":\"string\",\"nullable\":true,\"metadata\":{}},{\"name\":\"payer_identifier_cd\",\"type\":\"string\",\"nullable\":true,\"metadata\":{}},{\"name\":\"payer_name\",\"type\":\"string\",\"nullable\":true,\"metadata\":{}}]},\"nullable\":true,\"metadata\":{}},{\"name\":\"providers\",\"type\":{\"type\":\"struct\",\"fields\":[{\"name\":\"attending\",\"type\":{\"type\":\"struct\",\"fields\":[{\"name\":\"city\",\"type\":\"string\",\"nullable\":true,\"metadata\":{}},{\"name\":\"ein\",\"type\":\"string\",\"nullable\":true,\"metadata\":{}},{\"name\":\"ein_type\",\"type\":\"string\",\"nullable\":true,\"metadata\":{}},{\"name\":\"entity_type\",\"type\":\"string\",\"nullable\":true,\"metadata\":{}},{\"name\":\"name\",\"type\":\"string\",\"nullable\":true,\"metadata\":{}},{\"name\":\"npi\",\"type\":\"string\",\"nullable\":true,\"metadata\":{}},{\"name\":\"provider_role\",\"type\":\"string\",\"nullable\":true,\"metadata\":{}},{\"name\":\"state\",\"type\":\"string\",\"nullable\":true,\"metadata\":{}},{\"name\":\"street\",\"type\":\"string\",\"nullable\":true,\"metadata\":{}},{\"name\":\"taxonomy\",\"type\":\"string\",\"nullable\":true,\"metadata\":{}},{\"name\":\"zip\",\"type\":\"string\",\"nullable\":true,\"metadata\":{}}]},\"nullable\":true,\"metadata\":{}},{\"name\":\"billing\",\"type\":{\"type\":\"struct\",\"fields\":[{\"name\":\"city\",\"type\":\"string\",\"nullable\":true,\"metadata\":{}},{\"name\":\"ein\",\"type\":\"string\",\"nullable\":true,\"metadata\":{}},{\"name\":\"ein_type\",\"type\":\"string\",\"nullable\":true,\"metadata\":{}},{\"name\":\"entity_type\",\"type\":\"string\",\"nullable\":true,\"metadata\":{}},{\"name\":\"name\",\"type\":\"string\",\"nullable\":true,\"metadata\":{}},{\"name\":\"npi\",\"type\":\"string\",\"nullable\":true,\"metadata\":{}},{\"name\":\"provider_role\",\"type\":\"string\",\"nullable\":true,\"metadata\":{}},{\"name\":\"state\",\"type\":\"string\",\"nullable\":true,\"metadata\":{}},{\"name\":\"street\",\"type\":\"string\",\"nullable\":true,\"metadata\":{}},{\"name\":\"taxonomy\",\"type\":\"string\",\"nullable\":true,\"metadata\":{}},{\"name\":\"zip\",\"type\":\"string\",\"nullable\":true,\"metadata\":{}}]},\"nullable\":true,\"metadata\":{}},{\"name\":\"facility\",\"type\":{\"type\":\"struct\",\"fields\":[{\"name\":\"city\",\"type\":\"string\",\"nullable\":true,\"metadata\":{}},{\"name\":\"ein\",\"type\":\"string\",\"nullable\":true,\"metadata\":{}},{\"name\":\"ein_type\",\"type\":\"string\",\"nullable\":true,\"metadata\":{}},{\"name\":\"entity_type\",\"type\":\"string\",\"nullable\":true,\"metadata\":{}},{\"name\":\"name\",\"type\":\"string\",\"nullable\":true,\"metadata\":{}},{\"name\":\"npi\",\"type\":\"string\",\"nullable\":true,\"metadata\":{}},{\"name\":\"provider_role\",\"type\":\"string\",\"nullable\":true,\"metadata\":{}},{\"name\":\"state\",\"type\":\"string\",\"nullable\":true,\"metadata\":{}},{\"name\":\"street\",\"type\":\"string\",\"nullable\":true,\"metadata\":{}},{\"name\":\"taxonomy\",\"type\":\"string\",\"nullable\":true,\"metadata\":{}},{\"name\":\"zip\",\"type\":\"string\",\"nullable\":true,\"metadata\":{}}]},\"nullable\":true,\"metadata\":{}},{\"name\":\"operating\",\"type\":{\"type\":\"struct\",\"fields\":[{\"name\":\"city\",\"type\":\"string\",\"nullable\":true,\"metadata\":{}},{\"name\":\"ein\",\"type\":\"string\",\"nullable\":true,\"metadata\":{}},{\"name\":\"ein_type\",\"type\":\"string\",\"nullable\":true,\"metadata\":{}},{\"name\":\"entity_type\",\"type\":\"string\",\"nullable\":true,\"metadata\":{}},{\"name\":\"name\",\"type\":\"string\",\"nullable\":true,\"metadata\":{}},{\"name\":\"npi\",\"type\":\"string\",\"nullable\":true,\"metadata\":{}},{\"name\":\"provider_role\",\"type\":\"string\",\"nullable\":true,\"metadata\":{}},{\"name\":\"state\",\"type\":\"string\",\"nullable\":true,\"metadata\":{}},{\"name\":\"street\",\"type\":\"string\",\"nullable\":true,\"metadata\":{}},{\"name\":\"taxonomy\",\"type\":\"string\",\"nullable\":true,\"metadata\":{}},{\"name\":\"zip\",\"type\":\"string\",\"nullable\":true,\"metadata\":{}}]},\"nullable\":true,\"metadata\":{}},{\"name\":\"other\",\"type\":{\"type\":\"struct\",\"fields\":[{\"name\":\"city\",\"type\":\"string\",\"nullable\":true,\"metadata\":{}},{\"name\":\"ein\",\"type\":\"string\",\"nullable\":true,\"metadata\":{}},{\"name\":\"ein_type\",\"type\":\"string\",\"nullable\":true,\"metadata\":{}},{\"name\":\"entity_type\",\"type\":\"string\",\"nullable\":true,\"metadata\":{}},{\"name\":\"name\",\"type\":\"string\",\"nullable\":true,\"metadata\":{}},{\"name\":\"npi\",\"type\":\"string\",\"nullable\":true,\"metadata\":{}},{\"name\":\"provider_role\",\"type\":\"string\",\"nullable\":true,\"metadata\":{}},{\"name\":\"state\",\"type\":\"string\",\"nullable\":true,\"metadata\":{}},{\"name\":\"street\",\"type\":\"string\",\"nullable\":true,\"metadata\":{}},{\"name\":\"taxonomy\",\"type\":\"string\",\"nullable\":true,\"metadata\":{}},{\"name\":\"zip\",\"type\":\"string\",\"nullable\":true,\"metadata\":{}}]},\"nullable\":true,\"metadata\":{}},{\"name\":\"referring\",\"type\":{\"type\":\"struct\",\"fields\":[{\"name\":\"city\",\"type\":\"string\",\"nullable\":true,\"metadata\":{}},{\"name\":\"ein\",\"type\":\"string\",\"nullable\":true,\"metadata\":{}},{\"name\":\"ein_type\",\"type\":\"string\",\"nullable\":true,\"metadata\":{}},{\"name\":\"entity_type\",\"type\":\"string\",\"nullable\":true,\"metadata\":{}},{\"name\":\"name\",\"type\":\"string\",\"nullable\":true,\"metadata\":{}},{\"name\":\"npi\",\"type\":\"string\",\"nullable\":true,\"metadata\":{}},{\"name\":\"provider_role\",\"type\":\"string\",\"nullable\":true,\"metadata\":{}},{\"name\":\"state\",\"type\":\"string\",\"nullable\":true,\"metadata\":{}},{\"name\":\"street\",\"type\":\"string\",\"nullable\":true,\"metadata\":{}},{\"name\":\"taxonomy\",\"type\":\"string\",\"nullable\":true,\"metadata\":{}},{\"name\":\"zip\",\"type\":\"string\",\"nullable\":true,\"metadata\":{}}]},\"nullable\":true,\"metadata\":{}},{\"name\":\"service_facility\",\"type\":{\"type\":\"struct\",\"fields\":[{\"name\":\"city\",\"type\":\"string\",\"nullable\":true,\"metadata\":{}},{\"name\":\"ein\",\"type\":\"string\",\"nullable\":true,\"metadata\":{}},{\"name\":\"ein_type\",\"type\":\"string\",\"nullable\":true,\"metadata\":{}},{\"name\":\"entity_type\",\"type\":\"string\",\"nullable\":true,\"metadata\":{}},{\"name\":\"name\",\"type\":\"string\",\"nullable\":true,\"metadata\":{}},{\"name\":\"npi\",\"type\":\"string\",\"nullable\":true,\"metadata\":{}},{\"name\":\"provider_role\",\"type\":\"string\",\"nullable\":true,\"metadata\":{}},{\"name\":\"state\",\"type\":\"string\",\"nullable\":true,\"metadata\":{}},{\"name\":\"street\",\"type\":\"string\",\"nullable\":true,\"metadata\":{}},{\"name\":\"taxonomy\",\"type\":\"string\",\"nullable\":true,\"metadata\":{}},{\"name\":\"zip\",\"type\":\"string\",\"nullable\":true,\"metadata\":{}}]},\"nullable\":true,\"metadata\":{}},{\"name\":\"servicing\",\"type\":{\"type\":\"struct\",\"fields\":[{\"name\":\"city\",\"type\":\"string\",\"nullable\":true,\"metadata\":{}},{\"name\":\"ein\",\"type\":\"string\",\"nullable\":true,\"metadata\":{}},{\"name\":\"ein_type\",\"type\":\"string\",\"nullable\":true,\"metadata\":{}},{\"name\":\"entity_type\",\"type\":\"string\",\"nullable\":true,\"metadata\":{}},{\"name\":\"name\",\"type\":\"string\",\"nullable\":true,\"metadata\":{}},{\"name\":\"npi\",\"type\":\"string\",\"nullable\":true,\"metadata\":{}},{\"name\":\"provider_role\",\"type\":\"string\",\"nullable\":true,\"metadata\":{}},{\"name\":\"state\",\"type\":\"string\",\"nullable\":true,\"metadata\":{}},{\"name\":\"street\",\"type\":\"string\",\"nullable\":true,\"metadata\":{}},{\"name\":\"taxonomy\",\"type\":\"string\",\"nullable\":true,\"metadata\":{}},{\"name\":\"zip\",\"type\":\"string\",\"nullable\":true,\"metadata\":{}}]},\"nullable\":true,\"metadata\":{}}]},\"nullable\":true,\"metadata\":{}},{\"name\":\"receiver\",\"type\":{\"type\":\"struct\",\"fields\":[{\"name\":\"name\",\"type\":\"string\",\"nullable\":true,\"metadata\":{}},{\"name\":\"type\",\"type\":\"string\",\"nullable\":true,\"metadata\":{}}]},\"nullable\":true,\"metadata\":{}},{\"name\":\"submitter\",\"type\":{\"type\":\"struct\",\"fields\":[{\"name\":\"name\",\"type\":\"string\",\"nullable\":true,\"metadata\":{}},{\"name\":\"sbmtter_contact_name\",\"type\":\"string\",\"nullable\":true,\"metadata\":{}},{\"name\":\"sbmtter_contacts\",\"type\":{\"type\":\"array\",\"elementType\":{\"type\":\"array\",\"elementType\":\"string\",\"containsNull\":true},\"containsNull\":true},\"nullable\":true,\"metadata\":{}},{\"name\":\"type\",\"type\":\"string\",\"nullable\":true,\"metadata\":{}}]},\"nullable\":true,\"metadata\":{}},{\"name\":\"subscriber\",\"type\":{\"type\":\"struct\",\"fields\":[{\"name\":\"city\",\"type\":\"string\",\"nullable\":true,\"metadata\":{}},{\"name\":\"dob\",\"type\":\"string\",\"nullable\":true,\"metadata\":{}},{\"name\":\"dob_format\",\"type\":\"string\",\"nullable\":true,\"metadata\":{}},{\"name\":\"gender_cd\",\"type\":\"string\",\"nullable\":true,\"metadata\":{}},{\"name\":\"name\",\"type\":\"string\",\"nullable\":true,\"metadata\":{}},{\"name\":\"patient_relationship_cd\",\"type\":\"string\",\"nullable\":true,\"metadata\":{}},{\"name\":\"state\",\"type\":\"string\",\"nullable\":true,\"metadata\":{}},{\"name\":\"street\",\"type\":\"string\",\"nullable\":true,\"metadata\":{}},{\"name\":\"subscriber_relationship_cd\",\"type\":\"string\",\"nullable\":true,\"metadata\":{}},{\"name\":\"zip\",\"type\":\"string\",\"nullable\":true,\"metadata\":{}}]},\"nullable\":true,\"metadata\":{}}]}"
        }
       ],
       "type": "table"
      }
     },
     "output_type": "display_data"
    }
   ],
   "source": [
    "claims_flat = functional_groups_flat.select(\n",
    "    col(\"tax_id\"),\n",
    "    col(\"receiver\"),\n",
    "    col(\"sender\"),\n",
    "    col(\"transaction_datetime\"),\n",
    "    col(\"transaction_type\"),\n",
    "    explode(col(\"Transaction.Claims\")).alias(\"Claim\")\n",
    ")\n",
    "\n",
    "display(claims_flat)"
   ]
  },
  {
   "cell_type": "code",
   "execution_count": 0,
   "metadata": {
    "application/vnd.databricks.v1+cell": {
     "cellMetadata": {
      "byteLimit": 2048000,
      "rowLimit": 10000
     },
     "inputWidgets": {},
     "nuid": "50ab1076-e9cf-4abd-b9aa-4fc3219aed36",
     "showTitle": false,
     "title": ""
    }
   },
   "outputs": [
    {
     "output_type": "display_data",
     "data": {
      "text/html": [
       "<style scoped>\n",
       "  .table-result-container {\n",
       "    max-height: 300px;\n",
       "    overflow: auto;\n",
       "  }\n",
       "  table, th, td {\n",
       "    border: 1px solid black;\n",
       "    border-collapse: collapse;\n",
       "  }\n",
       "  th, td {\n",
       "    padding: 5px;\n",
       "  }\n",
       "  th {\n",
       "    text-align: left;\n",
       "  }\n",
       "</style><div class='table-result-container'><table class='table-result'><thead style='background-color: white'><tr><th>tax_id</th><th>receiver</th><th>sender</th><th>transaction_datetime</th><th>transaction_type</th><th>admission_src_cd</th><th>admission_type</th><th>claim_amount</th><th>claim_id</th><th>date_format</th><th>discharge_status_cd</th><th>facility_type_code</th><th>service_date</th><th>service_time</th><th>admitting_dx_cd</th><th>external_injury_dx_cd</th><th>other_dx_cds</th><th>principal_dx_cd</th><th>reason_visit_dx_cd</th><th>city</th><th>dob</th><th>dob_format</th><th>gender_cd</th><th>name</th><th>patient_relationship_cd</th><th>state</th><th>street</th><th>subscriber_relationship_cd</th><th>zip</th><th>business_entity_type</th><th>payer_identifier</th><th>payer_identifier_cd</th><th>payer_name</th><th>attending</th><th>billing</th><th>facility</th><th>operating</th><th>other</th><th>referring</th><th>service_facility</th><th>servicing</th></tr></thead><tbody><tr><td>ZZ</td><td>123456789</td><td>CLEARINGHOUSE</td><td>20180508:0833</td><td>222</td><td></td><td></td><td>20</td><td>1805080AV3648339</td><td></td><td></td><td>57:B:1</td><td></td><td></td><td></td><td></td><td></td><td>F1120</td><td></td><td>VANCOUVER</td><td>19881225</td><td>D8</td><td>M</td><td>SUBSCRIBER JOHN J</td><td></td><td>WA</td><td>987 65TH PL</td><td>18</td><td>986640001</td><td>2</td><td>CHPWA</td><td>PI</td><td>COMMUNITY HEALTH PLAN OF WASHINGTON</td><td>null</td><td>List(VANCOUVER, 720000000, EI, Organization, BH CLINIC OF VANCOUVER, 1122334455, , WA, 12345 MAIN ST, , 98662)</td><td>null</td><td>null</td><td>null</td><td>List(, , , Individual,   , , , , , , )</td><td>List(, , , Organization, BH CLINIC OF VANCOUVER, 1122334455, , , , , )</td><td>List(, , , Individual, PROVIDER JAMES , 1112223338, PE, , , 261QR0405X, )</td></tr><tr><td>ZZ</td><td>123456789</td><td>CLEARINGHOUSE</td><td>20180508:0833</td><td>222</td><td></td><td></td><td>50.1</td><td>1805080AV3648347</td><td></td><td></td><td>57:B:1</td><td></td><td></td><td></td><td></td><td></td><td>F1520</td><td></td><td>VANCOUVER</td><td>19881031</td><td>D8</td><td>F</td><td>PATIENT SUSAN E</td><td></td><td>WA</td><td>765 43RD ST</td><td>18</td><td>986640002</td><td>2</td><td>CHPWA</td><td>PI</td><td>COMMUNITY HEALTH PLAN OF WASHINGTON</td><td>null</td><td>List(VANCOUVER, 720000000, EI, Organization, BH CLINIC OF VANCOUVER, 1122334455, , WA, 12345 MAIN ST, , 98662)</td><td>null</td><td>null</td><td>null</td><td>List(, , , Individual,   , , , , , , )</td><td>List(, , , Organization, BH CLINIC OF VANCOUVER, 1122334455, , , , , )</td><td>List(, , , Individual, PROVIDER SUSAN , 1112223346, PE, , , 261QR0405X, )</td></tr><tr><td>ZZ</td><td>123456789</td><td>CLEARINGHOUSE</td><td>20180508:0833</td><td>222</td><td></td><td></td><td>11.64</td><td>1805080AV3648340</td><td></td><td></td><td>57:B:1</td><td></td><td></td><td></td><td></td><td></td><td>F1020</td><td></td><td>VANCOUVER</td><td>19881225</td><td>D8</td><td>M</td><td>SUBSCRIBER JOHN J</td><td></td><td>WA</td><td>987 65TH PL</td><td>18</td><td>986640001</td><td>2</td><td>CHPWA</td><td>PI</td><td>COMMUNITY HEALTH PLAN OF WASHINGTON</td><td>null</td><td>List(VANCOUVER, 720000000, EI, Organization, BH CLINIC OF VANCOUVER, 1122334455, , WA, 12345 MAIN ST, , 98662)</td><td>null</td><td>null</td><td>null</td><td>List(, , , Individual,   , , , , , , )</td><td>List(, , , Organization, BH CLINIC OF VANCOUVER, 1122334455, , , , , )</td><td>List(, , , Individual, PROVIDER SUSAN , 1112223346, PE, , , 261QR0405X, )</td></tr><tr><td>ZZ</td><td>123456789</td><td>CLEARINGHOUSE</td><td>20180508:0833</td><td>222</td><td></td><td></td><td>234</td><td>1805080AV3648353</td><td></td><td></td><td>53:B:1</td><td></td><td></td><td></td><td></td><td></td><td>F251</td><td></td><td>VANCOUVER</td><td>19881031</td><td>D8</td><td>F</td><td>PATIENT SUSAN E</td><td></td><td>WA</td><td>765 43RD ST</td><td>18</td><td>986640002</td><td>2</td><td>CHPWA</td><td>PI</td><td>COMMUNITY HEALTH PLAN OF WASHINGTON</td><td>null</td><td>List(VANCOUVER, 720000000, EI, Organization, BH CLINIC OF VANCOUVER, 1122334455, , WA, 12345 MAIN ST, , 98662)</td><td>null</td><td>null</td><td>null</td><td>List(, , , Individual,   , , , , , , )</td><td>List(, , , Organization, BH CLINIC OF VANCOUVER, 1122334455, , , , , )</td><td>List(, , , Individual, PROVIDER SUSAN , 1112223346, PE, , , 251S00000X, )</td></tr><tr><td>ZZ</td><td>123456789</td><td>CLEARINGHOUSE</td><td>20180508:0833</td><td>222</td><td></td><td></td><td>20</td><td>1805080AV3648355</td><td></td><td></td><td>57:B:1</td><td></td><td></td><td></td><td></td><td></td><td>F1020</td><td></td><td>VANCOUVER</td><td>19881225</td><td>D8</td><td>M</td><td>SUBSCRIBER JOHN J</td><td></td><td>WA</td><td>987 65TH PL</td><td>18</td><td>986640001</td><td>2</td><td>CHPWA</td><td>PI</td><td>COMMUNITY HEALTH PLAN OF WASHINGTON</td><td>null</td><td>List(VANCOUVER, 720000000, EI, Organization, BH CLINIC OF VANCOUVER, 1122334455, , WA, 12345 MAIN ST, , 98662)</td><td>null</td><td>null</td><td>null</td><td>List(, , , Individual,   , , , , , , )</td><td>List(, , , Organization, BH CLINIC OF VANCOUVER, 1122334455, , , , , )</td><td>List(, , , Individual, PROVIDER JAMES , 1112223338, PE, , , 261QR0405X, )</td></tr><tr><td>ZZ</td><td>OO000011111</td><td>000000005D</td><td>20180710:214339</td><td>222</td><td></td><td></td><td>1800</td><td>ABC11111</td><td>D8</td><td></td><td>22:B:1</td><td>20180123</td><td>454</td><td></td><td></td><td></td><td>G5621</td><td></td><td>FAKE CITY</td><td>19650101</td><td>D8</td><td>M</td><td>ABCDEFGH IJKLMNOP B</td><td></td><td>CA</td><td>123 ADDRESS3</td><td>18</td><td>908021112</td><td>2</td><td>ABCMMPIO</td><td>PI</td><td>ABCHYI OL POI</td><td>null</td><td>List(FAKE CITY, 123456789, EI, Organization, YYYY HEALTHCARE ABC, 1222222220, , NY, 123 ADDRESS1, , 908021112)</td><td>null</td><td>null</td><td>null</td><td>List(, , , Individual, ABCD STUVW , 1234567890, , , , , )</td><td>List(, , , Organization, ABCDEFG HIJKLMN HOSP, 1122334460, , , , , )</td><td>List(, , , Individual, TUVWX MNOPQR , 1234567891, PE, , , 367500000X, )</td></tr><tr><td>ZZ</td><td>OO000011111</td><td>000000005D</td><td>20180710:214339</td><td>222</td><td></td><td></td><td>984</td><td>ABC111112</td><td>D8</td><td></td><td>22:B:1</td><td>20180713</td><td>454</td><td></td><td></td><td></td><td>K219</td><td></td><td>FAKE CITY</td><td>19760101</td><td>D8</td><td>F</td><td>ABCDEFGH IJKLMNOP B</td><td></td><td>CA</td><td>123 ADDRESS7</td><td>18</td><td>908021117</td><td>2</td><td>ABCMMPIO</td><td>PI</td><td>ABCHYI OL POI</td><td>null</td><td>List(FAKE CITY, 543211234, EI, Organization, ABCDE EFGHIJ GROUP PC, 1222222223, , CA, 123 ADDRESS5, , 908021115)</td><td>null</td><td>null</td><td>null</td><td>List(, , , Individual, ABCDEFG OPQRST A, 1122334460, , , , , )</td><td>List(, , , Organization, ABCDEFG HIJKLMN HOSP, 1122334450, , , , , )</td><td>List(, , , Individual, STUVW KLMNOP H, 1122334461, PE, , , 207L00000X, )</td></tr><tr><td>ZZ</td><td>OO000011111</td><td>000000005D</td><td>20180710:214339</td><td>222</td><td></td><td></td><td>1353</td><td>ABC111113</td><td>D8</td><td></td><td>22:B:1</td><td>20180713</td><td>454</td><td></td><td></td><td></td><td>K4090</td><td></td><td>FAKE CITY</td><td>20180409</td><td>D8</td><td>M</td><td>ABCDEFGH IJKLMNOP B</td><td></td><td>CA</td><td>123 ADDRESS11</td><td>18</td><td>908021111</td><td>2</td><td>YTHF281123456</td><td>PI</td><td>ABCHYI OL POI</td><td>null</td><td>List(FAKE CITY, 931013923, EI, Organization, ABCDE EFGHIJ GROUP PC, 1477527786, , CA, 123 ADDRESS9, , 908021119)</td><td>null</td><td>null</td><td>null</td><td>List(, , , Individual, ABCDEFGH OPQRSTU A, 1122334456, , , , , )</td><td>List(, , , Organization, ABCDEFG HIJKLMN HOSP, 1122334458, , , , , )</td><td>List(, , , Individual, STUVWX KLMNOPQ H, 1122334457, PE, , , 207L00000X, )</td></tr><tr><td>ZZ</td><td>OO000011111</td><td>000000005D</td><td>20180710:214339</td><td>222</td><td></td><td></td><td>1968</td><td>ABC111114</td><td>D8</td><td></td><td>22:B:1</td><td>20180713</td><td>454</td><td></td><td></td><td></td><td>Q423</td><td></td><td>FAKE CITY</td><td>20180504</td><td>D8</td><td>F</td><td>ABCDEFGH IJKLMNOP B</td><td></td><td>CA</td><td>123 ADDRESS13</td><td>18</td><td>908021113</td><td>2</td><td>YTHF281123456</td><td>PI</td><td>ABCHYI OL POI</td><td>null</td><td>List(FAKE CITY, 931013923, EI, Organization, ABCDE EFGHIJ GROUP PC, 1477527786, , CA, 123 ADDRESS9, , 908021119)</td><td>null</td><td>null</td><td>null</td><td>List(, , , Individual, ABCDEFGHI OPQRSTUV A, 1122334455, , , , , )</td><td>List(, , , Organization, ABCDEFG HIJKLMN HOSP, 1122334457, , , , , )</td><td>List(, , , Individual, STUVWXY KLMNOPQR H, 1122334456, PE, , , 207L00000X, )</td></tr><tr><td>ZZ</td><td>421406317</td><td>133052274</td><td>20180807:12022761</td><td>223</td><td>1</td><td>1</td><td>17166.7</td><td>TD-R192ICE00087</td><td>TM</td><td>01</td><td>11:A:1</td><td>0900</td><td>096</td><td>F39</td><td></td><td>F1319</td><td>F39</td><td></td><td>Elgin</td><td>19960215</td><td>D8</td><td>F</td><td>TEST MEMBER </td><td></td><td>IL</td><td>123 MAIN STREET</td><td>18</td><td>601200001</td><td>2</td><td>421406317</td><td>PI</td><td>CENTENE</td><td>List(, TD-R192ICE00087, D9, Individual,   , , , , , , )</td><td>List(WOODSTOCK, 999999999, EI, Organization, Test Provider, 9999999999, , IL, 123 MAIN STREET, , 600980000)</td><td>List(, , , Individual,   , , , , , , )</td><td>List(, , , Individual,   , , , , , , )</td><td>List(, , , Individual,   , , , , , , )</td><td>null</td><td>null</td><td>null</td></tr><tr><td>ZZ</td><td>XXXXX</td><td>XXXXXXX</td><td>20170617:1741</td><td>222</td><td></td><td></td><td>140</td><td>1000A</td><td></td><td></td><td>19:B:1</td><td></td><td></td><td></td><td></td><td></td><td>I10</td><td></td><td>CHICAGO</td><td>19570111</td><td>D8</td><td>M</td><td>BLOGGS JOE </td><td></td><td>IL</td><td>1 SOME BLVD</td><td>18</td><td>606129998</td><td>2</td><td>12345</td><td>PI</td><td>PAYER</td><td>null</td><td>List(CHICAGO, 999999999, EI, Organization, BILLING PROVIDER, 1122334455, , IL, 1234 SOME ROAD, , 606739999)</td><td>null</td><td>null</td><td>null</td><td>List(, , , Individual,   , , , , , , )</td><td>List(, , , Individual,   , , , , , , )</td><td>List(, , , Individual,   , , , , , , )</td></tr><tr><td>ZZ</td><td>XXXXX</td><td>XXXXXXX</td><td>20170617:1741</td><td>222</td><td></td><td></td><td>140</td><td>1001A</td><td></td><td></td><td>19:B:1</td><td></td><td></td><td></td><td></td><td></td><td>I10</td><td></td><td>CHICAGO</td><td>19700601</td><td>D8</td><td>M</td><td>BLOGGS FRED </td><td></td><td>IL</td><td>1 ANOTHER STR</td><td>18</td><td>606129998</td><td>2</td><td>12345</td><td>PI</td><td>PAYER</td><td>null</td><td>List(CHICAGO, 999999999, EI, Organization, BILLING PROVIDER, 1122334455, , IL, 1234 SOME ROAD, , 606739999)</td><td>null</td><td>null</td><td>null</td><td>List(, , , Individual,   , , , , , , )</td><td>List(, , , Individual,   , , , , , , )</td><td>List(, , , Individual,   , , , , , , )</td></tr><tr><td>30</td><td>421406317</td><td>030240928</td><td>20180807:12022605</td><td>222</td><td></td><td></td><td>600</td><td>TD-R192ICE00094</td><td>D8</td><td></td><td>11:B:1</td><td>20180625</td><td>435</td><td></td><td></td><td></td><td>F341</td><td></td><td>Elgin</td><td>19960215</td><td>D8</td><td>F</td><td>TEST MEMBER </td><td></td><td>IL</td><td>123 MAIN STREET</td><td>18</td><td>601200001</td><td>2</td><td>421406317</td><td>PI</td><td>CENTENE</td><td>null</td><td>List(WOODSTOCK, 999999999, EI, Organization, Test Provider, 9999999999, , IL, 123 MAIN STREET, , 600980000)</td><td>null</td><td>null</td><td>null</td><td>List(, , , Individual,   , , , , , , )</td><td>List(, , , Individual,   , , , , , , )</td><td>List(, , , Individual,   , , , , , , )</td></tr></tbody></table></div>"
      ]
     },
     "metadata": {
      "application/vnd.databricks.v1+output": {
       "addedWidgets": {},
       "aggData": [],
       "aggError": "",
       "aggOverflow": false,
       "aggSchema": [],
       "aggSeriesLimitReached": false,
       "aggType": "",
       "arguments": {},
       "columnCustomDisplayInfos": {},
       "data": [
        [
         "ZZ",
         "123456789",
         "CLEARINGHOUSE",
         "20180508:0833",
         "222",
         "",
         "",
         "20",
         "1805080AV3648339",
         "",
         "",
         "57:B:1",
         "",
         "",
         "",
         "",
         "",
         "F1120",
         "",
         "VANCOUVER",
         "19881225",
         "D8",
         "M",
         "SUBSCRIBER JOHN J",
         "",
         "WA",
         "987 65TH PL",
         "18",
         "986640001",
         "2",
         "CHPWA",
         "PI",
         "COMMUNITY HEALTH PLAN OF WASHINGTON",
         null,
         [
          "VANCOUVER",
          "720000000",
          "EI",
          "Organization",
          "BH CLINIC OF VANCOUVER",
          "1122334455",
          "",
          "WA",
          "12345 MAIN ST",
          "",
          "98662"
         ],
         null,
         null,
         null,
         [
          "",
          "",
          "",
          "Individual",
          "  ",
          "",
          "",
          "",
          "",
          "",
          ""
         ],
         [
          "",
          "",
          "",
          "Organization",
          "BH CLINIC OF VANCOUVER",
          "1122334455",
          "",
          "",
          "",
          "",
          ""
         ],
         [
          "",
          "",
          "",
          "Individual",
          "PROVIDER JAMES ",
          "1112223338",
          "PE",
          "",
          "",
          "261QR0405X",
          ""
         ]
        ],
        [
         "ZZ",
         "123456789",
         "CLEARINGHOUSE",
         "20180508:0833",
         "222",
         "",
         "",
         "50.1",
         "1805080AV3648347",
         "",
         "",
         "57:B:1",
         "",
         "",
         "",
         "",
         "",
         "F1520",
         "",
         "VANCOUVER",
         "19881031",
         "D8",
         "F",
         "PATIENT SUSAN E",
         "",
         "WA",
         "765 43RD ST",
         "18",
         "986640002",
         "2",
         "CHPWA",
         "PI",
         "COMMUNITY HEALTH PLAN OF WASHINGTON",
         null,
         [
          "VANCOUVER",
          "720000000",
          "EI",
          "Organization",
          "BH CLINIC OF VANCOUVER",
          "1122334455",
          "",
          "WA",
          "12345 MAIN ST",
          "",
          "98662"
         ],
         null,
         null,
         null,
         [
          "",
          "",
          "",
          "Individual",
          "  ",
          "",
          "",
          "",
          "",
          "",
          ""
         ],
         [
          "",
          "",
          "",
          "Organization",
          "BH CLINIC OF VANCOUVER",
          "1122334455",
          "",
          "",
          "",
          "",
          ""
         ],
         [
          "",
          "",
          "",
          "Individual",
          "PROVIDER SUSAN ",
          "1112223346",
          "PE",
          "",
          "",
          "261QR0405X",
          ""
         ]
        ],
        [
         "ZZ",
         "123456789",
         "CLEARINGHOUSE",
         "20180508:0833",
         "222",
         "",
         "",
         "11.64",
         "1805080AV3648340",
         "",
         "",
         "57:B:1",
         "",
         "",
         "",
         "",
         "",
         "F1020",
         "",
         "VANCOUVER",
         "19881225",
         "D8",
         "M",
         "SUBSCRIBER JOHN J",
         "",
         "WA",
         "987 65TH PL",
         "18",
         "986640001",
         "2",
         "CHPWA",
         "PI",
         "COMMUNITY HEALTH PLAN OF WASHINGTON",
         null,
         [
          "VANCOUVER",
          "720000000",
          "EI",
          "Organization",
          "BH CLINIC OF VANCOUVER",
          "1122334455",
          "",
          "WA",
          "12345 MAIN ST",
          "",
          "98662"
         ],
         null,
         null,
         null,
         [
          "",
          "",
          "",
          "Individual",
          "  ",
          "",
          "",
          "",
          "",
          "",
          ""
         ],
         [
          "",
          "",
          "",
          "Organization",
          "BH CLINIC OF VANCOUVER",
          "1122334455",
          "",
          "",
          "",
          "",
          ""
         ],
         [
          "",
          "",
          "",
          "Individual",
          "PROVIDER SUSAN ",
          "1112223346",
          "PE",
          "",
          "",
          "261QR0405X",
          ""
         ]
        ],
        [
         "ZZ",
         "123456789",
         "CLEARINGHOUSE",
         "20180508:0833",
         "222",
         "",
         "",
         "234",
         "1805080AV3648353",
         "",
         "",
         "53:B:1",
         "",
         "",
         "",
         "",
         "",
         "F251",
         "",
         "VANCOUVER",
         "19881031",
         "D8",
         "F",
         "PATIENT SUSAN E",
         "",
         "WA",
         "765 43RD ST",
         "18",
         "986640002",
         "2",
         "CHPWA",
         "PI",
         "COMMUNITY HEALTH PLAN OF WASHINGTON",
         null,
         [
          "VANCOUVER",
          "720000000",
          "EI",
          "Organization",
          "BH CLINIC OF VANCOUVER",
          "1122334455",
          "",
          "WA",
          "12345 MAIN ST",
          "",
          "98662"
         ],
         null,
         null,
         null,
         [
          "",
          "",
          "",
          "Individual",
          "  ",
          "",
          "",
          "",
          "",
          "",
          ""
         ],
         [
          "",
          "",
          "",
          "Organization",
          "BH CLINIC OF VANCOUVER",
          "1122334455",
          "",
          "",
          "",
          "",
          ""
         ],
         [
          "",
          "",
          "",
          "Individual",
          "PROVIDER SUSAN ",
          "1112223346",
          "PE",
          "",
          "",
          "251S00000X",
          ""
         ]
        ],
        [
         "ZZ",
         "123456789",
         "CLEARINGHOUSE",
         "20180508:0833",
         "222",
         "",
         "",
         "20",
         "1805080AV3648355",
         "",
         "",
         "57:B:1",
         "",
         "",
         "",
         "",
         "",
         "F1020",
         "",
         "VANCOUVER",
         "19881225",
         "D8",
         "M",
         "SUBSCRIBER JOHN J",
         "",
         "WA",
         "987 65TH PL",
         "18",
         "986640001",
         "2",
         "CHPWA",
         "PI",
         "COMMUNITY HEALTH PLAN OF WASHINGTON",
         null,
         [
          "VANCOUVER",
          "720000000",
          "EI",
          "Organization",
          "BH CLINIC OF VANCOUVER",
          "1122334455",
          "",
          "WA",
          "12345 MAIN ST",
          "",
          "98662"
         ],
         null,
         null,
         null,
         [
          "",
          "",
          "",
          "Individual",
          "  ",
          "",
          "",
          "",
          "",
          "",
          ""
         ],
         [
          "",
          "",
          "",
          "Organization",
          "BH CLINIC OF VANCOUVER",
          "1122334455",
          "",
          "",
          "",
          "",
          ""
         ],
         [
          "",
          "",
          "",
          "Individual",
          "PROVIDER JAMES ",
          "1112223338",
          "PE",
          "",
          "",
          "261QR0405X",
          ""
         ]
        ],
        [
         "ZZ",
         "OO000011111",
         "000000005D",
         "20180710:214339",
         "222",
         "",
         "",
         "1800",
         "ABC11111",
         "D8",
         "",
         "22:B:1",
         "20180123",
         "454",
         "",
         "",
         "",
         "G5621",
         "",
         "FAKE CITY",
         "19650101",
         "D8",
         "M",
         "ABCDEFGH IJKLMNOP B",
         "",
         "CA",
         "123 ADDRESS3",
         "18",
         "908021112",
         "2",
         "ABCMMPIO",
         "PI",
         "ABCHYI OL POI",
         null,
         [
          "FAKE CITY",
          "123456789",
          "EI",
          "Organization",
          "YYYY HEALTHCARE ABC",
          "1222222220",
          "",
          "NY",
          "123 ADDRESS1",
          "",
          "908021112"
         ],
         null,
         null,
         null,
         [
          "",
          "",
          "",
          "Individual",
          "ABCD STUVW ",
          "1234567890",
          "",
          "",
          "",
          "",
          ""
         ],
         [
          "",
          "",
          "",
          "Organization",
          "ABCDEFG HIJKLMN HOSP",
          "1122334460",
          "",
          "",
          "",
          "",
          ""
         ],
         [
          "",
          "",
          "",
          "Individual",
          "TUVWX MNOPQR ",
          "1234567891",
          "PE",
          "",
          "",
          "367500000X",
          ""
         ]
        ],
        [
         "ZZ",
         "OO000011111",
         "000000005D",
         "20180710:214339",
         "222",
         "",
         "",
         "984",
         "ABC111112",
         "D8",
         "",
         "22:B:1",
         "20180713",
         "454",
         "",
         "",
         "",
         "K219",
         "",
         "FAKE CITY",
         "19760101",
         "D8",
         "F",
         "ABCDEFGH IJKLMNOP B",
         "",
         "CA",
         "123 ADDRESS7",
         "18",
         "908021117",
         "2",
         "ABCMMPIO",
         "PI",
         "ABCHYI OL POI",
         null,
         [
          "FAKE CITY",
          "543211234",
          "EI",
          "Organization",
          "ABCDE EFGHIJ GROUP PC",
          "1222222223",
          "",
          "CA",
          "123 ADDRESS5",
          "",
          "908021115"
         ],
         null,
         null,
         null,
         [
          "",
          "",
          "",
          "Individual",
          "ABCDEFG OPQRST A",
          "1122334460",
          "",
          "",
          "",
          "",
          ""
         ],
         [
          "",
          "",
          "",
          "Organization",
          "ABCDEFG HIJKLMN HOSP",
          "1122334450",
          "",
          "",
          "",
          "",
          ""
         ],
         [
          "",
          "",
          "",
          "Individual",
          "STUVW KLMNOP H",
          "1122334461",
          "PE",
          "",
          "",
          "207L00000X",
          ""
         ]
        ],
        [
         "ZZ",
         "OO000011111",
         "000000005D",
         "20180710:214339",
         "222",
         "",
         "",
         "1353",
         "ABC111113",
         "D8",
         "",
         "22:B:1",
         "20180713",
         "454",
         "",
         "",
         "",
         "K4090",
         "",
         "FAKE CITY",
         "20180409",
         "D8",
         "M",
         "ABCDEFGH IJKLMNOP B",
         "",
         "CA",
         "123 ADDRESS11",
         "18",
         "908021111",
         "2",
         "YTHF281123456",
         "PI",
         "ABCHYI OL POI",
         null,
         [
          "FAKE CITY",
          "931013923",
          "EI",
          "Organization",
          "ABCDE EFGHIJ GROUP PC",
          "1477527786",
          "",
          "CA",
          "123 ADDRESS9",
          "",
          "908021119"
         ],
         null,
         null,
         null,
         [
          "",
          "",
          "",
          "Individual",
          "ABCDEFGH OPQRSTU A",
          "1122334456",
          "",
          "",
          "",
          "",
          ""
         ],
         [
          "",
          "",
          "",
          "Organization",
          "ABCDEFG HIJKLMN HOSP",
          "1122334458",
          "",
          "",
          "",
          "",
          ""
         ],
         [
          "",
          "",
          "",
          "Individual",
          "STUVWX KLMNOPQ H",
          "1122334457",
          "PE",
          "",
          "",
          "207L00000X",
          ""
         ]
        ],
        [
         "ZZ",
         "OO000011111",
         "000000005D",
         "20180710:214339",
         "222",
         "",
         "",
         "1968",
         "ABC111114",
         "D8",
         "",
         "22:B:1",
         "20180713",
         "454",
         "",
         "",
         "",
         "Q423",
         "",
         "FAKE CITY",
         "20180504",
         "D8",
         "F",
         "ABCDEFGH IJKLMNOP B",
         "",
         "CA",
         "123 ADDRESS13",
         "18",
         "908021113",
         "2",
         "YTHF281123456",
         "PI",
         "ABCHYI OL POI",
         null,
         [
          "FAKE CITY",
          "931013923",
          "EI",
          "Organization",
          "ABCDE EFGHIJ GROUP PC",
          "1477527786",
          "",
          "CA",
          "123 ADDRESS9",
          "",
          "908021119"
         ],
         null,
         null,
         null,
         [
          "",
          "",
          "",
          "Individual",
          "ABCDEFGHI OPQRSTUV A",
          "1122334455",
          "",
          "",
          "",
          "",
          ""
         ],
         [
          "",
          "",
          "",
          "Organization",
          "ABCDEFG HIJKLMN HOSP",
          "1122334457",
          "",
          "",
          "",
          "",
          ""
         ],
         [
          "",
          "",
          "",
          "Individual",
          "STUVWXY KLMNOPQR H",
          "1122334456",
          "PE",
          "",
          "",
          "207L00000X",
          ""
         ]
        ],
        [
         "ZZ",
         "421406317",
         "133052274",
         "20180807:12022761",
         "223",
         "1",
         "1",
         "17166.7",
         "TD-R192ICE00087",
         "TM",
         "01",
         "11:A:1",
         "0900",
         "096",
         "F39",
         "",
         "F1319",
         "F39",
         "",
         "Elgin",
         "19960215",
         "D8",
         "F",
         "TEST MEMBER ",
         "",
         "IL",
         "123 MAIN STREET",
         "18",
         "601200001",
         "2",
         "421406317",
         "PI",
         "CENTENE",
         [
          "",
          "TD-R192ICE00087",
          "D9",
          "Individual",
          "  ",
          "",
          "",
          "",
          "",
          "",
          ""
         ],
         [
          "WOODSTOCK",
          "999999999",
          "EI",
          "Organization",
          "Test Provider",
          "9999999999",
          "",
          "IL",
          "123 MAIN STREET",
          "",
          "600980000"
         ],
         [
          "",
          "",
          "",
          "Individual",
          "  ",
          "",
          "",
          "",
          "",
          "",
          ""
         ],
         [
          "",
          "",
          "",
          "Individual",
          "  ",
          "",
          "",
          "",
          "",
          "",
          ""
         ],
         [
          "",
          "",
          "",
          "Individual",
          "  ",
          "",
          "",
          "",
          "",
          "",
          ""
         ],
         null,
         null,
         null
        ],
        [
         "ZZ",
         "XXXXX",
         "XXXXXXX",
         "20170617:1741",
         "222",
         "",
         "",
         "140",
         "1000A",
         "",
         "",
         "19:B:1",
         "",
         "",
         "",
         "",
         "",
         "I10",
         "",
         "CHICAGO",
         "19570111",
         "D8",
         "M",
         "BLOGGS JOE ",
         "",
         "IL",
         "1 SOME BLVD",
         "18",
         "606129998",
         "2",
         "12345",
         "PI",
         "PAYER",
         null,
         [
          "CHICAGO",
          "999999999",
          "EI",
          "Organization",
          "BILLING PROVIDER",
          "1122334455",
          "",
          "IL",
          "1234 SOME ROAD",
          "",
          "606739999"
         ],
         null,
         null,
         null,
         [
          "",
          "",
          "",
          "Individual",
          "  ",
          "",
          "",
          "",
          "",
          "",
          ""
         ],
         [
          "",
          "",
          "",
          "Individual",
          "  ",
          "",
          "",
          "",
          "",
          "",
          ""
         ],
         [
          "",
          "",
          "",
          "Individual",
          "  ",
          "",
          "",
          "",
          "",
          "",
          ""
         ]
        ],
        [
         "ZZ",
         "XXXXX",
         "XXXXXXX",
         "20170617:1741",
         "222",
         "",
         "",
         "140",
         "1001A",
         "",
         "",
         "19:B:1",
         "",
         "",
         "",
         "",
         "",
         "I10",
         "",
         "CHICAGO",
         "19700601",
         "D8",
         "M",
         "BLOGGS FRED ",
         "",
         "IL",
         "1 ANOTHER STR",
         "18",
         "606129998",
         "2",
         "12345",
         "PI",
         "PAYER",
         null,
         [
          "CHICAGO",
          "999999999",
          "EI",
          "Organization",
          "BILLING PROVIDER",
          "1122334455",
          "",
          "IL",
          "1234 SOME ROAD",
          "",
          "606739999"
         ],
         null,
         null,
         null,
         [
          "",
          "",
          "",
          "Individual",
          "  ",
          "",
          "",
          "",
          "",
          "",
          ""
         ],
         [
          "",
          "",
          "",
          "Individual",
          "  ",
          "",
          "",
          "",
          "",
          "",
          ""
         ],
         [
          "",
          "",
          "",
          "Individual",
          "  ",
          "",
          "",
          "",
          "",
          "",
          ""
         ]
        ],
        [
         "30",
         "421406317",
         "030240928",
         "20180807:12022605",
         "222",
         "",
         "",
         "600",
         "TD-R192ICE00094",
         "D8",
         "",
         "11:B:1",
         "20180625",
         "435",
         "",
         "",
         "",
         "F341",
         "",
         "Elgin",
         "19960215",
         "D8",
         "F",
         "TEST MEMBER ",
         "",
         "IL",
         "123 MAIN STREET",
         "18",
         "601200001",
         "2",
         "421406317",
         "PI",
         "CENTENE",
         null,
         [
          "WOODSTOCK",
          "999999999",
          "EI",
          "Organization",
          "Test Provider",
          "9999999999",
          "",
          "IL",
          "123 MAIN STREET",
          "",
          "600980000"
         ],
         null,
         null,
         null,
         [
          "",
          "",
          "",
          "Individual",
          "  ",
          "",
          "",
          "",
          "",
          "",
          ""
         ],
         [
          "",
          "",
          "",
          "Individual",
          "  ",
          "",
          "",
          "",
          "",
          "",
          ""
         ],
         [
          "",
          "",
          "",
          "Individual",
          "  ",
          "",
          "",
          "",
          "",
          "",
          ""
         ]
        ]
       ],
       "datasetInfos": [],
       "dbfsResultPath": null,
       "isJsonSchema": true,
       "metadata": {},
       "overflow": false,
       "plotOptions": {
        "customPlotOptions": {},
        "displayType": "table",
        "pivotAggregation": null,
        "pivotColumns": null,
        "xColumns": null,
        "yColumns": null
       },
       "removedWidgets": [],
       "schema": [
        {
         "metadata": "{}",
         "name": "tax_id",
         "type": "\"string\""
        },
        {
         "metadata": "{}",
         "name": "receiver",
         "type": "\"string\""
        },
        {
         "metadata": "{}",
         "name": "sender",
         "type": "\"string\""
        },
        {
         "metadata": "{}",
         "name": "transaction_datetime",
         "type": "\"string\""
        },
        {
         "metadata": "{}",
         "name": "transaction_type",
         "type": "\"string\""
        },
        {
         "metadata": "{}",
         "name": "admission_src_cd",
         "type": "\"string\""
        },
        {
         "metadata": "{}",
         "name": "admission_type",
         "type": "\"string\""
        },
        {
         "metadata": "{}",
         "name": "claim_amount",
         "type": "\"string\""
        },
        {
         "metadata": "{}",
         "name": "claim_id",
         "type": "\"string\""
        },
        {
         "metadata": "{}",
         "name": "date_format",
         "type": "\"string\""
        },
        {
         "metadata": "{}",
         "name": "discharge_status_cd",
         "type": "\"string\""
        },
        {
         "metadata": "{}",
         "name": "facility_type_code",
         "type": "\"string\""
        },
        {
         "metadata": "{}",
         "name": "service_date",
         "type": "\"string\""
        },
        {
         "metadata": "{}",
         "name": "service_time",
         "type": "\"string\""
        },
        {
         "metadata": "{}",
         "name": "admitting_dx_cd",
         "type": "\"string\""
        },
        {
         "metadata": "{}",
         "name": "external_injury_dx_cd",
         "type": "\"string\""
        },
        {
         "metadata": "{}",
         "name": "other_dx_cds",
         "type": "\"string\""
        },
        {
         "metadata": "{}",
         "name": "principal_dx_cd",
         "type": "\"string\""
        },
        {
         "metadata": "{}",
         "name": "reason_visit_dx_cd",
         "type": "\"string\""
        },
        {
         "metadata": "{}",
         "name": "city",
         "type": "\"string\""
        },
        {
         "metadata": "{}",
         "name": "dob",
         "type": "\"string\""
        },
        {
         "metadata": "{}",
         "name": "dob_format",
         "type": "\"string\""
        },
        {
         "metadata": "{}",
         "name": "gender_cd",
         "type": "\"string\""
        },
        {
         "metadata": "{}",
         "name": "name",
         "type": "\"string\""
        },
        {
         "metadata": "{}",
         "name": "patient_relationship_cd",
         "type": "\"string\""
        },
        {
         "metadata": "{}",
         "name": "state",
         "type": "\"string\""
        },
        {
         "metadata": "{}",
         "name": "street",
         "type": "\"string\""
        },
        {
         "metadata": "{}",
         "name": "subscriber_relationship_cd",
         "type": "\"string\""
        },
        {
         "metadata": "{}",
         "name": "zip",
         "type": "\"string\""
        },
        {
         "metadata": "{}",
         "name": "business_entity_type",
         "type": "\"string\""
        },
        {
         "metadata": "{}",
         "name": "payer_identifier",
         "type": "\"string\""
        },
        {
         "metadata": "{}",
         "name": "payer_identifier_cd",
         "type": "\"string\""
        },
        {
         "metadata": "{}",
         "name": "payer_name",
         "type": "\"string\""
        },
        {
         "metadata": "{}",
         "name": "attending",
         "type": "{\"type\":\"struct\",\"fields\":[{\"name\":\"city\",\"type\":\"string\",\"nullable\":true,\"metadata\":{}},{\"name\":\"ein\",\"type\":\"string\",\"nullable\":true,\"metadata\":{}},{\"name\":\"ein_type\",\"type\":\"string\",\"nullable\":true,\"metadata\":{}},{\"name\":\"entity_type\",\"type\":\"string\",\"nullable\":true,\"metadata\":{}},{\"name\":\"name\",\"type\":\"string\",\"nullable\":true,\"metadata\":{}},{\"name\":\"npi\",\"type\":\"string\",\"nullable\":true,\"metadata\":{}},{\"name\":\"provider_role\",\"type\":\"string\",\"nullable\":true,\"metadata\":{}},{\"name\":\"state\",\"type\":\"string\",\"nullable\":true,\"metadata\":{}},{\"name\":\"street\",\"type\":\"string\",\"nullable\":true,\"metadata\":{}},{\"name\":\"taxonomy\",\"type\":\"string\",\"nullable\":true,\"metadata\":{}},{\"name\":\"zip\",\"type\":\"string\",\"nullable\":true,\"metadata\":{}}]}"
        },
        {
         "metadata": "{}",
         "name": "billing",
         "type": "{\"type\":\"struct\",\"fields\":[{\"name\":\"city\",\"type\":\"string\",\"nullable\":true,\"metadata\":{}},{\"name\":\"ein\",\"type\":\"string\",\"nullable\":true,\"metadata\":{}},{\"name\":\"ein_type\",\"type\":\"string\",\"nullable\":true,\"metadata\":{}},{\"name\":\"entity_type\",\"type\":\"string\",\"nullable\":true,\"metadata\":{}},{\"name\":\"name\",\"type\":\"string\",\"nullable\":true,\"metadata\":{}},{\"name\":\"npi\",\"type\":\"string\",\"nullable\":true,\"metadata\":{}},{\"name\":\"provider_role\",\"type\":\"string\",\"nullable\":true,\"metadata\":{}},{\"name\":\"state\",\"type\":\"string\",\"nullable\":true,\"metadata\":{}},{\"name\":\"street\",\"type\":\"string\",\"nullable\":true,\"metadata\":{}},{\"name\":\"taxonomy\",\"type\":\"string\",\"nullable\":true,\"metadata\":{}},{\"name\":\"zip\",\"type\":\"string\",\"nullable\":true,\"metadata\":{}}]}"
        },
        {
         "metadata": "{}",
         "name": "facility",
         "type": "{\"type\":\"struct\",\"fields\":[{\"name\":\"city\",\"type\":\"string\",\"nullable\":true,\"metadata\":{}},{\"name\":\"ein\",\"type\":\"string\",\"nullable\":true,\"metadata\":{}},{\"name\":\"ein_type\",\"type\":\"string\",\"nullable\":true,\"metadata\":{}},{\"name\":\"entity_type\",\"type\":\"string\",\"nullable\":true,\"metadata\":{}},{\"name\":\"name\",\"type\":\"string\",\"nullable\":true,\"metadata\":{}},{\"name\":\"npi\",\"type\":\"string\",\"nullable\":true,\"metadata\":{}},{\"name\":\"provider_role\",\"type\":\"string\",\"nullable\":true,\"metadata\":{}},{\"name\":\"state\",\"type\":\"string\",\"nullable\":true,\"metadata\":{}},{\"name\":\"street\",\"type\":\"string\",\"nullable\":true,\"metadata\":{}},{\"name\":\"taxonomy\",\"type\":\"string\",\"nullable\":true,\"metadata\":{}},{\"name\":\"zip\",\"type\":\"string\",\"nullable\":true,\"metadata\":{}}]}"
        },
        {
         "metadata": "{}",
         "name": "operating",
         "type": "{\"type\":\"struct\",\"fields\":[{\"name\":\"city\",\"type\":\"string\",\"nullable\":true,\"metadata\":{}},{\"name\":\"ein\",\"type\":\"string\",\"nullable\":true,\"metadata\":{}},{\"name\":\"ein_type\",\"type\":\"string\",\"nullable\":true,\"metadata\":{}},{\"name\":\"entity_type\",\"type\":\"string\",\"nullable\":true,\"metadata\":{}},{\"name\":\"name\",\"type\":\"string\",\"nullable\":true,\"metadata\":{}},{\"name\":\"npi\",\"type\":\"string\",\"nullable\":true,\"metadata\":{}},{\"name\":\"provider_role\",\"type\":\"string\",\"nullable\":true,\"metadata\":{}},{\"name\":\"state\",\"type\":\"string\",\"nullable\":true,\"metadata\":{}},{\"name\":\"street\",\"type\":\"string\",\"nullable\":true,\"metadata\":{}},{\"name\":\"taxonomy\",\"type\":\"string\",\"nullable\":true,\"metadata\":{}},{\"name\":\"zip\",\"type\":\"string\",\"nullable\":true,\"metadata\":{}}]}"
        },
        {
         "metadata": "{}",
         "name": "other",
         "type": "{\"type\":\"struct\",\"fields\":[{\"name\":\"city\",\"type\":\"string\",\"nullable\":true,\"metadata\":{}},{\"name\":\"ein\",\"type\":\"string\",\"nullable\":true,\"metadata\":{}},{\"name\":\"ein_type\",\"type\":\"string\",\"nullable\":true,\"metadata\":{}},{\"name\":\"entity_type\",\"type\":\"string\",\"nullable\":true,\"metadata\":{}},{\"name\":\"name\",\"type\":\"string\",\"nullable\":true,\"metadata\":{}},{\"name\":\"npi\",\"type\":\"string\",\"nullable\":true,\"metadata\":{}},{\"name\":\"provider_role\",\"type\":\"string\",\"nullable\":true,\"metadata\":{}},{\"name\":\"state\",\"type\":\"string\",\"nullable\":true,\"metadata\":{}},{\"name\":\"street\",\"type\":\"string\",\"nullable\":true,\"metadata\":{}},{\"name\":\"taxonomy\",\"type\":\"string\",\"nullable\":true,\"metadata\":{}},{\"name\":\"zip\",\"type\":\"string\",\"nullable\":true,\"metadata\":{}}]}"
        },
        {
         "metadata": "{}",
         "name": "referring",
         "type": "{\"type\":\"struct\",\"fields\":[{\"name\":\"city\",\"type\":\"string\",\"nullable\":true,\"metadata\":{}},{\"name\":\"ein\",\"type\":\"string\",\"nullable\":true,\"metadata\":{}},{\"name\":\"ein_type\",\"type\":\"string\",\"nullable\":true,\"metadata\":{}},{\"name\":\"entity_type\",\"type\":\"string\",\"nullable\":true,\"metadata\":{}},{\"name\":\"name\",\"type\":\"string\",\"nullable\":true,\"metadata\":{}},{\"name\":\"npi\",\"type\":\"string\",\"nullable\":true,\"metadata\":{}},{\"name\":\"provider_role\",\"type\":\"string\",\"nullable\":true,\"metadata\":{}},{\"name\":\"state\",\"type\":\"string\",\"nullable\":true,\"metadata\":{}},{\"name\":\"street\",\"type\":\"string\",\"nullable\":true,\"metadata\":{}},{\"name\":\"taxonomy\",\"type\":\"string\",\"nullable\":true,\"metadata\":{}},{\"name\":\"zip\",\"type\":\"string\",\"nullable\":true,\"metadata\":{}}]}"
        },
        {
         "metadata": "{}",
         "name": "service_facility",
         "type": "{\"type\":\"struct\",\"fields\":[{\"name\":\"city\",\"type\":\"string\",\"nullable\":true,\"metadata\":{}},{\"name\":\"ein\",\"type\":\"string\",\"nullable\":true,\"metadata\":{}},{\"name\":\"ein_type\",\"type\":\"string\",\"nullable\":true,\"metadata\":{}},{\"name\":\"entity_type\",\"type\":\"string\",\"nullable\":true,\"metadata\":{}},{\"name\":\"name\",\"type\":\"string\",\"nullable\":true,\"metadata\":{}},{\"name\":\"npi\",\"type\":\"string\",\"nullable\":true,\"metadata\":{}},{\"name\":\"provider_role\",\"type\":\"string\",\"nullable\":true,\"metadata\":{}},{\"name\":\"state\",\"type\":\"string\",\"nullable\":true,\"metadata\":{}},{\"name\":\"street\",\"type\":\"string\",\"nullable\":true,\"metadata\":{}},{\"name\":\"taxonomy\",\"type\":\"string\",\"nullable\":true,\"metadata\":{}},{\"name\":\"zip\",\"type\":\"string\",\"nullable\":true,\"metadata\":{}}]}"
        },
        {
         "metadata": "{}",
         "name": "servicing",
         "type": "{\"type\":\"struct\",\"fields\":[{\"name\":\"city\",\"type\":\"string\",\"nullable\":true,\"metadata\":{}},{\"name\":\"ein\",\"type\":\"string\",\"nullable\":true,\"metadata\":{}},{\"name\":\"ein_type\",\"type\":\"string\",\"nullable\":true,\"metadata\":{}},{\"name\":\"entity_type\",\"type\":\"string\",\"nullable\":true,\"metadata\":{}},{\"name\":\"name\",\"type\":\"string\",\"nullable\":true,\"metadata\":{}},{\"name\":\"npi\",\"type\":\"string\",\"nullable\":true,\"metadata\":{}},{\"name\":\"provider_role\",\"type\":\"string\",\"nullable\":true,\"metadata\":{}},{\"name\":\"state\",\"type\":\"string\",\"nullable\":true,\"metadata\":{}},{\"name\":\"street\",\"type\":\"string\",\"nullable\":true,\"metadata\":{}},{\"name\":\"taxonomy\",\"type\":\"string\",\"nullable\":true,\"metadata\":{}},{\"name\":\"zip\",\"type\":\"string\",\"nullable\":true,\"metadata\":{}}]}"
        }
       ],
       "type": "table"
      }
     },
     "output_type": "display_data"
    }
   ],
   "source": [
    "claim_header_flat = claims_flat.selectExpr(\n",
    "    \"tax_id\",\n",
    "    \"receiver\",\n",
    "    \"sender\",\n",
    "    \"transaction_datetime\",\n",
    "    \"transaction_type\",\n",
    "    \"Claim.claim_header.*\",\n",
    "    \"Claim.diagnosis.*\",\n",
    "    \"Claim.patient.*\",\n",
    "    \"Claim.payer.*\",\n",
    "    \"Claim.providers.*\"\n",
    ")\n",
    "\n",
    "display(claim_header_flat)"
   ]
  },
  {
   "cell_type": "code",
   "execution_count": 0,
   "metadata": {
    "application/vnd.databricks.v1+cell": {
     "cellMetadata": {
      "byteLimit": 2048000,
      "rowLimit": 10000
     },
     "inputWidgets": {},
     "nuid": "8872c4e3-a6e2-4867-a477-adbd237f4f89",
     "showTitle": false,
     "title": ""
    }
   },
   "outputs": [
    {
     "output_type": "display_data",
     "data": {
      "text/html": [
       "<style scoped>\n",
       "  .table-result-container {\n",
       "    max-height: 300px;\n",
       "    overflow: auto;\n",
       "  }\n",
       "  table, th, td {\n",
       "    border: 1px solid black;\n",
       "    border-collapse: collapse;\n",
       "  }\n",
       "  th, td {\n",
       "    padding: 5px;\n",
       "  }\n",
       "  th {\n",
       "    text-align: left;\n",
       "  }\n",
       "</style><div class='table-result-container'><table class='table-result'><thead style='background-color: white'><tr><th>claim_id</th><th>claim_line_number</th><th>dg_cd_pntr</th><th>line_chrg_amt</th><th>modifier_cds</th><th>place_of_service</th><th>prcdr_cd</th><th>prcdr_cd_type</th><th>revenue_cd</th><th>service_date</th><th>service_date_format</th><th>service_time</th><th>units</th><th>units_measurement</th></tr></thead><tbody><tr><td>1805080AV3648339</td><td>1</td><td>1</td><td>20</td><td></td><td></td><td>H0003</td><td>HC</td><td>null</td><td>20180428</td><td>D8</td><td>472</td><td>1</td><td>UN</td></tr><tr><td>1805080AV3648347</td><td>1</td><td>1:2</td><td>50.1</td><td>HF</td><td></td><td>96153</td><td>HC</td><td>null</td><td>20180426</td><td>D8</td><td>472</td><td>6</td><td>UN</td></tr><tr><td>1805080AV3648340</td><td>1</td><td>1:2</td><td>11.64</td><td>HF</td><td></td><td>T1017</td><td>HC</td><td>null</td><td>20180427</td><td>D8</td><td>472</td><td>1</td><td>UN</td></tr><tr><td>1805080AV3648353</td><td>1</td><td>1</td><td>234</td><td></td><td></td><td>90853</td><td>HC</td><td>null</td><td>20180427</td><td>D8</td><td>472</td><td>120</td><td>UN</td></tr><tr><td>1805080AV3648355</td><td>1</td><td>1:2</td><td>20</td><td></td><td></td><td>H0003</td><td>HC</td><td>null</td><td>20180427</td><td>D8</td><td>472</td><td>1</td><td>UN</td></tr><tr><td>ABC11111</td><td>1</td><td>1</td><td>1800</td><td>QZ</td><td></td><td>01710</td><td>HC</td><td>null</td><td>20180123-20180123</td><td>RD8</td><td>472</td><td>88</td><td>MJ</td></tr><tr><td>ABC11111</td><td>1</td><td>1</td><td>984</td><td>AA,P3</td><td></td><td>00731</td><td>HC</td><td>null</td><td>20180713-20180713</td><td>RD8</td><td>472</td><td>24</td><td>MJ</td></tr><tr><td>ABC11111</td><td>1</td><td>1</td><td>1353</td><td>AA</td><td></td><td>00840</td><td>HC</td><td>null</td><td>20180713-20180713</td><td>RD8</td><td>472</td><td>62</td><td>MJ</td></tr><tr><td>ABC11111</td><td>1</td><td>1</td><td>1230</td><td>AA</td><td></td><td>00902</td><td>HC</td><td>null</td><td>20180713-20180713</td><td>RD8</td><td>472</td><td>65</td><td>MJ</td></tr><tr><td>ABC11111</td><td>2</td><td>2</td><td>738</td><td>59</td><td></td><td>62322</td><td>HC</td><td>null</td><td>20180713-20180713</td><td>RD8</td><td>472</td><td>1</td><td>UN</td></tr><tr><td>ABC111112</td><td>1</td><td>1</td><td>984</td><td>AA,P3</td><td></td><td>00731</td><td>HC</td><td>null</td><td>20180713-20180713</td><td>RD8</td><td>472</td><td>24</td><td>MJ</td></tr><tr><td>ABC111112</td><td>1</td><td>1</td><td>1353</td><td>AA</td><td></td><td>00840</td><td>HC</td><td>null</td><td>20180713-20180713</td><td>RD8</td><td>472</td><td>62</td><td>MJ</td></tr><tr><td>ABC111112</td><td>1</td><td>1</td><td>1230</td><td>AA</td><td></td><td>00902</td><td>HC</td><td>null</td><td>20180713-20180713</td><td>RD8</td><td>472</td><td>65</td><td>MJ</td></tr><tr><td>ABC111112</td><td>2</td><td>2</td><td>738</td><td>59</td><td></td><td>62322</td><td>HC</td><td>null</td><td>20180713-20180713</td><td>RD8</td><td>472</td><td>1</td><td>UN</td></tr><tr><td>ABC111113</td><td>1</td><td>1</td><td>1353</td><td>AA</td><td></td><td>00840</td><td>HC</td><td>null</td><td>20180713-20180713</td><td>RD8</td><td>472</td><td>62</td><td>MJ</td></tr><tr><td>ABC111113</td><td>1</td><td>1</td><td>1230</td><td>AA</td><td></td><td>00902</td><td>HC</td><td>null</td><td>20180713-20180713</td><td>RD8</td><td>472</td><td>65</td><td>MJ</td></tr><tr><td>ABC111113</td><td>2</td><td>2</td><td>738</td><td>59</td><td></td><td>62322</td><td>HC</td><td>null</td><td>20180713-20180713</td><td>RD8</td><td>472</td><td>1</td><td>UN</td></tr><tr><td>ABC111114</td><td>1</td><td>1</td><td>1230</td><td>AA</td><td></td><td>00902</td><td>HC</td><td>null</td><td>20180713-20180713</td><td>RD8</td><td>472</td><td>65</td><td>MJ</td></tr><tr><td>ABC111114</td><td>2</td><td>2</td><td>738</td><td>59</td><td></td><td>62322</td><td>HC</td><td>null</td><td>20180713-20180713</td><td>RD8</td><td>472</td><td>1</td><td>UN</td></tr><tr><td>TD-R192ICE00087</td><td>1</td><td>null</td><td>9148</td><td></td><td>null</td><td></td><td></td><td>0124</td><td>20180628-20180702</td><td>RD8</td><td>472</td><td>4</td><td>UN</td></tr><tr><td>TD-R192ICE00087</td><td>2</td><td>null</td><td>48.1</td><td></td><td>null</td><td></td><td></td><td>0250</td><td>20180628-20180702</td><td>RD8</td><td>472</td><td>28</td><td>UN</td></tr><tr><td>TD-R192ICE00087</td><td>3</td><td>null</td><td>133</td><td></td><td>null</td><td></td><td></td><td>0260</td><td>20180628-20180702</td><td>RD8</td><td>472</td><td>1</td><td>UN</td></tr><tr><td>TD-R192ICE00087</td><td>4</td><td>null</td><td>32.9</td><td></td><td>null</td><td></td><td></td><td>0300</td><td>20180628-20180702</td><td>RD8</td><td>472</td><td>1</td><td>UN</td></tr><tr><td>TD-R192ICE00087</td><td>5</td><td>null</td><td>798.5</td><td></td><td>null</td><td></td><td></td><td>0301</td><td>20180628-20180702</td><td>RD8</td><td>472</td><td>4</td><td>UN</td></tr><tr><td>TD-R192ICE00087</td><td>6</td><td>null</td><td>200.6</td><td></td><td>null</td><td></td><td></td><td>0305</td><td>20180628-20180702</td><td>RD8</td><td>472</td><td>2</td><td>UN</td></tr><tr><td>TD-R192ICE00087</td><td>7</td><td>null</td><td>175</td><td></td><td>null</td><td></td><td></td><td>0306</td><td>20180628-20180702</td><td>RD8</td><td>472</td><td>1</td><td>UN</td></tr><tr><td>TD-R192ICE00087</td><td>8</td><td>null</td><td>113.6</td><td></td><td>null</td><td></td><td></td><td>0307</td><td>20180628-20180702</td><td>RD8</td><td>472</td><td>2</td><td>UN</td></tr><tr><td>TD-R192ICE00087</td><td>9</td><td>null</td><td>6517</td><td></td><td>null</td><td></td><td></td><td>0351</td><td>20180628-20180702</td><td>RD8</td><td>472</td><td>2</td><td>UN</td></tr><tr><td>1000A</td><td>1</td><td>1</td><td>140</td><td></td><td></td><td>99213</td><td>HC</td><td>null</td><td>20151124</td><td>D8</td><td>472</td><td>1</td><td>UN</td></tr><tr><td>1000A</td><td>1</td><td>1</td><td>140</td><td></td><td></td><td>99213</td><td>HC</td><td>null</td><td>20151124</td><td>D8</td><td>472</td><td>1</td><td>UN</td></tr><tr><td>1001A</td><td>1</td><td>1</td><td>140</td><td></td><td></td><td>99213</td><td>HC</td><td>null</td><td>20151124</td><td>D8</td><td>472</td><td>1</td><td>UN</td></tr><tr><td>TD-R192ICE00094</td><td>1</td><td>1:2</td><td>300</td><td>HO,HQ</td><td>11</td><td>H0004</td><td>HC</td><td>null</td><td>20180625-20180625</td><td>RD8</td><td>472</td><td>12</td><td>UN</td></tr><tr><td>TD-R192ICE00094</td><td>2</td><td>1:2</td><td>300</td><td>HO,HQ</td><td>11</td><td>H0004</td><td>HC</td><td>null</td><td>20180629-20180629</td><td>RD8</td><td>472</td><td>12</td><td>UN</td></tr></tbody></table></div>"
      ]
     },
     "metadata": {
      "application/vnd.databricks.v1+output": {
       "addedWidgets": {},
       "aggData": [],
       "aggError": "",
       "aggOverflow": false,
       "aggSchema": [],
       "aggSeriesLimitReached": false,
       "aggType": "",
       "arguments": {},
       "columnCustomDisplayInfos": {},
       "data": [
        [
         "1805080AV3648339",
         "1",
         "1",
         "20",
         "",
         "",
         "H0003",
         "HC",
         null,
         "20180428",
         "D8",
         "472",
         "1",
         "UN"
        ],
        [
         "1805080AV3648347",
         "1",
         "1:2",
         "50.1",
         "HF",
         "",
         "96153",
         "HC",
         null,
         "20180426",
         "D8",
         "472",
         "6",
         "UN"
        ],
        [
         "1805080AV3648340",
         "1",
         "1:2",
         "11.64",
         "HF",
         "",
         "T1017",
         "HC",
         null,
         "20180427",
         "D8",
         "472",
         "1",
         "UN"
        ],
        [
         "1805080AV3648353",
         "1",
         "1",
         "234",
         "",
         "",
         "90853",
         "HC",
         null,
         "20180427",
         "D8",
         "472",
         "120",
         "UN"
        ],
        [
         "1805080AV3648355",
         "1",
         "1:2",
         "20",
         "",
         "",
         "H0003",
         "HC",
         null,
         "20180427",
         "D8",
         "472",
         "1",
         "UN"
        ],
        [
         "ABC11111",
         "1",
         "1",
         "1800",
         "QZ",
         "",
         "01710",
         "HC",
         null,
         "20180123-20180123",
         "RD8",
         "472",
         "88",
         "MJ"
        ],
        [
         "ABC11111",
         "1",
         "1",
         "984",
         "AA,P3",
         "",
         "00731",
         "HC",
         null,
         "20180713-20180713",
         "RD8",
         "472",
         "24",
         "MJ"
        ],
        [
         "ABC11111",
         "1",
         "1",
         "1353",
         "AA",
         "",
         "00840",
         "HC",
         null,
         "20180713-20180713",
         "RD8",
         "472",
         "62",
         "MJ"
        ],
        [
         "ABC11111",
         "1",
         "1",
         "1230",
         "AA",
         "",
         "00902",
         "HC",
         null,
         "20180713-20180713",
         "RD8",
         "472",
         "65",
         "MJ"
        ],
        [
         "ABC11111",
         "2",
         "2",
         "738",
         "59",
         "",
         "62322",
         "HC",
         null,
         "20180713-20180713",
         "RD8",
         "472",
         "1",
         "UN"
        ],
        [
         "ABC111112",
         "1",
         "1",
         "984",
         "AA,P3",
         "",
         "00731",
         "HC",
         null,
         "20180713-20180713",
         "RD8",
         "472",
         "24",
         "MJ"
        ],
        [
         "ABC111112",
         "1",
         "1",
         "1353",
         "AA",
         "",
         "00840",
         "HC",
         null,
         "20180713-20180713",
         "RD8",
         "472",
         "62",
         "MJ"
        ],
        [
         "ABC111112",
         "1",
         "1",
         "1230",
         "AA",
         "",
         "00902",
         "HC",
         null,
         "20180713-20180713",
         "RD8",
         "472",
         "65",
         "MJ"
        ],
        [
         "ABC111112",
         "2",
         "2",
         "738",
         "59",
         "",
         "62322",
         "HC",
         null,
         "20180713-20180713",
         "RD8",
         "472",
         "1",
         "UN"
        ],
        [
         "ABC111113",
         "1",
         "1",
         "1353",
         "AA",
         "",
         "00840",
         "HC",
         null,
         "20180713-20180713",
         "RD8",
         "472",
         "62",
         "MJ"
        ],
        [
         "ABC111113",
         "1",
         "1",
         "1230",
         "AA",
         "",
         "00902",
         "HC",
         null,
         "20180713-20180713",
         "RD8",
         "472",
         "65",
         "MJ"
        ],
        [
         "ABC111113",
         "2",
         "2",
         "738",
         "59",
         "",
         "62322",
         "HC",
         null,
         "20180713-20180713",
         "RD8",
         "472",
         "1",
         "UN"
        ],
        [
         "ABC111114",
         "1",
         "1",
         "1230",
         "AA",
         "",
         "00902",
         "HC",
         null,
         "20180713-20180713",
         "RD8",
         "472",
         "65",
         "MJ"
        ],
        [
         "ABC111114",
         "2",
         "2",
         "738",
         "59",
         "",
         "62322",
         "HC",
         null,
         "20180713-20180713",
         "RD8",
         "472",
         "1",
         "UN"
        ],
        [
         "TD-R192ICE00087",
         "1",
         null,
         "9148",
         "",
         null,
         "",
         "",
         "0124",
         "20180628-20180702",
         "RD8",
         "472",
         "4",
         "UN"
        ],
        [
         "TD-R192ICE00087",
         "2",
         null,
         "48.1",
         "",
         null,
         "",
         "",
         "0250",
         "20180628-20180702",
         "RD8",
         "472",
         "28",
         "UN"
        ],
        [
         "TD-R192ICE00087",
         "3",
         null,
         "133",
         "",
         null,
         "",
         "",
         "0260",
         "20180628-20180702",
         "RD8",
         "472",
         "1",
         "UN"
        ],
        [
         "TD-R192ICE00087",
         "4",
         null,
         "32.9",
         "",
         null,
         "",
         "",
         "0300",
         "20180628-20180702",
         "RD8",
         "472",
         "1",
         "UN"
        ],
        [
         "TD-R192ICE00087",
         "5",
         null,
         "798.5",
         "",
         null,
         "",
         "",
         "0301",
         "20180628-20180702",
         "RD8",
         "472",
         "4",
         "UN"
        ],
        [
         "TD-R192ICE00087",
         "6",
         null,
         "200.6",
         "",
         null,
         "",
         "",
         "0305",
         "20180628-20180702",
         "RD8",
         "472",
         "2",
         "UN"
        ],
        [
         "TD-R192ICE00087",
         "7",
         null,
         "175",
         "",
         null,
         "",
         "",
         "0306",
         "20180628-20180702",
         "RD8",
         "472",
         "1",
         "UN"
        ],
        [
         "TD-R192ICE00087",
         "8",
         null,
         "113.6",
         "",
         null,
         "",
         "",
         "0307",
         "20180628-20180702",
         "RD8",
         "472",
         "2",
         "UN"
        ],
        [
         "TD-R192ICE00087",
         "9",
         null,
         "6517",
         "",
         null,
         "",
         "",
         "0351",
         "20180628-20180702",
         "RD8",
         "472",
         "2",
         "UN"
        ],
        [
         "1000A",
         "1",
         "1",
         "140",
         "",
         "",
         "99213",
         "HC",
         null,
         "20151124",
         "D8",
         "472",
         "1",
         "UN"
        ],
        [
         "1000A",
         "1",
         "1",
         "140",
         "",
         "",
         "99213",
         "HC",
         null,
         "20151124",
         "D8",
         "472",
         "1",
         "UN"
        ],
        [
         "1001A",
         "1",
         "1",
         "140",
         "",
         "",
         "99213",
         "HC",
         null,
         "20151124",
         "D8",
         "472",
         "1",
         "UN"
        ],
        [
         "TD-R192ICE00094",
         "1",
         "1:2",
         "300",
         "HO,HQ",
         "11",
         "H0004",
         "HC",
         null,
         "20180625-20180625",
         "RD8",
         "472",
         "12",
         "UN"
        ],
        [
         "TD-R192ICE00094",
         "2",
         "1:2",
         "300",
         "HO,HQ",
         "11",
         "H0004",
         "HC",
         null,
         "20180629-20180629",
         "RD8",
         "472",
         "12",
         "UN"
        ]
       ],
       "datasetInfos": [],
       "dbfsResultPath": null,
       "isJsonSchema": true,
       "metadata": {},
       "overflow": false,
       "plotOptions": {
        "customPlotOptions": {},
        "displayType": "table",
        "pivotAggregation": null,
        "pivotColumns": null,
        "xColumns": null,
        "yColumns": null
       },
       "removedWidgets": [],
       "schema": [
        {
         "metadata": "{}",
         "name": "claim_id",
         "type": "\"string\""
        },
        {
         "metadata": "{}",
         "name": "claim_line_number",
         "type": "\"string\""
        },
        {
         "metadata": "{}",
         "name": "dg_cd_pntr",
         "type": "\"string\""
        },
        {
         "metadata": "{}",
         "name": "line_chrg_amt",
         "type": "\"string\""
        },
        {
         "metadata": "{}",
         "name": "modifier_cds",
         "type": "\"string\""
        },
        {
         "metadata": "{}",
         "name": "place_of_service",
         "type": "\"string\""
        },
        {
         "metadata": "{}",
         "name": "prcdr_cd",
         "type": "\"string\""
        },
        {
         "metadata": "{}",
         "name": "prcdr_cd_type",
         "type": "\"string\""
        },
        {
         "metadata": "{}",
         "name": "revenue_cd",
         "type": "\"string\""
        },
        {
         "metadata": "{}",
         "name": "service_date",
         "type": "\"string\""
        },
        {
         "metadata": "{}",
         "name": "service_date_format",
         "type": "\"string\""
        },
        {
         "metadata": "{}",
         "name": "service_time",
         "type": "\"string\""
        },
        {
         "metadata": "{}",
         "name": "units",
         "type": "\"string\""
        },
        {
         "metadata": "{}",
         "name": "units_measurement",
         "type": "\"string\""
        }
       ],
       "type": "table"
      }
     },
     "output_type": "display_data"
    }
   ],
   "source": [
    "claim_lines_flat  = claims_flat.select(\n",
    "    \"Claim.claim_header.claim_id\",\n",
    "    explode(col(\"Claim.claim_lines\")).alias(\"claim_lines\")\n",
    ")\n",
    "\n",
    "\n",
    "claim_lines_flat = claim_lines_flat.selectExpr(\n",
    "    \"claim_id\",\n",
    "    \"claim_lines.*\"\n",
    ")\n",
    "\n",
    "display(claim_lines_flat)\n"
   ]
  },
  {
   "cell_type": "code",
   "execution_count": 0,
   "metadata": {
    "application/vnd.databricks.v1+cell": {
     "cellMetadata": {},
     "inputWidgets": {},
     "nuid": "f4500dc5-5109-4289-a72c-c359b9bb2aa8",
     "showTitle": false,
     "title": ""
    }
   },
   "outputs": [],
   "source": []
  },
  {
   "cell_type": "code",
   "execution_count": 0,
   "metadata": {
    "application/vnd.databricks.v1+cell": {
     "cellMetadata": {},
     "inputWidgets": {},
     "nuid": "adbe41f7-ea16-412c-8834-940af6977db7",
     "showTitle": false,
     "title": ""
    }
   },
   "outputs": [],
   "source": []
  },
  {
   "cell_type": "markdown",
   "metadata": {
    "application/vnd.databricks.v1+cell": {
     "cellMetadata": {},
     "inputWidgets": {},
     "nuid": "5e3b4e71-6796-4270-97d9-1420f9575da4",
     "showTitle": false,
     "title": ""
    }
   },
   "source": [
    "### Write table to Unity Catalog"
   ]
  },
  {
   "cell_type": "code",
   "execution_count": 0,
   "metadata": {
    "application/vnd.databricks.v1+cell": {
     "cellMetadata": {
      "byteLimit": 2048000,
      "rowLimit": 10000
     },
     "inputWidgets": {},
     "nuid": "39204f11-81af-4b7e-89f6-e935ea6c30c3",
     "showTitle": false,
     "title": ""
    }
   },
   "outputs": [],
   "source": [
    "# Define the catalog and schema names\n",
    "catalog_name = \"raven_catalog\"\n",
    "schema_name = \"x12_edi_parser\"\n",
    "\n",
    "# Define the path where you want to save the claims_flat DataFrame as a UC table\n",
    "uc_table_name = f\"{catalog_name}.{schema_name}.claim_header\"\n",
    "\n",
    "# Save the claims_flat DataFrame as a Delta table in your Unity catalog\n",
    "claim_header_flat.write.format(\"delta\").mode(\"overwrite\").saveAsTable(uc_table_name)"
   ]
  },
  {
   "cell_type": "code",
   "execution_count": 0,
   "metadata": {
    "application/vnd.databricks.v1+cell": {
     "cellMetadata": {},
     "inputWidgets": {},
     "nuid": "a5349d91-9e0b-487b-aeb7-badffa3baf98",
     "showTitle": false,
     "title": ""
    }
   },
   "outputs": [],
   "source": []
  }
 ],
 "metadata": {
  "application/vnd.databricks.v1+notebook": {
   "dashboards": [
    {
     "elements": [
      {
       "dashboardResultIndex": 0,
       "elementNUID": "d020959d-5e02-48ec-a19d-2cb2ec330f13",
       "elementType": "command",
       "guid": "0cd28592-2618-42ca-81ba-87a337e70db6",
       "options": null,
       "position": {
        "height": 6,
        "width": 12,
        "x": 0,
        "y": 0,
        "z": null
       },
       "resultIndex": null
      }
     ],
     "globalVars": {},
     "guid": "",
     "layoutOption": {
      "grid": true,
      "stack": true
     },
     "nuid": "eb6da336-0d3c-4e9a-9da9-5946cc619472",
     "origId": 732197971695990,
     "title": "Untitled",
     "version": "DashboardViewV1",
     "width": 1024
    }
   ],
   "environmentMetadata": null,
   "language": "python",
   "notebookMetadata": {
    "pythonIndentUnit": 2
   },
   "notebookName": "ClaimBuilder",
   "widgets": {}
  }
 },
 "nbformat": 4,
 "nbformat_minor": 0
}
