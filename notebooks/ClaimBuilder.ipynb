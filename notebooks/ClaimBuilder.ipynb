{
 "cells": [
  {
   "cell_type": "code",
   "execution_count": 0,
   "metadata": {
    "application/vnd.databricks.v1+cell": {
     "cellMetadata": {
      "byteLimit": 2048000,
      "rowLimit": 10000
     },
     "collapsed": true,
     "inputWidgets": {},
     "nuid": "f299ac87-8a47-4489-b5bf-921726382e6f",
     "showTitle": false,
     "title": ""
    }
   },
   "outputs": [
    {
     "output_type": "stream",
     "name": "stdout",
     "output_type": "stream",
     "text": [
      "\u001B[43mNote: you may need to restart the kernel using dbutils.library.restartPython() to use updated packages.\u001B[0m\nCollecting git+https://github.com/databricks-industry-solutions/x12-edi-parser@raven-eda-hl-segments\n  Cloning https://github.com/databricks-industry-solutions/x12-edi-parser (to revision raven-eda-hl-segments) to /tmp/pip-req-build-fp797b52\n  Running command git clone --filter=blob:none --quiet https://github.com/databricks-industry-solutions/x12-edi-parser /tmp/pip-req-build-fp797b52\n  Running command git checkout -b raven-eda-hl-segments --track origin/raven-eda-hl-segments\n  Switched to a new branch 'raven-eda-hl-segments'\n  branch 'raven-eda-hl-segments' set up to track 'origin/raven-eda-hl-segments'.\n  Resolved https://github.com/databricks-industry-solutions/x12-edi-parser to commit f1cea0934f28bcce22d153772d8de9a11c189052\n  Preparing metadata (setup.py): started\n  Preparing metadata (setup.py): finished with status 'done'\n\u001B[43mNote: you may need to restart the kernel using dbutils.library.restartPython() to use updated packages.\u001B[0m\n"
     ]
    }
   ],
   "source": [
    "%pip install git+https://github.com/databricks-industry-solutions/x12-edi-parser@raven-eda-hl-segments"
   ]
  },
  {
   "cell_type": "code",
   "execution_count": 0,
   "metadata": {
    "application/vnd.databricks.v1+cell": {
     "cellMetadata": {
      "byteLimit": 2048000,
      "rowLimit": 10000
     },
     "inputWidgets": {},
     "nuid": "75898bd3-51d8-45a3-8343-b377b796247e",
     "showTitle": false,
     "title": ""
    }
   },
   "outputs": [],
   "source": [
    "dbutils.library.restartPython()"
   ]
  },
  {
   "cell_type": "markdown",
   "metadata": {
    "application/vnd.databricks.v1+cell": {
     "cellMetadata": {},
     "inputWidgets": {},
     "nuid": "56792881-5f06-4dc3-9e7c-bb2cd4c084c3",
     "showTitle": false,
     "title": ""
    }
   },
   "source": [
    "Is the EDI data 837I or 837P transactions or neither?"
   ]
  },
  {
   "cell_type": "code",
   "execution_count": 0,
   "metadata": {
    "application/vnd.databricks.v1+cell": {
     "cellMetadata": {
      "byteLimit": 2048000,
      "rowLimit": 10000
     },
     "inputWidgets": {},
     "nuid": "bb3b295d-7680-486b-aa6b-62724ec33a44",
     "showTitle": false,
     "title": ""
    }
   },
   "outputs": [
    {
     "output_type": "stream",
     "name": "stdout",
     "output_type": "stream",
     "text": [
      "{\n    \"EDI.sender_tax_id\": \"ZZ\",\n    \"list\": [\n        {\n            \"FunctionalGroup.receiver\": \"123456789\",\n            \"FunctionalGroup.sender\": \"CLEARINGHOUSE\",\n            \"FunctionalGroup.transaction_datetime\": \"20180508:0833\",\n            \"FunctionalGroup.transaction_type\": \"222\",\n            \"list\": [\n                {\n                    \"Transaction.transaction_type\": \"222\"\n                },\n                {\n                    \"Transaction.transaction_type\": \"222\"\n                },\n                {\n                    \"Transaction.transaction_type\": \"222\"\n                },\n                {\n                    \"Transaction.transaction_type\": \"222\"\n                },\n                {\n                    \"Transaction.transaction_type\": \"222\"\n                }\n            ]\n        }\n    ]\n}\n"
     ]
    }
   ],
   "source": [
    "from databricksx12.format import *\n",
    "from databricksx12.edi import *\n",
    "x =  EDIManager(EDI(open(\"/Volumes/raven_catalog/x12_edi_parser/sampledata/CHPW_Claimdata.txt\", \"rb\").read().decode(\"utf-8\")))\n",
    "\n",
    "import json\n",
    "print(json.dumps(x.flatten(x.data), indent=4))"
   ]
  },
  {
   "cell_type": "code",
   "execution_count": 0,
   "metadata": {
    "application/vnd.databricks.v1+cell": {
     "cellMetadata": {
      "byteLimit": 2048000,
      "rowLimit": 10000
     },
     "inputWidgets": {},
     "nuid": "5a6f5155-d9d2-4681-8406-7948627dddbf",
     "showTitle": false,
     "title": ""
    }
   },
   "outputs": [],
   "source": [
    "from databricksx12 import *\n",
    "from databricksx12.hls import *\n",
    "import json\n",
    "from pyspark.sql.functions import input_file_name\n",
    "\n",
    "# Initialize HealthcareManager\n",
    "hm = HealthcareManager()\n",
    "df = spark.read.text(\"/Volumes/raven_catalog/x12_edi_parser/sampledata/CHPW_Claimdata.txt\", wholetext = True)\n",
    "\n",
    "# Process the DataFrame and convert to RDD\n",
    "rdd = (\n",
    " df.withColumn(\"filename\", input_file_name()).rdd\n",
    "  .map(lambda x: (x.asDict().get(\"filename\"),x.asDict().get(\"value\")))\n",
    "  .map(lambda x: (x[0], EDI(x[1])))\n",
    "  .map(lambda x: { **{'filename': x[0]}, **hm.to_json(x[1])} )\n",
    "  .map(lambda x: json.dumps(x))\n",
    ")\n",
    "\n",
    "# Convert RDD to DataFrame\n",
    "edi_data_df = spark.read.json(rdd)"
   ]
  },
  {
   "cell_type": "code",
   "execution_count": 0,
   "metadata": {
    "application/vnd.databricks.v1+cell": {
     "cellMetadata": {
      "byteLimit": 2048000,
      "rowLimit": 10000
     },
     "collapsed": true,
     "inputWidgets": {},
     "nuid": "78dab3e9-abef-4c2e-9792-2bdce1c87781",
     "showTitle": false,
     "title": ""
    }
   },
   "outputs": [
    {
     "output_type": "display_data",
     "data": {
      "text/html": [
       "<style scoped>\n",
       "  .table-result-container {\n",
       "    max-height: 300px;\n",
       "    overflow: auto;\n",
       "  }\n",
       "  table, th, td {\n",
       "    border: 1px solid black;\n",
       "    border-collapse: collapse;\n",
       "  }\n",
       "  th, td {\n",
       "    padding: 5px;\n",
       "  }\n",
       "  th {\n",
       "    text-align: left;\n",
       "  }\n",
       "</style><div class='table-result-container'><table class='table-result'><thead style='background-color: white'><tr><th>EDI.sender_tax_id</th><th>FuncitonalGroup</th><th>filename</th></tr></thead><tbody><tr><td>ZZ</td><td>List(List(123456789, CLEARINGHOUSE, 20180508:0833, 222, List(List(List(List(List(VANCOUVER, Billing Provider, BH CLINIC OF VANCOUVER, 1122334455, WA, 12345 MAIN ST, Organization, 98662), List(Yes, VANCOUVER, 20, 1, 7349065509, Rendering Provider, 57, PROVIDER JAMES , 1112223338, 1805080AV3648339, List(List(List(Rendering Provider, PROVIDER JAMES , 1112223338, Individual)), List(List(Service Facility, BH CLINIC OF VANCOUVER, 1122334455, Organization))), WA, 12345 MAIN ST SUITE A1, Individual, 98662), TODO, List(List(List(VANCOUVER, Insured, 987321, SUBSCRIBER JOHN J, WA, 987 65TH PL, Individual, 986640001)), List(List(Payer, CHPWA, COMMUNITY HEALTH PLAN OF WASHINGTON, Organization)), List(List(Rendering Provider, PROVIDER JAMES , 1112223338, Individual)), List(List(VANCOUVER, Service Facility, BH CLINIC OF VANCOUVER, 1122334455, WA, 12345 MAIN ST SUITE A1, Organization, 98662))), List(VANCOUVER, Insured, 987321, SUBSCRIBER JOHN J, Self, WA, 987 65TH PL, Individual, 986640001), List(Unknown, CHPWA, 123456789, Organization), List(CLEARINGHOUSE CLIENT SERVICES, List(List(List(Telephone, Fax, 8005551212, 8005551212))), Unknown, 987654321, CLEARINGHOUSE LLC, Organization), List(VANCOUVER, Insured, 987321, SUBSCRIBER JOHN J, Self, WA, 987 65TH PL, Individual, 986640001))), 222), List(List(List(List(VANCOUVER, Billing Provider, BH CLINIC OF VANCOUVER, 1122334455, WA, 12345 MAIN ST, Organization, 98662), List(Yes, VANCOUVER, 50.1, 1, 7349065730, Rendering Provider, 57, PROVIDER SUSAN , 1112223346, 1805080AV3648347, List(List(List(Rendering Provider, PROVIDER SUSAN , 1112223346, Individual)), List(List(Service Facility, BH CLINIC OF VANCOUVER, 1122334455, Organization))), WA, 12345 MAIN ST SUITE A1, Individual, 98662), TODO, List(List(List(VANCOUVER, Insured, 765123, PATIENT SUSAN E, WA, 765 43RD ST, Individual, 986640002)), List(List(Payer, CHPWA, COMMUNITY HEALTH PLAN OF WASHINGTON, Organization)), List(List(Rendering Provider, PROVIDER SUSAN , 1112223346, Individual)), List(List(VANCOUVER, Service Facility, BH CLINIC OF VANCOUVER, 1122334455, WA, 12345 MAIN ST SUITE A1, Organization, 98662))), List(VANCOUVER, Insured, 765123, PATIENT SUSAN E, Self, WA, 765 43RD ST, Individual, 986640002), List(Unknown, CHPWA, 123456789, Organization), List(CLEARINGHOUSE CLIENT SERVICES, List(List(List(Telephone, Fax, 8005551212, 8005551212))), Unknown, 987654321, CLEARINGHOUSE LLC, Organization), List(VANCOUVER, Insured, 765123, PATIENT SUSAN E, Self, WA, 765 43RD ST, Individual, 986640002))), 222), List(List(List(List(VANCOUVER, Billing Provider, BH CLINIC OF VANCOUVER, 1122334455, WA, 12345 MAIN ST, Organization, 98662), List(Yes, VANCOUVER, 11.64, 1, 7349065492, Rendering Provider, 57, PROVIDER SUSAN , 1112223346, 1805080AV3648340, List(List(List(Rendering Provider, PROVIDER SUSAN , 1112223346, Individual)), List(List(Service Facility, BH CLINIC OF VANCOUVER, 1122334455, Organization))), WA, 12345 MAIN ST SUITE A1, Individual, 98662), TODO, List(List(List(VANCOUVER, Insured, 987321, SUBSCRIBER JOHN J, WA, 987 65TH PL, Individual, 986640001)), List(List(Payer, CHPWA, COMMUNITY HEALTH PLAN OF WASHINGTON, Organization)), List(List(Rendering Provider, PROVIDER SUSAN , 1112223346, Individual)), List(List(VANCOUVER, Service Facility, BH CLINIC OF VANCOUVER, 1122334455, WA, 12345 MAIN ST SUITE A1, Organization, 98662))), List(VANCOUVER, Insured, 987321, SUBSCRIBER JOHN J, Self, WA, 987 65TH PL, Individual, 986640001), List(Unknown, CHPWA, 123456789, Organization), List(CLEARINGHOUSE CLIENT SERVICES, List(List(List(Telephone, Fax, 8005551212, 8005551212))), Unknown, 987654321, CLEARINGHOUSE LLC, Organization), List(VANCOUVER, Insured, 987321, SUBSCRIBER JOHN J, Self, WA, 987 65TH PL, Individual, 986640001))), 222), List(List(List(List(VANCOUVER, Billing Provider, BH CLINIC OF VANCOUVER, 1122334455, WA, 12345 MAIN ST, Organization, 98662), List(Yes, VANCOUVER, 234, 1, 7349064290, Rendering Provider, 53, PROVIDER SUSAN , 1112223346, 1805080AV3648353, List(List(List(Rendering Provider, PROVIDER SUSAN , 1112223346, Individual)), List(List(Service Facility, BH CLINIC OF VANCOUVER, 1122334455, Organization))), WA, 12345 MAIN ST SUITE A1, Individual, 98662), TODO, List(List(List(VANCOUVER, Insured, 765123, PATIENT SUSAN E, WA, 765 43RD ST, Individual, 986640002)), List(List(Payer, CHPWA, COMMUNITY HEALTH PLAN OF WASHINGTON, Organization)), List(List(Rendering Provider, PROVIDER SUSAN , 1112223346, Individual)), List(List(VANCOUVER, Service Facility, BH CLINIC OF VANCOUVER, 1122334455, WA, 12345 MAIN ST SUITE A1, Organization, 98662))), List(VANCOUVER, Insured, 765123, PATIENT SUSAN E, Self, WA, 765 43RD ST, Individual, 986640002), List(Unknown, CHPWA, 123456789, Organization), List(CLEARINGHOUSE CLIENT SERVICES, List(List(List(Telephone, Fax, 8005551212, 8005551212))), Unknown, 987654321, CLEARINGHOUSE LLC, Organization), List(VANCOUVER, Insured, 765123, PATIENT SUSAN E, Self, WA, 765 43RD ST, Individual, 986640002))), 222), List(List(List(List(VANCOUVER, Billing Provider, BH CLINIC OF VANCOUVER, 1122334455, WA, 12345 MAIN ST, Organization, 98662), List(Yes, VANCOUVER, 20, 1, 7349064036, Rendering Provider, 57, PROVIDER JAMES , 1112223338, 1805080AV3648355, List(List(List(Rendering Provider, PROVIDER JAMES , 1112223338, Individual)), List(List(Service Facility, BH CLINIC OF VANCOUVER, 1122334455, Organization))), WA, 12345 MAIN ST SUITE A1, Individual, 98662), TODO, List(List(List(VANCOUVER, Insured, 987321, SUBSCRIBER JOHN J, WA, 987 65TH PL, Individual, 986640001)), List(List(Payer, CHPWA, COMMUNITY HEALTH PLAN OF WASHINGTON, Organization)), List(List(Rendering Provider, PROVIDER JAMES , 1112223338, Individual)), List(List(VANCOUVER, Service Facility, BH CLINIC OF VANCOUVER, 1122334455, WA, 12345 MAIN ST SUITE A1, Organization, 98662))), List(VANCOUVER, Insured, 987321, SUBSCRIBER JOHN J, Self, WA, 987 65TH PL, Individual, 986640001), List(Unknown, CHPWA, 123456789, Organization), List(CLEARINGHOUSE CLIENT SERVICES, List(List(List(Telephone, Fax, 8005551212, 8005551212))), Unknown, 987654321, CLEARINGHOUSE LLC, Organization), List(VANCOUVER, Insured, 987321, SUBSCRIBER JOHN J, Self, WA, 987 65TH PL, Individual, 986640001))), 222))))</td><td>dbfs:/Volumes/raven_catalog/x12_edi_parser/sampledata/CHPW_Claimdata.txt</td></tr></tbody></table></div>"
      ]
     },
     "metadata": {
      "application/vnd.databricks.v1+output": {
       "addedWidgets": {},
       "aggData": [],
       "aggError": "",
       "aggOverflow": false,
       "aggSchema": [],
       "aggSeriesLimitReached": false,
       "aggType": "",
       "arguments": {},
       "columnCustomDisplayInfos": {},
       "data": [
        [
         "ZZ",
         [
          [
           "123456789",
           "CLEARINGHOUSE",
           "20180508:0833",
           "222",
           [
            [
             [
              [
               [
                "VANCOUVER",
                "Billing Provider",
                "BH CLINIC OF VANCOUVER",
                "1122334455",
                "WA",
                "12345 MAIN ST",
                "Organization",
                "98662"
               ],
               [
                "Yes",
                "VANCOUVER",
                "20",
                "1",
                "7349065509",
                "Rendering Provider",
                "57",
                "PROVIDER JAMES ",
                "1112223338",
                "1805080AV3648339",
                [
                 [
                  [
                   "Rendering Provider",
                   "PROVIDER JAMES ",
                   "1112223338",
                   "Individual"
                  ]
                 ],
                 [
                  [
                   "Service Facility",
                   "BH CLINIC OF VANCOUVER",
                   "1122334455",
                   "Organization"
                  ]
                 ]
                ],
                "WA",
                "12345 MAIN ST SUITE A1",
                "Individual",
                "98662"
               ],
               "TODO",
               [
                [
                 [
                  "VANCOUVER",
                  "Insured",
                  "987321",
                  "SUBSCRIBER JOHN J",
                  "WA",
                  "987 65TH PL",
                  "Individual",
                  "986640001"
                 ]
                ],
                [
                 [
                  "Payer",
                  "CHPWA",
                  "COMMUNITY HEALTH PLAN OF WASHINGTON",
                  "Organization"
                 ]
                ],
                [
                 [
                  "Rendering Provider",
                  "PROVIDER JAMES ",
                  "1112223338",
                  "Individual"
                 ]
                ],
                [
                 [
                  "VANCOUVER",
                  "Service Facility",
                  "BH CLINIC OF VANCOUVER",
                  "1122334455",
                  "WA",
                  "12345 MAIN ST SUITE A1",
                  "Organization",
                  "98662"
                 ]
                ]
               ],
               [
                "VANCOUVER",
                "Insured",
                "987321",
                "SUBSCRIBER JOHN J",
                "Self",
                "WA",
                "987 65TH PL",
                "Individual",
                "986640001"
               ],
               [
                "Unknown",
                "CHPWA",
                "123456789",
                "Organization"
               ],
               [
                "CLEARINGHOUSE CLIENT SERVICES",
                [
                 [
                  [
                   "Telephone",
                   "Fax",
                   "8005551212",
                   "8005551212"
                  ]
                 ]
                ],
                "Unknown",
                "987654321",
                "CLEARINGHOUSE LLC",
                "Organization"
               ],
               [
                "VANCOUVER",
                "Insured",
                "987321",
                "SUBSCRIBER JOHN J",
                "Self",
                "WA",
                "987 65TH PL",
                "Individual",
                "986640001"
               ]
              ]
             ],
             "222"
            ],
            [
             [
              [
               [
                "VANCOUVER",
                "Billing Provider",
                "BH CLINIC OF VANCOUVER",
                "1122334455",
                "WA",
                "12345 MAIN ST",
                "Organization",
                "98662"
               ],
               [
                "Yes",
                "VANCOUVER",
                "50.1",
                "1",
                "7349065730",
                "Rendering Provider",
                "57",
                "PROVIDER SUSAN ",
                "1112223346",
                "1805080AV3648347",
                [
                 [
                  [
                   "Rendering Provider",
                   "PROVIDER SUSAN ",
                   "1112223346",
                   "Individual"
                  ]
                 ],
                 [
                  [
                   "Service Facility",
                   "BH CLINIC OF VANCOUVER",
                   "1122334455",
                   "Organization"
                  ]
                 ]
                ],
                "WA",
                "12345 MAIN ST SUITE A1",
                "Individual",
                "98662"
               ],
               "TODO",
               [
                [
                 [
                  "VANCOUVER",
                  "Insured",
                  "765123",
                  "PATIENT SUSAN E",
                  "WA",
                  "765 43RD ST",
                  "Individual",
                  "986640002"
                 ]
                ],
                [
                 [
                  "Payer",
                  "CHPWA",
                  "COMMUNITY HEALTH PLAN OF WASHINGTON",
                  "Organization"
                 ]
                ],
                [
                 [
                  "Rendering Provider",
                  "PROVIDER SUSAN ",
                  "1112223346",
                  "Individual"
                 ]
                ],
                [
                 [
                  "VANCOUVER",
                  "Service Facility",
                  "BH CLINIC OF VANCOUVER",
                  "1122334455",
                  "WA",
                  "12345 MAIN ST SUITE A1",
                  "Organization",
                  "98662"
                 ]
                ]
               ],
               [
                "VANCOUVER",
                "Insured",
                "765123",
                "PATIENT SUSAN E",
                "Self",
                "WA",
                "765 43RD ST",
                "Individual",
                "986640002"
               ],
               [
                "Unknown",
                "CHPWA",
                "123456789",
                "Organization"
               ],
               [
                "CLEARINGHOUSE CLIENT SERVICES",
                [
                 [
                  [
                   "Telephone",
                   "Fax",
                   "8005551212",
                   "8005551212"
                  ]
                 ]
                ],
                "Unknown",
                "987654321",
                "CLEARINGHOUSE LLC",
                "Organization"
               ],
               [
                "VANCOUVER",
                "Insured",
                "765123",
                "PATIENT SUSAN E",
                "Self",
                "WA",
                "765 43RD ST",
                "Individual",
                "986640002"
               ]
              ]
             ],
             "222"
            ],
            [
             [
              [
               [
                "VANCOUVER",
                "Billing Provider",
                "BH CLINIC OF VANCOUVER",
                "1122334455",
                "WA",
                "12345 MAIN ST",
                "Organization",
                "98662"
               ],
               [
                "Yes",
                "VANCOUVER",
                "11.64",
                "1",
                "7349065492",
                "Rendering Provider",
                "57",
                "PROVIDER SUSAN ",
                "1112223346",
                "1805080AV3648340",
                [
                 [
                  [
                   "Rendering Provider",
                   "PROVIDER SUSAN ",
                   "1112223346",
                   "Individual"
                  ]
                 ],
                 [
                  [
                   "Service Facility",
                   "BH CLINIC OF VANCOUVER",
                   "1122334455",
                   "Organization"
                  ]
                 ]
                ],
                "WA",
                "12345 MAIN ST SUITE A1",
                "Individual",
                "98662"
               ],
               "TODO",
               [
                [
                 [
                  "VANCOUVER",
                  "Insured",
                  "987321",
                  "SUBSCRIBER JOHN J",
                  "WA",
                  "987 65TH PL",
                  "Individual",
                  "986640001"
                 ]
                ],
                [
                 [
                  "Payer",
                  "CHPWA",
                  "COMMUNITY HEALTH PLAN OF WASHINGTON",
                  "Organization"
                 ]
                ],
                [
                 [
                  "Rendering Provider",
                  "PROVIDER SUSAN ",
                  "1112223346",
                  "Individual"
                 ]
                ],
                [
                 [
                  "VANCOUVER",
                  "Service Facility",
                  "BH CLINIC OF VANCOUVER",
                  "1122334455",
                  "WA",
                  "12345 MAIN ST SUITE A1",
                  "Organization",
                  "98662"
                 ]
                ]
               ],
               [
                "VANCOUVER",
                "Insured",
                "987321",
                "SUBSCRIBER JOHN J",
                "Self",
                "WA",
                "987 65TH PL",
                "Individual",
                "986640001"
               ],
               [
                "Unknown",
                "CHPWA",
                "123456789",
                "Organization"
               ],
               [
                "CLEARINGHOUSE CLIENT SERVICES",
                [
                 [
                  [
                   "Telephone",
                   "Fax",
                   "8005551212",
                   "8005551212"
                  ]
                 ]
                ],
                "Unknown",
                "987654321",
                "CLEARINGHOUSE LLC",
                "Organization"
               ],
               [
                "VANCOUVER",
                "Insured",
                "987321",
                "SUBSCRIBER JOHN J",
                "Self",
                "WA",
                "987 65TH PL",
                "Individual",
                "986640001"
               ]
              ]
             ],
             "222"
            ],
            [
             [
              [
               [
                "VANCOUVER",
                "Billing Provider",
                "BH CLINIC OF VANCOUVER",
                "1122334455",
                "WA",
                "12345 MAIN ST",
                "Organization",
                "98662"
               ],
               [
                "Yes",
                "VANCOUVER",
                "234",
                "1",
                "7349064290",
                "Rendering Provider",
                "53",
                "PROVIDER SUSAN ",
                "1112223346",
                "1805080AV3648353",
                [
                 [
                  [
                   "Rendering Provider",
                   "PROVIDER SUSAN ",
                   "1112223346",
                   "Individual"
                  ]
                 ],
                 [
                  [
                   "Service Facility",
                   "BH CLINIC OF VANCOUVER",
                   "1122334455",
                   "Organization"
                  ]
                 ]
                ],
                "WA",
                "12345 MAIN ST SUITE A1",
                "Individual",
                "98662"
               ],
               "TODO",
               [
                [
                 [
                  "VANCOUVER",
                  "Insured",
                  "765123",
                  "PATIENT SUSAN E",
                  "WA",
                  "765 43RD ST",
                  "Individual",
                  "986640002"
                 ]
                ],
                [
                 [
                  "Payer",
                  "CHPWA",
                  "COMMUNITY HEALTH PLAN OF WASHINGTON",
                  "Organization"
                 ]
                ],
                [
                 [
                  "Rendering Provider",
                  "PROVIDER SUSAN ",
                  "1112223346",
                  "Individual"
                 ]
                ],
                [
                 [
                  "VANCOUVER",
                  "Service Facility",
                  "BH CLINIC OF VANCOUVER",
                  "1122334455",
                  "WA",
                  "12345 MAIN ST SUITE A1",
                  "Organization",
                  "98662"
                 ]
                ]
               ],
               [
                "VANCOUVER",
                "Insured",
                "765123",
                "PATIENT SUSAN E",
                "Self",
                "WA",
                "765 43RD ST",
                "Individual",
                "986640002"
               ],
               [
                "Unknown",
                "CHPWA",
                "123456789",
                "Organization"
               ],
               [
                "CLEARINGHOUSE CLIENT SERVICES",
                [
                 [
                  [
                   "Telephone",
                   "Fax",
                   "8005551212",
                   "8005551212"
                  ]
                 ]
                ],
                "Unknown",
                "987654321",
                "CLEARINGHOUSE LLC",
                "Organization"
               ],
               [
                "VANCOUVER",
                "Insured",
                "765123",
                "PATIENT SUSAN E",
                "Self",
                "WA",
                "765 43RD ST",
                "Individual",
                "986640002"
               ]
              ]
             ],
             "222"
            ],
            [
             [
              [
               [
                "VANCOUVER",
                "Billing Provider",
                "BH CLINIC OF VANCOUVER",
                "1122334455",
                "WA",
                "12345 MAIN ST",
                "Organization",
                "98662"
               ],
               [
                "Yes",
                "VANCOUVER",
                "20",
                "1",
                "7349064036",
                "Rendering Provider",
                "57",
                "PROVIDER JAMES ",
                "1112223338",
                "1805080AV3648355",
                [
                 [
                  [
                   "Rendering Provider",
                   "PROVIDER JAMES ",
                   "1112223338",
                   "Individual"
                  ]
                 ],
                 [
                  [
                   "Service Facility",
                   "BH CLINIC OF VANCOUVER",
                   "1122334455",
                   "Organization"
                  ]
                 ]
                ],
                "WA",
                "12345 MAIN ST SUITE A1",
                "Individual",
                "98662"
               ],
               "TODO",
               [
                [
                 [
                  "VANCOUVER",
                  "Insured",
                  "987321",
                  "SUBSCRIBER JOHN J",
                  "WA",
                  "987 65TH PL",
                  "Individual",
                  "986640001"
                 ]
                ],
                [
                 [
                  "Payer",
                  "CHPWA",
                  "COMMUNITY HEALTH PLAN OF WASHINGTON",
                  "Organization"
                 ]
                ],
                [
                 [
                  "Rendering Provider",
                  "PROVIDER JAMES ",
                  "1112223338",
                  "Individual"
                 ]
                ],
                [
                 [
                  "VANCOUVER",
                  "Service Facility",
                  "BH CLINIC OF VANCOUVER",
                  "1122334455",
                  "WA",
                  "12345 MAIN ST SUITE A1",
                  "Organization",
                  "98662"
                 ]
                ]
               ],
               [
                "VANCOUVER",
                "Insured",
                "987321",
                "SUBSCRIBER JOHN J",
                "Self",
                "WA",
                "987 65TH PL",
                "Individual",
                "986640001"
               ],
               [
                "Unknown",
                "CHPWA",
                "123456789",
                "Organization"
               ],
               [
                "CLEARINGHOUSE CLIENT SERVICES",
                [
                 [
                  [
                   "Telephone",
                   "Fax",
                   "8005551212",
                   "8005551212"
                  ]
                 ]
                ],
                "Unknown",
                "987654321",
                "CLEARINGHOUSE LLC",
                "Organization"
               ],
               [
                "VANCOUVER",
                "Insured",
                "987321",
                "SUBSCRIBER JOHN J",
                "Self",
                "WA",
                "987 65TH PL",
                "Individual",
                "986640001"
               ]
              ]
             ],
             "222"
            ]
           ]
          ]
         ],
         "dbfs:/Volumes/raven_catalog/x12_edi_parser/sampledata/CHPW_Claimdata.txt"
        ]
       ],
       "datasetInfos": [],
       "dbfsResultPath": null,
       "isJsonSchema": true,
       "metadata": {},
       "overflow": false,
       "plotOptions": {
        "customPlotOptions": {},
        "displayType": "table",
        "pivotAggregation": null,
        "pivotColumns": null,
        "xColumns": null,
        "yColumns": null
       },
       "removedWidgets": [],
       "schema": [
        {
         "metadata": "{}",
         "name": "EDI.sender_tax_id",
         "type": "\"string\""
        },
        {
         "metadata": "{}",
         "name": "FuncitonalGroup",
         "type": "{\"type\":\"array\",\"elementType\":{\"type\":\"struct\",\"fields\":[{\"name\":\"FunctionalGroup.receiver\",\"type\":\"string\",\"nullable\":true,\"metadata\":{}},{\"name\":\"FunctionalGroup.sender\",\"type\":\"string\",\"nullable\":true,\"metadata\":{}},{\"name\":\"FunctionalGroup.transaction_datetime\",\"type\":\"string\",\"nullable\":true,\"metadata\":{}},{\"name\":\"FunctionalGroup.transaction_type\",\"type\":\"string\",\"nullable\":true,\"metadata\":{}},{\"name\":\"Transactions\",\"type\":{\"type\":\"array\",\"elementType\":{\"type\":\"struct\",\"fields\":[{\"name\":\"Claims\",\"type\":{\"type\":\"array\",\"elementType\":{\"type\":\"struct\",\"fields\":[{\"name\":\"billing_provider\",\"type\":{\"type\":\"struct\",\"fields\":[{\"name\":\"city\",\"type\":\"string\",\"nullable\":true,\"metadata\":{}},{\"name\":\"entity_type\",\"type\":\"string\",\"nullable\":true,\"metadata\":{}},{\"name\":\"name\",\"type\":\"string\",\"nullable\":true,\"metadata\":{}},{\"name\":\"npi\",\"type\":\"string\",\"nullable\":true,\"metadata\":{}},{\"name\":\"state\",\"type\":\"string\",\"nullable\":true,\"metadata\":{}},{\"name\":\"street\",\"type\":\"string\",\"nullable\":true,\"metadata\":{}},{\"name\":\"type\",\"type\":\"string\",\"nullable\":true,\"metadata\":{}},{\"name\":\"zip\",\"type\":\"string\",\"nullable\":true,\"metadata\":{}}]},\"nullable\":true,\"metadata\":{}},{\"name\":\"claim_header\",\"type\":{\"type\":\"struct\",\"fields\":[{\"name\":\"benefits_assign_flag\",\"type\":\"string\",\"nullable\":true,\"metadata\":{}},{\"name\":\"city\",\"type\":\"string\",\"nullable\":true,\"metadata\":{}},{\"name\":\"claim_amount\",\"type\":\"string\",\"nullable\":true,\"metadata\":{}},{\"name\":\"claim_code_freq\",\"type\":\"string\",\"nullable\":true,\"metadata\":{}},{\"name\":\"claim_id\",\"type\":\"string\",\"nullable\":true,\"metadata\":{}},{\"name\":\"entity_type\",\"type\":\"string\",\"nullable\":true,\"metadata\":{}},{\"name\":\"facility_type_code\",\"type\":\"string\",\"nullable\":true,\"metadata\":{}},{\"name\":\"name\",\"type\":\"string\",\"nullable\":true,\"metadata\":{}},{\"name\":\"npi\",\"type\":\"string\",\"nullable\":true,\"metadata\":{}},{\"name\":\"patient_id\",\"type\":\"string\",\"nullable\":true,\"metadata\":{}},{\"name\":\"providers\",\"type\":{\"type\":\"struct\",\"fields\":[{\"name\":\"Rendering Provider\",\"type\":{\"type\":\"array\",\"elementType\":{\"type\":\"struct\",\"fields\":[{\"name\":\"entity_type\",\"type\":\"string\",\"nullable\":true,\"metadata\":{}},{\"name\":\"name\",\"type\":\"string\",\"nullable\":true,\"metadata\":{}},{\"name\":\"npi\",\"type\":\"string\",\"nullable\":true,\"metadata\":{}},{\"name\":\"type\",\"type\":\"string\",\"nullable\":true,\"metadata\":{}}]},\"containsNull\":true},\"nullable\":true,\"metadata\":{}},{\"name\":\"Service Facility\",\"type\":{\"type\":\"array\",\"elementType\":{\"type\":\"struct\",\"fields\":[{\"name\":\"entity_type\",\"type\":\"string\",\"nullable\":true,\"metadata\":{}},{\"name\":\"name\",\"type\":\"string\",\"nullable\":true,\"metadata\":{}},{\"name\":\"npi\",\"type\":\"string\",\"nullable\":true,\"metadata\":{}},{\"name\":\"type\",\"type\":\"string\",\"nullable\":true,\"metadata\":{}}]},\"containsNull\":true},\"nullable\":true,\"metadata\":{}}]},\"nullable\":true,\"metadata\":{}},{\"name\":\"state\",\"type\":\"string\",\"nullable\":true,\"metadata\":{}},{\"name\":\"street\",\"type\":\"string\",\"nullable\":true,\"metadata\":{}},{\"name\":\"type\",\"type\":\"string\",\"nullable\":true,\"metadata\":{}},{\"name\":\"zip\",\"type\":\"string\",\"nullable\":true,\"metadata\":{}}]},\"nullable\":true,\"metadata\":{}},{\"name\":\"claim_lines\",\"type\":\"string\",\"nullable\":true,\"metadata\":{}},{\"name\":\"grouped_subscriber_entities\",\"type\":{\"type\":\"struct\",\"fields\":[{\"name\":\"Insured\",\"type\":{\"type\":\"array\",\"elementType\":{\"type\":\"struct\",\"fields\":[{\"name\":\"city\",\"type\":\"string\",\"nullable\":true,\"metadata\":{}},{\"name\":\"entity_type\",\"type\":\"string\",\"nullable\":true,\"metadata\":{}},{\"name\":\"id\",\"type\":\"string\",\"nullable\":true,\"metadata\":{}},{\"name\":\"name\",\"type\":\"string\",\"nullable\":true,\"metadata\":{}},{\"name\":\"state\",\"type\":\"string\",\"nullable\":true,\"metadata\":{}},{\"name\":\"street\",\"type\":\"string\",\"nullable\":true,\"metadata\":{}},{\"name\":\"type\",\"type\":\"string\",\"nullable\":true,\"metadata\":{}},{\"name\":\"zip\",\"type\":\"string\",\"nullable\":true,\"metadata\":{}}]},\"containsNull\":true},\"nullable\":true,\"metadata\":{}},{\"name\":\"Payer\",\"type\":{\"type\":\"array\",\"elementType\":{\"type\":\"struct\",\"fields\":[{\"name\":\"entity_type\",\"type\":\"string\",\"nullable\":true,\"metadata\":{}},{\"name\":\"id\",\"type\":\"string\",\"nullable\":true,\"metadata\":{}},{\"name\":\"name\",\"type\":\"string\",\"nullable\":true,\"metadata\":{}},{\"name\":\"type\",\"type\":\"string\",\"nullable\":true,\"metadata\":{}}]},\"containsNull\":true},\"nullable\":true,\"metadata\":{}},{\"name\":\"Rendering Provider\",\"type\":{\"type\":\"array\",\"elementType\":{\"type\":\"struct\",\"fields\":[{\"name\":\"entity_type\",\"type\":\"string\",\"nullable\":true,\"metadata\":{}},{\"name\":\"name\",\"type\":\"string\",\"nullable\":true,\"metadata\":{}},{\"name\":\"npi\",\"type\":\"string\",\"nullable\":true,\"metadata\":{}},{\"name\":\"type\",\"type\":\"string\",\"nullable\":true,\"metadata\":{}}]},\"containsNull\":true},\"nullable\":true,\"metadata\":{}},{\"name\":\"Service Facility\",\"type\":{\"type\":\"array\",\"elementType\":{\"type\":\"struct\",\"fields\":[{\"name\":\"city\",\"type\":\"string\",\"nullable\":true,\"metadata\":{}},{\"name\":\"entity_type\",\"type\":\"string\",\"nullable\":true,\"metadata\":{}},{\"name\":\"name\",\"type\":\"string\",\"nullable\":true,\"metadata\":{}},{\"name\":\"npi\",\"type\":\"string\",\"nullable\":true,\"metadata\":{}},{\"name\":\"state\",\"type\":\"string\",\"nullable\":true,\"metadata\":{}},{\"name\":\"street\",\"type\":\"string\",\"nullable\":true,\"metadata\":{}},{\"name\":\"type\",\"type\":\"string\",\"nullable\":true,\"metadata\":{}},{\"name\":\"zip\",\"type\":\"string\",\"nullable\":true,\"metadata\":{}}]},\"containsNull\":true},\"nullable\":true,\"metadata\":{}}]},\"nullable\":true,\"metadata\":{}},{\"name\":\"patient\",\"type\":{\"type\":\"struct\",\"fields\":[{\"name\":\"city\",\"type\":\"string\",\"nullable\":true,\"metadata\":{}},{\"name\":\"entity_type\",\"type\":\"string\",\"nullable\":true,\"metadata\":{}},{\"name\":\"id\",\"type\":\"string\",\"nullable\":true,\"metadata\":{}},{\"name\":\"name\",\"type\":\"string\",\"nullable\":true,\"metadata\":{}},{\"name\":\"relationship_to_insured\",\"type\":\"string\",\"nullable\":true,\"metadata\":{}},{\"name\":\"state\",\"type\":\"string\",\"nullable\":true,\"metadata\":{}},{\"name\":\"street\",\"type\":\"string\",\"nullable\":true,\"metadata\":{}},{\"name\":\"type\",\"type\":\"string\",\"nullable\":true,\"metadata\":{}},{\"name\":\"zip\",\"type\":\"string\",\"nullable\":true,\"metadata\":{}}]},\"nullable\":true,\"metadata\":{}},{\"name\":\"reciever\",\"type\":{\"type\":\"struct\",\"fields\":[{\"name\":\"entity_type\",\"type\":\"string\",\"nullable\":true,\"metadata\":{}},{\"name\":\"id\",\"type\":\"string\",\"nullable\":true,\"metadata\":{}},{\"name\":\"name\",\"type\":\"string\",\"nullable\":true,\"metadata\":{}},{\"name\":\"type\",\"type\":\"string\",\"nullable\":true,\"metadata\":{}}]},\"nullable\":true,\"metadata\":{}},{\"name\":\"submitter\",\"type\":{\"type\":\"struct\",\"fields\":[{\"name\":\"contact_name\",\"type\":\"string\",\"nullable\":true,\"metadata\":{}},{\"name\":\"contacts\",\"type\":{\"type\":\"struct\",\"fields\":[{\"name\":\"primary\",\"type\":{\"type\":\"array\",\"elementType\":{\"type\":\"struct\",\"fields\":[{\"name\":\"contact_method\",\"type\":\"string\",\"nullable\":true,\"metadata\":{}},{\"name\":\"contact_method_2\",\"type\":\"string\",\"nullable\":true,\"metadata\":{}},{\"name\":\"contact_number\",\"type\":\"string\",\"nullable\":true,\"metadata\":{}},{\"name\":\"contact_number_2\",\"type\":\"string\",\"nullable\":true,\"metadata\":{}}]},\"containsNull\":true},\"nullable\":true,\"metadata\":{}}]},\"nullable\":true,\"metadata\":{}},{\"name\":\"entity_type\",\"type\":\"string\",\"nullable\":true,\"metadata\":{}},{\"name\":\"id\",\"type\":\"string\",\"nullable\":true,\"metadata\":{}},{\"name\":\"name\",\"type\":\"string\",\"nullable\":true,\"metadata\":{}},{\"name\":\"type\",\"type\":\"string\",\"nullable\":true,\"metadata\":{}}]},\"nullable\":true,\"metadata\":{}},{\"name\":\"subscriber\",\"type\":{\"type\":\"struct\",\"fields\":[{\"name\":\"city\",\"type\":\"string\",\"nullable\":true,\"metadata\":{}},{\"name\":\"entity_type\",\"type\":\"string\",\"nullable\":true,\"metadata\":{}},{\"name\":\"id\",\"type\":\"string\",\"nullable\":true,\"metadata\":{}},{\"name\":\"name\",\"type\":\"string\",\"nullable\":true,\"metadata\":{}},{\"name\":\"relationship_to_insured\",\"type\":\"string\",\"nullable\":true,\"metadata\":{}},{\"name\":\"state\",\"type\":\"string\",\"nullable\":true,\"metadata\":{}},{\"name\":\"street\",\"type\":\"string\",\"nullable\":true,\"metadata\":{}},{\"name\":\"type\",\"type\":\"string\",\"nullable\":true,\"metadata\":{}},{\"name\":\"zip\",\"type\":\"string\",\"nullable\":true,\"metadata\":{}}]},\"nullable\":true,\"metadata\":{}}]},\"containsNull\":true},\"nullable\":true,\"metadata\":{}},{\"name\":\"Transaction.transaction_type\",\"type\":\"string\",\"nullable\":true,\"metadata\":{}}]},\"containsNull\":true},\"nullable\":true,\"metadata\":{}}]},\"containsNull\":true}"
        },
        {
         "metadata": "{}",
         "name": "filename",
         "type": "\"string\""
        }
       ],
       "type": "table"
      }
     },
     "output_type": "display_data"
    }
   ],
   "source": [
    "display(edi_data_df)"
   ]
  },
  {
   "cell_type": "code",
   "execution_count": 0,
   "metadata": {
    "application/vnd.databricks.v1+cell": {
     "cellMetadata": {
      "byteLimit": 2048000,
      "rowLimit": 10000
     },
     "collapsed": true,
     "inputWidgets": {},
     "nuid": "d020959d-5e02-48ec-a19d-2cb2ec330f13",
     "showTitle": false,
     "title": ""
    }
   },
   "outputs": [
    {
     "output_type": "display_data",
     "data": {
      "text/html": [
       "<style scoped>\n",
       "  .table-result-container {\n",
       "    max-height: 300px;\n",
       "    overflow: auto;\n",
       "  }\n",
       "  table, th, td {\n",
       "    border: 1px solid black;\n",
       "    border-collapse: collapse;\n",
       "  }\n",
       "  th, td {\n",
       "    padding: 5px;\n",
       "  }\n",
       "  th {\n",
       "    text-align: left;\n",
       "  }\n",
       "</style><div class='table-result-container'><table class='table-result'><thead style='background-color: white'><tr><th>FunctionalGroup</th></tr></thead><tbody><tr><td>List(123456789, CLEARINGHOUSE, 20180508:0833, 222, List(List(List(List(List(VANCOUVER, Billing Provider, BH CLINIC OF VANCOUVER, 1122334455, WA, 12345 MAIN ST, Organization, 98662), List(Yes, VANCOUVER, 20, 1, 7349065509, Rendering Provider, 57, PROVIDER JAMES , 1112223338, 1805080AV3648339, List(List(List(Rendering Provider, PROVIDER JAMES , 1112223338, Individual)), List(List(Service Facility, BH CLINIC OF VANCOUVER, 1122334455, Organization))), WA, 12345 MAIN ST SUITE A1, Individual, 98662), TODO, List(List(List(VANCOUVER, Insured, 987321, SUBSCRIBER JOHN J, WA, 987 65TH PL, Individual, 986640001)), List(List(Payer, CHPWA, COMMUNITY HEALTH PLAN OF WASHINGTON, Organization)), List(List(Rendering Provider, PROVIDER JAMES , 1112223338, Individual)), List(List(VANCOUVER, Service Facility, BH CLINIC OF VANCOUVER, 1122334455, WA, 12345 MAIN ST SUITE A1, Organization, 98662))), List(VANCOUVER, Insured, 987321, SUBSCRIBER JOHN J, Self, WA, 987 65TH PL, Individual, 986640001), List(Unknown, CHPWA, 123456789, Organization), List(CLEARINGHOUSE CLIENT SERVICES, List(List(List(Telephone, Fax, 8005551212, 8005551212))), Unknown, 987654321, CLEARINGHOUSE LLC, Organization), List(VANCOUVER, Insured, 987321, SUBSCRIBER JOHN J, Self, WA, 987 65TH PL, Individual, 986640001))), 222), List(List(List(List(VANCOUVER, Billing Provider, BH CLINIC OF VANCOUVER, 1122334455, WA, 12345 MAIN ST, Organization, 98662), List(Yes, VANCOUVER, 50.1, 1, 7349065730, Rendering Provider, 57, PROVIDER SUSAN , 1112223346, 1805080AV3648347, List(List(List(Rendering Provider, PROVIDER SUSAN , 1112223346, Individual)), List(List(Service Facility, BH CLINIC OF VANCOUVER, 1122334455, Organization))), WA, 12345 MAIN ST SUITE A1, Individual, 98662), TODO, List(List(List(VANCOUVER, Insured, 765123, PATIENT SUSAN E, WA, 765 43RD ST, Individual, 986640002)), List(List(Payer, CHPWA, COMMUNITY HEALTH PLAN OF WASHINGTON, Organization)), List(List(Rendering Provider, PROVIDER SUSAN , 1112223346, Individual)), List(List(VANCOUVER, Service Facility, BH CLINIC OF VANCOUVER, 1122334455, WA, 12345 MAIN ST SUITE A1, Organization, 98662))), List(VANCOUVER, Insured, 765123, PATIENT SUSAN E, Self, WA, 765 43RD ST, Individual, 986640002), List(Unknown, CHPWA, 123456789, Organization), List(CLEARINGHOUSE CLIENT SERVICES, List(List(List(Telephone, Fax, 8005551212, 8005551212))), Unknown, 987654321, CLEARINGHOUSE LLC, Organization), List(VANCOUVER, Insured, 765123, PATIENT SUSAN E, Self, WA, 765 43RD ST, Individual, 986640002))), 222), List(List(List(List(VANCOUVER, Billing Provider, BH CLINIC OF VANCOUVER, 1122334455, WA, 12345 MAIN ST, Organization, 98662), List(Yes, VANCOUVER, 11.64, 1, 7349065492, Rendering Provider, 57, PROVIDER SUSAN , 1112223346, 1805080AV3648340, List(List(List(Rendering Provider, PROVIDER SUSAN , 1112223346, Individual)), List(List(Service Facility, BH CLINIC OF VANCOUVER, 1122334455, Organization))), WA, 12345 MAIN ST SUITE A1, Individual, 98662), TODO, List(List(List(VANCOUVER, Insured, 987321, SUBSCRIBER JOHN J, WA, 987 65TH PL, Individual, 986640001)), List(List(Payer, CHPWA, COMMUNITY HEALTH PLAN OF WASHINGTON, Organization)), List(List(Rendering Provider, PROVIDER SUSAN , 1112223346, Individual)), List(List(VANCOUVER, Service Facility, BH CLINIC OF VANCOUVER, 1122334455, WA, 12345 MAIN ST SUITE A1, Organization, 98662))), List(VANCOUVER, Insured, 987321, SUBSCRIBER JOHN J, Self, WA, 987 65TH PL, Individual, 986640001), List(Unknown, CHPWA, 123456789, Organization), List(CLEARINGHOUSE CLIENT SERVICES, List(List(List(Telephone, Fax, 8005551212, 8005551212))), Unknown, 987654321, CLEARINGHOUSE LLC, Organization), List(VANCOUVER, Insured, 987321, SUBSCRIBER JOHN J, Self, WA, 987 65TH PL, Individual, 986640001))), 222), List(List(List(List(VANCOUVER, Billing Provider, BH CLINIC OF VANCOUVER, 1122334455, WA, 12345 MAIN ST, Organization, 98662), List(Yes, VANCOUVER, 234, 1, 7349064290, Rendering Provider, 53, PROVIDER SUSAN , 1112223346, 1805080AV3648353, List(List(List(Rendering Provider, PROVIDER SUSAN , 1112223346, Individual)), List(List(Service Facility, BH CLINIC OF VANCOUVER, 1122334455, Organization))), WA, 12345 MAIN ST SUITE A1, Individual, 98662), TODO, List(List(List(VANCOUVER, Insured, 765123, PATIENT SUSAN E, WA, 765 43RD ST, Individual, 986640002)), List(List(Payer, CHPWA, COMMUNITY HEALTH PLAN OF WASHINGTON, Organization)), List(List(Rendering Provider, PROVIDER SUSAN , 1112223346, Individual)), List(List(VANCOUVER, Service Facility, BH CLINIC OF VANCOUVER, 1122334455, WA, 12345 MAIN ST SUITE A1, Organization, 98662))), List(VANCOUVER, Insured, 765123, PATIENT SUSAN E, Self, WA, 765 43RD ST, Individual, 986640002), List(Unknown, CHPWA, 123456789, Organization), List(CLEARINGHOUSE CLIENT SERVICES, List(List(List(Telephone, Fax, 8005551212, 8005551212))), Unknown, 987654321, CLEARINGHOUSE LLC, Organization), List(VANCOUVER, Insured, 765123, PATIENT SUSAN E, Self, WA, 765 43RD ST, Individual, 986640002))), 222), List(List(List(List(VANCOUVER, Billing Provider, BH CLINIC OF VANCOUVER, 1122334455, WA, 12345 MAIN ST, Organization, 98662), List(Yes, VANCOUVER, 20, 1, 7349064036, Rendering Provider, 57, PROVIDER JAMES , 1112223338, 1805080AV3648355, List(List(List(Rendering Provider, PROVIDER JAMES , 1112223338, Individual)), List(List(Service Facility, BH CLINIC OF VANCOUVER, 1122334455, Organization))), WA, 12345 MAIN ST SUITE A1, Individual, 98662), TODO, List(List(List(VANCOUVER, Insured, 987321, SUBSCRIBER JOHN J, WA, 987 65TH PL, Individual, 986640001)), List(List(Payer, CHPWA, COMMUNITY HEALTH PLAN OF WASHINGTON, Organization)), List(List(Rendering Provider, PROVIDER JAMES , 1112223338, Individual)), List(List(VANCOUVER, Service Facility, BH CLINIC OF VANCOUVER, 1122334455, WA, 12345 MAIN ST SUITE A1, Organization, 98662))), List(VANCOUVER, Insured, 987321, SUBSCRIBER JOHN J, Self, WA, 987 65TH PL, Individual, 986640001), List(Unknown, CHPWA, 123456789, Organization), List(CLEARINGHOUSE CLIENT SERVICES, List(List(List(Telephone, Fax, 8005551212, 8005551212))), Unknown, 987654321, CLEARINGHOUSE LLC, Organization), List(VANCOUVER, Insured, 987321, SUBSCRIBER JOHN J, Self, WA, 987 65TH PL, Individual, 986640001))), 222)))</td></tr></tbody></table></div>"
      ]
     },
     "metadata": {
      "application/vnd.databricks.v1+output": {
       "addedWidgets": {},
       "aggData": [],
       "aggError": "",
       "aggOverflow": false,
       "aggSchema": [],
       "aggSeriesLimitReached": false,
       "aggType": "",
       "arguments": {},
       "columnCustomDisplayInfos": {},
       "data": [
        [
         [
          "123456789",
          "CLEARINGHOUSE",
          "20180508:0833",
          "222",
          [
           [
            [
             [
              [
               "VANCOUVER",
               "Billing Provider",
               "BH CLINIC OF VANCOUVER",
               "1122334455",
               "WA",
               "12345 MAIN ST",
               "Organization",
               "98662"
              ],
              [
               "Yes",
               "VANCOUVER",
               "20",
               "1",
               "7349065509",
               "Rendering Provider",
               "57",
               "PROVIDER JAMES ",
               "1112223338",
               "1805080AV3648339",
               [
                [
                 [
                  "Rendering Provider",
                  "PROVIDER JAMES ",
                  "1112223338",
                  "Individual"
                 ]
                ],
                [
                 [
                  "Service Facility",
                  "BH CLINIC OF VANCOUVER",
                  "1122334455",
                  "Organization"
                 ]
                ]
               ],
               "WA",
               "12345 MAIN ST SUITE A1",
               "Individual",
               "98662"
              ],
              "TODO",
              [
               [
                [
                 "VANCOUVER",
                 "Insured",
                 "987321",
                 "SUBSCRIBER JOHN J",
                 "WA",
                 "987 65TH PL",
                 "Individual",
                 "986640001"
                ]
               ],
               [
                [
                 "Payer",
                 "CHPWA",
                 "COMMUNITY HEALTH PLAN OF WASHINGTON",
                 "Organization"
                ]
               ],
               [
                [
                 "Rendering Provider",
                 "PROVIDER JAMES ",
                 "1112223338",
                 "Individual"
                ]
               ],
               [
                [
                 "VANCOUVER",
                 "Service Facility",
                 "BH CLINIC OF VANCOUVER",
                 "1122334455",
                 "WA",
                 "12345 MAIN ST SUITE A1",
                 "Organization",
                 "98662"
                ]
               ]
              ],
              [
               "VANCOUVER",
               "Insured",
               "987321",
               "SUBSCRIBER JOHN J",
               "Self",
               "WA",
               "987 65TH PL",
               "Individual",
               "986640001"
              ],
              [
               "Unknown",
               "CHPWA",
               "123456789",
               "Organization"
              ],
              [
               "CLEARINGHOUSE CLIENT SERVICES",
               [
                [
                 [
                  "Telephone",
                  "Fax",
                  "8005551212",
                  "8005551212"
                 ]
                ]
               ],
               "Unknown",
               "987654321",
               "CLEARINGHOUSE LLC",
               "Organization"
              ],
              [
               "VANCOUVER",
               "Insured",
               "987321",
               "SUBSCRIBER JOHN J",
               "Self",
               "WA",
               "987 65TH PL",
               "Individual",
               "986640001"
              ]
             ]
            ],
            "222"
           ],
           [
            [
             [
              [
               "VANCOUVER",
               "Billing Provider",
               "BH CLINIC OF VANCOUVER",
               "1122334455",
               "WA",
               "12345 MAIN ST",
               "Organization",
               "98662"
              ],
              [
               "Yes",
               "VANCOUVER",
               "50.1",
               "1",
               "7349065730",
               "Rendering Provider",
               "57",
               "PROVIDER SUSAN ",
               "1112223346",
               "1805080AV3648347",
               [
                [
                 [
                  "Rendering Provider",
                  "PROVIDER SUSAN ",
                  "1112223346",
                  "Individual"
                 ]
                ],
                [
                 [
                  "Service Facility",
                  "BH CLINIC OF VANCOUVER",
                  "1122334455",
                  "Organization"
                 ]
                ]
               ],
               "WA",
               "12345 MAIN ST SUITE A1",
               "Individual",
               "98662"
              ],
              "TODO",
              [
               [
                [
                 "VANCOUVER",
                 "Insured",
                 "765123",
                 "PATIENT SUSAN E",
                 "WA",
                 "765 43RD ST",
                 "Individual",
                 "986640002"
                ]
               ],
               [
                [
                 "Payer",
                 "CHPWA",
                 "COMMUNITY HEALTH PLAN OF WASHINGTON",
                 "Organization"
                ]
               ],
               [
                [
                 "Rendering Provider",
                 "PROVIDER SUSAN ",
                 "1112223346",
                 "Individual"
                ]
               ],
               [
                [
                 "VANCOUVER",
                 "Service Facility",
                 "BH CLINIC OF VANCOUVER",
                 "1122334455",
                 "WA",
                 "12345 MAIN ST SUITE A1",
                 "Organization",
                 "98662"
                ]
               ]
              ],
              [
               "VANCOUVER",
               "Insured",
               "765123",
               "PATIENT SUSAN E",
               "Self",
               "WA",
               "765 43RD ST",
               "Individual",
               "986640002"
              ],
              [
               "Unknown",
               "CHPWA",
               "123456789",
               "Organization"
              ],
              [
               "CLEARINGHOUSE CLIENT SERVICES",
               [
                [
                 [
                  "Telephone",
                  "Fax",
                  "8005551212",
                  "8005551212"
                 ]
                ]
               ],
               "Unknown",
               "987654321",
               "CLEARINGHOUSE LLC",
               "Organization"
              ],
              [
               "VANCOUVER",
               "Insured",
               "765123",
               "PATIENT SUSAN E",
               "Self",
               "WA",
               "765 43RD ST",
               "Individual",
               "986640002"
              ]
             ]
            ],
            "222"
           ],
           [
            [
             [
              [
               "VANCOUVER",
               "Billing Provider",
               "BH CLINIC OF VANCOUVER",
               "1122334455",
               "WA",
               "12345 MAIN ST",
               "Organization",
               "98662"
              ],
              [
               "Yes",
               "VANCOUVER",
               "11.64",
               "1",
               "7349065492",
               "Rendering Provider",
               "57",
               "PROVIDER SUSAN ",
               "1112223346",
               "1805080AV3648340",
               [
                [
                 [
                  "Rendering Provider",
                  "PROVIDER SUSAN ",
                  "1112223346",
                  "Individual"
                 ]
                ],
                [
                 [
                  "Service Facility",
                  "BH CLINIC OF VANCOUVER",
                  "1122334455",
                  "Organization"
                 ]
                ]
               ],
               "WA",
               "12345 MAIN ST SUITE A1",
               "Individual",
               "98662"
              ],
              "TODO",
              [
               [
                [
                 "VANCOUVER",
                 "Insured",
                 "987321",
                 "SUBSCRIBER JOHN J",
                 "WA",
                 "987 65TH PL",
                 "Individual",
                 "986640001"
                ]
               ],
               [
                [
                 "Payer",
                 "CHPWA",
                 "COMMUNITY HEALTH PLAN OF WASHINGTON",
                 "Organization"
                ]
               ],
               [
                [
                 "Rendering Provider",
                 "PROVIDER SUSAN ",
                 "1112223346",
                 "Individual"
                ]
               ],
               [
                [
                 "VANCOUVER",
                 "Service Facility",
                 "BH CLINIC OF VANCOUVER",
                 "1122334455",
                 "WA",
                 "12345 MAIN ST SUITE A1",
                 "Organization",
                 "98662"
                ]
               ]
              ],
              [
               "VANCOUVER",
               "Insured",
               "987321",
               "SUBSCRIBER JOHN J",
               "Self",
               "WA",
               "987 65TH PL",
               "Individual",
               "986640001"
              ],
              [
               "Unknown",
               "CHPWA",
               "123456789",
               "Organization"
              ],
              [
               "CLEARINGHOUSE CLIENT SERVICES",
               [
                [
                 [
                  "Telephone",
                  "Fax",
                  "8005551212",
                  "8005551212"
                 ]
                ]
               ],
               "Unknown",
               "987654321",
               "CLEARINGHOUSE LLC",
               "Organization"
              ],
              [
               "VANCOUVER",
               "Insured",
               "987321",
               "SUBSCRIBER JOHN J",
               "Self",
               "WA",
               "987 65TH PL",
               "Individual",
               "986640001"
              ]
             ]
            ],
            "222"
           ],
           [
            [
             [
              [
               "VANCOUVER",
               "Billing Provider",
               "BH CLINIC OF VANCOUVER",
               "1122334455",
               "WA",
               "12345 MAIN ST",
               "Organization",
               "98662"
              ],
              [
               "Yes",
               "VANCOUVER",
               "234",
               "1",
               "7349064290",
               "Rendering Provider",
               "53",
               "PROVIDER SUSAN ",
               "1112223346",
               "1805080AV3648353",
               [
                [
                 [
                  "Rendering Provider",
                  "PROVIDER SUSAN ",
                  "1112223346",
                  "Individual"
                 ]
                ],
                [
                 [
                  "Service Facility",
                  "BH CLINIC OF VANCOUVER",
                  "1122334455",
                  "Organization"
                 ]
                ]
               ],
               "WA",
               "12345 MAIN ST SUITE A1",
               "Individual",
               "98662"
              ],
              "TODO",
              [
               [
                [
                 "VANCOUVER",
                 "Insured",
                 "765123",
                 "PATIENT SUSAN E",
                 "WA",
                 "765 43RD ST",
                 "Individual",
                 "986640002"
                ]
               ],
               [
                [
                 "Payer",
                 "CHPWA",
                 "COMMUNITY HEALTH PLAN OF WASHINGTON",
                 "Organization"
                ]
               ],
               [
                [
                 "Rendering Provider",
                 "PROVIDER SUSAN ",
                 "1112223346",
                 "Individual"
                ]
               ],
               [
                [
                 "VANCOUVER",
                 "Service Facility",
                 "BH CLINIC OF VANCOUVER",
                 "1122334455",
                 "WA",
                 "12345 MAIN ST SUITE A1",
                 "Organization",
                 "98662"
                ]
               ]
              ],
              [
               "VANCOUVER",
               "Insured",
               "765123",
               "PATIENT SUSAN E",
               "Self",
               "WA",
               "765 43RD ST",
               "Individual",
               "986640002"
              ],
              [
               "Unknown",
               "CHPWA",
               "123456789",
               "Organization"
              ],
              [
               "CLEARINGHOUSE CLIENT SERVICES",
               [
                [
                 [
                  "Telephone",
                  "Fax",
                  "8005551212",
                  "8005551212"
                 ]
                ]
               ],
               "Unknown",
               "987654321",
               "CLEARINGHOUSE LLC",
               "Organization"
              ],
              [
               "VANCOUVER",
               "Insured",
               "765123",
               "PATIENT SUSAN E",
               "Self",
               "WA",
               "765 43RD ST",
               "Individual",
               "986640002"
              ]
             ]
            ],
            "222"
           ],
           [
            [
             [
              [
               "VANCOUVER",
               "Billing Provider",
               "BH CLINIC OF VANCOUVER",
               "1122334455",
               "WA",
               "12345 MAIN ST",
               "Organization",
               "98662"
              ],
              [
               "Yes",
               "VANCOUVER",
               "20",
               "1",
               "7349064036",
               "Rendering Provider",
               "57",
               "PROVIDER JAMES ",
               "1112223338",
               "1805080AV3648355",
               [
                [
                 [
                  "Rendering Provider",
                  "PROVIDER JAMES ",
                  "1112223338",
                  "Individual"
                 ]
                ],
                [
                 [
                  "Service Facility",
                  "BH CLINIC OF VANCOUVER",
                  "1122334455",
                  "Organization"
                 ]
                ]
               ],
               "WA",
               "12345 MAIN ST SUITE A1",
               "Individual",
               "98662"
              ],
              "TODO",
              [
               [
                [
                 "VANCOUVER",
                 "Insured",
                 "987321",
                 "SUBSCRIBER JOHN J",
                 "WA",
                 "987 65TH PL",
                 "Individual",
                 "986640001"
                ]
               ],
               [
                [
                 "Payer",
                 "CHPWA",
                 "COMMUNITY HEALTH PLAN OF WASHINGTON",
                 "Organization"
                ]
               ],
               [
                [
                 "Rendering Provider",
                 "PROVIDER JAMES ",
                 "1112223338",
                 "Individual"
                ]
               ],
               [
                [
                 "VANCOUVER",
                 "Service Facility",
                 "BH CLINIC OF VANCOUVER",
                 "1122334455",
                 "WA",
                 "12345 MAIN ST SUITE A1",
                 "Organization",
                 "98662"
                ]
               ]
              ],
              [
               "VANCOUVER",
               "Insured",
               "987321",
               "SUBSCRIBER JOHN J",
               "Self",
               "WA",
               "987 65TH PL",
               "Individual",
               "986640001"
              ],
              [
               "Unknown",
               "CHPWA",
               "123456789",
               "Organization"
              ],
              [
               "CLEARINGHOUSE CLIENT SERVICES",
               [
                [
                 [
                  "Telephone",
                  "Fax",
                  "8005551212",
                  "8005551212"
                 ]
                ]
               ],
               "Unknown",
               "987654321",
               "CLEARINGHOUSE LLC",
               "Organization"
              ],
              [
               "VANCOUVER",
               "Insured",
               "987321",
               "SUBSCRIBER JOHN J",
               "Self",
               "WA",
               "987 65TH PL",
               "Individual",
               "986640001"
              ]
             ]
            ],
            "222"
           ]
          ]
         ]
        ]
       ],
       "datasetInfos": [],
       "dbfsResultPath": null,
       "isJsonSchema": true,
       "metadata": {},
       "overflow": false,
       "plotOptions": {
        "customPlotOptions": {},
        "displayType": "table",
        "pivotAggregation": null,
        "pivotColumns": null,
        "xColumns": null,
        "yColumns": null
       },
       "removedWidgets": [],
       "schema": [
        {
         "metadata": "{}",
         "name": "FunctionalGroup",
         "type": "{\"type\":\"struct\",\"fields\":[{\"name\":\"FunctionalGroup.receiver\",\"type\":\"string\",\"nullable\":true,\"metadata\":{}},{\"name\":\"FunctionalGroup.sender\",\"type\":\"string\",\"nullable\":true,\"metadata\":{}},{\"name\":\"FunctionalGroup.transaction_datetime\",\"type\":\"string\",\"nullable\":true,\"metadata\":{}},{\"name\":\"FunctionalGroup.transaction_type\",\"type\":\"string\",\"nullable\":true,\"metadata\":{}},{\"name\":\"Transactions\",\"type\":{\"type\":\"array\",\"elementType\":{\"type\":\"struct\",\"fields\":[{\"name\":\"Claims\",\"type\":{\"type\":\"array\",\"elementType\":{\"type\":\"struct\",\"fields\":[{\"name\":\"billing_provider\",\"type\":{\"type\":\"struct\",\"fields\":[{\"name\":\"city\",\"type\":\"string\",\"nullable\":true,\"metadata\":{}},{\"name\":\"entity_type\",\"type\":\"string\",\"nullable\":true,\"metadata\":{}},{\"name\":\"name\",\"type\":\"string\",\"nullable\":true,\"metadata\":{}},{\"name\":\"npi\",\"type\":\"string\",\"nullable\":true,\"metadata\":{}},{\"name\":\"state\",\"type\":\"string\",\"nullable\":true,\"metadata\":{}},{\"name\":\"street\",\"type\":\"string\",\"nullable\":true,\"metadata\":{}},{\"name\":\"type\",\"type\":\"string\",\"nullable\":true,\"metadata\":{}},{\"name\":\"zip\",\"type\":\"string\",\"nullable\":true,\"metadata\":{}}]},\"nullable\":true,\"metadata\":{}},{\"name\":\"claim_header\",\"type\":{\"type\":\"struct\",\"fields\":[{\"name\":\"benefits_assign_flag\",\"type\":\"string\",\"nullable\":true,\"metadata\":{}},{\"name\":\"city\",\"type\":\"string\",\"nullable\":true,\"metadata\":{}},{\"name\":\"claim_amount\",\"type\":\"string\",\"nullable\":true,\"metadata\":{}},{\"name\":\"claim_code_freq\",\"type\":\"string\",\"nullable\":true,\"metadata\":{}},{\"name\":\"claim_id\",\"type\":\"string\",\"nullable\":true,\"metadata\":{}},{\"name\":\"entity_type\",\"type\":\"string\",\"nullable\":true,\"metadata\":{}},{\"name\":\"facility_type_code\",\"type\":\"string\",\"nullable\":true,\"metadata\":{}},{\"name\":\"name\",\"type\":\"string\",\"nullable\":true,\"metadata\":{}},{\"name\":\"npi\",\"type\":\"string\",\"nullable\":true,\"metadata\":{}},{\"name\":\"patient_id\",\"type\":\"string\",\"nullable\":true,\"metadata\":{}},{\"name\":\"providers\",\"type\":{\"type\":\"struct\",\"fields\":[{\"name\":\"Rendering Provider\",\"type\":{\"type\":\"array\",\"elementType\":{\"type\":\"struct\",\"fields\":[{\"name\":\"entity_type\",\"type\":\"string\",\"nullable\":true,\"metadata\":{}},{\"name\":\"name\",\"type\":\"string\",\"nullable\":true,\"metadata\":{}},{\"name\":\"npi\",\"type\":\"string\",\"nullable\":true,\"metadata\":{}},{\"name\":\"type\",\"type\":\"string\",\"nullable\":true,\"metadata\":{}}]},\"containsNull\":true},\"nullable\":true,\"metadata\":{}},{\"name\":\"Service Facility\",\"type\":{\"type\":\"array\",\"elementType\":{\"type\":\"struct\",\"fields\":[{\"name\":\"entity_type\",\"type\":\"string\",\"nullable\":true,\"metadata\":{}},{\"name\":\"name\",\"type\":\"string\",\"nullable\":true,\"metadata\":{}},{\"name\":\"npi\",\"type\":\"string\",\"nullable\":true,\"metadata\":{}},{\"name\":\"type\",\"type\":\"string\",\"nullable\":true,\"metadata\":{}}]},\"containsNull\":true},\"nullable\":true,\"metadata\":{}}]},\"nullable\":true,\"metadata\":{}},{\"name\":\"state\",\"type\":\"string\",\"nullable\":true,\"metadata\":{}},{\"name\":\"street\",\"type\":\"string\",\"nullable\":true,\"metadata\":{}},{\"name\":\"type\",\"type\":\"string\",\"nullable\":true,\"metadata\":{}},{\"name\":\"zip\",\"type\":\"string\",\"nullable\":true,\"metadata\":{}}]},\"nullable\":true,\"metadata\":{}},{\"name\":\"claim_lines\",\"type\":\"string\",\"nullable\":true,\"metadata\":{}},{\"name\":\"grouped_subscriber_entities\",\"type\":{\"type\":\"struct\",\"fields\":[{\"name\":\"Insured\",\"type\":{\"type\":\"array\",\"elementType\":{\"type\":\"struct\",\"fields\":[{\"name\":\"city\",\"type\":\"string\",\"nullable\":true,\"metadata\":{}},{\"name\":\"entity_type\",\"type\":\"string\",\"nullable\":true,\"metadata\":{}},{\"name\":\"id\",\"type\":\"string\",\"nullable\":true,\"metadata\":{}},{\"name\":\"name\",\"type\":\"string\",\"nullable\":true,\"metadata\":{}},{\"name\":\"state\",\"type\":\"string\",\"nullable\":true,\"metadata\":{}},{\"name\":\"street\",\"type\":\"string\",\"nullable\":true,\"metadata\":{}},{\"name\":\"type\",\"type\":\"string\",\"nullable\":true,\"metadata\":{}},{\"name\":\"zip\",\"type\":\"string\",\"nullable\":true,\"metadata\":{}}]},\"containsNull\":true},\"nullable\":true,\"metadata\":{}},{\"name\":\"Payer\",\"type\":{\"type\":\"array\",\"elementType\":{\"type\":\"struct\",\"fields\":[{\"name\":\"entity_type\",\"type\":\"string\",\"nullable\":true,\"metadata\":{}},{\"name\":\"id\",\"type\":\"string\",\"nullable\":true,\"metadata\":{}},{\"name\":\"name\",\"type\":\"string\",\"nullable\":true,\"metadata\":{}},{\"name\":\"type\",\"type\":\"string\",\"nullable\":true,\"metadata\":{}}]},\"containsNull\":true},\"nullable\":true,\"metadata\":{}},{\"name\":\"Rendering Provider\",\"type\":{\"type\":\"array\",\"elementType\":{\"type\":\"struct\",\"fields\":[{\"name\":\"entity_type\",\"type\":\"string\",\"nullable\":true,\"metadata\":{}},{\"name\":\"name\",\"type\":\"string\",\"nullable\":true,\"metadata\":{}},{\"name\":\"npi\",\"type\":\"string\",\"nullable\":true,\"metadata\":{}},{\"name\":\"type\",\"type\":\"string\",\"nullable\":true,\"metadata\":{}}]},\"containsNull\":true},\"nullable\":true,\"metadata\":{}},{\"name\":\"Service Facility\",\"type\":{\"type\":\"array\",\"elementType\":{\"type\":\"struct\",\"fields\":[{\"name\":\"city\",\"type\":\"string\",\"nullable\":true,\"metadata\":{}},{\"name\":\"entity_type\",\"type\":\"string\",\"nullable\":true,\"metadata\":{}},{\"name\":\"name\",\"type\":\"string\",\"nullable\":true,\"metadata\":{}},{\"name\":\"npi\",\"type\":\"string\",\"nullable\":true,\"metadata\":{}},{\"name\":\"state\",\"type\":\"string\",\"nullable\":true,\"metadata\":{}},{\"name\":\"street\",\"type\":\"string\",\"nullable\":true,\"metadata\":{}},{\"name\":\"type\",\"type\":\"string\",\"nullable\":true,\"metadata\":{}},{\"name\":\"zip\",\"type\":\"string\",\"nullable\":true,\"metadata\":{}}]},\"containsNull\":true},\"nullable\":true,\"metadata\":{}}]},\"nullable\":true,\"metadata\":{}},{\"name\":\"patient\",\"type\":{\"type\":\"struct\",\"fields\":[{\"name\":\"city\",\"type\":\"string\",\"nullable\":true,\"metadata\":{}},{\"name\":\"entity_type\",\"type\":\"string\",\"nullable\":true,\"metadata\":{}},{\"name\":\"id\",\"type\":\"string\",\"nullable\":true,\"metadata\":{}},{\"name\":\"name\",\"type\":\"string\",\"nullable\":true,\"metadata\":{}},{\"name\":\"relationship_to_insured\",\"type\":\"string\",\"nullable\":true,\"metadata\":{}},{\"name\":\"state\",\"type\":\"string\",\"nullable\":true,\"metadata\":{}},{\"name\":\"street\",\"type\":\"string\",\"nullable\":true,\"metadata\":{}},{\"name\":\"type\",\"type\":\"string\",\"nullable\":true,\"metadata\":{}},{\"name\":\"zip\",\"type\":\"string\",\"nullable\":true,\"metadata\":{}}]},\"nullable\":true,\"metadata\":{}},{\"name\":\"reciever\",\"type\":{\"type\":\"struct\",\"fields\":[{\"name\":\"entity_type\",\"type\":\"string\",\"nullable\":true,\"metadata\":{}},{\"name\":\"id\",\"type\":\"string\",\"nullable\":true,\"metadata\":{}},{\"name\":\"name\",\"type\":\"string\",\"nullable\":true,\"metadata\":{}},{\"name\":\"type\",\"type\":\"string\",\"nullable\":true,\"metadata\":{}}]},\"nullable\":true,\"metadata\":{}},{\"name\":\"submitter\",\"type\":{\"type\":\"struct\",\"fields\":[{\"name\":\"contact_name\",\"type\":\"string\",\"nullable\":true,\"metadata\":{}},{\"name\":\"contacts\",\"type\":{\"type\":\"struct\",\"fields\":[{\"name\":\"primary\",\"type\":{\"type\":\"array\",\"elementType\":{\"type\":\"struct\",\"fields\":[{\"name\":\"contact_method\",\"type\":\"string\",\"nullable\":true,\"metadata\":{}},{\"name\":\"contact_method_2\",\"type\":\"string\",\"nullable\":true,\"metadata\":{}},{\"name\":\"contact_number\",\"type\":\"string\",\"nullable\":true,\"metadata\":{}},{\"name\":\"contact_number_2\",\"type\":\"string\",\"nullable\":true,\"metadata\":{}}]},\"containsNull\":true},\"nullable\":true,\"metadata\":{}}]},\"nullable\":true,\"metadata\":{}},{\"name\":\"entity_type\",\"type\":\"string\",\"nullable\":true,\"metadata\":{}},{\"name\":\"id\",\"type\":\"string\",\"nullable\":true,\"metadata\":{}},{\"name\":\"name\",\"type\":\"string\",\"nullable\":true,\"metadata\":{}},{\"name\":\"type\",\"type\":\"string\",\"nullable\":true,\"metadata\":{}}]},\"nullable\":true,\"metadata\":{}},{\"name\":\"subscriber\",\"type\":{\"type\":\"struct\",\"fields\":[{\"name\":\"city\",\"type\":\"string\",\"nullable\":true,\"metadata\":{}},{\"name\":\"entity_type\",\"type\":\"string\",\"nullable\":true,\"metadata\":{}},{\"name\":\"id\",\"type\":\"string\",\"nullable\":true,\"metadata\":{}},{\"name\":\"name\",\"type\":\"string\",\"nullable\":true,\"metadata\":{}},{\"name\":\"relationship_to_insured\",\"type\":\"string\",\"nullable\":true,\"metadata\":{}},{\"name\":\"state\",\"type\":\"string\",\"nullable\":true,\"metadata\":{}},{\"name\":\"street\",\"type\":\"string\",\"nullable\":true,\"metadata\":{}},{\"name\":\"type\",\"type\":\"string\",\"nullable\":true,\"metadata\":{}},{\"name\":\"zip\",\"type\":\"string\",\"nullable\":true,\"metadata\":{}}]},\"nullable\":true,\"metadata\":{}}]},\"containsNull\":true},\"nullable\":true,\"metadata\":{}},{\"name\":\"Transaction.transaction_type\",\"type\":\"string\",\"nullable\":true,\"metadata\":{}}]},\"containsNull\":true},\"nullable\":true,\"metadata\":{}}]}"
        }
       ],
       "type": "table"
      }
     },
     "output_type": "display_data"
    }
   ],
   "source": [
    "from pyspark.sql.functions import explode, col\n",
    "from pyspark.sql.types import StructType, ArrayType\n",
    "\n",
    "# Extract FunctionalGroups and Transactions\n",
    "functional_groups_df = edi_data_df.select(explode(col(\"FuncitonalGroup\")).alias(\"FunctionalGroup\"))\n",
    "\n",
    "display(functional_groups_df)"
   ]
  },
  {
   "cell_type": "code",
   "execution_count": 0,
   "metadata": {
    "application/vnd.databricks.v1+cell": {
     "cellMetadata": {
      "byteLimit": 2048000,
      "rowLimit": 10000
     },
     "collapsed": true,
     "inputWidgets": {},
     "nuid": "e15aa662-8cc1-48e4-942a-5eced85a6841",
     "showTitle": false,
     "title": ""
    }
   },
   "outputs": [
    {
     "output_type": "stream",
     "name": "stdout",
     "output_type": "stream",
     "text": [
      "root\n |-- FunctionalGroup: struct (nullable = true)\n |    |-- FunctionalGroup.receiver: string (nullable = true)\n |    |-- FunctionalGroup.sender: string (nullable = true)\n |    |-- FunctionalGroup.transaction_datetime: string (nullable = true)\n |    |-- FunctionalGroup.transaction_type: string (nullable = true)\n |    |-- Transactions: array (nullable = true)\n |    |    |-- element: struct (containsNull = true)\n |    |    |    |-- Claims: array (nullable = true)\n |    |    |    |    |-- element: struct (containsNull = true)\n |    |    |    |    |    |-- billing_provider: struct (nullable = true)\n |    |    |    |    |    |    |-- city: string (nullable = true)\n |    |    |    |    |    |    |-- entity_type: string (nullable = true)\n |    |    |    |    |    |    |-- name: string (nullable = true)\n |    |    |    |    |    |    |-- npi: string (nullable = true)\n |    |    |    |    |    |    |-- state: string (nullable = true)\n |    |    |    |    |    |    |-- street: string (nullable = true)\n |    |    |    |    |    |    |-- type: string (nullable = true)\n |    |    |    |    |    |    |-- zip: string (nullable = true)\n |    |    |    |    |    |-- claim_header: struct (nullable = true)\n |    |    |    |    |    |    |-- benefits_assign_flag: string (nullable = true)\n |    |    |    |    |    |    |-- city: string (nullable = true)\n |    |    |    |    |    |    |-- claim_amount: string (nullable = true)\n |    |    |    |    |    |    |-- claim_code_freq: string (nullable = true)\n |    |    |    |    |    |    |-- claim_id: string (nullable = true)\n |    |    |    |    |    |    |-- entity_type: string (nullable = true)\n |    |    |    |    |    |    |-- facility_type_code: string (nullable = true)\n |    |    |    |    |    |    |-- name: string (nullable = true)\n |    |    |    |    |    |    |-- npi: string (nullable = true)\n |    |    |    |    |    |    |-- patient_id: string (nullable = true)\n |    |    |    |    |    |    |-- providers: struct (nullable = true)\n |    |    |    |    |    |    |    |-- Rendering Provider: array (nullable = true)\n |    |    |    |    |    |    |    |    |-- element: struct (containsNull = true)\n |    |    |    |    |    |    |    |    |    |-- entity_type: string (nullable = true)\n |    |    |    |    |    |    |    |    |    |-- name: string (nullable = true)\n |    |    |    |    |    |    |    |    |    |-- npi: string (nullable = true)\n |    |    |    |    |    |    |    |    |    |-- type: string (nullable = true)\n |    |    |    |    |    |    |    |-- Service Facility: array (nullable = true)\n |    |    |    |    |    |    |    |    |-- element: struct (containsNull = true)\n |    |    |    |    |    |    |    |    |    |-- entity_type: string (nullable = true)\n |    |    |    |    |    |    |    |    |    |-- name: string (nullable = true)\n |    |    |    |    |    |    |    |    |    |-- npi: string (nullable = true)\n |    |    |    |    |    |    |    |    |    |-- type: string (nullable = true)\n |    |    |    |    |    |    |-- state: string (nullable = true)\n |    |    |    |    |    |    |-- street: string (nullable = true)\n |    |    |    |    |    |    |-- type: string (nullable = true)\n |    |    |    |    |    |    |-- zip: string (nullable = true)\n |    |    |    |    |    |-- claim_lines: string (nullable = true)\n |    |    |    |    |    |-- grouped_subscriber_entities: struct (nullable = true)\n |    |    |    |    |    |    |-- Insured: array (nullable = true)\n |    |    |    |    |    |    |    |-- element: struct (containsNull = true)\n |    |    |    |    |    |    |    |    |-- city: string (nullable = true)\n |    |    |    |    |    |    |    |    |-- entity_type: string (nullable = true)\n |    |    |    |    |    |    |    |    |-- id: string (nullable = true)\n |    |    |    |    |    |    |    |    |-- name: string (nullable = true)\n |    |    |    |    |    |    |    |    |-- state: string (nullable = true)\n |    |    |    |    |    |    |    |    |-- street: string (nullable = true)\n |    |    |    |    |    |    |    |    |-- type: string (nullable = true)\n |    |    |    |    |    |    |    |    |-- zip: string (nullable = true)\n |    |    |    |    |    |    |-- Payer: array (nullable = true)\n |    |    |    |    |    |    |    |-- element: struct (containsNull = true)\n |    |    |    |    |    |    |    |    |-- entity_type: string (nullable = true)\n |    |    |    |    |    |    |    |    |-- id: string (nullable = true)\n |    |    |    |    |    |    |    |    |-- name: string (nullable = true)\n |    |    |    |    |    |    |    |    |-- type: string (nullable = true)\n |    |    |    |    |    |    |-- Rendering Provider: array (nullable = true)\n |    |    |    |    |    |    |    |-- element: struct (containsNull = true)\n |    |    |    |    |    |    |    |    |-- entity_type: string (nullable = true)\n |    |    |    |    |    |    |    |    |-- name: string (nullable = true)\n |    |    |    |    |    |    |    |    |-- npi: string (nullable = true)\n |    |    |    |    |    |    |    |    |-- type: string (nullable = true)\n |    |    |    |    |    |    |-- Service Facility: array (nullable = true)\n |    |    |    |    |    |    |    |-- element: struct (containsNull = true)\n |    |    |    |    |    |    |    |    |-- city: string (nullable = true)\n |    |    |    |    |    |    |    |    |-- entity_type: string (nullable = true)\n |    |    |    |    |    |    |    |    |-- name: string (nullable = true)\n |    |    |    |    |    |    |    |    |-- npi: string (nullable = true)\n |    |    |    |    |    |    |    |    |-- state: string (nullable = true)\n |    |    |    |    |    |    |    |    |-- street: string (nullable = true)\n |    |    |    |    |    |    |    |    |-- type: string (nullable = true)\n |    |    |    |    |    |    |    |    |-- zip: string (nullable = true)\n |    |    |    |    |    |-- patient: struct (nullable = true)\n |    |    |    |    |    |    |-- city: string (nullable = true)\n |    |    |    |    |    |    |-- entity_type: string (nullable = true)\n |    |    |    |    |    |    |-- id: string (nullable = true)\n |    |    |    |    |    |    |-- name: string (nullable = true)\n |    |    |    |    |    |    |-- relationship_to_insured: string (nullable = true)\n |    |    |    |    |    |    |-- state: string (nullable = true)\n |    |    |    |    |    |    |-- street: string (nullable = true)\n |    |    |    |    |    |    |-- type: string (nullable = true)\n |    |    |    |    |    |    |-- zip: string (nullable = true)\n |    |    |    |    |    |-- reciever: struct (nullable = true)\n |    |    |    |    |    |    |-- entity_type: string (nullable = true)\n |    |    |    |    |    |    |-- id: string (nullable = true)\n |    |    |    |    |    |    |-- name: string (nullable = true)\n |    |    |    |    |    |    |-- type: string (nullable = true)\n |    |    |    |    |    |-- submitter: struct (nullable = true)\n |    |    |    |    |    |    |-- contact_name: string (nullable = true)\n |    |    |    |    |    |    |-- contacts: struct (nullable = true)\n |    |    |    |    |    |    |    |-- primary: array (nullable = true)\n |    |    |    |    |    |    |    |    |-- element: struct (containsNull = true)\n |    |    |    |    |    |    |    |    |    |-- contact_method: string (nullable = true)\n |    |    |    |    |    |    |    |    |    |-- contact_method_2: string (nullable = true)\n |    |    |    |    |    |    |    |    |    |-- contact_number: string (nullable = true)\n |    |    |    |    |    |    |    |    |    |-- contact_number_2: string (nullable = true)\n |    |    |    |    |    |    |-- entity_type: string (nullable = true)\n |    |    |    |    |    |    |-- id: string (nullable = true)\n |    |    |    |    |    |    |-- name: string (nullable = true)\n |    |    |    |    |    |    |-- type: string (nullable = true)\n |    |    |    |    |    |-- subscriber: struct (nullable = true)\n |    |    |    |    |    |    |-- city: string (nullable = true)\n |    |    |    |    |    |    |-- entity_type: string (nullable = true)\n |    |    |    |    |    |    |-- id: string (nullable = true)\n |    |    |    |    |    |    |-- name: string (nullable = true)\n |    |    |    |    |    |    |-- relationship_to_insured: string (nullable = true)\n |    |    |    |    |    |    |-- state: string (nullable = true)\n |    |    |    |    |    |    |-- street: string (nullable = true)\n |    |    |    |    |    |    |-- type: string (nullable = true)\n |    |    |    |    |    |    |-- zip: string (nullable = true)\n |    |    |    |-- Transaction.transaction_type: string (nullable = true)\n\n"
     ]
    }
   ],
   "source": [
    "functional_groups_df.printSchema()"
   ]
  },
  {
   "cell_type": "code",
   "execution_count": 0,
   "metadata": {
    "application/vnd.databricks.v1+cell": {
     "cellMetadata": {
      "byteLimit": 2048000,
      "rowLimit": 10000
     },
     "collapsed": true,
     "inputWidgets": {},
     "nuid": "73764ca9-3d9b-4ce9-9557-02bee86be8f0",
     "showTitle": false,
     "title": ""
    }
   },
   "outputs": [
    {
     "output_type": "display_data",
     "data": {
      "text/html": [
       "<style scoped>\n",
       "  .table-result-container {\n",
       "    max-height: 300px;\n",
       "    overflow: auto;\n",
       "  }\n",
       "  table, th, td {\n",
       "    border: 1px solid black;\n",
       "    border-collapse: collapse;\n",
       "  }\n",
       "  th, td {\n",
       "    padding: 5px;\n",
       "  }\n",
       "  th {\n",
       "    text-align: left;\n",
       "  }\n",
       "</style><div class='table-result-container'><table class='table-result'><thead style='background-color: white'><tr><th>receiver</th><th>sender</th><th>transaction_datetime</th><th>transaction_type</th><th>Transaction</th></tr></thead><tbody><tr><td>123456789</td><td>CLEARINGHOUSE</td><td>20180508:0833</td><td>222</td><td>List(List(List(List(VANCOUVER, Billing Provider, BH CLINIC OF VANCOUVER, 1122334455, WA, 12345 MAIN ST, Organization, 98662), List(Yes, VANCOUVER, 20, 1, 7349065509, Rendering Provider, 57, PROVIDER JAMES , 1112223338, 1805080AV3648339, List(List(List(Rendering Provider, PROVIDER JAMES , 1112223338, Individual)), List(List(Service Facility, BH CLINIC OF VANCOUVER, 1122334455, Organization))), WA, 12345 MAIN ST SUITE A1, Individual, 98662), TODO, List(List(List(VANCOUVER, Insured, 987321, SUBSCRIBER JOHN J, WA, 987 65TH PL, Individual, 986640001)), List(List(Payer, CHPWA, COMMUNITY HEALTH PLAN OF WASHINGTON, Organization)), List(List(Rendering Provider, PROVIDER JAMES , 1112223338, Individual)), List(List(VANCOUVER, Service Facility, BH CLINIC OF VANCOUVER, 1122334455, WA, 12345 MAIN ST SUITE A1, Organization, 98662))), List(VANCOUVER, Insured, 987321, SUBSCRIBER JOHN J, Self, WA, 987 65TH PL, Individual, 986640001), List(Unknown, CHPWA, 123456789, Organization), List(CLEARINGHOUSE CLIENT SERVICES, List(List(List(Telephone, Fax, 8005551212, 8005551212))), Unknown, 987654321, CLEARINGHOUSE LLC, Organization), List(VANCOUVER, Insured, 987321, SUBSCRIBER JOHN J, Self, WA, 987 65TH PL, Individual, 986640001))), 222)</td></tr><tr><td>123456789</td><td>CLEARINGHOUSE</td><td>20180508:0833</td><td>222</td><td>List(List(List(List(VANCOUVER, Billing Provider, BH CLINIC OF VANCOUVER, 1122334455, WA, 12345 MAIN ST, Organization, 98662), List(Yes, VANCOUVER, 50.1, 1, 7349065730, Rendering Provider, 57, PROVIDER SUSAN , 1112223346, 1805080AV3648347, List(List(List(Rendering Provider, PROVIDER SUSAN , 1112223346, Individual)), List(List(Service Facility, BH CLINIC OF VANCOUVER, 1122334455, Organization))), WA, 12345 MAIN ST SUITE A1, Individual, 98662), TODO, List(List(List(VANCOUVER, Insured, 765123, PATIENT SUSAN E, WA, 765 43RD ST, Individual, 986640002)), List(List(Payer, CHPWA, COMMUNITY HEALTH PLAN OF WASHINGTON, Organization)), List(List(Rendering Provider, PROVIDER SUSAN , 1112223346, Individual)), List(List(VANCOUVER, Service Facility, BH CLINIC OF VANCOUVER, 1122334455, WA, 12345 MAIN ST SUITE A1, Organization, 98662))), List(VANCOUVER, Insured, 765123, PATIENT SUSAN E, Self, WA, 765 43RD ST, Individual, 986640002), List(Unknown, CHPWA, 123456789, Organization), List(CLEARINGHOUSE CLIENT SERVICES, List(List(List(Telephone, Fax, 8005551212, 8005551212))), Unknown, 987654321, CLEARINGHOUSE LLC, Organization), List(VANCOUVER, Insured, 765123, PATIENT SUSAN E, Self, WA, 765 43RD ST, Individual, 986640002))), 222)</td></tr><tr><td>123456789</td><td>CLEARINGHOUSE</td><td>20180508:0833</td><td>222</td><td>List(List(List(List(VANCOUVER, Billing Provider, BH CLINIC OF VANCOUVER, 1122334455, WA, 12345 MAIN ST, Organization, 98662), List(Yes, VANCOUVER, 11.64, 1, 7349065492, Rendering Provider, 57, PROVIDER SUSAN , 1112223346, 1805080AV3648340, List(List(List(Rendering Provider, PROVIDER SUSAN , 1112223346, Individual)), List(List(Service Facility, BH CLINIC OF VANCOUVER, 1122334455, Organization))), WA, 12345 MAIN ST SUITE A1, Individual, 98662), TODO, List(List(List(VANCOUVER, Insured, 987321, SUBSCRIBER JOHN J, WA, 987 65TH PL, Individual, 986640001)), List(List(Payer, CHPWA, COMMUNITY HEALTH PLAN OF WASHINGTON, Organization)), List(List(Rendering Provider, PROVIDER SUSAN , 1112223346, Individual)), List(List(VANCOUVER, Service Facility, BH CLINIC OF VANCOUVER, 1122334455, WA, 12345 MAIN ST SUITE A1, Organization, 98662))), List(VANCOUVER, Insured, 987321, SUBSCRIBER JOHN J, Self, WA, 987 65TH PL, Individual, 986640001), List(Unknown, CHPWA, 123456789, Organization), List(CLEARINGHOUSE CLIENT SERVICES, List(List(List(Telephone, Fax, 8005551212, 8005551212))), Unknown, 987654321, CLEARINGHOUSE LLC, Organization), List(VANCOUVER, Insured, 987321, SUBSCRIBER JOHN J, Self, WA, 987 65TH PL, Individual, 986640001))), 222)</td></tr><tr><td>123456789</td><td>CLEARINGHOUSE</td><td>20180508:0833</td><td>222</td><td>List(List(List(List(VANCOUVER, Billing Provider, BH CLINIC OF VANCOUVER, 1122334455, WA, 12345 MAIN ST, Organization, 98662), List(Yes, VANCOUVER, 234, 1, 7349064290, Rendering Provider, 53, PROVIDER SUSAN , 1112223346, 1805080AV3648353, List(List(List(Rendering Provider, PROVIDER SUSAN , 1112223346, Individual)), List(List(Service Facility, BH CLINIC OF VANCOUVER, 1122334455, Organization))), WA, 12345 MAIN ST SUITE A1, Individual, 98662), TODO, List(List(List(VANCOUVER, Insured, 765123, PATIENT SUSAN E, WA, 765 43RD ST, Individual, 986640002)), List(List(Payer, CHPWA, COMMUNITY HEALTH PLAN OF WASHINGTON, Organization)), List(List(Rendering Provider, PROVIDER SUSAN , 1112223346, Individual)), List(List(VANCOUVER, Service Facility, BH CLINIC OF VANCOUVER, 1122334455, WA, 12345 MAIN ST SUITE A1, Organization, 98662))), List(VANCOUVER, Insured, 765123, PATIENT SUSAN E, Self, WA, 765 43RD ST, Individual, 986640002), List(Unknown, CHPWA, 123456789, Organization), List(CLEARINGHOUSE CLIENT SERVICES, List(List(List(Telephone, Fax, 8005551212, 8005551212))), Unknown, 987654321, CLEARINGHOUSE LLC, Organization), List(VANCOUVER, Insured, 765123, PATIENT SUSAN E, Self, WA, 765 43RD ST, Individual, 986640002))), 222)</td></tr><tr><td>123456789</td><td>CLEARINGHOUSE</td><td>20180508:0833</td><td>222</td><td>List(List(List(List(VANCOUVER, Billing Provider, BH CLINIC OF VANCOUVER, 1122334455, WA, 12345 MAIN ST, Organization, 98662), List(Yes, VANCOUVER, 20, 1, 7349064036, Rendering Provider, 57, PROVIDER JAMES , 1112223338, 1805080AV3648355, List(List(List(Rendering Provider, PROVIDER JAMES , 1112223338, Individual)), List(List(Service Facility, BH CLINIC OF VANCOUVER, 1122334455, Organization))), WA, 12345 MAIN ST SUITE A1, Individual, 98662), TODO, List(List(List(VANCOUVER, Insured, 987321, SUBSCRIBER JOHN J, WA, 987 65TH PL, Individual, 986640001)), List(List(Payer, CHPWA, COMMUNITY HEALTH PLAN OF WASHINGTON, Organization)), List(List(Rendering Provider, PROVIDER JAMES , 1112223338, Individual)), List(List(VANCOUVER, Service Facility, BH CLINIC OF VANCOUVER, 1122334455, WA, 12345 MAIN ST SUITE A1, Organization, 98662))), List(VANCOUVER, Insured, 987321, SUBSCRIBER JOHN J, Self, WA, 987 65TH PL, Individual, 986640001), List(Unknown, CHPWA, 123456789, Organization), List(CLEARINGHOUSE CLIENT SERVICES, List(List(List(Telephone, Fax, 8005551212, 8005551212))), Unknown, 987654321, CLEARINGHOUSE LLC, Organization), List(VANCOUVER, Insured, 987321, SUBSCRIBER JOHN J, Self, WA, 987 65TH PL, Individual, 986640001))), 222)</td></tr></tbody></table></div>"
      ]
     },
     "metadata": {
      "application/vnd.databricks.v1+output": {
       "addedWidgets": {},
       "aggData": [],
       "aggError": "",
       "aggOverflow": false,
       "aggSchema": [],
       "aggSeriesLimitReached": false,
       "aggType": "",
       "arguments": {},
       "columnCustomDisplayInfos": {},
       "data": [
        [
         "123456789",
         "CLEARINGHOUSE",
         "20180508:0833",
         "222",
         [
          [
           [
            [
             "VANCOUVER",
             "Billing Provider",
             "BH CLINIC OF VANCOUVER",
             "1122334455",
             "WA",
             "12345 MAIN ST",
             "Organization",
             "98662"
            ],
            [
             "Yes",
             "VANCOUVER",
             "20",
             "1",
             "7349065509",
             "Rendering Provider",
             "57",
             "PROVIDER JAMES ",
             "1112223338",
             "1805080AV3648339",
             [
              [
               [
                "Rendering Provider",
                "PROVIDER JAMES ",
                "1112223338",
                "Individual"
               ]
              ],
              [
               [
                "Service Facility",
                "BH CLINIC OF VANCOUVER",
                "1122334455",
                "Organization"
               ]
              ]
             ],
             "WA",
             "12345 MAIN ST SUITE A1",
             "Individual",
             "98662"
            ],
            "TODO",
            [
             [
              [
               "VANCOUVER",
               "Insured",
               "987321",
               "SUBSCRIBER JOHN J",
               "WA",
               "987 65TH PL",
               "Individual",
               "986640001"
              ]
             ],
             [
              [
               "Payer",
               "CHPWA",
               "COMMUNITY HEALTH PLAN OF WASHINGTON",
               "Organization"
              ]
             ],
             [
              [
               "Rendering Provider",
               "PROVIDER JAMES ",
               "1112223338",
               "Individual"
              ]
             ],
             [
              [
               "VANCOUVER",
               "Service Facility",
               "BH CLINIC OF VANCOUVER",
               "1122334455",
               "WA",
               "12345 MAIN ST SUITE A1",
               "Organization",
               "98662"
              ]
             ]
            ],
            [
             "VANCOUVER",
             "Insured",
             "987321",
             "SUBSCRIBER JOHN J",
             "Self",
             "WA",
             "987 65TH PL",
             "Individual",
             "986640001"
            ],
            [
             "Unknown",
             "CHPWA",
             "123456789",
             "Organization"
            ],
            [
             "CLEARINGHOUSE CLIENT SERVICES",
             [
              [
               [
                "Telephone",
                "Fax",
                "8005551212",
                "8005551212"
               ]
              ]
             ],
             "Unknown",
             "987654321",
             "CLEARINGHOUSE LLC",
             "Organization"
            ],
            [
             "VANCOUVER",
             "Insured",
             "987321",
             "SUBSCRIBER JOHN J",
             "Self",
             "WA",
             "987 65TH PL",
             "Individual",
             "986640001"
            ]
           ]
          ],
          "222"
         ]
        ],
        [
         "123456789",
         "CLEARINGHOUSE",
         "20180508:0833",
         "222",
         [
          [
           [
            [
             "VANCOUVER",
             "Billing Provider",
             "BH CLINIC OF VANCOUVER",
             "1122334455",
             "WA",
             "12345 MAIN ST",
             "Organization",
             "98662"
            ],
            [
             "Yes",
             "VANCOUVER",
             "50.1",
             "1",
             "7349065730",
             "Rendering Provider",
             "57",
             "PROVIDER SUSAN ",
             "1112223346",
             "1805080AV3648347",
             [
              [
               [
                "Rendering Provider",
                "PROVIDER SUSAN ",
                "1112223346",
                "Individual"
               ]
              ],
              [
               [
                "Service Facility",
                "BH CLINIC OF VANCOUVER",
                "1122334455",
                "Organization"
               ]
              ]
             ],
             "WA",
             "12345 MAIN ST SUITE A1",
             "Individual",
             "98662"
            ],
            "TODO",
            [
             [
              [
               "VANCOUVER",
               "Insured",
               "765123",
               "PATIENT SUSAN E",
               "WA",
               "765 43RD ST",
               "Individual",
               "986640002"
              ]
             ],
             [
              [
               "Payer",
               "CHPWA",
               "COMMUNITY HEALTH PLAN OF WASHINGTON",
               "Organization"
              ]
             ],
             [
              [
               "Rendering Provider",
               "PROVIDER SUSAN ",
               "1112223346",
               "Individual"
              ]
             ],
             [
              [
               "VANCOUVER",
               "Service Facility",
               "BH CLINIC OF VANCOUVER",
               "1122334455",
               "WA",
               "12345 MAIN ST SUITE A1",
               "Organization",
               "98662"
              ]
             ]
            ],
            [
             "VANCOUVER",
             "Insured",
             "765123",
             "PATIENT SUSAN E",
             "Self",
             "WA",
             "765 43RD ST",
             "Individual",
             "986640002"
            ],
            [
             "Unknown",
             "CHPWA",
             "123456789",
             "Organization"
            ],
            [
             "CLEARINGHOUSE CLIENT SERVICES",
             [
              [
               [
                "Telephone",
                "Fax",
                "8005551212",
                "8005551212"
               ]
              ]
             ],
             "Unknown",
             "987654321",
             "CLEARINGHOUSE LLC",
             "Organization"
            ],
            [
             "VANCOUVER",
             "Insured",
             "765123",
             "PATIENT SUSAN E",
             "Self",
             "WA",
             "765 43RD ST",
             "Individual",
             "986640002"
            ]
           ]
          ],
          "222"
         ]
        ],
        [
         "123456789",
         "CLEARINGHOUSE",
         "20180508:0833",
         "222",
         [
          [
           [
            [
             "VANCOUVER",
             "Billing Provider",
             "BH CLINIC OF VANCOUVER",
             "1122334455",
             "WA",
             "12345 MAIN ST",
             "Organization",
             "98662"
            ],
            [
             "Yes",
             "VANCOUVER",
             "11.64",
             "1",
             "7349065492",
             "Rendering Provider",
             "57",
             "PROVIDER SUSAN ",
             "1112223346",
             "1805080AV3648340",
             [
              [
               [
                "Rendering Provider",
                "PROVIDER SUSAN ",
                "1112223346",
                "Individual"
               ]
              ],
              [
               [
                "Service Facility",
                "BH CLINIC OF VANCOUVER",
                "1122334455",
                "Organization"
               ]
              ]
             ],
             "WA",
             "12345 MAIN ST SUITE A1",
             "Individual",
             "98662"
            ],
            "TODO",
            [
             [
              [
               "VANCOUVER",
               "Insured",
               "987321",
               "SUBSCRIBER JOHN J",
               "WA",
               "987 65TH PL",
               "Individual",
               "986640001"
              ]
             ],
             [
              [
               "Payer",
               "CHPWA",
               "COMMUNITY HEALTH PLAN OF WASHINGTON",
               "Organization"
              ]
             ],
             [
              [
               "Rendering Provider",
               "PROVIDER SUSAN ",
               "1112223346",
               "Individual"
              ]
             ],
             [
              [
               "VANCOUVER",
               "Service Facility",
               "BH CLINIC OF VANCOUVER",
               "1122334455",
               "WA",
               "12345 MAIN ST SUITE A1",
               "Organization",
               "98662"
              ]
             ]
            ],
            [
             "VANCOUVER",
             "Insured",
             "987321",
             "SUBSCRIBER JOHN J",
             "Self",
             "WA",
             "987 65TH PL",
             "Individual",
             "986640001"
            ],
            [
             "Unknown",
             "CHPWA",
             "123456789",
             "Organization"
            ],
            [
             "CLEARINGHOUSE CLIENT SERVICES",
             [
              [
               [
                "Telephone",
                "Fax",
                "8005551212",
                "8005551212"
               ]
              ]
             ],
             "Unknown",
             "987654321",
             "CLEARINGHOUSE LLC",
             "Organization"
            ],
            [
             "VANCOUVER",
             "Insured",
             "987321",
             "SUBSCRIBER JOHN J",
             "Self",
             "WA",
             "987 65TH PL",
             "Individual",
             "986640001"
            ]
           ]
          ],
          "222"
         ]
        ],
        [
         "123456789",
         "CLEARINGHOUSE",
         "20180508:0833",
         "222",
         [
          [
           [
            [
             "VANCOUVER",
             "Billing Provider",
             "BH CLINIC OF VANCOUVER",
             "1122334455",
             "WA",
             "12345 MAIN ST",
             "Organization",
             "98662"
            ],
            [
             "Yes",
             "VANCOUVER",
             "234",
             "1",
             "7349064290",
             "Rendering Provider",
             "53",
             "PROVIDER SUSAN ",
             "1112223346",
             "1805080AV3648353",
             [
              [
               [
                "Rendering Provider",
                "PROVIDER SUSAN ",
                "1112223346",
                "Individual"
               ]
              ],
              [
               [
                "Service Facility",
                "BH CLINIC OF VANCOUVER",
                "1122334455",
                "Organization"
               ]
              ]
             ],
             "WA",
             "12345 MAIN ST SUITE A1",
             "Individual",
             "98662"
            ],
            "TODO",
            [
             [
              [
               "VANCOUVER",
               "Insured",
               "765123",
               "PATIENT SUSAN E",
               "WA",
               "765 43RD ST",
               "Individual",
               "986640002"
              ]
             ],
             [
              [
               "Payer",
               "CHPWA",
               "COMMUNITY HEALTH PLAN OF WASHINGTON",
               "Organization"
              ]
             ],
             [
              [
               "Rendering Provider",
               "PROVIDER SUSAN ",
               "1112223346",
               "Individual"
              ]
             ],
             [
              [
               "VANCOUVER",
               "Service Facility",
               "BH CLINIC OF VANCOUVER",
               "1122334455",
               "WA",
               "12345 MAIN ST SUITE A1",
               "Organization",
               "98662"
              ]
             ]
            ],
            [
             "VANCOUVER",
             "Insured",
             "765123",
             "PATIENT SUSAN E",
             "Self",
             "WA",
             "765 43RD ST",
             "Individual",
             "986640002"
            ],
            [
             "Unknown",
             "CHPWA",
             "123456789",
             "Organization"
            ],
            [
             "CLEARINGHOUSE CLIENT SERVICES",
             [
              [
               [
                "Telephone",
                "Fax",
                "8005551212",
                "8005551212"
               ]
              ]
             ],
             "Unknown",
             "987654321",
             "CLEARINGHOUSE LLC",
             "Organization"
            ],
            [
             "VANCOUVER",
             "Insured",
             "765123",
             "PATIENT SUSAN E",
             "Self",
             "WA",
             "765 43RD ST",
             "Individual",
             "986640002"
            ]
           ]
          ],
          "222"
         ]
        ],
        [
         "123456789",
         "CLEARINGHOUSE",
         "20180508:0833",
         "222",
         [
          [
           [
            [
             "VANCOUVER",
             "Billing Provider",
             "BH CLINIC OF VANCOUVER",
             "1122334455",
             "WA",
             "12345 MAIN ST",
             "Organization",
             "98662"
            ],
            [
             "Yes",
             "VANCOUVER",
             "20",
             "1",
             "7349064036",
             "Rendering Provider",
             "57",
             "PROVIDER JAMES ",
             "1112223338",
             "1805080AV3648355",
             [
              [
               [
                "Rendering Provider",
                "PROVIDER JAMES ",
                "1112223338",
                "Individual"
               ]
              ],
              [
               [
                "Service Facility",
                "BH CLINIC OF VANCOUVER",
                "1122334455",
                "Organization"
               ]
              ]
             ],
             "WA",
             "12345 MAIN ST SUITE A1",
             "Individual",
             "98662"
            ],
            "TODO",
            [
             [
              [
               "VANCOUVER",
               "Insured",
               "987321",
               "SUBSCRIBER JOHN J",
               "WA",
               "987 65TH PL",
               "Individual",
               "986640001"
              ]
             ],
             [
              [
               "Payer",
               "CHPWA",
               "COMMUNITY HEALTH PLAN OF WASHINGTON",
               "Organization"
              ]
             ],
             [
              [
               "Rendering Provider",
               "PROVIDER JAMES ",
               "1112223338",
               "Individual"
              ]
             ],
             [
              [
               "VANCOUVER",
               "Service Facility",
               "BH CLINIC OF VANCOUVER",
               "1122334455",
               "WA",
               "12345 MAIN ST SUITE A1",
               "Organization",
               "98662"
              ]
             ]
            ],
            [
             "VANCOUVER",
             "Insured",
             "987321",
             "SUBSCRIBER JOHN J",
             "Self",
             "WA",
             "987 65TH PL",
             "Individual",
             "986640001"
            ],
            [
             "Unknown",
             "CHPWA",
             "123456789",
             "Organization"
            ],
            [
             "CLEARINGHOUSE CLIENT SERVICES",
             [
              [
               [
                "Telephone",
                "Fax",
                "8005551212",
                "8005551212"
               ]
              ]
             ],
             "Unknown",
             "987654321",
             "CLEARINGHOUSE LLC",
             "Organization"
            ],
            [
             "VANCOUVER",
             "Insured",
             "987321",
             "SUBSCRIBER JOHN J",
             "Self",
             "WA",
             "987 65TH PL",
             "Individual",
             "986640001"
            ]
           ]
          ],
          "222"
         ]
        ]
       ],
       "datasetInfos": [],
       "dbfsResultPath": null,
       "isJsonSchema": true,
       "metadata": {},
       "overflow": false,
       "plotOptions": {
        "customPlotOptions": {},
        "displayType": "table",
        "pivotAggregation": null,
        "pivotColumns": null,
        "xColumns": null,
        "yColumns": null
       },
       "removedWidgets": [],
       "schema": [
        {
         "metadata": "{}",
         "name": "receiver",
         "type": "\"string\""
        },
        {
         "metadata": "{}",
         "name": "sender",
         "type": "\"string\""
        },
        {
         "metadata": "{}",
         "name": "transaction_datetime",
         "type": "\"string\""
        },
        {
         "metadata": "{}",
         "name": "transaction_type",
         "type": "\"string\""
        },
        {
         "metadata": "{}",
         "name": "Transaction",
         "type": "{\"type\":\"struct\",\"fields\":[{\"name\":\"Claims\",\"type\":{\"type\":\"array\",\"elementType\":{\"type\":\"struct\",\"fields\":[{\"name\":\"billing_provider\",\"type\":{\"type\":\"struct\",\"fields\":[{\"name\":\"city\",\"type\":\"string\",\"nullable\":true,\"metadata\":{}},{\"name\":\"entity_type\",\"type\":\"string\",\"nullable\":true,\"metadata\":{}},{\"name\":\"name\",\"type\":\"string\",\"nullable\":true,\"metadata\":{}},{\"name\":\"npi\",\"type\":\"string\",\"nullable\":true,\"metadata\":{}},{\"name\":\"state\",\"type\":\"string\",\"nullable\":true,\"metadata\":{}},{\"name\":\"street\",\"type\":\"string\",\"nullable\":true,\"metadata\":{}},{\"name\":\"type\",\"type\":\"string\",\"nullable\":true,\"metadata\":{}},{\"name\":\"zip\",\"type\":\"string\",\"nullable\":true,\"metadata\":{}}]},\"nullable\":true,\"metadata\":{}},{\"name\":\"claim_header\",\"type\":{\"type\":\"struct\",\"fields\":[{\"name\":\"benefits_assign_flag\",\"type\":\"string\",\"nullable\":true,\"metadata\":{}},{\"name\":\"city\",\"type\":\"string\",\"nullable\":true,\"metadata\":{}},{\"name\":\"claim_amount\",\"type\":\"string\",\"nullable\":true,\"metadata\":{}},{\"name\":\"claim_code_freq\",\"type\":\"string\",\"nullable\":true,\"metadata\":{}},{\"name\":\"claim_id\",\"type\":\"string\",\"nullable\":true,\"metadata\":{}},{\"name\":\"entity_type\",\"type\":\"string\",\"nullable\":true,\"metadata\":{}},{\"name\":\"facility_type_code\",\"type\":\"string\",\"nullable\":true,\"metadata\":{}},{\"name\":\"name\",\"type\":\"string\",\"nullable\":true,\"metadata\":{}},{\"name\":\"npi\",\"type\":\"string\",\"nullable\":true,\"metadata\":{}},{\"name\":\"patient_id\",\"type\":\"string\",\"nullable\":true,\"metadata\":{}},{\"name\":\"providers\",\"type\":{\"type\":\"struct\",\"fields\":[{\"name\":\"Rendering Provider\",\"type\":{\"type\":\"array\",\"elementType\":{\"type\":\"struct\",\"fields\":[{\"name\":\"entity_type\",\"type\":\"string\",\"nullable\":true,\"metadata\":{}},{\"name\":\"name\",\"type\":\"string\",\"nullable\":true,\"metadata\":{}},{\"name\":\"npi\",\"type\":\"string\",\"nullable\":true,\"metadata\":{}},{\"name\":\"type\",\"type\":\"string\",\"nullable\":true,\"metadata\":{}}]},\"containsNull\":true},\"nullable\":true,\"metadata\":{}},{\"name\":\"Service Facility\",\"type\":{\"type\":\"array\",\"elementType\":{\"type\":\"struct\",\"fields\":[{\"name\":\"entity_type\",\"type\":\"string\",\"nullable\":true,\"metadata\":{}},{\"name\":\"name\",\"type\":\"string\",\"nullable\":true,\"metadata\":{}},{\"name\":\"npi\",\"type\":\"string\",\"nullable\":true,\"metadata\":{}},{\"name\":\"type\",\"type\":\"string\",\"nullable\":true,\"metadata\":{}}]},\"containsNull\":true},\"nullable\":true,\"metadata\":{}}]},\"nullable\":true,\"metadata\":{}},{\"name\":\"state\",\"type\":\"string\",\"nullable\":true,\"metadata\":{}},{\"name\":\"street\",\"type\":\"string\",\"nullable\":true,\"metadata\":{}},{\"name\":\"type\",\"type\":\"string\",\"nullable\":true,\"metadata\":{}},{\"name\":\"zip\",\"type\":\"string\",\"nullable\":true,\"metadata\":{}}]},\"nullable\":true,\"metadata\":{}},{\"name\":\"claim_lines\",\"type\":\"string\",\"nullable\":true,\"metadata\":{}},{\"name\":\"grouped_subscriber_entities\",\"type\":{\"type\":\"struct\",\"fields\":[{\"name\":\"Insured\",\"type\":{\"type\":\"array\",\"elementType\":{\"type\":\"struct\",\"fields\":[{\"name\":\"city\",\"type\":\"string\",\"nullable\":true,\"metadata\":{}},{\"name\":\"entity_type\",\"type\":\"string\",\"nullable\":true,\"metadata\":{}},{\"name\":\"id\",\"type\":\"string\",\"nullable\":true,\"metadata\":{}},{\"name\":\"name\",\"type\":\"string\",\"nullable\":true,\"metadata\":{}},{\"name\":\"state\",\"type\":\"string\",\"nullable\":true,\"metadata\":{}},{\"name\":\"street\",\"type\":\"string\",\"nullable\":true,\"metadata\":{}},{\"name\":\"type\",\"type\":\"string\",\"nullable\":true,\"metadata\":{}},{\"name\":\"zip\",\"type\":\"string\",\"nullable\":true,\"metadata\":{}}]},\"containsNull\":true},\"nullable\":true,\"metadata\":{}},{\"name\":\"Payer\",\"type\":{\"type\":\"array\",\"elementType\":{\"type\":\"struct\",\"fields\":[{\"name\":\"entity_type\",\"type\":\"string\",\"nullable\":true,\"metadata\":{}},{\"name\":\"id\",\"type\":\"string\",\"nullable\":true,\"metadata\":{}},{\"name\":\"name\",\"type\":\"string\",\"nullable\":true,\"metadata\":{}},{\"name\":\"type\",\"type\":\"string\",\"nullable\":true,\"metadata\":{}}]},\"containsNull\":true},\"nullable\":true,\"metadata\":{}},{\"name\":\"Rendering Provider\",\"type\":{\"type\":\"array\",\"elementType\":{\"type\":\"struct\",\"fields\":[{\"name\":\"entity_type\",\"type\":\"string\",\"nullable\":true,\"metadata\":{}},{\"name\":\"name\",\"type\":\"string\",\"nullable\":true,\"metadata\":{}},{\"name\":\"npi\",\"type\":\"string\",\"nullable\":true,\"metadata\":{}},{\"name\":\"type\",\"type\":\"string\",\"nullable\":true,\"metadata\":{}}]},\"containsNull\":true},\"nullable\":true,\"metadata\":{}},{\"name\":\"Service Facility\",\"type\":{\"type\":\"array\",\"elementType\":{\"type\":\"struct\",\"fields\":[{\"name\":\"city\",\"type\":\"string\",\"nullable\":true,\"metadata\":{}},{\"name\":\"entity_type\",\"type\":\"string\",\"nullable\":true,\"metadata\":{}},{\"name\":\"name\",\"type\":\"string\",\"nullable\":true,\"metadata\":{}},{\"name\":\"npi\",\"type\":\"string\",\"nullable\":true,\"metadata\":{}},{\"name\":\"state\",\"type\":\"string\",\"nullable\":true,\"metadata\":{}},{\"name\":\"street\",\"type\":\"string\",\"nullable\":true,\"metadata\":{}},{\"name\":\"type\",\"type\":\"string\",\"nullable\":true,\"metadata\":{}},{\"name\":\"zip\",\"type\":\"string\",\"nullable\":true,\"metadata\":{}}]},\"containsNull\":true},\"nullable\":true,\"metadata\":{}}]},\"nullable\":true,\"metadata\":{}},{\"name\":\"patient\",\"type\":{\"type\":\"struct\",\"fields\":[{\"name\":\"city\",\"type\":\"string\",\"nullable\":true,\"metadata\":{}},{\"name\":\"entity_type\",\"type\":\"string\",\"nullable\":true,\"metadata\":{}},{\"name\":\"id\",\"type\":\"string\",\"nullable\":true,\"metadata\":{}},{\"name\":\"name\",\"type\":\"string\",\"nullable\":true,\"metadata\":{}},{\"name\":\"relationship_to_insured\",\"type\":\"string\",\"nullable\":true,\"metadata\":{}},{\"name\":\"state\",\"type\":\"string\",\"nullable\":true,\"metadata\":{}},{\"name\":\"street\",\"type\":\"string\",\"nullable\":true,\"metadata\":{}},{\"name\":\"type\",\"type\":\"string\",\"nullable\":true,\"metadata\":{}},{\"name\":\"zip\",\"type\":\"string\",\"nullable\":true,\"metadata\":{}}]},\"nullable\":true,\"metadata\":{}},{\"name\":\"reciever\",\"type\":{\"type\":\"struct\",\"fields\":[{\"name\":\"entity_type\",\"type\":\"string\",\"nullable\":true,\"metadata\":{}},{\"name\":\"id\",\"type\":\"string\",\"nullable\":true,\"metadata\":{}},{\"name\":\"name\",\"type\":\"string\",\"nullable\":true,\"metadata\":{}},{\"name\":\"type\",\"type\":\"string\",\"nullable\":true,\"metadata\":{}}]},\"nullable\":true,\"metadata\":{}},{\"name\":\"submitter\",\"type\":{\"type\":\"struct\",\"fields\":[{\"name\":\"contact_name\",\"type\":\"string\",\"nullable\":true,\"metadata\":{}},{\"name\":\"contacts\",\"type\":{\"type\":\"struct\",\"fields\":[{\"name\":\"primary\",\"type\":{\"type\":\"array\",\"elementType\":{\"type\":\"struct\",\"fields\":[{\"name\":\"contact_method\",\"type\":\"string\",\"nullable\":true,\"metadata\":{}},{\"name\":\"contact_method_2\",\"type\":\"string\",\"nullable\":true,\"metadata\":{}},{\"name\":\"contact_number\",\"type\":\"string\",\"nullable\":true,\"metadata\":{}},{\"name\":\"contact_number_2\",\"type\":\"string\",\"nullable\":true,\"metadata\":{}}]},\"containsNull\":true},\"nullable\":true,\"metadata\":{}}]},\"nullable\":true,\"metadata\":{}},{\"name\":\"entity_type\",\"type\":\"string\",\"nullable\":true,\"metadata\":{}},{\"name\":\"id\",\"type\":\"string\",\"nullable\":true,\"metadata\":{}},{\"name\":\"name\",\"type\":\"string\",\"nullable\":true,\"metadata\":{}},{\"name\":\"type\",\"type\":\"string\",\"nullable\":true,\"metadata\":{}}]},\"nullable\":true,\"metadata\":{}},{\"name\":\"subscriber\",\"type\":{\"type\":\"struct\",\"fields\":[{\"name\":\"city\",\"type\":\"string\",\"nullable\":true,\"metadata\":{}},{\"name\":\"entity_type\",\"type\":\"string\",\"nullable\":true,\"metadata\":{}},{\"name\":\"id\",\"type\":\"string\",\"nullable\":true,\"metadata\":{}},{\"name\":\"name\",\"type\":\"string\",\"nullable\":true,\"metadata\":{}},{\"name\":\"relationship_to_insured\",\"type\":\"string\",\"nullable\":true,\"metadata\":{}},{\"name\":\"state\",\"type\":\"string\",\"nullable\":true,\"metadata\":{}},{\"name\":\"street\",\"type\":\"string\",\"nullable\":true,\"metadata\":{}},{\"name\":\"type\",\"type\":\"string\",\"nullable\":true,\"metadata\":{}},{\"name\":\"zip\",\"type\":\"string\",\"nullable\":true,\"metadata\":{}}]},\"nullable\":true,\"metadata\":{}}]},\"containsNull\":true},\"nullable\":true,\"metadata\":{}},{\"name\":\"Transaction.transaction_type\",\"type\":\"string\",\"nullable\":true,\"metadata\":{}}]}"
        }
       ],
       "type": "table"
      }
     },
     "output_type": "display_data"
    }
   ],
   "source": [
    "functional_groups_flat = functional_groups_df.select(\n",
    "    col(\"FunctionalGroup.`FunctionalGroup.receiver`\").alias(\"receiver\"),\n",
    "    col(\"FunctionalGroup.`FunctionalGroup.sender`\").alias(\"sender\"),\n",
    "    col(\"FunctionalGroup.`FunctionalGroup.transaction_datetime`\").alias(\"transaction_datetime\"),\n",
    "    col(\"FunctionalGroup.`FunctionalGroup.transaction_type`\").alias(\"transaction_type\"),\n",
    "    explode(col(\"FunctionalGroup.Transactions\")).alias(\"Transaction\")\n",
    ")\n",
    "\n",
    "display(functional_groups_flat)"
   ]
  },
  {
   "cell_type": "code",
   "execution_count": 0,
   "metadata": {
    "application/vnd.databricks.v1+cell": {
     "cellMetadata": {
      "byteLimit": 2048000,
      "rowLimit": 10000
     },
     "inputWidgets": {},
     "nuid": "a69bd0f0-25be-48d6-9d7c-243c5b3bc425",
     "showTitle": false,
     "title": ""
    }
   },
   "outputs": [
    {
     "output_type": "display_data",
     "data": {
      "text/html": [
       "<style scoped>\n",
       "  .table-result-container {\n",
       "    max-height: 300px;\n",
       "    overflow: auto;\n",
       "  }\n",
       "  table, th, td {\n",
       "    border: 1px solid black;\n",
       "    border-collapse: collapse;\n",
       "  }\n",
       "  th, td {\n",
       "    padding: 5px;\n",
       "  }\n",
       "  th {\n",
       "    text-align: left;\n",
       "  }\n",
       "</style><div class='table-result-container'><table class='table-result'><thead style='background-color: white'><tr><th>receiver</th><th>sender</th><th>transaction_datetime</th><th>transaction_type</th><th>Claim</th></tr></thead><tbody><tr><td>123456789</td><td>CLEARINGHOUSE</td><td>20180508:0833</td><td>222</td><td>List(List(VANCOUVER, Billing Provider, BH CLINIC OF VANCOUVER, 1122334455, WA, 12345 MAIN ST, Organization, 98662), List(Yes, VANCOUVER, 20, 1, 7349065509, Rendering Provider, 57, PROVIDER JAMES , 1112223338, 1805080AV3648339, List(List(List(Rendering Provider, PROVIDER JAMES , 1112223338, Individual)), List(List(Service Facility, BH CLINIC OF VANCOUVER, 1122334455, Organization))), WA, 12345 MAIN ST SUITE A1, Individual, 98662), TODO, List(List(List(VANCOUVER, Insured, 987321, SUBSCRIBER JOHN J, WA, 987 65TH PL, Individual, 986640001)), List(List(Payer, CHPWA, COMMUNITY HEALTH PLAN OF WASHINGTON, Organization)), List(List(Rendering Provider, PROVIDER JAMES , 1112223338, Individual)), List(List(VANCOUVER, Service Facility, BH CLINIC OF VANCOUVER, 1122334455, WA, 12345 MAIN ST SUITE A1, Organization, 98662))), List(VANCOUVER, Insured, 987321, SUBSCRIBER JOHN J, Self, WA, 987 65TH PL, Individual, 986640001), List(Unknown, CHPWA, 123456789, Organization), List(CLEARINGHOUSE CLIENT SERVICES, List(List(List(Telephone, Fax, 8005551212, 8005551212))), Unknown, 987654321, CLEARINGHOUSE LLC, Organization), List(VANCOUVER, Insured, 987321, SUBSCRIBER JOHN J, Self, WA, 987 65TH PL, Individual, 986640001))</td></tr><tr><td>123456789</td><td>CLEARINGHOUSE</td><td>20180508:0833</td><td>222</td><td>List(List(VANCOUVER, Billing Provider, BH CLINIC OF VANCOUVER, 1122334455, WA, 12345 MAIN ST, Organization, 98662), List(Yes, VANCOUVER, 50.1, 1, 7349065730, Rendering Provider, 57, PROVIDER SUSAN , 1112223346, 1805080AV3648347, List(List(List(Rendering Provider, PROVIDER SUSAN , 1112223346, Individual)), List(List(Service Facility, BH CLINIC OF VANCOUVER, 1122334455, Organization))), WA, 12345 MAIN ST SUITE A1, Individual, 98662), TODO, List(List(List(VANCOUVER, Insured, 765123, PATIENT SUSAN E, WA, 765 43RD ST, Individual, 986640002)), List(List(Payer, CHPWA, COMMUNITY HEALTH PLAN OF WASHINGTON, Organization)), List(List(Rendering Provider, PROVIDER SUSAN , 1112223346, Individual)), List(List(VANCOUVER, Service Facility, BH CLINIC OF VANCOUVER, 1122334455, WA, 12345 MAIN ST SUITE A1, Organization, 98662))), List(VANCOUVER, Insured, 765123, PATIENT SUSAN E, Self, WA, 765 43RD ST, Individual, 986640002), List(Unknown, CHPWA, 123456789, Organization), List(CLEARINGHOUSE CLIENT SERVICES, List(List(List(Telephone, Fax, 8005551212, 8005551212))), Unknown, 987654321, CLEARINGHOUSE LLC, Organization), List(VANCOUVER, Insured, 765123, PATIENT SUSAN E, Self, WA, 765 43RD ST, Individual, 986640002))</td></tr><tr><td>123456789</td><td>CLEARINGHOUSE</td><td>20180508:0833</td><td>222</td><td>List(List(VANCOUVER, Billing Provider, BH CLINIC OF VANCOUVER, 1122334455, WA, 12345 MAIN ST, Organization, 98662), List(Yes, VANCOUVER, 11.64, 1, 7349065492, Rendering Provider, 57, PROVIDER SUSAN , 1112223346, 1805080AV3648340, List(List(List(Rendering Provider, PROVIDER SUSAN , 1112223346, Individual)), List(List(Service Facility, BH CLINIC OF VANCOUVER, 1122334455, Organization))), WA, 12345 MAIN ST SUITE A1, Individual, 98662), TODO, List(List(List(VANCOUVER, Insured, 987321, SUBSCRIBER JOHN J, WA, 987 65TH PL, Individual, 986640001)), List(List(Payer, CHPWA, COMMUNITY HEALTH PLAN OF WASHINGTON, Organization)), List(List(Rendering Provider, PROVIDER SUSAN , 1112223346, Individual)), List(List(VANCOUVER, Service Facility, BH CLINIC OF VANCOUVER, 1122334455, WA, 12345 MAIN ST SUITE A1, Organization, 98662))), List(VANCOUVER, Insured, 987321, SUBSCRIBER JOHN J, Self, WA, 987 65TH PL, Individual, 986640001), List(Unknown, CHPWA, 123456789, Organization), List(CLEARINGHOUSE CLIENT SERVICES, List(List(List(Telephone, Fax, 8005551212, 8005551212))), Unknown, 987654321, CLEARINGHOUSE LLC, Organization), List(VANCOUVER, Insured, 987321, SUBSCRIBER JOHN J, Self, WA, 987 65TH PL, Individual, 986640001))</td></tr><tr><td>123456789</td><td>CLEARINGHOUSE</td><td>20180508:0833</td><td>222</td><td>List(List(VANCOUVER, Billing Provider, BH CLINIC OF VANCOUVER, 1122334455, WA, 12345 MAIN ST, Organization, 98662), List(Yes, VANCOUVER, 234, 1, 7349064290, Rendering Provider, 53, PROVIDER SUSAN , 1112223346, 1805080AV3648353, List(List(List(Rendering Provider, PROVIDER SUSAN , 1112223346, Individual)), List(List(Service Facility, BH CLINIC OF VANCOUVER, 1122334455, Organization))), WA, 12345 MAIN ST SUITE A1, Individual, 98662), TODO, List(List(List(VANCOUVER, Insured, 765123, PATIENT SUSAN E, WA, 765 43RD ST, Individual, 986640002)), List(List(Payer, CHPWA, COMMUNITY HEALTH PLAN OF WASHINGTON, Organization)), List(List(Rendering Provider, PROVIDER SUSAN , 1112223346, Individual)), List(List(VANCOUVER, Service Facility, BH CLINIC OF VANCOUVER, 1122334455, WA, 12345 MAIN ST SUITE A1, Organization, 98662))), List(VANCOUVER, Insured, 765123, PATIENT SUSAN E, Self, WA, 765 43RD ST, Individual, 986640002), List(Unknown, CHPWA, 123456789, Organization), List(CLEARINGHOUSE CLIENT SERVICES, List(List(List(Telephone, Fax, 8005551212, 8005551212))), Unknown, 987654321, CLEARINGHOUSE LLC, Organization), List(VANCOUVER, Insured, 765123, PATIENT SUSAN E, Self, WA, 765 43RD ST, Individual, 986640002))</td></tr><tr><td>123456789</td><td>CLEARINGHOUSE</td><td>20180508:0833</td><td>222</td><td>List(List(VANCOUVER, Billing Provider, BH CLINIC OF VANCOUVER, 1122334455, WA, 12345 MAIN ST, Organization, 98662), List(Yes, VANCOUVER, 20, 1, 7349064036, Rendering Provider, 57, PROVIDER JAMES , 1112223338, 1805080AV3648355, List(List(List(Rendering Provider, PROVIDER JAMES , 1112223338, Individual)), List(List(Service Facility, BH CLINIC OF VANCOUVER, 1122334455, Organization))), WA, 12345 MAIN ST SUITE A1, Individual, 98662), TODO, List(List(List(VANCOUVER, Insured, 987321, SUBSCRIBER JOHN J, WA, 987 65TH PL, Individual, 986640001)), List(List(Payer, CHPWA, COMMUNITY HEALTH PLAN OF WASHINGTON, Organization)), List(List(Rendering Provider, PROVIDER JAMES , 1112223338, Individual)), List(List(VANCOUVER, Service Facility, BH CLINIC OF VANCOUVER, 1122334455, WA, 12345 MAIN ST SUITE A1, Organization, 98662))), List(VANCOUVER, Insured, 987321, SUBSCRIBER JOHN J, Self, WA, 987 65TH PL, Individual, 986640001), List(Unknown, CHPWA, 123456789, Organization), List(CLEARINGHOUSE CLIENT SERVICES, List(List(List(Telephone, Fax, 8005551212, 8005551212))), Unknown, 987654321, CLEARINGHOUSE LLC, Organization), List(VANCOUVER, Insured, 987321, SUBSCRIBER JOHN J, Self, WA, 987 65TH PL, Individual, 986640001))</td></tr></tbody></table></div>"
      ]
     },
     "metadata": {
      "application/vnd.databricks.v1+output": {
       "addedWidgets": {},
       "aggData": [],
       "aggError": "",
       "aggOverflow": false,
       "aggSchema": [],
       "aggSeriesLimitReached": false,
       "aggType": "",
       "arguments": {},
       "columnCustomDisplayInfos": {},
       "data": [
        [
         "123456789",
         "CLEARINGHOUSE",
         "20180508:0833",
         "222",
         [
          [
           "VANCOUVER",
           "Billing Provider",
           "BH CLINIC OF VANCOUVER",
           "1122334455",
           "WA",
           "12345 MAIN ST",
           "Organization",
           "98662"
          ],
          [
           "Yes",
           "VANCOUVER",
           "20",
           "1",
           "7349065509",
           "Rendering Provider",
           "57",
           "PROVIDER JAMES ",
           "1112223338",
           "1805080AV3648339",
           [
            [
             [
              "Rendering Provider",
              "PROVIDER JAMES ",
              "1112223338",
              "Individual"
             ]
            ],
            [
             [
              "Service Facility",
              "BH CLINIC OF VANCOUVER",
              "1122334455",
              "Organization"
             ]
            ]
           ],
           "WA",
           "12345 MAIN ST SUITE A1",
           "Individual",
           "98662"
          ],
          "TODO",
          [
           [
            [
             "VANCOUVER",
             "Insured",
             "987321",
             "SUBSCRIBER JOHN J",
             "WA",
             "987 65TH PL",
             "Individual",
             "986640001"
            ]
           ],
           [
            [
             "Payer",
             "CHPWA",
             "COMMUNITY HEALTH PLAN OF WASHINGTON",
             "Organization"
            ]
           ],
           [
            [
             "Rendering Provider",
             "PROVIDER JAMES ",
             "1112223338",
             "Individual"
            ]
           ],
           [
            [
             "VANCOUVER",
             "Service Facility",
             "BH CLINIC OF VANCOUVER",
             "1122334455",
             "WA",
             "12345 MAIN ST SUITE A1",
             "Organization",
             "98662"
            ]
           ]
          ],
          [
           "VANCOUVER",
           "Insured",
           "987321",
           "SUBSCRIBER JOHN J",
           "Self",
           "WA",
           "987 65TH PL",
           "Individual",
           "986640001"
          ],
          [
           "Unknown",
           "CHPWA",
           "123456789",
           "Organization"
          ],
          [
           "CLEARINGHOUSE CLIENT SERVICES",
           [
            [
             [
              "Telephone",
              "Fax",
              "8005551212",
              "8005551212"
             ]
            ]
           ],
           "Unknown",
           "987654321",
           "CLEARINGHOUSE LLC",
           "Organization"
          ],
          [
           "VANCOUVER",
           "Insured",
           "987321",
           "SUBSCRIBER JOHN J",
           "Self",
           "WA",
           "987 65TH PL",
           "Individual",
           "986640001"
          ]
         ]
        ],
        [
         "123456789",
         "CLEARINGHOUSE",
         "20180508:0833",
         "222",
         [
          [
           "VANCOUVER",
           "Billing Provider",
           "BH CLINIC OF VANCOUVER",
           "1122334455",
           "WA",
           "12345 MAIN ST",
           "Organization",
           "98662"
          ],
          [
           "Yes",
           "VANCOUVER",
           "50.1",
           "1",
           "7349065730",
           "Rendering Provider",
           "57",
           "PROVIDER SUSAN ",
           "1112223346",
           "1805080AV3648347",
           [
            [
             [
              "Rendering Provider",
              "PROVIDER SUSAN ",
              "1112223346",
              "Individual"
             ]
            ],
            [
             [
              "Service Facility",
              "BH CLINIC OF VANCOUVER",
              "1122334455",
              "Organization"
             ]
            ]
           ],
           "WA",
           "12345 MAIN ST SUITE A1",
           "Individual",
           "98662"
          ],
          "TODO",
          [
           [
            [
             "VANCOUVER",
             "Insured",
             "765123",
             "PATIENT SUSAN E",
             "WA",
             "765 43RD ST",
             "Individual",
             "986640002"
            ]
           ],
           [
            [
             "Payer",
             "CHPWA",
             "COMMUNITY HEALTH PLAN OF WASHINGTON",
             "Organization"
            ]
           ],
           [
            [
             "Rendering Provider",
             "PROVIDER SUSAN ",
             "1112223346",
             "Individual"
            ]
           ],
           [
            [
             "VANCOUVER",
             "Service Facility",
             "BH CLINIC OF VANCOUVER",
             "1122334455",
             "WA",
             "12345 MAIN ST SUITE A1",
             "Organization",
             "98662"
            ]
           ]
          ],
          [
           "VANCOUVER",
           "Insured",
           "765123",
           "PATIENT SUSAN E",
           "Self",
           "WA",
           "765 43RD ST",
           "Individual",
           "986640002"
          ],
          [
           "Unknown",
           "CHPWA",
           "123456789",
           "Organization"
          ],
          [
           "CLEARINGHOUSE CLIENT SERVICES",
           [
            [
             [
              "Telephone",
              "Fax",
              "8005551212",
              "8005551212"
             ]
            ]
           ],
           "Unknown",
           "987654321",
           "CLEARINGHOUSE LLC",
           "Organization"
          ],
          [
           "VANCOUVER",
           "Insured",
           "765123",
           "PATIENT SUSAN E",
           "Self",
           "WA",
           "765 43RD ST",
           "Individual",
           "986640002"
          ]
         ]
        ],
        [
         "123456789",
         "CLEARINGHOUSE",
         "20180508:0833",
         "222",
         [
          [
           "VANCOUVER",
           "Billing Provider",
           "BH CLINIC OF VANCOUVER",
           "1122334455",
           "WA",
           "12345 MAIN ST",
           "Organization",
           "98662"
          ],
          [
           "Yes",
           "VANCOUVER",
           "11.64",
           "1",
           "7349065492",
           "Rendering Provider",
           "57",
           "PROVIDER SUSAN ",
           "1112223346",
           "1805080AV3648340",
           [
            [
             [
              "Rendering Provider",
              "PROVIDER SUSAN ",
              "1112223346",
              "Individual"
             ]
            ],
            [
             [
              "Service Facility",
              "BH CLINIC OF VANCOUVER",
              "1122334455",
              "Organization"
             ]
            ]
           ],
           "WA",
           "12345 MAIN ST SUITE A1",
           "Individual",
           "98662"
          ],
          "TODO",
          [
           [
            [
             "VANCOUVER",
             "Insured",
             "987321",
             "SUBSCRIBER JOHN J",
             "WA",
             "987 65TH PL",
             "Individual",
             "986640001"
            ]
           ],
           [
            [
             "Payer",
             "CHPWA",
             "COMMUNITY HEALTH PLAN OF WASHINGTON",
             "Organization"
            ]
           ],
           [
            [
             "Rendering Provider",
             "PROVIDER SUSAN ",
             "1112223346",
             "Individual"
            ]
           ],
           [
            [
             "VANCOUVER",
             "Service Facility",
             "BH CLINIC OF VANCOUVER",
             "1122334455",
             "WA",
             "12345 MAIN ST SUITE A1",
             "Organization",
             "98662"
            ]
           ]
          ],
          [
           "VANCOUVER",
           "Insured",
           "987321",
           "SUBSCRIBER JOHN J",
           "Self",
           "WA",
           "987 65TH PL",
           "Individual",
           "986640001"
          ],
          [
           "Unknown",
           "CHPWA",
           "123456789",
           "Organization"
          ],
          [
           "CLEARINGHOUSE CLIENT SERVICES",
           [
            [
             [
              "Telephone",
              "Fax",
              "8005551212",
              "8005551212"
             ]
            ]
           ],
           "Unknown",
           "987654321",
           "CLEARINGHOUSE LLC",
           "Organization"
          ],
          [
           "VANCOUVER",
           "Insured",
           "987321",
           "SUBSCRIBER JOHN J",
           "Self",
           "WA",
           "987 65TH PL",
           "Individual",
           "986640001"
          ]
         ]
        ],
        [
         "123456789",
         "CLEARINGHOUSE",
         "20180508:0833",
         "222",
         [
          [
           "VANCOUVER",
           "Billing Provider",
           "BH CLINIC OF VANCOUVER",
           "1122334455",
           "WA",
           "12345 MAIN ST",
           "Organization",
           "98662"
          ],
          [
           "Yes",
           "VANCOUVER",
           "234",
           "1",
           "7349064290",
           "Rendering Provider",
           "53",
           "PROVIDER SUSAN ",
           "1112223346",
           "1805080AV3648353",
           [
            [
             [
              "Rendering Provider",
              "PROVIDER SUSAN ",
              "1112223346",
              "Individual"
             ]
            ],
            [
             [
              "Service Facility",
              "BH CLINIC OF VANCOUVER",
              "1122334455",
              "Organization"
             ]
            ]
           ],
           "WA",
           "12345 MAIN ST SUITE A1",
           "Individual",
           "98662"
          ],
          "TODO",
          [
           [
            [
             "VANCOUVER",
             "Insured",
             "765123",
             "PATIENT SUSAN E",
             "WA",
             "765 43RD ST",
             "Individual",
             "986640002"
            ]
           ],
           [
            [
             "Payer",
             "CHPWA",
             "COMMUNITY HEALTH PLAN OF WASHINGTON",
             "Organization"
            ]
           ],
           [
            [
             "Rendering Provider",
             "PROVIDER SUSAN ",
             "1112223346",
             "Individual"
            ]
           ],
           [
            [
             "VANCOUVER",
             "Service Facility",
             "BH CLINIC OF VANCOUVER",
             "1122334455",
             "WA",
             "12345 MAIN ST SUITE A1",
             "Organization",
             "98662"
            ]
           ]
          ],
          [
           "VANCOUVER",
           "Insured",
           "765123",
           "PATIENT SUSAN E",
           "Self",
           "WA",
           "765 43RD ST",
           "Individual",
           "986640002"
          ],
          [
           "Unknown",
           "CHPWA",
           "123456789",
           "Organization"
          ],
          [
           "CLEARINGHOUSE CLIENT SERVICES",
           [
            [
             [
              "Telephone",
              "Fax",
              "8005551212",
              "8005551212"
             ]
            ]
           ],
           "Unknown",
           "987654321",
           "CLEARINGHOUSE LLC",
           "Organization"
          ],
          [
           "VANCOUVER",
           "Insured",
           "765123",
           "PATIENT SUSAN E",
           "Self",
           "WA",
           "765 43RD ST",
           "Individual",
           "986640002"
          ]
         ]
        ],
        [
         "123456789",
         "CLEARINGHOUSE",
         "20180508:0833",
         "222",
         [
          [
           "VANCOUVER",
           "Billing Provider",
           "BH CLINIC OF VANCOUVER",
           "1122334455",
           "WA",
           "12345 MAIN ST",
           "Organization",
           "98662"
          ],
          [
           "Yes",
           "VANCOUVER",
           "20",
           "1",
           "7349064036",
           "Rendering Provider",
           "57",
           "PROVIDER JAMES ",
           "1112223338",
           "1805080AV3648355",
           [
            [
             [
              "Rendering Provider",
              "PROVIDER JAMES ",
              "1112223338",
              "Individual"
             ]
            ],
            [
             [
              "Service Facility",
              "BH CLINIC OF VANCOUVER",
              "1122334455",
              "Organization"
             ]
            ]
           ],
           "WA",
           "12345 MAIN ST SUITE A1",
           "Individual",
           "98662"
          ],
          "TODO",
          [
           [
            [
             "VANCOUVER",
             "Insured",
             "987321",
             "SUBSCRIBER JOHN J",
             "WA",
             "987 65TH PL",
             "Individual",
             "986640001"
            ]
           ],
           [
            [
             "Payer",
             "CHPWA",
             "COMMUNITY HEALTH PLAN OF WASHINGTON",
             "Organization"
            ]
           ],
           [
            [
             "Rendering Provider",
             "PROVIDER JAMES ",
             "1112223338",
             "Individual"
            ]
           ],
           [
            [
             "VANCOUVER",
             "Service Facility",
             "BH CLINIC OF VANCOUVER",
             "1122334455",
             "WA",
             "12345 MAIN ST SUITE A1",
             "Organization",
             "98662"
            ]
           ]
          ],
          [
           "VANCOUVER",
           "Insured",
           "987321",
           "SUBSCRIBER JOHN J",
           "Self",
           "WA",
           "987 65TH PL",
           "Individual",
           "986640001"
          ],
          [
           "Unknown",
           "CHPWA",
           "123456789",
           "Organization"
          ],
          [
           "CLEARINGHOUSE CLIENT SERVICES",
           [
            [
             [
              "Telephone",
              "Fax",
              "8005551212",
              "8005551212"
             ]
            ]
           ],
           "Unknown",
           "987654321",
           "CLEARINGHOUSE LLC",
           "Organization"
          ],
          [
           "VANCOUVER",
           "Insured",
           "987321",
           "SUBSCRIBER JOHN J",
           "Self",
           "WA",
           "987 65TH PL",
           "Individual",
           "986640001"
          ]
         ]
        ]
       ],
       "datasetInfos": [],
       "dbfsResultPath": null,
       "isJsonSchema": true,
       "metadata": {},
       "overflow": false,
       "plotOptions": {
        "customPlotOptions": {},
        "displayType": "table",
        "pivotAggregation": null,
        "pivotColumns": null,
        "xColumns": null,
        "yColumns": null
       },
       "removedWidgets": [],
       "schema": [
        {
         "metadata": "{}",
         "name": "receiver",
         "type": "\"string\""
        },
        {
         "metadata": "{}",
         "name": "sender",
         "type": "\"string\""
        },
        {
         "metadata": "{}",
         "name": "transaction_datetime",
         "type": "\"string\""
        },
        {
         "metadata": "{}",
         "name": "transaction_type",
         "type": "\"string\""
        },
        {
         "metadata": "{}",
         "name": "Claim",
         "type": "{\"type\":\"struct\",\"fields\":[{\"name\":\"billing_provider\",\"type\":{\"type\":\"struct\",\"fields\":[{\"name\":\"city\",\"type\":\"string\",\"nullable\":true,\"metadata\":{}},{\"name\":\"entity_type\",\"type\":\"string\",\"nullable\":true,\"metadata\":{}},{\"name\":\"name\",\"type\":\"string\",\"nullable\":true,\"metadata\":{}},{\"name\":\"npi\",\"type\":\"string\",\"nullable\":true,\"metadata\":{}},{\"name\":\"state\",\"type\":\"string\",\"nullable\":true,\"metadata\":{}},{\"name\":\"street\",\"type\":\"string\",\"nullable\":true,\"metadata\":{}},{\"name\":\"type\",\"type\":\"string\",\"nullable\":true,\"metadata\":{}},{\"name\":\"zip\",\"type\":\"string\",\"nullable\":true,\"metadata\":{}}]},\"nullable\":true,\"metadata\":{}},{\"name\":\"claim_header\",\"type\":{\"type\":\"struct\",\"fields\":[{\"name\":\"benefits_assign_flag\",\"type\":\"string\",\"nullable\":true,\"metadata\":{}},{\"name\":\"city\",\"type\":\"string\",\"nullable\":true,\"metadata\":{}},{\"name\":\"claim_amount\",\"type\":\"string\",\"nullable\":true,\"metadata\":{}},{\"name\":\"claim_code_freq\",\"type\":\"string\",\"nullable\":true,\"metadata\":{}},{\"name\":\"claim_id\",\"type\":\"string\",\"nullable\":true,\"metadata\":{}},{\"name\":\"entity_type\",\"type\":\"string\",\"nullable\":true,\"metadata\":{}},{\"name\":\"facility_type_code\",\"type\":\"string\",\"nullable\":true,\"metadata\":{}},{\"name\":\"name\",\"type\":\"string\",\"nullable\":true,\"metadata\":{}},{\"name\":\"npi\",\"type\":\"string\",\"nullable\":true,\"metadata\":{}},{\"name\":\"patient_id\",\"type\":\"string\",\"nullable\":true,\"metadata\":{}},{\"name\":\"providers\",\"type\":{\"type\":\"struct\",\"fields\":[{\"name\":\"Rendering Provider\",\"type\":{\"type\":\"array\",\"elementType\":{\"type\":\"struct\",\"fields\":[{\"name\":\"entity_type\",\"type\":\"string\",\"nullable\":true,\"metadata\":{}},{\"name\":\"name\",\"type\":\"string\",\"nullable\":true,\"metadata\":{}},{\"name\":\"npi\",\"type\":\"string\",\"nullable\":true,\"metadata\":{}},{\"name\":\"type\",\"type\":\"string\",\"nullable\":true,\"metadata\":{}}]},\"containsNull\":true},\"nullable\":true,\"metadata\":{}},{\"name\":\"Service Facility\",\"type\":{\"type\":\"array\",\"elementType\":{\"type\":\"struct\",\"fields\":[{\"name\":\"entity_type\",\"type\":\"string\",\"nullable\":true,\"metadata\":{}},{\"name\":\"name\",\"type\":\"string\",\"nullable\":true,\"metadata\":{}},{\"name\":\"npi\",\"type\":\"string\",\"nullable\":true,\"metadata\":{}},{\"name\":\"type\",\"type\":\"string\",\"nullable\":true,\"metadata\":{}}]},\"containsNull\":true},\"nullable\":true,\"metadata\":{}}]},\"nullable\":true,\"metadata\":{}},{\"name\":\"state\",\"type\":\"string\",\"nullable\":true,\"metadata\":{}},{\"name\":\"street\",\"type\":\"string\",\"nullable\":true,\"metadata\":{}},{\"name\":\"type\",\"type\":\"string\",\"nullable\":true,\"metadata\":{}},{\"name\":\"zip\",\"type\":\"string\",\"nullable\":true,\"metadata\":{}}]},\"nullable\":true,\"metadata\":{}},{\"name\":\"claim_lines\",\"type\":\"string\",\"nullable\":true,\"metadata\":{}},{\"name\":\"grouped_subscriber_entities\",\"type\":{\"type\":\"struct\",\"fields\":[{\"name\":\"Insured\",\"type\":{\"type\":\"array\",\"elementType\":{\"type\":\"struct\",\"fields\":[{\"name\":\"city\",\"type\":\"string\",\"nullable\":true,\"metadata\":{}},{\"name\":\"entity_type\",\"type\":\"string\",\"nullable\":true,\"metadata\":{}},{\"name\":\"id\",\"type\":\"string\",\"nullable\":true,\"metadata\":{}},{\"name\":\"name\",\"type\":\"string\",\"nullable\":true,\"metadata\":{}},{\"name\":\"state\",\"type\":\"string\",\"nullable\":true,\"metadata\":{}},{\"name\":\"street\",\"type\":\"string\",\"nullable\":true,\"metadata\":{}},{\"name\":\"type\",\"type\":\"string\",\"nullable\":true,\"metadata\":{}},{\"name\":\"zip\",\"type\":\"string\",\"nullable\":true,\"metadata\":{}}]},\"containsNull\":true},\"nullable\":true,\"metadata\":{}},{\"name\":\"Payer\",\"type\":{\"type\":\"array\",\"elementType\":{\"type\":\"struct\",\"fields\":[{\"name\":\"entity_type\",\"type\":\"string\",\"nullable\":true,\"metadata\":{}},{\"name\":\"id\",\"type\":\"string\",\"nullable\":true,\"metadata\":{}},{\"name\":\"name\",\"type\":\"string\",\"nullable\":true,\"metadata\":{}},{\"name\":\"type\",\"type\":\"string\",\"nullable\":true,\"metadata\":{}}]},\"containsNull\":true},\"nullable\":true,\"metadata\":{}},{\"name\":\"Rendering Provider\",\"type\":{\"type\":\"array\",\"elementType\":{\"type\":\"struct\",\"fields\":[{\"name\":\"entity_type\",\"type\":\"string\",\"nullable\":true,\"metadata\":{}},{\"name\":\"name\",\"type\":\"string\",\"nullable\":true,\"metadata\":{}},{\"name\":\"npi\",\"type\":\"string\",\"nullable\":true,\"metadata\":{}},{\"name\":\"type\",\"type\":\"string\",\"nullable\":true,\"metadata\":{}}]},\"containsNull\":true},\"nullable\":true,\"metadata\":{}},{\"name\":\"Service Facility\",\"type\":{\"type\":\"array\",\"elementType\":{\"type\":\"struct\",\"fields\":[{\"name\":\"city\",\"type\":\"string\",\"nullable\":true,\"metadata\":{}},{\"name\":\"entity_type\",\"type\":\"string\",\"nullable\":true,\"metadata\":{}},{\"name\":\"name\",\"type\":\"string\",\"nullable\":true,\"metadata\":{}},{\"name\":\"npi\",\"type\":\"string\",\"nullable\":true,\"metadata\":{}},{\"name\":\"state\",\"type\":\"string\",\"nullable\":true,\"metadata\":{}},{\"name\":\"street\",\"type\":\"string\",\"nullable\":true,\"metadata\":{}},{\"name\":\"type\",\"type\":\"string\",\"nullable\":true,\"metadata\":{}},{\"name\":\"zip\",\"type\":\"string\",\"nullable\":true,\"metadata\":{}}]},\"containsNull\":true},\"nullable\":true,\"metadata\":{}}]},\"nullable\":true,\"metadata\":{}},{\"name\":\"patient\",\"type\":{\"type\":\"struct\",\"fields\":[{\"name\":\"city\",\"type\":\"string\",\"nullable\":true,\"metadata\":{}},{\"name\":\"entity_type\",\"type\":\"string\",\"nullable\":true,\"metadata\":{}},{\"name\":\"id\",\"type\":\"string\",\"nullable\":true,\"metadata\":{}},{\"name\":\"name\",\"type\":\"string\",\"nullable\":true,\"metadata\":{}},{\"name\":\"relationship_to_insured\",\"type\":\"string\",\"nullable\":true,\"metadata\":{}},{\"name\":\"state\",\"type\":\"string\",\"nullable\":true,\"metadata\":{}},{\"name\":\"street\",\"type\":\"string\",\"nullable\":true,\"metadata\":{}},{\"name\":\"type\",\"type\":\"string\",\"nullable\":true,\"metadata\":{}},{\"name\":\"zip\",\"type\":\"string\",\"nullable\":true,\"metadata\":{}}]},\"nullable\":true,\"metadata\":{}},{\"name\":\"reciever\",\"type\":{\"type\":\"struct\",\"fields\":[{\"name\":\"entity_type\",\"type\":\"string\",\"nullable\":true,\"metadata\":{}},{\"name\":\"id\",\"type\":\"string\",\"nullable\":true,\"metadata\":{}},{\"name\":\"name\",\"type\":\"string\",\"nullable\":true,\"metadata\":{}},{\"name\":\"type\",\"type\":\"string\",\"nullable\":true,\"metadata\":{}}]},\"nullable\":true,\"metadata\":{}},{\"name\":\"submitter\",\"type\":{\"type\":\"struct\",\"fields\":[{\"name\":\"contact_name\",\"type\":\"string\",\"nullable\":true,\"metadata\":{}},{\"name\":\"contacts\",\"type\":{\"type\":\"struct\",\"fields\":[{\"name\":\"primary\",\"type\":{\"type\":\"array\",\"elementType\":{\"type\":\"struct\",\"fields\":[{\"name\":\"contact_method\",\"type\":\"string\",\"nullable\":true,\"metadata\":{}},{\"name\":\"contact_method_2\",\"type\":\"string\",\"nullable\":true,\"metadata\":{}},{\"name\":\"contact_number\",\"type\":\"string\",\"nullable\":true,\"metadata\":{}},{\"name\":\"contact_number_2\",\"type\":\"string\",\"nullable\":true,\"metadata\":{}}]},\"containsNull\":true},\"nullable\":true,\"metadata\":{}}]},\"nullable\":true,\"metadata\":{}},{\"name\":\"entity_type\",\"type\":\"string\",\"nullable\":true,\"metadata\":{}},{\"name\":\"id\",\"type\":\"string\",\"nullable\":true,\"metadata\":{}},{\"name\":\"name\",\"type\":\"string\",\"nullable\":true,\"metadata\":{}},{\"name\":\"type\",\"type\":\"string\",\"nullable\":true,\"metadata\":{}}]},\"nullable\":true,\"metadata\":{}},{\"name\":\"subscriber\",\"type\":{\"type\":\"struct\",\"fields\":[{\"name\":\"city\",\"type\":\"string\",\"nullable\":true,\"metadata\":{}},{\"name\":\"entity_type\",\"type\":\"string\",\"nullable\":true,\"metadata\":{}},{\"name\":\"id\",\"type\":\"string\",\"nullable\":true,\"metadata\":{}},{\"name\":\"name\",\"type\":\"string\",\"nullable\":true,\"metadata\":{}},{\"name\":\"relationship_to_insured\",\"type\":\"string\",\"nullable\":true,\"metadata\":{}},{\"name\":\"state\",\"type\":\"string\",\"nullable\":true,\"metadata\":{}},{\"name\":\"street\",\"type\":\"string\",\"nullable\":true,\"metadata\":{}},{\"name\":\"type\",\"type\":\"string\",\"nullable\":true,\"metadata\":{}},{\"name\":\"zip\",\"type\":\"string\",\"nullable\":true,\"metadata\":{}}]},\"nullable\":true,\"metadata\":{}}]}"
        }
       ],
       "type": "table"
      }
     },
     "output_type": "display_data"
    }
   ],
   "source": [
    "transactions_flat = functional_groups_flat.select(\n",
    "    col(\"receiver\"),\n",
    "    col(\"sender\"),\n",
    "    col(\"transaction_datetime\"),\n",
    "    col(\"transaction_type\"),\n",
    "    explode(col(\"Transaction.Claims\")).alias(\"Claim\")\n",
    ")\n",
    "\n",
    "display(transactions_flat)"
   ]
  },
  {
   "cell_type": "markdown",
   "metadata": {
    "application/vnd.databricks.v1+cell": {
     "cellMetadata": {},
     "inputWidgets": {},
     "nuid": "3df77ed4-1db4-4e31-9141-ec8c71792683",
     "showTitle": false,
     "title": ""
    }
   },
   "source": [
    "Parse the nested Claims data"
   ]
  },
  {
   "cell_type": "code",
   "execution_count": 0,
   "metadata": {
    "application/vnd.databricks.v1+cell": {
     "cellMetadata": {
      "byteLimit": 2048000,
      "rowLimit": 10000
     },
     "collapsed": true,
     "inputWidgets": {},
     "nuid": "9a1da869-0901-4c14-ba2b-076f353e77a8",
     "showTitle": false,
     "title": ""
    }
   },
   "outputs": [],
   "source": [
    "\n",
    "def extract_fields(schema, prefix=\"\"):\n",
    "  def get_field_name(field, prefix):\n",
    "      return f\"{prefix}.{field.name}\" if prefix else field.name\n",
    "\n",
    "  return sum(\n",
    "    [\n",
    "      (\n",
    "        extract_fields(field.dataType, get_field_name(field, prefix))\n",
    "        if isinstance(field.dataType, StructType) else\n",
    "        (\n",
    "            [explode(col(get_field_name(field, prefix))).alias(get_field_name(field, prefix).replace(\".\", \"_\"))]\n",
    "            + extract_fields(field.dataType.elementType, get_field_name(field, prefix).replace(\".\", \"_\"))\n",
    "            if isinstance(field.dataType, ArrayType) and isinstance(field.dataType.elementType, StructType) else\n",
    "            [col(get_field_name(field, prefix)).alias(get_field_name(field, prefix).replace(\".\", \"_\"))]\n",
    "        )\n",
    "      )\n",
    "        for field in schema.fields\n",
    "    ],\n",
    "    []\n",
    ")\n",
    "\n",
    "# Get the schema of the Claim struct\n",
    "claim_schema = transactions_flat.select(\"Claim\").schema[0].dataType\n",
    "\n",
    "# Extract all fields from the Claim schema\n",
    "claim_fields = extract_fields(claim_schema, \"Claim\")\n",
    "\n",
    "all_fields = [\n",
    "    col(\"receiver\"),\n",
    "    col(\"sender\"),\n",
    "    col(\"transaction_datetime\"),\n",
    "    col(\"transaction_type\"),\n",
    "] + claim_fields"
   ]
  },
  {
   "cell_type": "code",
   "execution_count": 0,
   "metadata": {
    "application/vnd.databricks.v1+cell": {
     "cellMetadata": {
      "byteLimit": 2048000,
      "rowLimit": 10000
     },
     "inputWidgets": {},
     "nuid": "4a862aaa-b289-461a-abc6-f23fe35db5c4",
     "showTitle": false,
     "title": ""
    }
   },
   "outputs": [],
   "source": [
    "# Select all fields dynamically\n",
    "claims_flat = transactions_flat.select(*all_fields)\n"
   ]
  },
  {
   "cell_type": "code",
   "execution_count": 0,
   "metadata": {
    "application/vnd.databricks.v1+cell": {
     "cellMetadata": {
      "byteLimit": 2048000,
      "rowLimit": 10000
     },
     "collapsed": true,
     "inputWidgets": {},
     "nuid": "8ddfcb61-1e85-4d55-893d-d802ffa31c95",
     "showTitle": false,
     "title": ""
    }
   },
   "outputs": [],
   "source": [
    "# Check for invalid characters in Column headers\n",
    "from pyspark.sql import DataFrame\n",
    "\n",
    "def replace_spaces_in_column_names(df: DataFrame) -> DataFrame:\n",
    "    for col_name in df.columns:\n",
    "        if ' ' in col_name:\n",
    "            df = df.withColumnRenamed(col_name, col_name.replace(' ', '_'))\n",
    "    return df\n",
    "\n",
    "claims_flat = replace_spaces_in_column_names(claims_flat)"
   ]
  },
  {
   "cell_type": "code",
   "execution_count": 0,
   "metadata": {
    "application/vnd.databricks.v1+cell": {
     "cellMetadata": {
      "byteLimit": 2048000,
      "rowLimit": 10000
     },
     "inputWidgets": {},
     "nuid": "1f2d041a-f0f1-4937-a514-c57ac02163ff",
     "showTitle": false,
     "title": ""
    }
   },
   "outputs": [
    {
     "output_type": "display_data",
     "data": {
      "text/html": [
       "<style scoped>\n",
       "  .table-result-container {\n",
       "    max-height: 300px;\n",
       "    overflow: auto;\n",
       "  }\n",
       "  table, th, td {\n",
       "    border: 1px solid black;\n",
       "    border-collapse: collapse;\n",
       "  }\n",
       "  th, td {\n",
       "    padding: 5px;\n",
       "  }\n",
       "  th {\n",
       "    text-align: left;\n",
       "  }\n",
       "</style><div class='table-result-container'><table class='table-result'><thead style='background-color: white'><tr><th>receiver</th><th>sender</th><th>transaction_datetime</th><th>transaction_type</th><th>Claim_billing_provider_city</th><th>Claim_billing_provider_entity_type</th><th>Claim_billing_provider_name</th><th>Claim_billing_provider_npi</th><th>Claim_billing_provider_state</th><th>Claim_billing_provider_street</th><th>Claim_billing_provider_type</th><th>Claim_billing_provider_zip</th><th>Claim_claim_header_benefits_assign_flag</th><th>Claim_claim_header_city</th><th>Claim_claim_header_claim_amount</th><th>Claim_claim_header_claim_code_freq</th><th>Claim_claim_header_claim_id</th><th>Claim_claim_header_entity_type</th><th>Claim_claim_header_facility_type_code</th><th>Claim_claim_header_name</th><th>Claim_claim_header_npi</th><th>Claim_claim_header_patient_id</th><th>Claim_claim_header_providers_Rendering_Provider</th><th>Claim_claim_header_providers_Rendering_Provider_entity_type</th><th>Claim_claim_header_providers_Rendering_Provider_name</th><th>Claim_claim_header_providers_Rendering_Provider_npi</th><th>Claim_claim_header_providers_Rendering_Provider_type</th><th>Claim_claim_header_providers_Service_Facility</th><th>Claim_claim_header_providers_Service_Facility_entity_type</th><th>Claim_claim_header_providers_Service_Facility_name</th><th>Claim_claim_header_providers_Service_Facility_npi</th><th>Claim_claim_header_providers_Service_Facility_type</th><th>Claim_claim_header_state</th><th>Claim_claim_header_street</th><th>Claim_claim_header_type</th><th>Claim_claim_header_zip</th><th>Claim_claim_lines</th><th>Claim_grouped_subscriber_entities_Insured</th><th>Claim_grouped_subscriber_entities_Insured_city</th><th>Claim_grouped_subscriber_entities_Insured_entity_type</th><th>Claim_grouped_subscriber_entities_Insured_id</th><th>Claim_grouped_subscriber_entities_Insured_name</th><th>Claim_grouped_subscriber_entities_Insured_state</th><th>Claim_grouped_subscriber_entities_Insured_street</th><th>Claim_grouped_subscriber_entities_Insured_type</th><th>Claim_grouped_subscriber_entities_Insured_zip</th><th>Claim_grouped_subscriber_entities_Payer</th><th>Claim_grouped_subscriber_entities_Payer_entity_type</th><th>Claim_grouped_subscriber_entities_Payer_id</th><th>Claim_grouped_subscriber_entities_Payer_name</th><th>Claim_grouped_subscriber_entities_Payer_type</th><th>Claim_grouped_subscriber_entities_Rendering_Provider</th><th>Claim_grouped_subscriber_entities_Rendering_Provider_entity_type</th><th>Claim_grouped_subscriber_entities_Rendering_Provider_name</th><th>Claim_grouped_subscriber_entities_Rendering_Provider_npi</th><th>Claim_grouped_subscriber_entities_Rendering_Provider_type</th><th>Claim_grouped_subscriber_entities_Service_Facility</th><th>Claim_grouped_subscriber_entities_Service_Facility_city</th><th>Claim_grouped_subscriber_entities_Service_Facility_entity_type</th><th>Claim_grouped_subscriber_entities_Service_Facility_name</th><th>Claim_grouped_subscriber_entities_Service_Facility_npi</th><th>Claim_grouped_subscriber_entities_Service_Facility_state</th><th>Claim_grouped_subscriber_entities_Service_Facility_street</th><th>Claim_grouped_subscriber_entities_Service_Facility_type</th><th>Claim_grouped_subscriber_entities_Service_Facility_zip</th><th>Claim_patient_city</th><th>Claim_patient_entity_type</th><th>Claim_patient_id</th><th>Claim_patient_name</th><th>Claim_patient_relationship_to_insured</th><th>Claim_patient_state</th><th>Claim_patient_street</th><th>Claim_patient_type</th><th>Claim_patient_zip</th><th>Claim_reciever_entity_type</th><th>Claim_reciever_id</th><th>Claim_reciever_name</th><th>Claim_reciever_type</th><th>Claim_submitter_contact_name</th><th>Claim_submitter_contacts_primary</th><th>Claim_submitter_contacts_primary_contact_method</th><th>Claim_submitter_contacts_primary_contact_method_2</th><th>Claim_submitter_contacts_primary_contact_number</th><th>Claim_submitter_contacts_primary_contact_number_2</th><th>Claim_submitter_entity_type</th><th>Claim_submitter_id</th><th>Claim_submitter_name</th><th>Claim_submitter_type</th><th>Claim_subscriber_city</th><th>Claim_subscriber_entity_type</th><th>Claim_subscriber_id</th><th>Claim_subscriber_name</th><th>Claim_subscriber_relationship_to_insured</th><th>Claim_subscriber_state</th><th>Claim_subscriber_street</th><th>Claim_subscriber_type</th><th>Claim_subscriber_zip</th></tr></thead><tbody><tr><td>123456789</td><td>CLEARINGHOUSE</td><td>20180508:0833</td><td>222</td><td>VANCOUVER</td><td>Billing Provider</td><td>BH CLINIC OF VANCOUVER</td><td>1122334455</td><td>WA</td><td>12345 MAIN ST</td><td>Organization</td><td>98662</td><td>Yes</td><td>VANCOUVER</td><td>20</td><td>1</td><td>7349065509</td><td>Rendering Provider</td><td>57</td><td>PROVIDER JAMES </td><td>1112223338</td><td>1805080AV3648339</td><td>List(Rendering Provider, PROVIDER JAMES , 1112223338, Individual)</td><td>Rendering Provider</td><td>PROVIDER JAMES </td><td>1112223338</td><td>Individual</td><td>List(Service Facility, BH CLINIC OF VANCOUVER, 1122334455, Organization)</td><td>Service Facility</td><td>BH CLINIC OF VANCOUVER</td><td>1122334455</td><td>Organization</td><td>WA</td><td>12345 MAIN ST SUITE A1</td><td>Individual</td><td>98662</td><td>TODO</td><td>List(VANCOUVER, Insured, 987321, SUBSCRIBER JOHN J, WA, 987 65TH PL, Individual, 986640001)</td><td>VANCOUVER</td><td>Insured</td><td>987321</td><td>SUBSCRIBER JOHN J</td><td>WA</td><td>987 65TH PL</td><td>Individual</td><td>986640001</td><td>List(Payer, CHPWA, COMMUNITY HEALTH PLAN OF WASHINGTON, Organization)</td><td>Payer</td><td>CHPWA</td><td>COMMUNITY HEALTH PLAN OF WASHINGTON</td><td>Organization</td><td>List(Rendering Provider, PROVIDER JAMES , 1112223338, Individual)</td><td>Rendering Provider</td><td>PROVIDER JAMES </td><td>1112223338</td><td>Individual</td><td>List(VANCOUVER, Service Facility, BH CLINIC OF VANCOUVER, 1122334455, WA, 12345 MAIN ST SUITE A1, Organization, 98662)</td><td>VANCOUVER</td><td>Service Facility</td><td>BH CLINIC OF VANCOUVER</td><td>1122334455</td><td>WA</td><td>12345 MAIN ST SUITE A1</td><td>Organization</td><td>98662</td><td>VANCOUVER</td><td>Insured</td><td>987321</td><td>SUBSCRIBER JOHN J</td><td>Self</td><td>WA</td><td>987 65TH PL</td><td>Individual</td><td>986640001</td><td>Unknown</td><td>CHPWA</td><td>123456789</td><td>Organization</td><td>CLEARINGHOUSE CLIENT SERVICES</td><td>List(Telephone, Fax, 8005551212, 8005551212)</td><td>Telephone</td><td>Fax</td><td>8005551212</td><td>8005551212</td><td>Unknown</td><td>987654321</td><td>CLEARINGHOUSE LLC</td><td>Organization</td><td>VANCOUVER</td><td>Insured</td><td>987321</td><td>SUBSCRIBER JOHN J</td><td>Self</td><td>WA</td><td>987 65TH PL</td><td>Individual</td><td>986640001</td></tr><tr><td>123456789</td><td>CLEARINGHOUSE</td><td>20180508:0833</td><td>222</td><td>VANCOUVER</td><td>Billing Provider</td><td>BH CLINIC OF VANCOUVER</td><td>1122334455</td><td>WA</td><td>12345 MAIN ST</td><td>Organization</td><td>98662</td><td>Yes</td><td>VANCOUVER</td><td>50.1</td><td>1</td><td>7349065730</td><td>Rendering Provider</td><td>57</td><td>PROVIDER SUSAN </td><td>1112223346</td><td>1805080AV3648347</td><td>List(Rendering Provider, PROVIDER SUSAN , 1112223346, Individual)</td><td>Rendering Provider</td><td>PROVIDER SUSAN </td><td>1112223346</td><td>Individual</td><td>List(Service Facility, BH CLINIC OF VANCOUVER, 1122334455, Organization)</td><td>Service Facility</td><td>BH CLINIC OF VANCOUVER</td><td>1122334455</td><td>Organization</td><td>WA</td><td>12345 MAIN ST SUITE A1</td><td>Individual</td><td>98662</td><td>TODO</td><td>List(VANCOUVER, Insured, 765123, PATIENT SUSAN E, WA, 765 43RD ST, Individual, 986640002)</td><td>VANCOUVER</td><td>Insured</td><td>765123</td><td>PATIENT SUSAN E</td><td>WA</td><td>765 43RD ST</td><td>Individual</td><td>986640002</td><td>List(Payer, CHPWA, COMMUNITY HEALTH PLAN OF WASHINGTON, Organization)</td><td>Payer</td><td>CHPWA</td><td>COMMUNITY HEALTH PLAN OF WASHINGTON</td><td>Organization</td><td>List(Rendering Provider, PROVIDER SUSAN , 1112223346, Individual)</td><td>Rendering Provider</td><td>PROVIDER SUSAN </td><td>1112223346</td><td>Individual</td><td>List(VANCOUVER, Service Facility, BH CLINIC OF VANCOUVER, 1122334455, WA, 12345 MAIN ST SUITE A1, Organization, 98662)</td><td>VANCOUVER</td><td>Service Facility</td><td>BH CLINIC OF VANCOUVER</td><td>1122334455</td><td>WA</td><td>12345 MAIN ST SUITE A1</td><td>Organization</td><td>98662</td><td>VANCOUVER</td><td>Insured</td><td>765123</td><td>PATIENT SUSAN E</td><td>Self</td><td>WA</td><td>765 43RD ST</td><td>Individual</td><td>986640002</td><td>Unknown</td><td>CHPWA</td><td>123456789</td><td>Organization</td><td>CLEARINGHOUSE CLIENT SERVICES</td><td>List(Telephone, Fax, 8005551212, 8005551212)</td><td>Telephone</td><td>Fax</td><td>8005551212</td><td>8005551212</td><td>Unknown</td><td>987654321</td><td>CLEARINGHOUSE LLC</td><td>Organization</td><td>VANCOUVER</td><td>Insured</td><td>765123</td><td>PATIENT SUSAN E</td><td>Self</td><td>WA</td><td>765 43RD ST</td><td>Individual</td><td>986640002</td></tr><tr><td>123456789</td><td>CLEARINGHOUSE</td><td>20180508:0833</td><td>222</td><td>VANCOUVER</td><td>Billing Provider</td><td>BH CLINIC OF VANCOUVER</td><td>1122334455</td><td>WA</td><td>12345 MAIN ST</td><td>Organization</td><td>98662</td><td>Yes</td><td>VANCOUVER</td><td>11.64</td><td>1</td><td>7349065492</td><td>Rendering Provider</td><td>57</td><td>PROVIDER SUSAN </td><td>1112223346</td><td>1805080AV3648340</td><td>List(Rendering Provider, PROVIDER SUSAN , 1112223346, Individual)</td><td>Rendering Provider</td><td>PROVIDER SUSAN </td><td>1112223346</td><td>Individual</td><td>List(Service Facility, BH CLINIC OF VANCOUVER, 1122334455, Organization)</td><td>Service Facility</td><td>BH CLINIC OF VANCOUVER</td><td>1122334455</td><td>Organization</td><td>WA</td><td>12345 MAIN ST SUITE A1</td><td>Individual</td><td>98662</td><td>TODO</td><td>List(VANCOUVER, Insured, 987321, SUBSCRIBER JOHN J, WA, 987 65TH PL, Individual, 986640001)</td><td>VANCOUVER</td><td>Insured</td><td>987321</td><td>SUBSCRIBER JOHN J</td><td>WA</td><td>987 65TH PL</td><td>Individual</td><td>986640001</td><td>List(Payer, CHPWA, COMMUNITY HEALTH PLAN OF WASHINGTON, Organization)</td><td>Payer</td><td>CHPWA</td><td>COMMUNITY HEALTH PLAN OF WASHINGTON</td><td>Organization</td><td>List(Rendering Provider, PROVIDER SUSAN , 1112223346, Individual)</td><td>Rendering Provider</td><td>PROVIDER SUSAN </td><td>1112223346</td><td>Individual</td><td>List(VANCOUVER, Service Facility, BH CLINIC OF VANCOUVER, 1122334455, WA, 12345 MAIN ST SUITE A1, Organization, 98662)</td><td>VANCOUVER</td><td>Service Facility</td><td>BH CLINIC OF VANCOUVER</td><td>1122334455</td><td>WA</td><td>12345 MAIN ST SUITE A1</td><td>Organization</td><td>98662</td><td>VANCOUVER</td><td>Insured</td><td>987321</td><td>SUBSCRIBER JOHN J</td><td>Self</td><td>WA</td><td>987 65TH PL</td><td>Individual</td><td>986640001</td><td>Unknown</td><td>CHPWA</td><td>123456789</td><td>Organization</td><td>CLEARINGHOUSE CLIENT SERVICES</td><td>List(Telephone, Fax, 8005551212, 8005551212)</td><td>Telephone</td><td>Fax</td><td>8005551212</td><td>8005551212</td><td>Unknown</td><td>987654321</td><td>CLEARINGHOUSE LLC</td><td>Organization</td><td>VANCOUVER</td><td>Insured</td><td>987321</td><td>SUBSCRIBER JOHN J</td><td>Self</td><td>WA</td><td>987 65TH PL</td><td>Individual</td><td>986640001</td></tr><tr><td>123456789</td><td>CLEARINGHOUSE</td><td>20180508:0833</td><td>222</td><td>VANCOUVER</td><td>Billing Provider</td><td>BH CLINIC OF VANCOUVER</td><td>1122334455</td><td>WA</td><td>12345 MAIN ST</td><td>Organization</td><td>98662</td><td>Yes</td><td>VANCOUVER</td><td>234</td><td>1</td><td>7349064290</td><td>Rendering Provider</td><td>53</td><td>PROVIDER SUSAN </td><td>1112223346</td><td>1805080AV3648353</td><td>List(Rendering Provider, PROVIDER SUSAN , 1112223346, Individual)</td><td>Rendering Provider</td><td>PROVIDER SUSAN </td><td>1112223346</td><td>Individual</td><td>List(Service Facility, BH CLINIC OF VANCOUVER, 1122334455, Organization)</td><td>Service Facility</td><td>BH CLINIC OF VANCOUVER</td><td>1122334455</td><td>Organization</td><td>WA</td><td>12345 MAIN ST SUITE A1</td><td>Individual</td><td>98662</td><td>TODO</td><td>List(VANCOUVER, Insured, 765123, PATIENT SUSAN E, WA, 765 43RD ST, Individual, 986640002)</td><td>VANCOUVER</td><td>Insured</td><td>765123</td><td>PATIENT SUSAN E</td><td>WA</td><td>765 43RD ST</td><td>Individual</td><td>986640002</td><td>List(Payer, CHPWA, COMMUNITY HEALTH PLAN OF WASHINGTON, Organization)</td><td>Payer</td><td>CHPWA</td><td>COMMUNITY HEALTH PLAN OF WASHINGTON</td><td>Organization</td><td>List(Rendering Provider, PROVIDER SUSAN , 1112223346, Individual)</td><td>Rendering Provider</td><td>PROVIDER SUSAN </td><td>1112223346</td><td>Individual</td><td>List(VANCOUVER, Service Facility, BH CLINIC OF VANCOUVER, 1122334455, WA, 12345 MAIN ST SUITE A1, Organization, 98662)</td><td>VANCOUVER</td><td>Service Facility</td><td>BH CLINIC OF VANCOUVER</td><td>1122334455</td><td>WA</td><td>12345 MAIN ST SUITE A1</td><td>Organization</td><td>98662</td><td>VANCOUVER</td><td>Insured</td><td>765123</td><td>PATIENT SUSAN E</td><td>Self</td><td>WA</td><td>765 43RD ST</td><td>Individual</td><td>986640002</td><td>Unknown</td><td>CHPWA</td><td>123456789</td><td>Organization</td><td>CLEARINGHOUSE CLIENT SERVICES</td><td>List(Telephone, Fax, 8005551212, 8005551212)</td><td>Telephone</td><td>Fax</td><td>8005551212</td><td>8005551212</td><td>Unknown</td><td>987654321</td><td>CLEARINGHOUSE LLC</td><td>Organization</td><td>VANCOUVER</td><td>Insured</td><td>765123</td><td>PATIENT SUSAN E</td><td>Self</td><td>WA</td><td>765 43RD ST</td><td>Individual</td><td>986640002</td></tr><tr><td>123456789</td><td>CLEARINGHOUSE</td><td>20180508:0833</td><td>222</td><td>VANCOUVER</td><td>Billing Provider</td><td>BH CLINIC OF VANCOUVER</td><td>1122334455</td><td>WA</td><td>12345 MAIN ST</td><td>Organization</td><td>98662</td><td>Yes</td><td>VANCOUVER</td><td>20</td><td>1</td><td>7349064036</td><td>Rendering Provider</td><td>57</td><td>PROVIDER JAMES </td><td>1112223338</td><td>1805080AV3648355</td><td>List(Rendering Provider, PROVIDER JAMES , 1112223338, Individual)</td><td>Rendering Provider</td><td>PROVIDER JAMES </td><td>1112223338</td><td>Individual</td><td>List(Service Facility, BH CLINIC OF VANCOUVER, 1122334455, Organization)</td><td>Service Facility</td><td>BH CLINIC OF VANCOUVER</td><td>1122334455</td><td>Organization</td><td>WA</td><td>12345 MAIN ST SUITE A1</td><td>Individual</td><td>98662</td><td>TODO</td><td>List(VANCOUVER, Insured, 987321, SUBSCRIBER JOHN J, WA, 987 65TH PL, Individual, 986640001)</td><td>VANCOUVER</td><td>Insured</td><td>987321</td><td>SUBSCRIBER JOHN J</td><td>WA</td><td>987 65TH PL</td><td>Individual</td><td>986640001</td><td>List(Payer, CHPWA, COMMUNITY HEALTH PLAN OF WASHINGTON, Organization)</td><td>Payer</td><td>CHPWA</td><td>COMMUNITY HEALTH PLAN OF WASHINGTON</td><td>Organization</td><td>List(Rendering Provider, PROVIDER JAMES , 1112223338, Individual)</td><td>Rendering Provider</td><td>PROVIDER JAMES </td><td>1112223338</td><td>Individual</td><td>List(VANCOUVER, Service Facility, BH CLINIC OF VANCOUVER, 1122334455, WA, 12345 MAIN ST SUITE A1, Organization, 98662)</td><td>VANCOUVER</td><td>Service Facility</td><td>BH CLINIC OF VANCOUVER</td><td>1122334455</td><td>WA</td><td>12345 MAIN ST SUITE A1</td><td>Organization</td><td>98662</td><td>VANCOUVER</td><td>Insured</td><td>987321</td><td>SUBSCRIBER JOHN J</td><td>Self</td><td>WA</td><td>987 65TH PL</td><td>Individual</td><td>986640001</td><td>Unknown</td><td>CHPWA</td><td>123456789</td><td>Organization</td><td>CLEARINGHOUSE CLIENT SERVICES</td><td>List(Telephone, Fax, 8005551212, 8005551212)</td><td>Telephone</td><td>Fax</td><td>8005551212</td><td>8005551212</td><td>Unknown</td><td>987654321</td><td>CLEARINGHOUSE LLC</td><td>Organization</td><td>VANCOUVER</td><td>Insured</td><td>987321</td><td>SUBSCRIBER JOHN J</td><td>Self</td><td>WA</td><td>987 65TH PL</td><td>Individual</td><td>986640001</td></tr></tbody></table></div>"
      ]
     },
     "metadata": {
      "application/vnd.databricks.v1+output": {
       "addedWidgets": {},
       "aggData": [],
       "aggError": "",
       "aggOverflow": false,
       "aggSchema": [],
       "aggSeriesLimitReached": false,
       "aggType": "",
       "arguments": {},
       "columnCustomDisplayInfos": {},
       "data": [
        [
         "123456789",
         "CLEARINGHOUSE",
         "20180508:0833",
         "222",
         "VANCOUVER",
         "Billing Provider",
         "BH CLINIC OF VANCOUVER",
         "1122334455",
         "WA",
         "12345 MAIN ST",
         "Organization",
         "98662",
         "Yes",
         "VANCOUVER",
         "20",
         "1",
         "7349065509",
         "Rendering Provider",
         "57",
         "PROVIDER JAMES ",
         "1112223338",
         "1805080AV3648339",
         [
          "Rendering Provider",
          "PROVIDER JAMES ",
          "1112223338",
          "Individual"
         ],
         "Rendering Provider",
         "PROVIDER JAMES ",
         "1112223338",
         "Individual",
         [
          "Service Facility",
          "BH CLINIC OF VANCOUVER",
          "1122334455",
          "Organization"
         ],
         "Service Facility",
         "BH CLINIC OF VANCOUVER",
         "1122334455",
         "Organization",
         "WA",
         "12345 MAIN ST SUITE A1",
         "Individual",
         "98662",
         "TODO",
         [
          "VANCOUVER",
          "Insured",
          "987321",
          "SUBSCRIBER JOHN J",
          "WA",
          "987 65TH PL",
          "Individual",
          "986640001"
         ],
         "VANCOUVER",
         "Insured",
         "987321",
         "SUBSCRIBER JOHN J",
         "WA",
         "987 65TH PL",
         "Individual",
         "986640001",
         [
          "Payer",
          "CHPWA",
          "COMMUNITY HEALTH PLAN OF WASHINGTON",
          "Organization"
         ],
         "Payer",
         "CHPWA",
         "COMMUNITY HEALTH PLAN OF WASHINGTON",
         "Organization",
         [
          "Rendering Provider",
          "PROVIDER JAMES ",
          "1112223338",
          "Individual"
         ],
         "Rendering Provider",
         "PROVIDER JAMES ",
         "1112223338",
         "Individual",
         [
          "VANCOUVER",
          "Service Facility",
          "BH CLINIC OF VANCOUVER",
          "1122334455",
          "WA",
          "12345 MAIN ST SUITE A1",
          "Organization",
          "98662"
         ],
         "VANCOUVER",
         "Service Facility",
         "BH CLINIC OF VANCOUVER",
         "1122334455",
         "WA",
         "12345 MAIN ST SUITE A1",
         "Organization",
         "98662",
         "VANCOUVER",
         "Insured",
         "987321",
         "SUBSCRIBER JOHN J",
         "Self",
         "WA",
         "987 65TH PL",
         "Individual",
         "986640001",
         "Unknown",
         "CHPWA",
         "123456789",
         "Organization",
         "CLEARINGHOUSE CLIENT SERVICES",
         [
          "Telephone",
          "Fax",
          "8005551212",
          "8005551212"
         ],
         "Telephone",
         "Fax",
         "8005551212",
         "8005551212",
         "Unknown",
         "987654321",
         "CLEARINGHOUSE LLC",
         "Organization",
         "VANCOUVER",
         "Insured",
         "987321",
         "SUBSCRIBER JOHN J",
         "Self",
         "WA",
         "987 65TH PL",
         "Individual",
         "986640001"
        ],
        [
         "123456789",
         "CLEARINGHOUSE",
         "20180508:0833",
         "222",
         "VANCOUVER",
         "Billing Provider",
         "BH CLINIC OF VANCOUVER",
         "1122334455",
         "WA",
         "12345 MAIN ST",
         "Organization",
         "98662",
         "Yes",
         "VANCOUVER",
         "50.1",
         "1",
         "7349065730",
         "Rendering Provider",
         "57",
         "PROVIDER SUSAN ",
         "1112223346",
         "1805080AV3648347",
         [
          "Rendering Provider",
          "PROVIDER SUSAN ",
          "1112223346",
          "Individual"
         ],
         "Rendering Provider",
         "PROVIDER SUSAN ",
         "1112223346",
         "Individual",
         [
          "Service Facility",
          "BH CLINIC OF VANCOUVER",
          "1122334455",
          "Organization"
         ],
         "Service Facility",
         "BH CLINIC OF VANCOUVER",
         "1122334455",
         "Organization",
         "WA",
         "12345 MAIN ST SUITE A1",
         "Individual",
         "98662",
         "TODO",
         [
          "VANCOUVER",
          "Insured",
          "765123",
          "PATIENT SUSAN E",
          "WA",
          "765 43RD ST",
          "Individual",
          "986640002"
         ],
         "VANCOUVER",
         "Insured",
         "765123",
         "PATIENT SUSAN E",
         "WA",
         "765 43RD ST",
         "Individual",
         "986640002",
         [
          "Payer",
          "CHPWA",
          "COMMUNITY HEALTH PLAN OF WASHINGTON",
          "Organization"
         ],
         "Payer",
         "CHPWA",
         "COMMUNITY HEALTH PLAN OF WASHINGTON",
         "Organization",
         [
          "Rendering Provider",
          "PROVIDER SUSAN ",
          "1112223346",
          "Individual"
         ],
         "Rendering Provider",
         "PROVIDER SUSAN ",
         "1112223346",
         "Individual",
         [
          "VANCOUVER",
          "Service Facility",
          "BH CLINIC OF VANCOUVER",
          "1122334455",
          "WA",
          "12345 MAIN ST SUITE A1",
          "Organization",
          "98662"
         ],
         "VANCOUVER",
         "Service Facility",
         "BH CLINIC OF VANCOUVER",
         "1122334455",
         "WA",
         "12345 MAIN ST SUITE A1",
         "Organization",
         "98662",
         "VANCOUVER",
         "Insured",
         "765123",
         "PATIENT SUSAN E",
         "Self",
         "WA",
         "765 43RD ST",
         "Individual",
         "986640002",
         "Unknown",
         "CHPWA",
         "123456789",
         "Organization",
         "CLEARINGHOUSE CLIENT SERVICES",
         [
          "Telephone",
          "Fax",
          "8005551212",
          "8005551212"
         ],
         "Telephone",
         "Fax",
         "8005551212",
         "8005551212",
         "Unknown",
         "987654321",
         "CLEARINGHOUSE LLC",
         "Organization",
         "VANCOUVER",
         "Insured",
         "765123",
         "PATIENT SUSAN E",
         "Self",
         "WA",
         "765 43RD ST",
         "Individual",
         "986640002"
        ],
        [
         "123456789",
         "CLEARINGHOUSE",
         "20180508:0833",
         "222",
         "VANCOUVER",
         "Billing Provider",
         "BH CLINIC OF VANCOUVER",
         "1122334455",
         "WA",
         "12345 MAIN ST",
         "Organization",
         "98662",
         "Yes",
         "VANCOUVER",
         "11.64",
         "1",
         "7349065492",
         "Rendering Provider",
         "57",
         "PROVIDER SUSAN ",
         "1112223346",
         "1805080AV3648340",
         [
          "Rendering Provider",
          "PROVIDER SUSAN ",
          "1112223346",
          "Individual"
         ],
         "Rendering Provider",
         "PROVIDER SUSAN ",
         "1112223346",
         "Individual",
         [
          "Service Facility",
          "BH CLINIC OF VANCOUVER",
          "1122334455",
          "Organization"
         ],
         "Service Facility",
         "BH CLINIC OF VANCOUVER",
         "1122334455",
         "Organization",
         "WA",
         "12345 MAIN ST SUITE A1",
         "Individual",
         "98662",
         "TODO",
         [
          "VANCOUVER",
          "Insured",
          "987321",
          "SUBSCRIBER JOHN J",
          "WA",
          "987 65TH PL",
          "Individual",
          "986640001"
         ],
         "VANCOUVER",
         "Insured",
         "987321",
         "SUBSCRIBER JOHN J",
         "WA",
         "987 65TH PL",
         "Individual",
         "986640001",
         [
          "Payer",
          "CHPWA",
          "COMMUNITY HEALTH PLAN OF WASHINGTON",
          "Organization"
         ],
         "Payer",
         "CHPWA",
         "COMMUNITY HEALTH PLAN OF WASHINGTON",
         "Organization",
         [
          "Rendering Provider",
          "PROVIDER SUSAN ",
          "1112223346",
          "Individual"
         ],
         "Rendering Provider",
         "PROVIDER SUSAN ",
         "1112223346",
         "Individual",
         [
          "VANCOUVER",
          "Service Facility",
          "BH CLINIC OF VANCOUVER",
          "1122334455",
          "WA",
          "12345 MAIN ST SUITE A1",
          "Organization",
          "98662"
         ],
         "VANCOUVER",
         "Service Facility",
         "BH CLINIC OF VANCOUVER",
         "1122334455",
         "WA",
         "12345 MAIN ST SUITE A1",
         "Organization",
         "98662",
         "VANCOUVER",
         "Insured",
         "987321",
         "SUBSCRIBER JOHN J",
         "Self",
         "WA",
         "987 65TH PL",
         "Individual",
         "986640001",
         "Unknown",
         "CHPWA",
         "123456789",
         "Organization",
         "CLEARINGHOUSE CLIENT SERVICES",
         [
          "Telephone",
          "Fax",
          "8005551212",
          "8005551212"
         ],
         "Telephone",
         "Fax",
         "8005551212",
         "8005551212",
         "Unknown",
         "987654321",
         "CLEARINGHOUSE LLC",
         "Organization",
         "VANCOUVER",
         "Insured",
         "987321",
         "SUBSCRIBER JOHN J",
         "Self",
         "WA",
         "987 65TH PL",
         "Individual",
         "986640001"
        ],
        [
         "123456789",
         "CLEARINGHOUSE",
         "20180508:0833",
         "222",
         "VANCOUVER",
         "Billing Provider",
         "BH CLINIC OF VANCOUVER",
         "1122334455",
         "WA",
         "12345 MAIN ST",
         "Organization",
         "98662",
         "Yes",
         "VANCOUVER",
         "234",
         "1",
         "7349064290",
         "Rendering Provider",
         "53",
         "PROVIDER SUSAN ",
         "1112223346",
         "1805080AV3648353",
         [
          "Rendering Provider",
          "PROVIDER SUSAN ",
          "1112223346",
          "Individual"
         ],
         "Rendering Provider",
         "PROVIDER SUSAN ",
         "1112223346",
         "Individual",
         [
          "Service Facility",
          "BH CLINIC OF VANCOUVER",
          "1122334455",
          "Organization"
         ],
         "Service Facility",
         "BH CLINIC OF VANCOUVER",
         "1122334455",
         "Organization",
         "WA",
         "12345 MAIN ST SUITE A1",
         "Individual",
         "98662",
         "TODO",
         [
          "VANCOUVER",
          "Insured",
          "765123",
          "PATIENT SUSAN E",
          "WA",
          "765 43RD ST",
          "Individual",
          "986640002"
         ],
         "VANCOUVER",
         "Insured",
         "765123",
         "PATIENT SUSAN E",
         "WA",
         "765 43RD ST",
         "Individual",
         "986640002",
         [
          "Payer",
          "CHPWA",
          "COMMUNITY HEALTH PLAN OF WASHINGTON",
          "Organization"
         ],
         "Payer",
         "CHPWA",
         "COMMUNITY HEALTH PLAN OF WASHINGTON",
         "Organization",
         [
          "Rendering Provider",
          "PROVIDER SUSAN ",
          "1112223346",
          "Individual"
         ],
         "Rendering Provider",
         "PROVIDER SUSAN ",
         "1112223346",
         "Individual",
         [
          "VANCOUVER",
          "Service Facility",
          "BH CLINIC OF VANCOUVER",
          "1122334455",
          "WA",
          "12345 MAIN ST SUITE A1",
          "Organization",
          "98662"
         ],
         "VANCOUVER",
         "Service Facility",
         "BH CLINIC OF VANCOUVER",
         "1122334455",
         "WA",
         "12345 MAIN ST SUITE A1",
         "Organization",
         "98662",
         "VANCOUVER",
         "Insured",
         "765123",
         "PATIENT SUSAN E",
         "Self",
         "WA",
         "765 43RD ST",
         "Individual",
         "986640002",
         "Unknown",
         "CHPWA",
         "123456789",
         "Organization",
         "CLEARINGHOUSE CLIENT SERVICES",
         [
          "Telephone",
          "Fax",
          "8005551212",
          "8005551212"
         ],
         "Telephone",
         "Fax",
         "8005551212",
         "8005551212",
         "Unknown",
         "987654321",
         "CLEARINGHOUSE LLC",
         "Organization",
         "VANCOUVER",
         "Insured",
         "765123",
         "PATIENT SUSAN E",
         "Self",
         "WA",
         "765 43RD ST",
         "Individual",
         "986640002"
        ],
        [
         "123456789",
         "CLEARINGHOUSE",
         "20180508:0833",
         "222",
         "VANCOUVER",
         "Billing Provider",
         "BH CLINIC OF VANCOUVER",
         "1122334455",
         "WA",
         "12345 MAIN ST",
         "Organization",
         "98662",
         "Yes",
         "VANCOUVER",
         "20",
         "1",
         "7349064036",
         "Rendering Provider",
         "57",
         "PROVIDER JAMES ",
         "1112223338",
         "1805080AV3648355",
         [
          "Rendering Provider",
          "PROVIDER JAMES ",
          "1112223338",
          "Individual"
         ],
         "Rendering Provider",
         "PROVIDER JAMES ",
         "1112223338",
         "Individual",
         [
          "Service Facility",
          "BH CLINIC OF VANCOUVER",
          "1122334455",
          "Organization"
         ],
         "Service Facility",
         "BH CLINIC OF VANCOUVER",
         "1122334455",
         "Organization",
         "WA",
         "12345 MAIN ST SUITE A1",
         "Individual",
         "98662",
         "TODO",
         [
          "VANCOUVER",
          "Insured",
          "987321",
          "SUBSCRIBER JOHN J",
          "WA",
          "987 65TH PL",
          "Individual",
          "986640001"
         ],
         "VANCOUVER",
         "Insured",
         "987321",
         "SUBSCRIBER JOHN J",
         "WA",
         "987 65TH PL",
         "Individual",
         "986640001",
         [
          "Payer",
          "CHPWA",
          "COMMUNITY HEALTH PLAN OF WASHINGTON",
          "Organization"
         ],
         "Payer",
         "CHPWA",
         "COMMUNITY HEALTH PLAN OF WASHINGTON",
         "Organization",
         [
          "Rendering Provider",
          "PROVIDER JAMES ",
          "1112223338",
          "Individual"
         ],
         "Rendering Provider",
         "PROVIDER JAMES ",
         "1112223338",
         "Individual",
         [
          "VANCOUVER",
          "Service Facility",
          "BH CLINIC OF VANCOUVER",
          "1122334455",
          "WA",
          "12345 MAIN ST SUITE A1",
          "Organization",
          "98662"
         ],
         "VANCOUVER",
         "Service Facility",
         "BH CLINIC OF VANCOUVER",
         "1122334455",
         "WA",
         "12345 MAIN ST SUITE A1",
         "Organization",
         "98662",
         "VANCOUVER",
         "Insured",
         "987321",
         "SUBSCRIBER JOHN J",
         "Self",
         "WA",
         "987 65TH PL",
         "Individual",
         "986640001",
         "Unknown",
         "CHPWA",
         "123456789",
         "Organization",
         "CLEARINGHOUSE CLIENT SERVICES",
         [
          "Telephone",
          "Fax",
          "8005551212",
          "8005551212"
         ],
         "Telephone",
         "Fax",
         "8005551212",
         "8005551212",
         "Unknown",
         "987654321",
         "CLEARINGHOUSE LLC",
         "Organization",
         "VANCOUVER",
         "Insured",
         "987321",
         "SUBSCRIBER JOHN J",
         "Self",
         "WA",
         "987 65TH PL",
         "Individual",
         "986640001"
        ]
       ],
       "datasetInfos": [],
       "dbfsResultPath": null,
       "isJsonSchema": true,
       "metadata": {},
       "overflow": false,
       "plotOptions": {
        "customPlotOptions": {},
        "displayType": "table",
        "pivotAggregation": null,
        "pivotColumns": null,
        "xColumns": null,
        "yColumns": null
       },
       "removedWidgets": [],
       "schema": [
        {
         "metadata": "{}",
         "name": "receiver",
         "type": "\"string\""
        },
        {
         "metadata": "{}",
         "name": "sender",
         "type": "\"string\""
        },
        {
         "metadata": "{}",
         "name": "transaction_datetime",
         "type": "\"string\""
        },
        {
         "metadata": "{}",
         "name": "transaction_type",
         "type": "\"string\""
        },
        {
         "metadata": "{}",
         "name": "Claim_billing_provider_city",
         "type": "\"string\""
        },
        {
         "metadata": "{}",
         "name": "Claim_billing_provider_entity_type",
         "type": "\"string\""
        },
        {
         "metadata": "{}",
         "name": "Claim_billing_provider_name",
         "type": "\"string\""
        },
        {
         "metadata": "{}",
         "name": "Claim_billing_provider_npi",
         "type": "\"string\""
        },
        {
         "metadata": "{}",
         "name": "Claim_billing_provider_state",
         "type": "\"string\""
        },
        {
         "metadata": "{}",
         "name": "Claim_billing_provider_street",
         "type": "\"string\""
        },
        {
         "metadata": "{}",
         "name": "Claim_billing_provider_type",
         "type": "\"string\""
        },
        {
         "metadata": "{}",
         "name": "Claim_billing_provider_zip",
         "type": "\"string\""
        },
        {
         "metadata": "{}",
         "name": "Claim_claim_header_benefits_assign_flag",
         "type": "\"string\""
        },
        {
         "metadata": "{}",
         "name": "Claim_claim_header_city",
         "type": "\"string\""
        },
        {
         "metadata": "{}",
         "name": "Claim_claim_header_claim_amount",
         "type": "\"string\""
        },
        {
         "metadata": "{}",
         "name": "Claim_claim_header_claim_code_freq",
         "type": "\"string\""
        },
        {
         "metadata": "{}",
         "name": "Claim_claim_header_claim_id",
         "type": "\"string\""
        },
        {
         "metadata": "{}",
         "name": "Claim_claim_header_entity_type",
         "type": "\"string\""
        },
        {
         "metadata": "{}",
         "name": "Claim_claim_header_facility_type_code",
         "type": "\"string\""
        },
        {
         "metadata": "{}",
         "name": "Claim_claim_header_name",
         "type": "\"string\""
        },
        {
         "metadata": "{}",
         "name": "Claim_claim_header_npi",
         "type": "\"string\""
        },
        {
         "metadata": "{}",
         "name": "Claim_claim_header_patient_id",
         "type": "\"string\""
        },
        {
         "metadata": "{}",
         "name": "Claim_claim_header_providers_Rendering_Provider",
         "type": "{\"type\":\"struct\",\"fields\":[{\"name\":\"entity_type\",\"type\":\"string\",\"nullable\":true,\"metadata\":{}},{\"name\":\"name\",\"type\":\"string\",\"nullable\":true,\"metadata\":{}},{\"name\":\"npi\",\"type\":\"string\",\"nullable\":true,\"metadata\":{}},{\"name\":\"type\",\"type\":\"string\",\"nullable\":true,\"metadata\":{}}]}"
        },
        {
         "metadata": "{}",
         "name": "Claim_claim_header_providers_Rendering_Provider_entity_type",
         "type": "\"string\""
        },
        {
         "metadata": "{}",
         "name": "Claim_claim_header_providers_Rendering_Provider_name",
         "type": "\"string\""
        },
        {
         "metadata": "{}",
         "name": "Claim_claim_header_providers_Rendering_Provider_npi",
         "type": "\"string\""
        },
        {
         "metadata": "{}",
         "name": "Claim_claim_header_providers_Rendering_Provider_type",
         "type": "\"string\""
        },
        {
         "metadata": "{}",
         "name": "Claim_claim_header_providers_Service_Facility",
         "type": "{\"type\":\"struct\",\"fields\":[{\"name\":\"entity_type\",\"type\":\"string\",\"nullable\":true,\"metadata\":{}},{\"name\":\"name\",\"type\":\"string\",\"nullable\":true,\"metadata\":{}},{\"name\":\"npi\",\"type\":\"string\",\"nullable\":true,\"metadata\":{}},{\"name\":\"type\",\"type\":\"string\",\"nullable\":true,\"metadata\":{}}]}"
        },
        {
         "metadata": "{}",
         "name": "Claim_claim_header_providers_Service_Facility_entity_type",
         "type": "\"string\""
        },
        {
         "metadata": "{}",
         "name": "Claim_claim_header_providers_Service_Facility_name",
         "type": "\"string\""
        },
        {
         "metadata": "{}",
         "name": "Claim_claim_header_providers_Service_Facility_npi",
         "type": "\"string\""
        },
        {
         "metadata": "{}",
         "name": "Claim_claim_header_providers_Service_Facility_type",
         "type": "\"string\""
        },
        {
         "metadata": "{}",
         "name": "Claim_claim_header_state",
         "type": "\"string\""
        },
        {
         "metadata": "{}",
         "name": "Claim_claim_header_street",
         "type": "\"string\""
        },
        {
         "metadata": "{}",
         "name": "Claim_claim_header_type",
         "type": "\"string\""
        },
        {
         "metadata": "{}",
         "name": "Claim_claim_header_zip",
         "type": "\"string\""
        },
        {
         "metadata": "{}",
         "name": "Claim_claim_lines",
         "type": "\"string\""
        },
        {
         "metadata": "{}",
         "name": "Claim_grouped_subscriber_entities_Insured",
         "type": "{\"type\":\"struct\",\"fields\":[{\"name\":\"city\",\"type\":\"string\",\"nullable\":true,\"metadata\":{}},{\"name\":\"entity_type\",\"type\":\"string\",\"nullable\":true,\"metadata\":{}},{\"name\":\"id\",\"type\":\"string\",\"nullable\":true,\"metadata\":{}},{\"name\":\"name\",\"type\":\"string\",\"nullable\":true,\"metadata\":{}},{\"name\":\"state\",\"type\":\"string\",\"nullable\":true,\"metadata\":{}},{\"name\":\"street\",\"type\":\"string\",\"nullable\":true,\"metadata\":{}},{\"name\":\"type\",\"type\":\"string\",\"nullable\":true,\"metadata\":{}},{\"name\":\"zip\",\"type\":\"string\",\"nullable\":true,\"metadata\":{}}]}"
        },
        {
         "metadata": "{}",
         "name": "Claim_grouped_subscriber_entities_Insured_city",
         "type": "\"string\""
        },
        {
         "metadata": "{}",
         "name": "Claim_grouped_subscriber_entities_Insured_entity_type",
         "type": "\"string\""
        },
        {
         "metadata": "{}",
         "name": "Claim_grouped_subscriber_entities_Insured_id",
         "type": "\"string\""
        },
        {
         "metadata": "{}",
         "name": "Claim_grouped_subscriber_entities_Insured_name",
         "type": "\"string\""
        },
        {
         "metadata": "{}",
         "name": "Claim_grouped_subscriber_entities_Insured_state",
         "type": "\"string\""
        },
        {
         "metadata": "{}",
         "name": "Claim_grouped_subscriber_entities_Insured_street",
         "type": "\"string\""
        },
        {
         "metadata": "{}",
         "name": "Claim_grouped_subscriber_entities_Insured_type",
         "type": "\"string\""
        },
        {
         "metadata": "{}",
         "name": "Claim_grouped_subscriber_entities_Insured_zip",
         "type": "\"string\""
        },
        {
         "metadata": "{}",
         "name": "Claim_grouped_subscriber_entities_Payer",
         "type": "{\"type\":\"struct\",\"fields\":[{\"name\":\"entity_type\",\"type\":\"string\",\"nullable\":true,\"metadata\":{}},{\"name\":\"id\",\"type\":\"string\",\"nullable\":true,\"metadata\":{}},{\"name\":\"name\",\"type\":\"string\",\"nullable\":true,\"metadata\":{}},{\"name\":\"type\",\"type\":\"string\",\"nullable\":true,\"metadata\":{}}]}"
        },
        {
         "metadata": "{}",
         "name": "Claim_grouped_subscriber_entities_Payer_entity_type",
         "type": "\"string\""
        },
        {
         "metadata": "{}",
         "name": "Claim_grouped_subscriber_entities_Payer_id",
         "type": "\"string\""
        },
        {
         "metadata": "{}",
         "name": "Claim_grouped_subscriber_entities_Payer_name",
         "type": "\"string\""
        },
        {
         "metadata": "{}",
         "name": "Claim_grouped_subscriber_entities_Payer_type",
         "type": "\"string\""
        },
        {
         "metadata": "{}",
         "name": "Claim_grouped_subscriber_entities_Rendering_Provider",
         "type": "{\"type\":\"struct\",\"fields\":[{\"name\":\"entity_type\",\"type\":\"string\",\"nullable\":true,\"metadata\":{}},{\"name\":\"name\",\"type\":\"string\",\"nullable\":true,\"metadata\":{}},{\"name\":\"npi\",\"type\":\"string\",\"nullable\":true,\"metadata\":{}},{\"name\":\"type\",\"type\":\"string\",\"nullable\":true,\"metadata\":{}}]}"
        },
        {
         "metadata": "{}",
         "name": "Claim_grouped_subscriber_entities_Rendering_Provider_entity_type",
         "type": "\"string\""
        },
        {
         "metadata": "{}",
         "name": "Claim_grouped_subscriber_entities_Rendering_Provider_name",
         "type": "\"string\""
        },
        {
         "metadata": "{}",
         "name": "Claim_grouped_subscriber_entities_Rendering_Provider_npi",
         "type": "\"string\""
        },
        {
         "metadata": "{}",
         "name": "Claim_grouped_subscriber_entities_Rendering_Provider_type",
         "type": "\"string\""
        },
        {
         "metadata": "{}",
         "name": "Claim_grouped_subscriber_entities_Service_Facility",
         "type": "{\"type\":\"struct\",\"fields\":[{\"name\":\"city\",\"type\":\"string\",\"nullable\":true,\"metadata\":{}},{\"name\":\"entity_type\",\"type\":\"string\",\"nullable\":true,\"metadata\":{}},{\"name\":\"name\",\"type\":\"string\",\"nullable\":true,\"metadata\":{}},{\"name\":\"npi\",\"type\":\"string\",\"nullable\":true,\"metadata\":{}},{\"name\":\"state\",\"type\":\"string\",\"nullable\":true,\"metadata\":{}},{\"name\":\"street\",\"type\":\"string\",\"nullable\":true,\"metadata\":{}},{\"name\":\"type\",\"type\":\"string\",\"nullable\":true,\"metadata\":{}},{\"name\":\"zip\",\"type\":\"string\",\"nullable\":true,\"metadata\":{}}]}"
        },
        {
         "metadata": "{}",
         "name": "Claim_grouped_subscriber_entities_Service_Facility_city",
         "type": "\"string\""
        },
        {
         "metadata": "{}",
         "name": "Claim_grouped_subscriber_entities_Service_Facility_entity_type",
         "type": "\"string\""
        },
        {
         "metadata": "{}",
         "name": "Claim_grouped_subscriber_entities_Service_Facility_name",
         "type": "\"string\""
        },
        {
         "metadata": "{}",
         "name": "Claim_grouped_subscriber_entities_Service_Facility_npi",
         "type": "\"string\""
        },
        {
         "metadata": "{}",
         "name": "Claim_grouped_subscriber_entities_Service_Facility_state",
         "type": "\"string\""
        },
        {
         "metadata": "{}",
         "name": "Claim_grouped_subscriber_entities_Service_Facility_street",
         "type": "\"string\""
        },
        {
         "metadata": "{}",
         "name": "Claim_grouped_subscriber_entities_Service_Facility_type",
         "type": "\"string\""
        },
        {
         "metadata": "{}",
         "name": "Claim_grouped_subscriber_entities_Service_Facility_zip",
         "type": "\"string\""
        },
        {
         "metadata": "{}",
         "name": "Claim_patient_city",
         "type": "\"string\""
        },
        {
         "metadata": "{}",
         "name": "Claim_patient_entity_type",
         "type": "\"string\""
        },
        {
         "metadata": "{}",
         "name": "Claim_patient_id",
         "type": "\"string\""
        },
        {
         "metadata": "{}",
         "name": "Claim_patient_name",
         "type": "\"string\""
        },
        {
         "metadata": "{}",
         "name": "Claim_patient_relationship_to_insured",
         "type": "\"string\""
        },
        {
         "metadata": "{}",
         "name": "Claim_patient_state",
         "type": "\"string\""
        },
        {
         "metadata": "{}",
         "name": "Claim_patient_street",
         "type": "\"string\""
        },
        {
         "metadata": "{}",
         "name": "Claim_patient_type",
         "type": "\"string\""
        },
        {
         "metadata": "{}",
         "name": "Claim_patient_zip",
         "type": "\"string\""
        },
        {
         "metadata": "{}",
         "name": "Claim_reciever_entity_type",
         "type": "\"string\""
        },
        {
         "metadata": "{}",
         "name": "Claim_reciever_id",
         "type": "\"string\""
        },
        {
         "metadata": "{}",
         "name": "Claim_reciever_name",
         "type": "\"string\""
        },
        {
         "metadata": "{}",
         "name": "Claim_reciever_type",
         "type": "\"string\""
        },
        {
         "metadata": "{}",
         "name": "Claim_submitter_contact_name",
         "type": "\"string\""
        },
        {
         "metadata": "{}",
         "name": "Claim_submitter_contacts_primary",
         "type": "{\"type\":\"struct\",\"fields\":[{\"name\":\"contact_method\",\"type\":\"string\",\"nullable\":true,\"metadata\":{}},{\"name\":\"contact_method_2\",\"type\":\"string\",\"nullable\":true,\"metadata\":{}},{\"name\":\"contact_number\",\"type\":\"string\",\"nullable\":true,\"metadata\":{}},{\"name\":\"contact_number_2\",\"type\":\"string\",\"nullable\":true,\"metadata\":{}}]}"
        },
        {
         "metadata": "{}",
         "name": "Claim_submitter_contacts_primary_contact_method",
         "type": "\"string\""
        },
        {
         "metadata": "{}",
         "name": "Claim_submitter_contacts_primary_contact_method_2",
         "type": "\"string\""
        },
        {
         "metadata": "{}",
         "name": "Claim_submitter_contacts_primary_contact_number",
         "type": "\"string\""
        },
        {
         "metadata": "{}",
         "name": "Claim_submitter_contacts_primary_contact_number_2",
         "type": "\"string\""
        },
        {
         "metadata": "{}",
         "name": "Claim_submitter_entity_type",
         "type": "\"string\""
        },
        {
         "metadata": "{}",
         "name": "Claim_submitter_id",
         "type": "\"string\""
        },
        {
         "metadata": "{}",
         "name": "Claim_submitter_name",
         "type": "\"string\""
        },
        {
         "metadata": "{}",
         "name": "Claim_submitter_type",
         "type": "\"string\""
        },
        {
         "metadata": "{}",
         "name": "Claim_subscriber_city",
         "type": "\"string\""
        },
        {
         "metadata": "{}",
         "name": "Claim_subscriber_entity_type",
         "type": "\"string\""
        },
        {
         "metadata": "{}",
         "name": "Claim_subscriber_id",
         "type": "\"string\""
        },
        {
         "metadata": "{}",
         "name": "Claim_subscriber_name",
         "type": "\"string\""
        },
        {
         "metadata": "{}",
         "name": "Claim_subscriber_relationship_to_insured",
         "type": "\"string\""
        },
        {
         "metadata": "{}",
         "name": "Claim_subscriber_state",
         "type": "\"string\""
        },
        {
         "metadata": "{}",
         "name": "Claim_subscriber_street",
         "type": "\"string\""
        },
        {
         "metadata": "{}",
         "name": "Claim_subscriber_type",
         "type": "\"string\""
        },
        {
         "metadata": "{}",
         "name": "Claim_subscriber_zip",
         "type": "\"string\""
        }
       ],
       "type": "table"
      }
     },
     "output_type": "display_data"
    }
   ],
   "source": [
    "display(claims_flat)"
   ]
  },
  {
   "cell_type": "markdown",
   "metadata": {
    "application/vnd.databricks.v1+cell": {
     "cellMetadata": {},
     "inputWidgets": {},
     "nuid": "5e3b4e71-6796-4270-97d9-1420f9575da4",
     "showTitle": false,
     "title": ""
    }
   },
   "source": [
    "### Write table to Unity Catalog"
   ]
  },
  {
   "cell_type": "code",
   "execution_count": 0,
   "metadata": {
    "application/vnd.databricks.v1+cell": {
     "cellMetadata": {
      "byteLimit": 2048000,
      "rowLimit": 10000
     },
     "inputWidgets": {},
     "nuid": "39204f11-81af-4b7e-89f6-e935ea6c30c3",
     "showTitle": false,
     "title": ""
    }
   },
   "outputs": [],
   "source": [
    "# Define the catalog and schema names\n",
    "catalog_name = \"raven_catalog\"\n",
    "schema_name = \"x12_edi_parser\"\n",
    "\n",
    "# Define the path where you want to save the claims_flat DataFrame as a UC table\n",
    "uc_table_name = f\"{catalog_name}.{schema_name}.claims_flat_table\"\n",
    "\n",
    "# Save the claims_flat DataFrame as a Delta table in your Unity catalog\n",
    "claims_flat.write.format(\"delta\").mode(\"overwrite\").saveAsTable(uc_table_name)"
   ]
  },
  {
   "cell_type": "code",
   "execution_count": 0,
   "metadata": {
    "application/vnd.databricks.v1+cell": {
     "cellMetadata": {},
     "inputWidgets": {},
     "nuid": "a5349d91-9e0b-487b-aeb7-badffa3baf98",
     "showTitle": false,
     "title": ""
    }
   },
   "outputs": [],
   "source": []
  },
  {
   "cell_type": "markdown",
   "metadata": {
    "application/vnd.databricks.v1+cell": {
     "cellMetadata": {},
     "inputWidgets": {},
     "nuid": "228b65d0-6c0e-437b-b543-43321ce1056d",
     "showTitle": false,
     "title": ""
    }
   },
   "source": [
    "### The overall JSON data outside of Spark"
   ]
  },
  {
   "cell_type": "code",
   "execution_count": 0,
   "metadata": {
    "application/vnd.databricks.v1+cell": {
     "cellMetadata": {
      "byteLimit": 2048000,
      "rowLimit": 10000
     },
     "inputWidgets": {},
     "nuid": "ee249b2b-21e9-4175-8102-52ba157e61c6",
     "showTitle": false,
     "title": ""
    }
   },
   "outputs": [
    {
     "output_type": "stream",
     "name": "stdout",
     "output_type": "stream",
     "text": [
      "{\n    \"EDI.sender_tax_id\": \"ZZ\",\n    \"FuncitonalGroup\": [\n        {\n            \"FunctionalGroup.receiver\": \"123456789\",\n            \"FunctionalGroup.sender\": \"CLEARINGHOUSE\",\n            \"FunctionalGroup.transaction_datetime\": \"20180508:0833\",\n            \"FunctionalGroup.transaction_type\": \"222\",\n            \"Transactions\": [\n                {\n                    \"Transaction.transaction_type\": \"222\",\n                    \"Claims\": [\n                        {\n                            \"submitter\": {\n                                \"contact_name\": \"CLEARINGHOUSE CLIENT SERVICES\",\n                                \"contacts\": {\n                                    \"primary\": [\n                                        {\n                                            \"contact_method\": \"Telephone\",\n                                            \"contact_number\": \"8005551212\",\n                                            \"contact_method_2\": \"Fax\",\n                                            \"contact_number_2\": \"8005551212\"\n                                        }\n                                    ]\n                                },\n                                \"name\": \"CLEARINGHOUSE LLC\",\n                                \"type\": \"Organization\",\n                                \"id\": \"987654321\",\n                                \"entity_type\": \"Unknown\"\n                            },\n                            \"reciever\": {\n                                \"name\": \"123456789\",\n                                \"type\": \"Organization\",\n                                \"id\": \"CHPWA\",\n                                \"entity_type\": \"Unknown\"\n                            },\n                            \"subscriber\": {\n                                \"relationship_to_insured\": \"Self\",\n                                \"name\": \"SUBSCRIBER JOHN J\",\n                                \"street\": \"987 65TH PL\",\n                                \"type\": \"Individual\",\n                                \"city\": \"VANCOUVER\",\n                                \"state\": \"WA\",\n                                \"zip\": \"986640001\",\n                                \"id\": \"987321\",\n                                \"entity_type\": \"Insured\"\n                            },\n                            \"patient\": {\n                                \"relationship_to_insured\": \"Self\",\n                                \"name\": \"SUBSCRIBER JOHN J\",\n                                \"street\": \"987 65TH PL\",\n                                \"type\": \"Individual\",\n                                \"city\": \"VANCOUVER\",\n                                \"state\": \"WA\",\n                                \"zip\": \"986640001\",\n                                \"id\": \"987321\",\n                                \"entity_type\": \"Insured\"\n                            },\n                            \"billing_provider\": {\n                                \"name\": \"BH CLINIC OF VANCOUVER\",\n                                \"street\": \"12345 MAIN ST\",\n                                \"type\": \"Organization\",\n                                \"city\": \"VANCOUVER\",\n                                \"state\": \"WA\",\n                                \"zip\": \"98662\",\n                                \"npi\": \"1122334455\",\n                                \"entity_type\": \"Billing Provider\"\n                            },\n                            \"claim_header\": {\n                                \"patient_id\": \"1805080AV3648339\",\n                                \"claim_amount\": \"20\",\n                                \"facility_type_code\": \"57\",\n                                \"claim_code_freq\": \"1\",\n                                \"benefits_assign_flag\": \"Yes\",\n                                \"claim_id\": \"7349065509\",\n                                \"providers\": {\n                                    \"Rendering Provider\": [\n                                        {\n                                            \"name\": \"PROVIDER JAMES \",\n                                            \"type\": \"Individual\",\n                                            \"npi\": \"1112223338\",\n                                            \"entity_type\": \"Rendering Provider\"\n                                        }\n                                    ],\n                                    \"Service Facility\": [\n                                        {\n                                            \"name\": \"BH CLINIC OF VANCOUVER\",\n                                            \"type\": \"Organization\",\n                                            \"npi\": \"1122334455\",\n                                            \"entity_type\": \"Service Facility\"\n                                        }\n                                    ]\n                                },\n                                \"name\": \"PROVIDER JAMES \",\n                                \"street\": \"12345 MAIN ST SUITE A1\",\n                                \"type\": \"Individual\",\n                                \"city\": \"VANCOUVER\",\n                                \"state\": \"WA\",\n                                \"zip\": \"98662\",\n                                \"npi\": \"1112223338\",\n                                \"entity_type\": \"Rendering Provider\"\n                            },\n                            \"claim_lines\": \"TODO\",\n                            \"grouped_subscriber_entities\": {\n                                \"Insured\": [\n                                    {\n                                        \"name\": \"SUBSCRIBER JOHN J\",\n                                        \"street\": \"987 65TH PL\",\n                                        \"type\": \"Individual\",\n                                        \"city\": \"VANCOUVER\",\n                                        \"state\": \"WA\",\n                                        \"zip\": \"986640001\",\n                                        \"id\": \"987321\",\n                                        \"entity_type\": \"Insured\"\n                                    }\n                                ],\n                                \"Payer\": [\n                                    {\n                                        \"name\": \"COMMUNITY HEALTH PLAN OF WASHINGTON\",\n                                        \"type\": \"Organization\",\n                                        \"id\": \"CHPWA\",\n                                        \"entity_type\": \"Payer\"\n                                    }\n                                ],\n                                \"Rendering Provider\": [\n                                    {\n                                        \"name\": \"PROVIDER JAMES \",\n                                        \"type\": \"Individual\",\n                                        \"npi\": \"1112223338\",\n                                        \"entity_type\": \"Rendering Provider\"\n                                    }\n                                ],\n                                \"Service Facility\": [\n                                    {\n                                        \"name\": \"BH CLINIC OF VANCOUVER\",\n                                        \"street\": \"12345 MAIN ST SUITE A1\",\n                                        \"type\": \"Organization\",\n                                        \"city\": \"VANCOUVER\",\n                                        \"state\": \"WA\",\n                                        \"zip\": \"98662\",\n                                        \"npi\": \"1122334455\",\n                                        \"entity_type\": \"Service Facility\"\n                                    }\n                                ]\n                            }\n                        }\n                    ]\n                },\n                {\n                    \"Transaction.transaction_type\": \"222\",\n                    \"Claims\": [\n                        {\n                            \"submitter\": {\n                                \"contact_name\": \"CLEARINGHOUSE CLIENT SERVICES\",\n                                \"contacts\": {\n                                    \"primary\": [\n                                        {\n                                            \"contact_method\": \"Telephone\",\n                                            \"contact_number\": \"8005551212\",\n                                            \"contact_method_2\": \"Fax\",\n                                            \"contact_number_2\": \"8005551212\"\n                                        }\n                                    ]\n                                },\n                                \"name\": \"CLEARINGHOUSE LLC\",\n                                \"type\": \"Organization\",\n                                \"id\": \"987654321\",\n                                \"entity_type\": \"Unknown\"\n                            },\n                            \"reciever\": {\n                                \"name\": \"123456789\",\n                                \"type\": \"Organization\",\n                                \"id\": \"CHPWA\",\n                                \"entity_type\": \"Unknown\"\n                            },\n                            \"subscriber\": {\n                                \"relationship_to_insured\": \"Self\",\n                                \"name\": \"PATIENT SUSAN E\",\n                                \"street\": \"765 43RD ST\",\n                                \"type\": \"Individual\",\n                                \"city\": \"VANCOUVER\",\n                                \"state\": \"WA\",\n                                \"zip\": \"986640002\",\n                                \"id\": \"765123\",\n                                \"entity_type\": \"Insured\"\n                            },\n                            \"patient\": {\n                                \"relationship_to_insured\": \"Self\",\n                                \"name\": \"PATIENT SUSAN E\",\n                                \"street\": \"765 43RD ST\",\n                                \"type\": \"Individual\",\n                                \"city\": \"VANCOUVER\",\n                                \"state\": \"WA\",\n                                \"zip\": \"986640002\",\n                                \"id\": \"765123\",\n                                \"entity_type\": \"Insured\"\n                            },\n                            \"billing_provider\": {\n                                \"name\": \"BH CLINIC OF VANCOUVER\",\n                                \"street\": \"12345 MAIN ST\",\n                                \"type\": \"Organization\",\n                                \"city\": \"VANCOUVER\",\n                                \"state\": \"WA\",\n                                \"zip\": \"98662\",\n                                \"npi\": \"1122334455\",\n                                \"entity_type\": \"Billing Provider\"\n                            },\n                            \"claim_header\": {\n                                \"patient_id\": \"1805080AV3648347\",\n                                \"claim_amount\": \"50.1\",\n                                \"facility_type_code\": \"57\",\n                                \"claim_code_freq\": \"1\",\n                                \"benefits_assign_flag\": \"Yes\",\n                                \"claim_id\": \"7349065730\",\n                                \"providers\": {\n                                    \"Rendering Provider\": [\n                                        {\n                                            \"name\": \"PROVIDER SUSAN \",\n                                            \"type\": \"Individual\",\n                                            \"npi\": \"1112223346\",\n                                            \"entity_type\": \"Rendering Provider\"\n                                        }\n                                    ],\n                                    \"Service Facility\": [\n                                        {\n                                            \"name\": \"BH CLINIC OF VANCOUVER\",\n                                            \"type\": \"Organization\",\n                                            \"npi\": \"1122334455\",\n                                            \"entity_type\": \"Service Facility\"\n                                        }\n                                    ]\n                                },\n                                \"name\": \"PROVIDER SUSAN \",\n                                \"street\": \"12345 MAIN ST SUITE A1\",\n                                \"type\": \"Individual\",\n                                \"city\": \"VANCOUVER\",\n                                \"state\": \"WA\",\n                                \"zip\": \"98662\",\n                                \"npi\": \"1112223346\",\n                                \"entity_type\": \"Rendering Provider\"\n                            },\n                            \"claim_lines\": \"TODO\",\n                            \"grouped_subscriber_entities\": {\n                                \"Insured\": [\n                                    {\n                                        \"name\": \"PATIENT SUSAN E\",\n                                        \"street\": \"765 43RD ST\",\n                                        \"type\": \"Individual\",\n                                        \"city\": \"VANCOUVER\",\n                                        \"state\": \"WA\",\n                                        \"zip\": \"986640002\",\n                                        \"id\": \"765123\",\n                                        \"entity_type\": \"Insured\"\n                                    }\n                                ],\n                                \"Payer\": [\n                                    {\n                                        \"name\": \"COMMUNITY HEALTH PLAN OF WASHINGTON\",\n                                        \"type\": \"Organization\",\n                                        \"id\": \"CHPWA\",\n                                        \"entity_type\": \"Payer\"\n                                    }\n                                ],\n                                \"Rendering Provider\": [\n                                    {\n                                        \"name\": \"PROVIDER SUSAN \",\n                                        \"type\": \"Individual\",\n                                        \"npi\": \"1112223346\",\n                                        \"entity_type\": \"Rendering Provider\"\n                                    }\n                                ],\n                                \"Service Facility\": [\n                                    {\n                                        \"name\": \"BH CLINIC OF VANCOUVER\",\n                                        \"street\": \"12345 MAIN ST SUITE A1\",\n                                        \"type\": \"Organization\",\n                                        \"city\": \"VANCOUVER\",\n                                        \"state\": \"WA\",\n                                        \"zip\": \"98662\",\n                                        \"npi\": \"1122334455\",\n                                        \"entity_type\": \"Service Facility\"\n                                    }\n                                ]\n                            }\n                        }\n                    ]\n                },\n                {\n                    \"Transaction.transaction_type\": \"222\",\n                    \"Claims\": [\n                        {\n                            \"submitter\": {\n                                \"contact_name\": \"CLEARINGHOUSE CLIENT SERVICES\",\n                                \"contacts\": {\n                                    \"primary\": [\n                                        {\n                                            \"contact_method\": \"Telephone\",\n                                            \"contact_number\": \"8005551212\",\n                                            \"contact_method_2\": \"Fax\",\n                                            \"contact_number_2\": \"8005551212\"\n                                        }\n                                    ]\n                                },\n                                \"name\": \"CLEARINGHOUSE LLC\",\n                                \"type\": \"Organization\",\n                                \"id\": \"987654321\",\n                                \"entity_type\": \"Unknown\"\n                            },\n                            \"reciever\": {\n                                \"name\": \"123456789\",\n                                \"type\": \"Organization\",\n                                \"id\": \"CHPWA\",\n                                \"entity_type\": \"Unknown\"\n                            },\n                            \"subscriber\": {\n                                \"relationship_to_insured\": \"Self\",\n                                \"name\": \"SUBSCRIBER JOHN J\",\n                                \"street\": \"987 65TH PL\",\n                                \"type\": \"Individual\",\n                                \"city\": \"VANCOUVER\",\n                                \"state\": \"WA\",\n                                \"zip\": \"986640001\",\n                                \"id\": \"987321\",\n                                \"entity_type\": \"Insured\"\n                            },\n                            \"patient\": {\n                                \"relationship_to_insured\": \"Self\",\n                                \"name\": \"SUBSCRIBER JOHN J\",\n                                \"street\": \"987 65TH PL\",\n                                \"type\": \"Individual\",\n                                \"city\": \"VANCOUVER\",\n                                \"state\": \"WA\",\n                                \"zip\": \"986640001\",\n                                \"id\": \"987321\",\n                                \"entity_type\": \"Insured\"\n                            },\n                            \"billing_provider\": {\n                                \"name\": \"BH CLINIC OF VANCOUVER\",\n                                \"street\": \"12345 MAIN ST\",\n                                \"type\": \"Organization\",\n                                \"city\": \"VANCOUVER\",\n                                \"state\": \"WA\",\n                                \"zip\": \"98662\",\n                                \"npi\": \"1122334455\",\n                                \"entity_type\": \"Billing Provider\"\n                            },\n                            \"claim_header\": {\n                                \"patient_id\": \"1805080AV3648340\",\n                                \"claim_amount\": \"11.64\",\n                                \"facility_type_code\": \"57\",\n                                \"claim_code_freq\": \"1\",\n                                \"benefits_assign_flag\": \"Yes\",\n                                \"claim_id\": \"7349065492\",\n                                \"providers\": {\n                                    \"Rendering Provider\": [\n                                        {\n                                            \"name\": \"PROVIDER SUSAN \",\n                                            \"type\": \"Individual\",\n                                            \"npi\": \"1112223346\",\n                                            \"entity_type\": \"Rendering Provider\"\n                                        }\n                                    ],\n                                    \"Service Facility\": [\n                                        {\n                                            \"name\": \"BH CLINIC OF VANCOUVER\",\n                                            \"type\": \"Organization\",\n                                            \"npi\": \"1122334455\",\n                                            \"entity_type\": \"Service Facility\"\n                                        }\n                                    ]\n                                },\n                                \"name\": \"PROVIDER SUSAN \",\n                                \"street\": \"12345 MAIN ST SUITE A1\",\n                                \"type\": \"Individual\",\n                                \"city\": \"VANCOUVER\",\n                                \"state\": \"WA\",\n                                \"zip\": \"98662\",\n                                \"npi\": \"1112223346\",\n                                \"entity_type\": \"Rendering Provider\"\n                            },\n                            \"claim_lines\": \"TODO\",\n                            \"grouped_subscriber_entities\": {\n                                \"Insured\": [\n                                    {\n                                        \"name\": \"SUBSCRIBER JOHN J\",\n                                        \"street\": \"987 65TH PL\",\n                                        \"type\": \"Individual\",\n                                        \"city\": \"VANCOUVER\",\n                                        \"state\": \"WA\",\n                                        \"zip\": \"986640001\",\n                                        \"id\": \"987321\",\n                                        \"entity_type\": \"Insured\"\n                                    }\n                                ],\n                                \"Payer\": [\n                                    {\n                                        \"name\": \"COMMUNITY HEALTH PLAN OF WASHINGTON\",\n                                        \"type\": \"Organization\",\n                                        \"id\": \"CHPWA\",\n                                        \"entity_type\": \"Payer\"\n                                    }\n                                ],\n                                \"Rendering Provider\": [\n                                    {\n                                        \"name\": \"PROVIDER SUSAN \",\n                                        \"type\": \"Individual\",\n                                        \"npi\": \"1112223346\",\n                                        \"entity_type\": \"Rendering Provider\"\n                                    }\n                                ],\n                                \"Service Facility\": [\n                                    {\n                                        \"name\": \"BH CLINIC OF VANCOUVER\",\n                                        \"street\": \"12345 MAIN ST SUITE A1\",\n                                        \"type\": \"Organization\",\n                                        \"city\": \"VANCOUVER\",\n                                        \"state\": \"WA\",\n                                        \"zip\": \"98662\",\n                                        \"npi\": \"1122334455\",\n                                        \"entity_type\": \"Service Facility\"\n                                    }\n                                ]\n                            }\n                        }\n                    ]\n                },\n                {\n                    \"Transaction.transaction_type\": \"222\",\n                    \"Claims\": [\n                        {\n                            \"submitter\": {\n                                \"contact_name\": \"CLEARINGHOUSE CLIENT SERVICES\",\n                                \"contacts\": {\n                                    \"primary\": [\n                                        {\n                                            \"contact_method\": \"Telephone\",\n                                            \"contact_number\": \"8005551212\",\n                                            \"contact_method_2\": \"Fax\",\n                                            \"contact_number_2\": \"8005551212\"\n                                        }\n                                    ]\n                                },\n                                \"name\": \"CLEARINGHOUSE LLC\",\n                                \"type\": \"Organization\",\n                                \"id\": \"987654321\",\n                                \"entity_type\": \"Unknown\"\n                            },\n                            \"reciever\": {\n                                \"name\": \"123456789\",\n                                \"type\": \"Organization\",\n                                \"id\": \"CHPWA\",\n                                \"entity_type\": \"Unknown\"\n                            },\n                            \"subscriber\": {\n                                \"relationship_to_insured\": \"Self\",\n                                \"name\": \"PATIENT SUSAN E\",\n                                \"street\": \"765 43RD ST\",\n                                \"type\": \"Individual\",\n                                \"city\": \"VANCOUVER\",\n                                \"state\": \"WA\",\n                                \"zip\": \"986640002\",\n                                \"id\": \"765123\",\n                                \"entity_type\": \"Insured\"\n                            },\n                            \"patient\": {\n                                \"relationship_to_insured\": \"Self\",\n                                \"name\": \"PATIENT SUSAN E\",\n                                \"street\": \"765 43RD ST\",\n                                \"type\": \"Individual\",\n                                \"city\": \"VANCOUVER\",\n                                \"state\": \"WA\",\n                                \"zip\": \"986640002\",\n                                \"id\": \"765123\",\n                                \"entity_type\": \"Insured\"\n                            },\n                            \"billing_provider\": {\n                                \"name\": \"BH CLINIC OF VANCOUVER\",\n                                \"street\": \"12345 MAIN ST\",\n                                \"type\": \"Organization\",\n                                \"city\": \"VANCOUVER\",\n                                \"state\": \"WA\",\n                                \"zip\": \"98662\",\n                                \"npi\": \"1122334455\",\n                                \"entity_type\": \"Billing Provider\"\n                            },\n                            \"claim_header\": {\n                                \"patient_id\": \"1805080AV3648353\",\n                                \"claim_amount\": \"234\",\n                                \"facility_type_code\": \"53\",\n                                \"claim_code_freq\": \"1\",\n                                \"benefits_assign_flag\": \"Yes\",\n                                \"claim_id\": \"7349064290\",\n                                \"providers\": {\n                                    \"Rendering Provider\": [\n                                        {\n                                            \"name\": \"PROVIDER SUSAN \",\n                                            \"type\": \"Individual\",\n                                            \"npi\": \"1112223346\",\n                                            \"entity_type\": \"Rendering Provider\"\n                                        }\n                                    ],\n                                    \"Service Facility\": [\n                                        {\n                                            \"name\": \"BH CLINIC OF VANCOUVER\",\n                                            \"type\": \"Organization\",\n                                            \"npi\": \"1122334455\",\n                                            \"entity_type\": \"Service Facility\"\n                                        }\n                                    ]\n                                },\n                                \"name\": \"PROVIDER SUSAN \",\n                                \"street\": \"12345 MAIN ST SUITE A1\",\n                                \"type\": \"Individual\",\n                                \"city\": \"VANCOUVER\",\n                                \"state\": \"WA\",\n                                \"zip\": \"98662\",\n                                \"npi\": \"1112223346\",\n                                \"entity_type\": \"Rendering Provider\"\n                            },\n                            \"claim_lines\": \"TODO\",\n                            \"grouped_subscriber_entities\": {\n                                \"Insured\": [\n                                    {\n                                        \"name\": \"PATIENT SUSAN E\",\n                                        \"street\": \"765 43RD ST\",\n                                        \"type\": \"Individual\",\n                                        \"city\": \"VANCOUVER\",\n                                        \"state\": \"WA\",\n                                        \"zip\": \"986640002\",\n                                        \"id\": \"765123\",\n                                        \"entity_type\": \"Insured\"\n                                    }\n                                ],\n                                \"Payer\": [\n                                    {\n                                        \"name\": \"COMMUNITY HEALTH PLAN OF WASHINGTON\",\n                                        \"type\": \"Organization\",\n                                        \"id\": \"CHPWA\",\n                                        \"entity_type\": \"Payer\"\n                                    }\n                                ],\n                                \"Rendering Provider\": [\n                                    {\n                                        \"name\": \"PROVIDER SUSAN \",\n                                        \"type\": \"Individual\",\n                                        \"npi\": \"1112223346\",\n                                        \"entity_type\": \"Rendering Provider\"\n                                    }\n                                ],\n                                \"Service Facility\": [\n                                    {\n                                        \"name\": \"BH CLINIC OF VANCOUVER\",\n                                        \"street\": \"12345 MAIN ST SUITE A1\",\n                                        \"type\": \"Organization\",\n                                        \"city\": \"VANCOUVER\",\n                                        \"state\": \"WA\",\n                                        \"zip\": \"98662\",\n                                        \"npi\": \"1122334455\",\n                                        \"entity_type\": \"Service Facility\"\n                                    }\n                                ]\n                            }\n                        }\n                    ]\n                },\n                {\n                    \"Transaction.transaction_type\": \"222\",\n                    \"Claims\": [\n                        {\n                            \"submitter\": {\n                                \"contact_name\": \"CLEARINGHOUSE CLIENT SERVICES\",\n                                \"contacts\": {\n                                    \"primary\": [\n                                        {\n                                            \"contact_method\": \"Telephone\",\n                                            \"contact_number\": \"8005551212\",\n                                            \"contact_method_2\": \"Fax\",\n                                            \"contact_number_2\": \"8005551212\"\n                                        }\n                                    ]\n                                },\n                                \"name\": \"CLEARINGHOUSE LLC\",\n                                \"type\": \"Organization\",\n                                \"id\": \"987654321\",\n                                \"entity_type\": \"Unknown\"\n                            },\n                            \"reciever\": {\n                                \"name\": \"123456789\",\n                                \"type\": \"Organization\",\n                                \"id\": \"CHPWA\",\n                                \"entity_type\": \"Unknown\"\n                            },\n                            \"subscriber\": {\n                                \"relationship_to_insured\": \"Self\",\n                                \"name\": \"SUBSCRIBER JOHN J\",\n                                \"street\": \"987 65TH PL\",\n                                \"type\": \"Individual\",\n                                \"city\": \"VANCOUVER\",\n                                \"state\": \"WA\",\n                                \"zip\": \"986640001\",\n                                \"id\": \"987321\",\n                                \"entity_type\": \"Insured\"\n                            },\n                            \"patient\": {\n                                \"relationship_to_insured\": \"Self\",\n                                \"name\": \"SUBSCRIBER JOHN J\",\n                                \"street\": \"987 65TH PL\",\n                                \"type\": \"Individual\",\n                                \"city\": \"VANCOUVER\",\n                                \"state\": \"WA\",\n                                \"zip\": \"986640001\",\n                                \"id\": \"987321\",\n                                \"entity_type\": \"Insured\"\n                            },\n                            \"billing_provider\": {\n                                \"name\": \"BH CLINIC OF VANCOUVER\",\n                                \"street\": \"12345 MAIN ST\",\n                                \"type\": \"Organization\",\n                                \"city\": \"VANCOUVER\",\n                                \"state\": \"WA\",\n                                \"zip\": \"98662\",\n                                \"npi\": \"1122334455\",\n                                \"entity_type\": \"Billing Provider\"\n                            },\n                            \"claim_header\": {\n                                \"patient_id\": \"1805080AV3648355\",\n                                \"claim_amount\": \"20\",\n                                \"facility_type_code\": \"57\",\n                                \"claim_code_freq\": \"1\",\n                                \"benefits_assign_flag\": \"Yes\",\n                                \"claim_id\": \"7349064036\",\n                                \"providers\": {\n                                    \"Rendering Provider\": [\n                                        {\n                                            \"name\": \"PROVIDER JAMES \",\n                                            \"type\": \"Individual\",\n                                            \"npi\": \"1112223338\",\n                                            \"entity_type\": \"Rendering Provider\"\n                                        }\n                                    ],\n                                    \"Service Facility\": [\n                                        {\n                                            \"name\": \"BH CLINIC OF VANCOUVER\",\n                                            \"type\": \"Organization\",\n                                            \"npi\": \"1122334455\",\n                                            \"entity_type\": \"Service Facility\"\n                                        }\n                                    ]\n                                },\n                                \"name\": \"PROVIDER JAMES \",\n                                \"street\": \"12345 MAIN ST SUITE A1\",\n                                \"type\": \"Individual\",\n                                \"city\": \"VANCOUVER\",\n                                \"state\": \"WA\",\n                                \"zip\": \"98662\",\n                                \"npi\": \"1112223338\",\n                                \"entity_type\": \"Rendering Provider\"\n                            },\n                            \"claim_lines\": \"TODO\",\n                            \"grouped_subscriber_entities\": {\n                                \"Insured\": [\n                                    {\n                                        \"name\": \"SUBSCRIBER JOHN J\",\n                                        \"street\": \"987 65TH PL\",\n                                        \"type\": \"Individual\",\n                                        \"city\": \"VANCOUVER\",\n                                        \"state\": \"WA\",\n                                        \"zip\": \"986640001\",\n                                        \"id\": \"987321\",\n                                        \"entity_type\": \"Insured\"\n                                    }\n                                ],\n                                \"Payer\": [\n                                    {\n                                        \"name\": \"COMMUNITY HEALTH PLAN OF WASHINGTON\",\n                                        \"type\": \"Organization\",\n                                        \"id\": \"CHPWA\",\n                                        \"entity_type\": \"Payer\"\n                                    }\n                                ],\n                                \"Rendering Provider\": [\n                                    {\n                                        \"name\": \"PROVIDER JAMES \",\n                                        \"type\": \"Individual\",\n                                        \"npi\": \"1112223338\",\n                                        \"entity_type\": \"Rendering Provider\"\n                                    }\n                                ],\n                                \"Service Facility\": [\n                                    {\n                                        \"name\": \"BH CLINIC OF VANCOUVER\",\n                                        \"street\": \"12345 MAIN ST SUITE A1\",\n                                        \"type\": \"Organization\",\n                                        \"city\": \"VANCOUVER\",\n                                        \"state\": \"WA\",\n                                        \"zip\": \"98662\",\n                                        \"npi\": \"1122334455\",\n                                        \"entity_type\": \"Service Facility\"\n                                    }\n                                ]\n                            }\n                        }\n                    ]\n                }\n            ]\n        }\n    ]\n}\n"
     ]
    }
   ],
   "source": [
    "from databricksx12 import EDI\n",
    "from databricksx12.hls.healthcare import HealthcareManager\n",
    "\n",
    "hm = HealthcareManager()\n",
    "edi =  EDI(open(\"/Volumes/raven_catalog/x12_edi_parser/sampledata/CHPW_Claimdata.txt\", \"rb\").read().decode(\"utf-8\"))\n",
    "\n",
    "#Returns parsed claim data\n",
    "hm.from_edi(edi) \n",
    "\n",
    "#Print in json format\n",
    "print(json.dumps(hm.to_json(edi), indent=4)) "
   ]
  },
  {
   "cell_type": "code",
   "execution_count": 0,
   "metadata": {
    "application/vnd.databricks.v1+cell": {
     "cellMetadata": {},
     "inputWidgets": {},
     "nuid": "7fc00075-1bcf-422b-9316-bafe3a480a48",
     "showTitle": false,
     "title": ""
    }
   },
   "outputs": [],
   "source": []
  }
 ],
 "metadata": {
  "application/vnd.databricks.v1+notebook": {
   "dashboards": [
    {
     "elements": [
      {
       "dashboardResultIndex": 0,
       "elementNUID": "d020959d-5e02-48ec-a19d-2cb2ec330f13",
       "elementType": "command",
       "guid": "0cd28592-2618-42ca-81ba-87a337e70db6",
       "options": null,
       "position": {
        "height": 6,
        "width": 12,
        "x": 0,
        "y": 0,
        "z": null
       },
       "resultIndex": null
      }
     ],
     "globalVars": {},
     "guid": "",
     "layoutOption": {
      "grid": true,
      "stack": true
     },
     "nuid": "eb6da336-0d3c-4e9a-9da9-5946cc619472",
     "origId": 913200565655500,
     "title": "Untitled",
     "version": "DashboardViewV1",
     "width": 1024
    }
   ],
   "environmentMetadata": null,
   "language": "python",
   "notebookMetadata": {
    "pythonIndentUnit": 2
   },
   "notebookName": "MedicalClaimBuilder - test",
   "widgets": {}
  }
 },
 "nbformat": 4,
 "nbformat_minor": 0
}
