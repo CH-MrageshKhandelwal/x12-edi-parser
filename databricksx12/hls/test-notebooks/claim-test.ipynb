{
 "cells": [
  {
   "cell_type": "code",
   "execution_count": 1,
   "metadata": {},
   "outputs": [
    {
     "name": "stdout",
     "output_type": "stream",
     "text": [
      "['/Users/raven.mukherjee/edi-sol-accelerator/x12-edi-parser/databricksx12/hls/test-notebooks', '/opt/homebrew/Cellar/python@3.12/3.12.2_1/Frameworks/Python.framework/Versions/3.12/lib/python312.zip', '/opt/homebrew/Cellar/python@3.12/3.12.2_1/Frameworks/Python.framework/Versions/3.12/lib/python3.12', '/opt/homebrew/Cellar/python@3.12/3.12.2_1/Frameworks/Python.framework/Versions/3.12/lib/python3.12/lib-dynload', '', '/Users/raven.mukherjee/edi-sol-accelerator/edi-parse-env/lib/python3.12/site-packages']\n"
     ]
    }
   ],
   "source": [
    "import sys\n",
    "print(sys.path)"
   ]
  },
  {
   "cell_type": "code",
   "execution_count": 2,
   "metadata": {},
   "outputs": [
    {
     "name": "stdout",
     "output_type": "stream",
     "text": [
      "{\n",
      "    \"EDI.sender_tax_id\": \"ZZ\",\n",
      "    \"list\": [\n",
      "        {\n",
      "            \"FunctionalGroup.receiver\": \"123456789\",\n",
      "            \"FunctionalGroup.sender\": \"CLEARINGHOUSE\",\n",
      "            \"FunctionalGroup.transaction_datetime\": \"20180508:0833\",\n",
      "            \"FunctionalGroup.transaction_type\": \"222\",\n",
      "            \"list\": [\n",
      "                {\n",
      "                    \"Transaction.transaction_type\": \"222\"\n",
      "                },\n",
      "                {\n",
      "                    \"Transaction.transaction_type\": \"222\"\n",
      "                },\n",
      "                {\n",
      "                    \"Transaction.transaction_type\": \"222\"\n",
      "                },\n",
      "                {\n",
      "                    \"Transaction.transaction_type\": \"222\"\n",
      "                },\n",
      "                {\n",
      "                    \"Transaction.transaction_type\": \"222\"\n",
      "                }\n",
      "            ]\n",
      "        }\n",
      "    ]\n",
      "}\n"
     ]
    }
   ],
   "source": [
    "from databricksx12.edi import *\n",
    "x =  EDIManager(EDI(open(\"/Users/raven.mukherjee/solution_accelerators/x12-edi-parser/sampledata/837/CHPW_Claimdata.txt\", \"rb\").read().decode(\"utf-8\")))\n",
    "\n",
    "import json\n",
    "print(json.dumps(x.flatten(x.data), indent=4))"
   ]
  },
  {
   "cell_type": "code",
   "execution_count": 3,
   "metadata": {},
   "outputs": [],
   "source": [
    "sample_data_837i = open(\"/Users/raven.mukherjee/solution_accelerators/x12-edi-parser/sampledata/837/CC_837I_EDI.txt\", \"rb\").read().decode(\"utf-8\")"
   ]
  },
  {
   "cell_type": "code",
   "execution_count": 4,
   "metadata": {},
   "outputs": [],
   "source": [
    "# from databricksx12.edi import *\n",
    "\n",
    "# class extend_transaction(EDI):\n",
    "#     def __init__(self, data, delim_cls=AnsiX12Delim):\n",
    "#         super().__init__(data, delim_cls)\n",
    "\n",
    "#     @property\n",
    "#     def full_transaction(self):\n",
    "#         transaction_start_indexes = [i for i, segment in enumerate(self.data) if segment.segment_name() == \"ST\"]\n",
    "#         transaction_end_indexes = [i for i, segment in enumerate(self.data) if segment.segment_name() == \"SE\"]\n",
    "\n",
    "#         transactions = []\n",
    "#         for start, end in zip(transaction_start_indexes, transaction_end_indexes):\n",
    "#             transaction_segments = self.data[start:end+1]\n",
    "#             transactions.append(transaction_segments)\n",
    "#         return transactions\n",
    "\n",
    "#     @property\n",
    "#     def claim_identifier(self):\n",
    "#         transactions = self.full_transaction\n",
    "#         claim_identifiers = []\n",
    "\n",
    "#         for transaction_segments in transactions:\n",
    "#             claim_id = None\n",
    "#             for segment in transaction_segments:\n",
    "#                 if segment.segment_name() == \"BHT\":\n",
    "#                     claim_id = segment.element(3) #confirm\n",
    "#                     break\n",
    "#             claim_identifiers.append(claim_id)\n",
    "\n",
    "#         return claim_identifiers\n",
    "\n",
    "#     @property\n",
    "#     def header_billing_amount(self):\n",
    "#         transactions = self.full_transaction\n",
    "#         billing_headers = []\n",
    "\n",
    "#         for transaction_segments in transactions:\n",
    "#             for segment in transaction_segments:\n",
    "#                 if segment.segment_name() == \"CLM\":\n",
    "#                     bill_header = segment.element(1)\n",
    "#                     billing_headers.append(bill_header)\n",
    "#                     break  # one CLM segment per transaction?\n",
    "\n",
    "#         return billing_headers\n",
    "\n",
    "#     @property\n",
    "#     def billed_amount(self):\n",
    "#         transactions = self.full_transaction\n",
    "#         billed_amounts = []\n",
    "\n",
    "#         for transaction_segments in transactions:\n",
    "#             for segment in transaction_segments:\n",
    "#                 if segment.segment_name() == \"CLM\":\n",
    "#                     billed_amount = segment.element(2)  # Billed amount is the second element\n",
    "#                     billed_amounts.append(billed_amount)\n",
    "#                     break\n",
    "\n",
    "#         return billed_amounts\n",
    "    \n",
    "#     # @property\n",
    "#     # def subscriber(self):\n",
    "#     #     transactions = self.full_transaction\n",
    "\n",
    "\n"
   ]
  },
  {
   "cell_type": "code",
   "execution_count": 5,
   "metadata": {},
   "outputs": [],
   "source": [
    "# # use raw EDI data\n",
    "# edi_object = extend_transaction(sample_data_837i)\n",
    "\n",
    "# # call  different vars\n",
    "# transactions = edi_object.full_transaction\n",
    "# claim_ids = edi_object.claim_identifier\n",
    "# header = edi_object.header_billing_amount\n",
    "# billed_amount = edi_object.billed_amount"
   ]
  },
  {
   "cell_type": "code",
   "execution_count": 12,
   "metadata": {},
   "outputs": [],
   "source": [
    "#  identify elements functionally!\n",
    "\n",
    "from databricksx12.edi import *\n",
    "\n",
    "class extend_transaction(EDI):\n",
    "    def __init__(self, data, delim_cls=AnsiX12Delim):\n",
    "        super().__init__(data, delim_cls)\n",
    "\n",
    "        # Use map and lambda to populate billed amounts and subscribers\n",
    "        self.billed_amounts = list(map(lambda x: x.element(2), self.segments_by_name(\"CLM\")))\n",
    "        self.subscribers = list(map(lambda x: x.element(4), self.segments_by_name(\"SBR\")))\n",
    "\n"
   ]
  },
  {
   "cell_type": "code",
   "execution_count": 13,
   "metadata": {},
   "outputs": [],
   "source": [
    "sample_data_chpw_claimdata = open(\"/Users/raven.mukherjee/edi-sol-accelerator/x12-edi-parser/sampledata/837/CHPW_Claimdata.txt\", \"rb\").read().decode(\"utf-8\")\n",
    "# use raw EDI data\n",
    "edi_object = extend_transaction(sample_data_chpw_claimdata)\n",
    "billed_amounts = edi_object.billed_amounts\n",
    "subscribers = edi_object.subscribers\n"
   ]
  },
  {
   "cell_type": "code",
   "execution_count": 14,
   "metadata": {},
   "outputs": [
    {
     "data": {
      "text/plain": [
       "['20', '50.1', '11.64', '234', '20']"
      ]
     },
     "execution_count": 14,
     "metadata": {},
     "output_type": "execute_result"
    }
   ],
   "source": [
    "billed_amounts"
   ]
  },
  {
   "cell_type": "code",
   "execution_count": 15,
   "metadata": {},
   "outputs": [
    {
     "data": {
      "text/plain": [
       "['COMMUNITY HLTH PLAN OF WASH',\n",
       " 'COMMUNITY HLTH PLAN OF WASH',\n",
       " 'COMMUNITY HLTH PLAN OF WASH',\n",
       " 'COMMUNITY HLTH PLAN OF WASH',\n",
       " 'COMMUNITY HLTH PLAN OF WASH']"
      ]
     },
     "execution_count": 15,
     "metadata": {},
     "output_type": "execute_result"
    }
   ],
   "source": [
    "subscribers"
   ]
  },
  {
   "cell_type": "code",
   "execution_count": null,
   "metadata": {},
   "outputs": [],
   "source": []
  }
 ],
 "metadata": {
  "kernelspec": {
   "display_name": "edi-parse-kernel",
   "language": "python",
   "name": "edi-parse-env"
  },
  "language_info": {
   "codemirror_mode": {
    "name": "ipython",
    "version": 3
   },
   "file_extension": ".py",
   "mimetype": "text/x-python",
   "name": "python",
   "nbconvert_exporter": "python",
   "pygments_lexer": "ipython3",
   "version": "3.12.2"
  }
 },
 "nbformat": 4,
 "nbformat_minor": 2
}
